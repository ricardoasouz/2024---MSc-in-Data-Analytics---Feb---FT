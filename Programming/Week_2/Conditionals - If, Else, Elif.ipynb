{
 "cells": [
  {
   "cell_type": "markdown",
   "id": "548fb24f",
   "metadata": {},
   "source": [
    "## Boolean - bool\n",
    "True\n",
    "\n",
    "False"
   ]
  },
  {
   "cell_type": "markdown",
   "id": "5a9d00ce",
   "metadata": {},
   "source": [
    "## Comparison operators\n",
    "- Equality == (nb two ==)\n",
    "- Inequality !=\n",
    "- Less than <\n",
    "- Greater than >\n",
    "- Less than or equal <=\n",
    "- Greater than or equal >=\n"
   ]
  },
  {
   "cell_type": "code",
   "execution_count": 1,
   "id": "2b54651e",
   "metadata": {},
   "outputs": [
    {
     "data": {
      "text/plain": [
       "True"
      ]
     },
     "execution_count": 1,
     "metadata": {},
     "output_type": "execute_result"
    }
   ],
   "source": [
    "3 == 3"
   ]
  },
  {
   "cell_type": "code",
   "execution_count": 2,
   "id": "9db78851",
   "metadata": {},
   "outputs": [
    {
     "data": {
      "text/plain": [
       "False"
      ]
     },
     "execution_count": 2,
     "metadata": {},
     "output_type": "execute_result"
    }
   ],
   "source": [
    "3 == 4"
   ]
  },
  {
   "cell_type": "code",
   "execution_count": 3,
   "id": "af4c0fb8",
   "metadata": {},
   "outputs": [
    {
     "data": {
      "text/plain": [
       "True"
      ]
     },
     "execution_count": 3,
     "metadata": {},
     "output_type": "execute_result"
    }
   ],
   "source": [
    "3 == 3.0"
   ]
  },
  {
   "cell_type": "code",
   "execution_count": 4,
   "id": "3628eed6",
   "metadata": {},
   "outputs": [
    {
     "data": {
      "text/plain": [
       "False"
      ]
     },
     "execution_count": 4,
     "metadata": {},
     "output_type": "execute_result"
    }
   ],
   "source": [
    "3 == \"3\""
   ]
  },
  {
   "cell_type": "code",
   "execution_count": 5,
   "id": "be91d333",
   "metadata": {},
   "outputs": [
    {
     "data": {
      "text/plain": [
       "True"
      ]
     },
     "execution_count": 5,
     "metadata": {},
     "output_type": "execute_result"
    }
   ],
   "source": [
    "3 == 3+0j"
   ]
  },
  {
   "cell_type": "code",
   "execution_count": 6,
   "id": "66e82b55",
   "metadata": {},
   "outputs": [
    {
     "data": {
      "text/plain": [
       "True"
      ]
     },
     "execution_count": 6,
     "metadata": {},
     "output_type": "execute_result"
    }
   ],
   "source": [
    "\"3\" == \"3\""
   ]
  },
  {
   "cell_type": "code",
   "execution_count": 7,
   "id": "a35ed468",
   "metadata": {},
   "outputs": [
    {
     "data": {
      "text/plain": [
       "True"
      ]
     },
     "execution_count": 7,
     "metadata": {},
     "output_type": "execute_result"
    }
   ],
   "source": [
    "3 != \"3\""
   ]
  },
  {
   "cell_type": "code",
   "execution_count": 8,
   "id": "2310d866",
   "metadata": {},
   "outputs": [
    {
     "data": {
      "text/plain": [
       "True"
      ]
     },
     "execution_count": 8,
     "metadata": {},
     "output_type": "execute_result"
    }
   ],
   "source": [
    "3 >= 3"
   ]
  },
  {
   "cell_type": "code",
   "execution_count": 9,
   "id": "46eb4ad5",
   "metadata": {},
   "outputs": [
    {
     "data": {
      "text/plain": [
       "True"
      ]
     },
     "execution_count": 9,
     "metadata": {},
     "output_type": "execute_result"
    }
   ],
   "source": [
    "3 >= 2"
   ]
  },
  {
   "cell_type": "code",
   "execution_count": 10,
   "id": "89fd7dd0",
   "metadata": {},
   "outputs": [
    {
     "data": {
      "text/plain": [
       "False"
      ]
     },
     "execution_count": 10,
     "metadata": {},
     "output_type": "execute_result"
    }
   ],
   "source": [
    "3 >= 4"
   ]
  },
  {
   "cell_type": "code",
   "execution_count": 11,
   "id": "0d0dc132",
   "metadata": {},
   "outputs": [
    {
     "data": {
      "text/plain": [
       "True"
      ]
     },
     "execution_count": 11,
     "metadata": {},
     "output_type": "execute_result"
    }
   ],
   "source": [
    "3 <= 4"
   ]
  },
  {
   "cell_type": "code",
   "execution_count": 12,
   "id": "bee084a3",
   "metadata": {},
   "outputs": [
    {
     "data": {
      "text/plain": [
       "True"
      ]
     },
     "execution_count": 12,
     "metadata": {},
     "output_type": "execute_result"
    }
   ],
   "source": [
    "3 <= 3"
   ]
  },
  {
   "cell_type": "code",
   "execution_count": 13,
   "id": "03b4e207",
   "metadata": {},
   "outputs": [
    {
     "data": {
      "text/plain": [
       "False"
      ]
     },
     "execution_count": 13,
     "metadata": {},
     "output_type": "execute_result"
    }
   ],
   "source": [
    "3 <= 2"
   ]
  },
  {
   "cell_type": "code",
   "execution_count": 14,
   "id": "6e7c9533",
   "metadata": {
    "scrolled": true
   },
   "outputs": [],
   "source": [
    "#3 <= \"3\""
   ]
  },
  {
   "cell_type": "markdown",
   "id": "4333ebb8",
   "metadata": {},
   "source": [
    "This is a mistake cell"
   ]
  },
  {
   "cell_type": "markdown",
   "id": "0daf29fe",
   "metadata": {},
   "source": [
    "## if"
   ]
  },
  {
   "cell_type": "code",
   "execution_count": 15,
   "id": "9f147474",
   "metadata": {},
   "outputs": [
    {
     "name": "stdout",
     "output_type": "stream",
     "text": [
      "We have equality!!\n",
      "3 is equal to three\n",
      "This will always run\n"
     ]
    }
   ],
   "source": [
    "if 3 == 3:\n",
    "    print(\"We have equality!!\")\n",
    "    print(\"3 is equal to three\")\n",
    "print(\"This will always run\")"
   ]
  },
  {
   "cell_type": "code",
   "execution_count": 16,
   "id": "592c70df",
   "metadata": {},
   "outputs": [
    {
     "name": "stdout",
     "output_type": "stream",
     "text": [
      "This will always run\n"
     ]
    }
   ],
   "source": [
    "if 3 == 4:\n",
    "    print(\"We have equality!!\")\n",
    "    print(\"3 is equal to three\")\n",
    "print(\"This will always run\")"
   ]
  },
  {
   "cell_type": "code",
   "execution_count": 17,
   "id": "fc07eada",
   "metadata": {},
   "outputs": [
    {
     "name": "stdout",
     "output_type": "stream",
     "text": [
      "We have equality!!\n",
      "3 is equal to three\n",
      "This will always run\n"
     ]
    }
   ],
   "source": [
    "# Will run\n",
    "if 3 == 3:\n",
    "    print(\"We have equality!!\")\n",
    "    print(\"3 is equal to three\")\n",
    "# Will not run    \n",
    "else:\n",
    "    print(\"These are not equal!!\")\n",
    "    print(\"Where is my three??\")\n",
    "# Will always run\n",
    "print(\"This will always run\")"
   ]
  },
  {
   "cell_type": "code",
   "execution_count": 18,
   "id": "97969641",
   "metadata": {},
   "outputs": [
    {
     "name": "stdout",
     "output_type": "stream",
     "text": [
      "These are not equal!!\n",
      "Where is my three??\n",
      "This will always run\n"
     ]
    }
   ],
   "source": [
    "# Will not run\n",
    "if 3 == 4:\n",
    "    print(\"We have equality!!\")\n",
    "    print(\"3 is equal to three\")\n",
    "# Will run    \n",
    "else:\n",
    "    print(\"These are not equal!!\")\n",
    "    print(\"Where is my three??\")\n",
    "# Will still run\n",
    "print(\"This will always run\")"
   ]
  },
  {
   "cell_type": "code",
   "execution_count": 19,
   "id": "e2a36bd8",
   "metadata": {},
   "outputs": [
    {
     "name": "stdout",
     "output_type": "stream",
     "text": [
      "Best class!!\n"
     ]
    }
   ],
   "source": [
    "subject = \"programming\"\n",
    "\n",
    "if subject == \"programming\":\n",
    "    print(\"Best class!!\")\n",
    "else:\n",
    "    print(\"Its still good...\")"
   ]
  },
  {
   "cell_type": "code",
   "execution_count": 20,
   "id": "8849aa0b",
   "metadata": {},
   "outputs": [
    {
     "name": "stdout",
     "output_type": "stream",
     "text": [
      "Its still good...\n"
     ]
    }
   ],
   "source": [
    "subject = \"data vis\"\n",
    "\n",
    "if subject == \"programming\":\n",
    "    print(\"Best class!!\")\n",
    "else:\n",
    "    print(\"Its still good...\")"
   ]
  },
  {
   "cell_type": "code",
   "execution_count": 21,
   "id": "6b82ef83",
   "metadata": {},
   "outputs": [
    {
     "name": "stdout",
     "output_type": "stream",
     "text": [
      "Best class!!\n"
     ]
    }
   ],
   "source": [
    "subject = \"programming\"\n",
    "\n",
    "if subject == \"programming\":\n",
    "    print(\"Best class!!\")\n",
    "# elif is short for else if\n",
    "elif subject == \"data vis\":\n",
    "    print(\"Don't tell David I said that\")\n",
    "elif subject == \"programming\":\n",
    "    print(\"Python is fun!\")\n",
    "else:\n",
    "    print(\"Its still good...\")"
   ]
  },
  {
   "cell_type": "code",
   "execution_count": 22,
   "id": "0466b231",
   "metadata": {},
   "outputs": [
    {
     "name": "stdout",
     "output_type": "stream",
     "text": [
      "Best class!!\n",
      "Python is fun!\n"
     ]
    }
   ],
   "source": [
    "subject = \"programming\"\n",
    "\n",
    "if subject == \"programming\":\n",
    "    print(\"Best class!!\")\n",
    "if subject == \"data vis\":\n",
    "    print(\"Don't tell David I said that\")\n",
    "if subject == \"programming\":\n",
    "    print(\"Python is fun!\")\n",
    "else:\n",
    "    print(\"Its still good...\")"
   ]
  },
  {
   "cell_type": "code",
   "execution_count": 23,
   "id": "1e7d8f60",
   "metadata": {},
   "outputs": [
    {
     "name": "stdout",
     "output_type": "stream",
     "text": [
      "Don't tell David I said that\n",
      "Its still good...\n"
     ]
    }
   ],
   "source": [
    "subject = \"data vis\"\n",
    "\n",
    "if subject == \"programming\":\n",
    "    print(\"Best class!!\")\n",
    "if subject == \"data vis\":\n",
    "    print(\"Don't tell David I said that\")\n",
    "if subject == \"programming\":\n",
    "    print(\"Python is fun!\")\n",
    "else:\n",
    "    print(\"Its still good...\")"
   ]
  },
  {
   "cell_type": "markdown",
   "id": "ae3dd4b6",
   "metadata": {},
   "source": [
    "## Libraries\n",
    "A library is a bunch of code that other people made that we can use\n",
    "\n",
    "This lets us use tested, efficient, and complex functionalities without having to write it ourselves\n",
    "\n",
    "main ones for this class: numpy, pandas"
   ]
  },
  {
   "cell_type": "code",
   "execution_count": 24,
   "id": "d6b3e7ae",
   "metadata": {},
   "outputs": [
    {
     "name": "stderr",
     "output_type": "stream",
     "text": [
      "/var/folders/1m/71syl3xd3910y8gqrq29f4w40000gn/T/ipykernel_27390/3648170110.py:1: DeprecationWarning: \n",
      "Pyarrow will become a required dependency of pandas in the next major release of pandas (pandas 3.0),\n",
      "(to allow more performant data types, such as the Arrow string type, and better interoperability with other libraries)\n",
      "but was not found to be installed on your system.\n",
      "If this would cause problems for you,\n",
      "please provide us feedback at https://github.com/pandas-dev/pandas/issues/54466\n",
      "        \n",
      "  import pandas\n"
     ]
    }
   ],
   "source": [
    "import pandas"
   ]
  },
  {
   "cell_type": "code",
   "execution_count": 25,
   "id": "c5a24b5c",
   "metadata": {},
   "outputs": [
    {
     "name": "stderr",
     "output_type": "stream",
     "text": [
      "/var/folders/1m/71syl3xd3910y8gqrq29f4w40000gn/T/ipykernel_27390/2934047814.py:1: DtypeWarning: Columns (0,2,3,4,5,6,7,8,9,10,11,12,13,14,15,16,17,18,19,21,22) have mixed types. Specify dtype option on import or set low_memory=False.\n",
      "  data = pandas.read_csv(\"GSAF5.csv\")\n"
     ]
    }
   ],
   "source": [
    "data = pandas.read_csv(\"GSAF5.csv\")"
   ]
  },
  {
   "cell_type": "code",
   "execution_count": 30,
   "id": "bdd1cfec",
   "metadata": {},
   "outputs": [
    {
     "data": {
      "text/html": [
       "<div>\n",
       "<style scoped>\n",
       "    .dataframe tbody tr th:only-of-type {\n",
       "        vertical-align: middle;\n",
       "    }\n",
       "\n",
       "    .dataframe tbody tr th {\n",
       "        vertical-align: top;\n",
       "    }\n",
       "\n",
       "    .dataframe thead th {\n",
       "        text-align: right;\n",
       "    }\n",
       "</style>\n",
       "<table border=\"1\" class=\"dataframe\">\n",
       "  <thead>\n",
       "    <tr style=\"text-align: right;\">\n",
       "      <th></th>\n",
       "      <th>Date</th>\n",
       "      <th>Year</th>\n",
       "      <th>Type</th>\n",
       "      <th>Country</th>\n",
       "      <th>State</th>\n",
       "      <th>Location</th>\n",
       "      <th>Activity</th>\n",
       "      <th>Name</th>\n",
       "      <th>Sex</th>\n",
       "      <th>Age</th>\n",
       "      <th>...</th>\n",
       "      <th>Unnamed: 245</th>\n",
       "      <th>Unnamed: 246</th>\n",
       "      <th>Unnamed: 247</th>\n",
       "      <th>Unnamed: 248</th>\n",
       "      <th>Unnamed: 249</th>\n",
       "      <th>Unnamed: 250</th>\n",
       "      <th>Unnamed: 251</th>\n",
       "      <th>Unnamed: 252</th>\n",
       "      <th>Unnamed: 253</th>\n",
       "      <th>Unnamed: 254</th>\n",
       "    </tr>\n",
       "  </thead>\n",
       "  <tbody>\n",
       "    <tr>\n",
       "      <th>0</th>\n",
       "      <td>10 Nov-2023</td>\n",
       "      <td>2023.0</td>\n",
       "      <td>Unprovoked</td>\n",
       "      <td>AUSTRALIA</td>\n",
       "      <td>South Australia</td>\n",
       "      <td>Port Noarlunga</td>\n",
       "      <td>Free diving</td>\n",
       "      <td>Bridgette O’Shannessy</td>\n",
       "      <td>F</td>\n",
       "      <td>32</td>\n",
       "      <td>...</td>\n",
       "      <td>NaN</td>\n",
       "      <td>NaN</td>\n",
       "      <td>NaN</td>\n",
       "      <td>NaN</td>\n",
       "      <td>NaN</td>\n",
       "      <td>NaN</td>\n",
       "      <td>NaN</td>\n",
       "      <td>NaN</td>\n",
       "      <td>NaN</td>\n",
       "      <td>NaN</td>\n",
       "    </tr>\n",
       "    <tr>\n",
       "      <th>1</th>\n",
       "      <td>05 Nov-2023</td>\n",
       "      <td>2023.0</td>\n",
       "      <td>Unprovoked</td>\n",
       "      <td>USA</td>\n",
       "      <td>Florida</td>\n",
       "      <td>Juno Beach, Palm Beach County</td>\n",
       "      <td>Swimming</td>\n",
       "      <td>Steven Reinhardt</td>\n",
       "      <td>M</td>\n",
       "      <td>66</td>\n",
       "      <td>...</td>\n",
       "      <td>NaN</td>\n",
       "      <td>NaN</td>\n",
       "      <td>NaN</td>\n",
       "      <td>NaN</td>\n",
       "      <td>NaN</td>\n",
       "      <td>NaN</td>\n",
       "      <td>NaN</td>\n",
       "      <td>NaN</td>\n",
       "      <td>NaN</td>\n",
       "      <td>NaN</td>\n",
       "    </tr>\n",
       "    <tr>\n",
       "      <th>2</th>\n",
       "      <td>03 Nov-2023</td>\n",
       "      <td>2023.0</td>\n",
       "      <td>Unprovoked</td>\n",
       "      <td>AUSTRALIA</td>\n",
       "      <td>Westerm Australia</td>\n",
       "      <td>Peak Island</td>\n",
       "      <td>Spearfishing</td>\n",
       "      <td>male</td>\n",
       "      <td>M</td>\n",
       "      <td>NaN</td>\n",
       "      <td>...</td>\n",
       "      <td>NaN</td>\n",
       "      <td>NaN</td>\n",
       "      <td>NaN</td>\n",
       "      <td>NaN</td>\n",
       "      <td>NaN</td>\n",
       "      <td>NaN</td>\n",
       "      <td>NaN</td>\n",
       "      <td>NaN</td>\n",
       "      <td>NaN</td>\n",
       "      <td>NaN</td>\n",
       "    </tr>\n",
       "    <tr>\n",
       "      <th>3</th>\n",
       "      <td>02 Nov-2023</td>\n",
       "      <td>2023.0</td>\n",
       "      <td>Unprovoked</td>\n",
       "      <td>NEW ZEALAND</td>\n",
       "      <td>North Island</td>\n",
       "      <td>Cape Pallister</td>\n",
       "      <td>Free diving</td>\n",
       "      <td>male</td>\n",
       "      <td>M</td>\n",
       "      <td>NaN</td>\n",
       "      <td>...</td>\n",
       "      <td>NaN</td>\n",
       "      <td>NaN</td>\n",
       "      <td>NaN</td>\n",
       "      <td>NaN</td>\n",
       "      <td>NaN</td>\n",
       "      <td>NaN</td>\n",
       "      <td>NaN</td>\n",
       "      <td>NaN</td>\n",
       "      <td>NaN</td>\n",
       "      <td>NaN</td>\n",
       "    </tr>\n",
       "    <tr>\n",
       "      <th>4</th>\n",
       "      <td>Reported 02 Nov-2023</td>\n",
       "      <td>2023.0</td>\n",
       "      <td>Questionable</td>\n",
       "      <td>EGYPT</td>\n",
       "      <td>Southern Red Sea</td>\n",
       "      <td>Fury Shoal</td>\n",
       "      <td>Scuba diving</td>\n",
       "      <td>Gary Virgo</td>\n",
       "      <td>M</td>\n",
       "      <td>66</td>\n",
       "      <td>...</td>\n",
       "      <td>NaN</td>\n",
       "      <td>NaN</td>\n",
       "      <td>NaN</td>\n",
       "      <td>NaN</td>\n",
       "      <td>NaN</td>\n",
       "      <td>NaN</td>\n",
       "      <td>NaN</td>\n",
       "      <td>NaN</td>\n",
       "      <td>NaN</td>\n",
       "      <td>NaN</td>\n",
       "    </tr>\n",
       "  </tbody>\n",
       "</table>\n",
       "<p>5 rows × 255 columns</p>\n",
       "</div>"
      ],
      "text/plain": [
       "                   Date    Year          Type      Country              State  \\\n",
       "0           10 Nov-2023  2023.0    Unprovoked    AUSTRALIA    South Australia   \n",
       "1           05 Nov-2023  2023.0    Unprovoked          USA            Florida   \n",
       "2           03 Nov-2023  2023.0    Unprovoked    AUSTRALIA  Westerm Australia   \n",
       "3           02 Nov-2023  2023.0    Unprovoked  NEW ZEALAND       North Island   \n",
       "4  Reported 02 Nov-2023  2023.0  Questionable        EGYPT   Southern Red Sea   \n",
       "\n",
       "                        Location      Activity                   Name Sex  \\\n",
       "0                 Port Noarlunga   Free diving  Bridgette O’Shannessy   F   \n",
       "1  Juno Beach, Palm Beach County      Swimming       Steven Reinhardt   M   \n",
       "2                    Peak Island  Spearfishing                   male   M   \n",
       "3                 Cape Pallister   Free diving                   male   M   \n",
       "4                     Fury Shoal  Scuba diving             Gary Virgo   M   \n",
       "\n",
       "   Age  ... Unnamed: 245 Unnamed: 246 Unnamed: 247 Unnamed: 248 Unnamed: 249  \\\n",
       "0   32  ...          NaN          NaN          NaN          NaN          NaN   \n",
       "1   66  ...          NaN          NaN          NaN          NaN          NaN   \n",
       "2  NaN  ...          NaN          NaN          NaN          NaN          NaN   \n",
       "3  NaN  ...          NaN          NaN          NaN          NaN          NaN   \n",
       "4   66  ...          NaN          NaN          NaN          NaN          NaN   \n",
       "\n",
       "  Unnamed: 250 Unnamed: 251 Unnamed: 252 Unnamed: 253 Unnamed: 254  \n",
       "0          NaN          NaN          NaN          NaN          NaN  \n",
       "1          NaN          NaN          NaN          NaN          NaN  \n",
       "2          NaN          NaN          NaN          NaN          NaN  \n",
       "3          NaN          NaN          NaN          NaN          NaN  \n",
       "4          NaN          NaN          NaN          NaN          NaN  \n",
       "\n",
       "[5 rows x 255 columns]"
      ]
     },
     "execution_count": 30,
     "metadata": {},
     "output_type": "execute_result"
    }
   ],
   "source": [
    "data.head()"
   ]
  },
  {
   "cell_type": "code",
   "execution_count": 26,
   "id": "cf768402",
   "metadata": {},
   "outputs": [],
   "source": [
    "import pandas as x"
   ]
  },
  {
   "cell_type": "code",
   "execution_count": 27,
   "id": "0b30be4f",
   "metadata": {},
   "outputs": [
    {
     "name": "stderr",
     "output_type": "stream",
     "text": [
      "/var/folders/1m/71syl3xd3910y8gqrq29f4w40000gn/T/ipykernel_27390/1930735131.py:1: DtypeWarning: Columns (0,2,3,4,5,6,7,8,9,10,11,12,13,14,15,16,17,18,19,21,22) have mixed types. Specify dtype option on import or set low_memory=False.\n",
      "  datax = x.read_csv(\"GSAF5.csv\")\n"
     ]
    }
   ],
   "source": [
    "datax = x.read_csv(\"GSAF5.csv\")"
   ]
  },
  {
   "cell_type": "code",
   "execution_count": 28,
   "id": "7b0fcc7c",
   "metadata": {},
   "outputs": [
    {
     "data": {
      "text/html": [
       "<div>\n",
       "<style scoped>\n",
       "    .dataframe tbody tr th:only-of-type {\n",
       "        vertical-align: middle;\n",
       "    }\n",
       "\n",
       "    .dataframe tbody tr th {\n",
       "        vertical-align: top;\n",
       "    }\n",
       "\n",
       "    .dataframe thead th {\n",
       "        text-align: right;\n",
       "    }\n",
       "</style>\n",
       "<table border=\"1\" class=\"dataframe\">\n",
       "  <thead>\n",
       "    <tr style=\"text-align: right;\">\n",
       "      <th></th>\n",
       "      <th>Date</th>\n",
       "      <th>Year</th>\n",
       "      <th>Type</th>\n",
       "      <th>Country</th>\n",
       "      <th>State</th>\n",
       "      <th>Location</th>\n",
       "      <th>Activity</th>\n",
       "      <th>Name</th>\n",
       "      <th>Sex</th>\n",
       "      <th>Age</th>\n",
       "      <th>...</th>\n",
       "      <th>Unnamed: 245</th>\n",
       "      <th>Unnamed: 246</th>\n",
       "      <th>Unnamed: 247</th>\n",
       "      <th>Unnamed: 248</th>\n",
       "      <th>Unnamed: 249</th>\n",
       "      <th>Unnamed: 250</th>\n",
       "      <th>Unnamed: 251</th>\n",
       "      <th>Unnamed: 252</th>\n",
       "      <th>Unnamed: 253</th>\n",
       "      <th>Unnamed: 254</th>\n",
       "    </tr>\n",
       "  </thead>\n",
       "  <tbody>\n",
       "    <tr>\n",
       "      <th>0</th>\n",
       "      <td>10 Nov-2023</td>\n",
       "      <td>2023.0</td>\n",
       "      <td>Unprovoked</td>\n",
       "      <td>AUSTRALIA</td>\n",
       "      <td>South Australia</td>\n",
       "      <td>Port Noarlunga</td>\n",
       "      <td>Free diving</td>\n",
       "      <td>Bridgette O’Shannessy</td>\n",
       "      <td>F</td>\n",
       "      <td>32</td>\n",
       "      <td>...</td>\n",
       "      <td>NaN</td>\n",
       "      <td>NaN</td>\n",
       "      <td>NaN</td>\n",
       "      <td>NaN</td>\n",
       "      <td>NaN</td>\n",
       "      <td>NaN</td>\n",
       "      <td>NaN</td>\n",
       "      <td>NaN</td>\n",
       "      <td>NaN</td>\n",
       "      <td>NaN</td>\n",
       "    </tr>\n",
       "    <tr>\n",
       "      <th>1</th>\n",
       "      <td>05 Nov-2023</td>\n",
       "      <td>2023.0</td>\n",
       "      <td>Unprovoked</td>\n",
       "      <td>USA</td>\n",
       "      <td>Florida</td>\n",
       "      <td>Juno Beach, Palm Beach County</td>\n",
       "      <td>Swimming</td>\n",
       "      <td>Steven Reinhardt</td>\n",
       "      <td>M</td>\n",
       "      <td>66</td>\n",
       "      <td>...</td>\n",
       "      <td>NaN</td>\n",
       "      <td>NaN</td>\n",
       "      <td>NaN</td>\n",
       "      <td>NaN</td>\n",
       "      <td>NaN</td>\n",
       "      <td>NaN</td>\n",
       "      <td>NaN</td>\n",
       "      <td>NaN</td>\n",
       "      <td>NaN</td>\n",
       "      <td>NaN</td>\n",
       "    </tr>\n",
       "    <tr>\n",
       "      <th>2</th>\n",
       "      <td>03 Nov-2023</td>\n",
       "      <td>2023.0</td>\n",
       "      <td>Unprovoked</td>\n",
       "      <td>AUSTRALIA</td>\n",
       "      <td>Westerm Australia</td>\n",
       "      <td>Peak Island</td>\n",
       "      <td>Spearfishing</td>\n",
       "      <td>male</td>\n",
       "      <td>M</td>\n",
       "      <td>NaN</td>\n",
       "      <td>...</td>\n",
       "      <td>NaN</td>\n",
       "      <td>NaN</td>\n",
       "      <td>NaN</td>\n",
       "      <td>NaN</td>\n",
       "      <td>NaN</td>\n",
       "      <td>NaN</td>\n",
       "      <td>NaN</td>\n",
       "      <td>NaN</td>\n",
       "      <td>NaN</td>\n",
       "      <td>NaN</td>\n",
       "    </tr>\n",
       "    <tr>\n",
       "      <th>3</th>\n",
       "      <td>02 Nov-2023</td>\n",
       "      <td>2023.0</td>\n",
       "      <td>Unprovoked</td>\n",
       "      <td>NEW ZEALAND</td>\n",
       "      <td>North Island</td>\n",
       "      <td>Cape Pallister</td>\n",
       "      <td>Free diving</td>\n",
       "      <td>male</td>\n",
       "      <td>M</td>\n",
       "      <td>NaN</td>\n",
       "      <td>...</td>\n",
       "      <td>NaN</td>\n",
       "      <td>NaN</td>\n",
       "      <td>NaN</td>\n",
       "      <td>NaN</td>\n",
       "      <td>NaN</td>\n",
       "      <td>NaN</td>\n",
       "      <td>NaN</td>\n",
       "      <td>NaN</td>\n",
       "      <td>NaN</td>\n",
       "      <td>NaN</td>\n",
       "    </tr>\n",
       "    <tr>\n",
       "      <th>4</th>\n",
       "      <td>Reported 02 Nov-2023</td>\n",
       "      <td>2023.0</td>\n",
       "      <td>Questionable</td>\n",
       "      <td>EGYPT</td>\n",
       "      <td>Southern Red Sea</td>\n",
       "      <td>Fury Shoal</td>\n",
       "      <td>Scuba diving</td>\n",
       "      <td>Gary Virgo</td>\n",
       "      <td>M</td>\n",
       "      <td>66</td>\n",
       "      <td>...</td>\n",
       "      <td>NaN</td>\n",
       "      <td>NaN</td>\n",
       "      <td>NaN</td>\n",
       "      <td>NaN</td>\n",
       "      <td>NaN</td>\n",
       "      <td>NaN</td>\n",
       "      <td>NaN</td>\n",
       "      <td>NaN</td>\n",
       "      <td>NaN</td>\n",
       "      <td>NaN</td>\n",
       "    </tr>\n",
       "  </tbody>\n",
       "</table>\n",
       "<p>5 rows × 255 columns</p>\n",
       "</div>"
      ],
      "text/plain": [
       "                   Date    Year          Type      Country              State  \\\n",
       "0           10 Nov-2023  2023.0    Unprovoked    AUSTRALIA    South Australia   \n",
       "1           05 Nov-2023  2023.0    Unprovoked          USA            Florida   \n",
       "2           03 Nov-2023  2023.0    Unprovoked    AUSTRALIA  Westerm Australia   \n",
       "3           02 Nov-2023  2023.0    Unprovoked  NEW ZEALAND       North Island   \n",
       "4  Reported 02 Nov-2023  2023.0  Questionable        EGYPT   Southern Red Sea   \n",
       "\n",
       "                        Location      Activity                   Name Sex  \\\n",
       "0                 Port Noarlunga   Free diving  Bridgette O’Shannessy   F   \n",
       "1  Juno Beach, Palm Beach County      Swimming       Steven Reinhardt   M   \n",
       "2                    Peak Island  Spearfishing                   male   M   \n",
       "3                 Cape Pallister   Free diving                   male   M   \n",
       "4                     Fury Shoal  Scuba diving             Gary Virgo   M   \n",
       "\n",
       "   Age  ... Unnamed: 245 Unnamed: 246 Unnamed: 247 Unnamed: 248 Unnamed: 249  \\\n",
       "0   32  ...          NaN          NaN          NaN          NaN          NaN   \n",
       "1   66  ...          NaN          NaN          NaN          NaN          NaN   \n",
       "2  NaN  ...          NaN          NaN          NaN          NaN          NaN   \n",
       "3  NaN  ...          NaN          NaN          NaN          NaN          NaN   \n",
       "4   66  ...          NaN          NaN          NaN          NaN          NaN   \n",
       "\n",
       "  Unnamed: 250 Unnamed: 251 Unnamed: 252 Unnamed: 253 Unnamed: 254  \n",
       "0          NaN          NaN          NaN          NaN          NaN  \n",
       "1          NaN          NaN          NaN          NaN          NaN  \n",
       "2          NaN          NaN          NaN          NaN          NaN  \n",
       "3          NaN          NaN          NaN          NaN          NaN  \n",
       "4          NaN          NaN          NaN          NaN          NaN  \n",
       "\n",
       "[5 rows x 255 columns]"
      ]
     },
     "execution_count": 28,
     "metadata": {},
     "output_type": "execute_result"
    }
   ],
   "source": [
    "datax.head()"
   ]
  },
  {
   "cell_type": "code",
   "execution_count": 29,
   "id": "b360db5c",
   "metadata": {},
   "outputs": [],
   "source": [
    "import pandas as pd\n",
    "import numpy as np"
   ]
  },
  {
   "cell_type": "code",
   "execution_count": 30,
   "id": "e39973f6",
   "metadata": {},
   "outputs": [
    {
     "data": {
      "text/plain": [
       "0          AUSTRALIA\n",
       "1                USA\n",
       "2          AUSTRALIA\n",
       "3        NEW ZEALAND\n",
       "4              EGYPT\n",
       "            ...     \n",
       "38976            NaN\n",
       "38977            NaN\n",
       "38978            NaN\n",
       "38979            NaN\n",
       "38980            NaN\n",
       "Name: Country, Length: 38981, dtype: object"
      ]
     },
     "execution_count": 30,
     "metadata": {},
     "output_type": "execute_result"
    }
   ],
   "source": [
    "data[\"Country\"]"
   ]
  },
  {
   "cell_type": "code",
   "execution_count": 31,
   "id": "350f9ef8",
   "metadata": {},
   "outputs": [
    {
     "data": {
      "text/plain": [
       "0        False\n",
       "1        False\n",
       "2        False\n",
       "3        False\n",
       "4        False\n",
       "         ...  \n",
       "38976    False\n",
       "38977    False\n",
       "38978    False\n",
       "38979    False\n",
       "38980    False\n",
       "Name: Country, Length: 38981, dtype: bool"
      ]
     },
     "execution_count": 31,
     "metadata": {},
     "output_type": "execute_result"
    }
   ],
   "source": [
    "data[\"Country\"] == \"IRELAND\""
   ]
  },
  {
   "cell_type": "code",
   "execution_count": 32,
   "id": "0573f66a",
   "metadata": {},
   "outputs": [
    {
     "data": {
      "text/html": [
       "<div>\n",
       "<style scoped>\n",
       "    .dataframe tbody tr th:only-of-type {\n",
       "        vertical-align: middle;\n",
       "    }\n",
       "\n",
       "    .dataframe tbody tr th {\n",
       "        vertical-align: top;\n",
       "    }\n",
       "\n",
       "    .dataframe thead th {\n",
       "        text-align: right;\n",
       "    }\n",
       "</style>\n",
       "<table border=\"1\" class=\"dataframe\">\n",
       "  <thead>\n",
       "    <tr style=\"text-align: right;\">\n",
       "      <th></th>\n",
       "      <th>Date</th>\n",
       "      <th>Year</th>\n",
       "      <th>Type</th>\n",
       "      <th>Country</th>\n",
       "      <th>State</th>\n",
       "      <th>Location</th>\n",
       "      <th>Activity</th>\n",
       "      <th>Name</th>\n",
       "      <th>Sex</th>\n",
       "      <th>Age</th>\n",
       "      <th>...</th>\n",
       "      <th>Unnamed: 245</th>\n",
       "      <th>Unnamed: 246</th>\n",
       "      <th>Unnamed: 247</th>\n",
       "      <th>Unnamed: 248</th>\n",
       "      <th>Unnamed: 249</th>\n",
       "      <th>Unnamed: 250</th>\n",
       "      <th>Unnamed: 251</th>\n",
       "      <th>Unnamed: 252</th>\n",
       "      <th>Unnamed: 253</th>\n",
       "      <th>Unnamed: 254</th>\n",
       "    </tr>\n",
       "  </thead>\n",
       "  <tbody>\n",
       "    <tr>\n",
       "      <th>553</th>\n",
       "      <td>01-Sep-2018</td>\n",
       "      <td>2018.0</td>\n",
       "      <td>Provoked</td>\n",
       "      <td>IRELAND</td>\n",
       "      <td>County Cork</td>\n",
       "      <td>NaN</td>\n",
       "      <td>Fishing</td>\n",
       "      <td>Robert Malcolmson</td>\n",
       "      <td>M</td>\n",
       "      <td>40</td>\n",
       "      <td>...</td>\n",
       "      <td>NaN</td>\n",
       "      <td>NaN</td>\n",
       "      <td>NaN</td>\n",
       "      <td>NaN</td>\n",
       "      <td>NaN</td>\n",
       "      <td>NaN</td>\n",
       "      <td>NaN</td>\n",
       "      <td>NaN</td>\n",
       "      <td>NaN</td>\n",
       "      <td>NaN</td>\n",
       "    </tr>\n",
       "    <tr>\n",
       "      <th>5893</th>\n",
       "      <td>15-Jul-1917</td>\n",
       "      <td>1917.0</td>\n",
       "      <td>Sea Disaster</td>\n",
       "      <td>IRELAND</td>\n",
       "      <td>Off Ireland</td>\n",
       "      <td>82 miles from Fastnet</td>\n",
       "      <td>Ship Mariston torpedoed &amp; sunk</td>\n",
       "      <td>NaN</td>\n",
       "      <td>M</td>\n",
       "      <td>NaN</td>\n",
       "      <td>...</td>\n",
       "      <td>NaN</td>\n",
       "      <td>NaN</td>\n",
       "      <td>NaN</td>\n",
       "      <td>NaN</td>\n",
       "      <td>NaN</td>\n",
       "      <td>NaN</td>\n",
       "      <td>NaN</td>\n",
       "      <td>NaN</td>\n",
       "      <td>NaN</td>\n",
       "      <td>NaN</td>\n",
       "    </tr>\n",
       "  </tbody>\n",
       "</table>\n",
       "<p>2 rows × 255 columns</p>\n",
       "</div>"
      ],
      "text/plain": [
       "             Date    Year          Type  Country        State  \\\n",
       "553   01-Sep-2018  2018.0      Provoked  IRELAND  County Cork   \n",
       "5893  15-Jul-1917  1917.0  Sea Disaster  IRELAND  Off Ireland   \n",
       "\n",
       "                   Location                        Activity  \\\n",
       "553                     NaN                         Fishing   \n",
       "5893  82 miles from Fastnet  Ship Mariston torpedoed & sunk   \n",
       "\n",
       "                   Name Sex  Age  ... Unnamed: 245 Unnamed: 246 Unnamed: 247  \\\n",
       "553   Robert Malcolmson   M   40  ...          NaN          NaN          NaN   \n",
       "5893                NaN   M  NaN  ...          NaN          NaN          NaN   \n",
       "\n",
       "     Unnamed: 248 Unnamed: 249 Unnamed: 250 Unnamed: 251 Unnamed: 252  \\\n",
       "553           NaN          NaN          NaN          NaN          NaN   \n",
       "5893          NaN          NaN          NaN          NaN          NaN   \n",
       "\n",
       "     Unnamed: 253 Unnamed: 254  \n",
       "553           NaN          NaN  \n",
       "5893          NaN          NaN  \n",
       "\n",
       "[2 rows x 255 columns]"
      ]
     },
     "execution_count": 32,
     "metadata": {},
     "output_type": "execute_result"
    }
   ],
   "source": [
    "data[ data[\"Country\"] == \"IRELAND\" ]"
   ]
  },
  {
   "cell_type": "code",
   "execution_count": 33,
   "id": "1cbd8644",
   "metadata": {},
   "outputs": [
    {
     "data": {
      "text/html": [
       "<div>\n",
       "<style scoped>\n",
       "    .dataframe tbody tr th:only-of-type {\n",
       "        vertical-align: middle;\n",
       "    }\n",
       "\n",
       "    .dataframe tbody tr th {\n",
       "        vertical-align: top;\n",
       "    }\n",
       "\n",
       "    .dataframe thead th {\n",
       "        text-align: right;\n",
       "    }\n",
       "</style>\n",
       "<table border=\"1\" class=\"dataframe\">\n",
       "  <thead>\n",
       "    <tr style=\"text-align: right;\">\n",
       "      <th></th>\n",
       "      <th>Date</th>\n",
       "      <th>Year</th>\n",
       "      <th>Type</th>\n",
       "      <th>Country</th>\n",
       "      <th>State</th>\n",
       "      <th>Location</th>\n",
       "      <th>Activity</th>\n",
       "      <th>Name</th>\n",
       "      <th>Sex</th>\n",
       "      <th>Age</th>\n",
       "      <th>...</th>\n",
       "      <th>Unnamed: 245</th>\n",
       "      <th>Unnamed: 246</th>\n",
       "      <th>Unnamed: 247</th>\n",
       "      <th>Unnamed: 248</th>\n",
       "      <th>Unnamed: 249</th>\n",
       "      <th>Unnamed: 250</th>\n",
       "      <th>Unnamed: 251</th>\n",
       "      <th>Unnamed: 252</th>\n",
       "      <th>Unnamed: 253</th>\n",
       "      <th>Unnamed: 254</th>\n",
       "    </tr>\n",
       "  </thead>\n",
       "  <tbody>\n",
       "    <tr>\n",
       "      <th>553</th>\n",
       "      <td>01-Sep-2018</td>\n",
       "      <td>2018.0</td>\n",
       "      <td>Provoked</td>\n",
       "      <td>IRELAND</td>\n",
       "      <td>County Cork</td>\n",
       "      <td>NaN</td>\n",
       "      <td>Fishing</td>\n",
       "      <td>Robert Malcolmson</td>\n",
       "      <td>M</td>\n",
       "      <td>40</td>\n",
       "      <td>...</td>\n",
       "      <td>NaN</td>\n",
       "      <td>NaN</td>\n",
       "      <td>NaN</td>\n",
       "      <td>NaN</td>\n",
       "      <td>NaN</td>\n",
       "      <td>NaN</td>\n",
       "      <td>NaN</td>\n",
       "      <td>NaN</td>\n",
       "      <td>NaN</td>\n",
       "      <td>NaN</td>\n",
       "    </tr>\n",
       "  </tbody>\n",
       "</table>\n",
       "<p>1 rows × 255 columns</p>\n",
       "</div>"
      ],
      "text/plain": [
       "            Date    Year      Type  Country        State Location Activity  \\\n",
       "553  01-Sep-2018  2018.0  Provoked  IRELAND  County Cork      NaN  Fishing   \n",
       "\n",
       "                  Name Sex Age  ... Unnamed: 245 Unnamed: 246 Unnamed: 247  \\\n",
       "553  Robert Malcolmson   M  40  ...          NaN          NaN          NaN   \n",
       "\n",
       "    Unnamed: 248 Unnamed: 249 Unnamed: 250 Unnamed: 251 Unnamed: 252  \\\n",
       "553          NaN          NaN          NaN          NaN          NaN   \n",
       "\n",
       "    Unnamed: 253 Unnamed: 254  \n",
       "553          NaN          NaN  \n",
       "\n",
       "[1 rows x 255 columns]"
      ]
     },
     "execution_count": 33,
     "metadata": {},
     "output_type": "execute_result"
    }
   ],
   "source": [
    "# In a dataframe, to combine queries we can use & for \"and\" and a | for \"or\"\n",
    "data[ (data[\"Country\"] == \"IRELAND\") & (data[\"Type\"] == \"Provoked\")]"
   ]
  },
  {
   "cell_type": "code",
   "execution_count": 34,
   "id": "af78b5d2",
   "metadata": {},
   "outputs": [
    {
     "data": {
      "text/html": [
       "<div>\n",
       "<style scoped>\n",
       "    .dataframe tbody tr th:only-of-type {\n",
       "        vertical-align: middle;\n",
       "    }\n",
       "\n",
       "    .dataframe tbody tr th {\n",
       "        vertical-align: top;\n",
       "    }\n",
       "\n",
       "    .dataframe thead th {\n",
       "        text-align: right;\n",
       "    }\n",
       "</style>\n",
       "<table border=\"1\" class=\"dataframe\">\n",
       "  <thead>\n",
       "    <tr style=\"text-align: right;\">\n",
       "      <th></th>\n",
       "      <th>Date</th>\n",
       "      <th>Year</th>\n",
       "      <th>Type</th>\n",
       "      <th>Country</th>\n",
       "      <th>State</th>\n",
       "      <th>Location</th>\n",
       "      <th>Activity</th>\n",
       "      <th>Name</th>\n",
       "      <th>Sex</th>\n",
       "      <th>Age</th>\n",
       "      <th>...</th>\n",
       "      <th>Unnamed: 245</th>\n",
       "      <th>Unnamed: 246</th>\n",
       "      <th>Unnamed: 247</th>\n",
       "      <th>Unnamed: 248</th>\n",
       "      <th>Unnamed: 249</th>\n",
       "      <th>Unnamed: 250</th>\n",
       "      <th>Unnamed: 251</th>\n",
       "      <th>Unnamed: 252</th>\n",
       "      <th>Unnamed: 253</th>\n",
       "      <th>Unnamed: 254</th>\n",
       "    </tr>\n",
       "  </thead>\n",
       "  <tbody>\n",
       "    <tr>\n",
       "      <th>215</th>\n",
       "      <td>07-Aug-2021</td>\n",
       "      <td>2021.0</td>\n",
       "      <td>Provoked</td>\n",
       "      <td>AUSTRALIA</td>\n",
       "      <td>Queensland</td>\n",
       "      <td>North Stradbroke Island</td>\n",
       "      <td>Harassing sharks</td>\n",
       "      <td>Rick Manning</td>\n",
       "      <td>M</td>\n",
       "      <td>NaN</td>\n",
       "      <td>...</td>\n",
       "      <td>NaN</td>\n",
       "      <td>NaN</td>\n",
       "      <td>NaN</td>\n",
       "      <td>NaN</td>\n",
       "      <td>NaN</td>\n",
       "      <td>NaN</td>\n",
       "      <td>NaN</td>\n",
       "      <td>NaN</td>\n",
       "      <td>NaN</td>\n",
       "      <td>NaN</td>\n",
       "    </tr>\n",
       "    <tr>\n",
       "      <th>223</th>\n",
       "      <td>27-Jul-2021</td>\n",
       "      <td>2021.0</td>\n",
       "      <td>Provoked</td>\n",
       "      <td>AUSTRALIA</td>\n",
       "      <td>Western Australia</td>\n",
       "      <td>Varanus Island</td>\n",
       "      <td>Fishing</td>\n",
       "      <td>male</td>\n",
       "      <td>M</td>\n",
       "      <td>34</td>\n",
       "      <td>...</td>\n",
       "      <td>NaN</td>\n",
       "      <td>NaN</td>\n",
       "      <td>NaN</td>\n",
       "      <td>NaN</td>\n",
       "      <td>NaN</td>\n",
       "      <td>NaN</td>\n",
       "      <td>NaN</td>\n",
       "      <td>NaN</td>\n",
       "      <td>NaN</td>\n",
       "      <td>NaN</td>\n",
       "    </tr>\n",
       "    <tr>\n",
       "      <th>281</th>\n",
       "      <td>20-Feb-2021</td>\n",
       "      <td>2021.0</td>\n",
       "      <td>Provoked</td>\n",
       "      <td>AUSTRALIA</td>\n",
       "      <td>Queensland</td>\n",
       "      <td>Waterford West</td>\n",
       "      <td>Fishing</td>\n",
       "      <td>Jason Rogers</td>\n",
       "      <td>M</td>\n",
       "      <td>NaN</td>\n",
       "      <td>...</td>\n",
       "      <td>NaN</td>\n",
       "      <td>NaN</td>\n",
       "      <td>NaN</td>\n",
       "      <td>NaN</td>\n",
       "      <td>NaN</td>\n",
       "      <td>NaN</td>\n",
       "      <td>NaN</td>\n",
       "      <td>NaN</td>\n",
       "      <td>NaN</td>\n",
       "      <td>NaN</td>\n",
       "    </tr>\n",
       "    <tr>\n",
       "      <th>323</th>\n",
       "      <td>17-Sep-2020</td>\n",
       "      <td>2020.0</td>\n",
       "      <td>Provoked</td>\n",
       "      <td>AUSTRALIA</td>\n",
       "      <td>Queensland</td>\n",
       "      <td>Fraser Island</td>\n",
       "      <td>Fishing</td>\n",
       "      <td>male</td>\n",
       "      <td>M</td>\n",
       "      <td>50s</td>\n",
       "      <td>...</td>\n",
       "      <td>NaN</td>\n",
       "      <td>NaN</td>\n",
       "      <td>NaN</td>\n",
       "      <td>NaN</td>\n",
       "      <td>NaN</td>\n",
       "      <td>NaN</td>\n",
       "      <td>NaN</td>\n",
       "      <td>NaN</td>\n",
       "      <td>NaN</td>\n",
       "      <td>NaN</td>\n",
       "    </tr>\n",
       "    <tr>\n",
       "      <th>406</th>\n",
       "      <td>20-Dec-2019</td>\n",
       "      <td>2019.0</td>\n",
       "      <td>Provoked</td>\n",
       "      <td>AUSTRALIA</td>\n",
       "      <td>New South Wales</td>\n",
       "      <td>Shellharbour</td>\n",
       "      <td>Fishing</td>\n",
       "      <td>NaN</td>\n",
       "      <td>NaN</td>\n",
       "      <td>NaN</td>\n",
       "      <td>...</td>\n",
       "      <td>NaN</td>\n",
       "      <td>NaN</td>\n",
       "      <td>NaN</td>\n",
       "      <td>NaN</td>\n",
       "      <td>NaN</td>\n",
       "      <td>NaN</td>\n",
       "      <td>NaN</td>\n",
       "      <td>NaN</td>\n",
       "      <td>NaN</td>\n",
       "      <td>NaN</td>\n",
       "    </tr>\n",
       "    <tr>\n",
       "      <th>...</th>\n",
       "      <td>...</td>\n",
       "      <td>...</td>\n",
       "      <td>...</td>\n",
       "      <td>...</td>\n",
       "      <td>...</td>\n",
       "      <td>...</td>\n",
       "      <td>...</td>\n",
       "      <td>...</td>\n",
       "      <td>...</td>\n",
       "      <td>...</td>\n",
       "      <td>...</td>\n",
       "      <td>...</td>\n",
       "      <td>...</td>\n",
       "      <td>...</td>\n",
       "      <td>...</td>\n",
       "      <td>...</td>\n",
       "      <td>...</td>\n",
       "      <td>...</td>\n",
       "      <td>...</td>\n",
       "      <td>...</td>\n",
       "      <td>...</td>\n",
       "    </tr>\n",
       "    <tr>\n",
       "      <th>6017</th>\n",
       "      <td>05-Dec-1909</td>\n",
       "      <td>1909.0</td>\n",
       "      <td>Provoked</td>\n",
       "      <td>AUSTRALIA</td>\n",
       "      <td>New South Wales</td>\n",
       "      <td>Bondi</td>\n",
       "      <td>Fishing</td>\n",
       "      <td>male</td>\n",
       "      <td>M</td>\n",
       "      <td>NaN</td>\n",
       "      <td>...</td>\n",
       "      <td>NaN</td>\n",
       "      <td>NaN</td>\n",
       "      <td>NaN</td>\n",
       "      <td>NaN</td>\n",
       "      <td>NaN</td>\n",
       "      <td>NaN</td>\n",
       "      <td>NaN</td>\n",
       "      <td>NaN</td>\n",
       "      <td>NaN</td>\n",
       "      <td>NaN</td>\n",
       "    </tr>\n",
       "    <tr>\n",
       "      <th>6083</th>\n",
       "      <td>16-Apr-1906</td>\n",
       "      <td>1906.0</td>\n",
       "      <td>Provoked</td>\n",
       "      <td>AUSTRALIA</td>\n",
       "      <td>Victoria</td>\n",
       "      <td>Western Port Bay</td>\n",
       "      <td>Shooting sharks</td>\n",
       "      <td>Leo Clarke</td>\n",
       "      <td>M</td>\n",
       "      <td>NaN</td>\n",
       "      <td>...</td>\n",
       "      <td>NaN</td>\n",
       "      <td>NaN</td>\n",
       "      <td>NaN</td>\n",
       "      <td>NaN</td>\n",
       "      <td>NaN</td>\n",
       "      <td>NaN</td>\n",
       "      <td>NaN</td>\n",
       "      <td>NaN</td>\n",
       "      <td>NaN</td>\n",
       "      <td>NaN</td>\n",
       "    </tr>\n",
       "    <tr>\n",
       "      <th>6290</th>\n",
       "      <td>02-Mar-1892</td>\n",
       "      <td>1892.0</td>\n",
       "      <td>Provoked</td>\n",
       "      <td>AUSTRALIA</td>\n",
       "      <td>New South Wales</td>\n",
       "      <td>Lake Macquarie</td>\n",
       "      <td>Fishing</td>\n",
       "      <td>Christopher Wang</td>\n",
       "      <td>M</td>\n",
       "      <td>21</td>\n",
       "      <td>...</td>\n",
       "      <td>NaN</td>\n",
       "      <td>NaN</td>\n",
       "      <td>NaN</td>\n",
       "      <td>NaN</td>\n",
       "      <td>NaN</td>\n",
       "      <td>NaN</td>\n",
       "      <td>NaN</td>\n",
       "      <td>NaN</td>\n",
       "      <td>NaN</td>\n",
       "      <td>NaN</td>\n",
       "    </tr>\n",
       "    <tr>\n",
       "      <th>6291</th>\n",
       "      <td>1892</td>\n",
       "      <td>1892.0</td>\n",
       "      <td>Provoked</td>\n",
       "      <td>AUSTRALIA</td>\n",
       "      <td>Torres Strait</td>\n",
       "      <td>Badu Island</td>\n",
       "      <td>Dress diving</td>\n",
       "      <td>Mr. A. Rotaman</td>\n",
       "      <td>M</td>\n",
       "      <td>NaN</td>\n",
       "      <td>...</td>\n",
       "      <td>NaN</td>\n",
       "      <td>NaN</td>\n",
       "      <td>NaN</td>\n",
       "      <td>NaN</td>\n",
       "      <td>NaN</td>\n",
       "      <td>NaN</td>\n",
       "      <td>NaN</td>\n",
       "      <td>NaN</td>\n",
       "      <td>NaN</td>\n",
       "      <td>NaN</td>\n",
       "    </tr>\n",
       "    <tr>\n",
       "      <th>6462</th>\n",
       "      <td>07-Apr-1877</td>\n",
       "      <td>1877.0</td>\n",
       "      <td>Provoked</td>\n",
       "      <td>AUSTRALIA</td>\n",
       "      <td>Tasmania</td>\n",
       "      <td>Smelting Works Bay near Hobart</td>\n",
       "      <td>NaN</td>\n",
       "      <td>John Smart</td>\n",
       "      <td>M</td>\n",
       "      <td>NaN</td>\n",
       "      <td>...</td>\n",
       "      <td>NaN</td>\n",
       "      <td>NaN</td>\n",
       "      <td>NaN</td>\n",
       "      <td>NaN</td>\n",
       "      <td>NaN</td>\n",
       "      <td>NaN</td>\n",
       "      <td>NaN</td>\n",
       "      <td>NaN</td>\n",
       "      <td>NaN</td>\n",
       "      <td>NaN</td>\n",
       "    </tr>\n",
       "  </tbody>\n",
       "</table>\n",
       "<p>144 rows × 255 columns</p>\n",
       "</div>"
      ],
      "text/plain": [
       "              Date    Year      Type    Country              State  \\\n",
       "215    07-Aug-2021  2021.0  Provoked  AUSTRALIA         Queensland   \n",
       "223    27-Jul-2021  2021.0  Provoked  AUSTRALIA  Western Australia   \n",
       "281    20-Feb-2021  2021.0  Provoked  AUSTRALIA         Queensland   \n",
       "323    17-Sep-2020  2020.0  Provoked  AUSTRALIA         Queensland   \n",
       "406    20-Dec-2019  2019.0  Provoked  AUSTRALIA    New South Wales   \n",
       "...            ...     ...       ...        ...                ...   \n",
       "6017   05-Dec-1909  1909.0  Provoked  AUSTRALIA    New South Wales   \n",
       "6083   16-Apr-1906  1906.0  Provoked  AUSTRALIA           Victoria   \n",
       "6290   02-Mar-1892  1892.0  Provoked  AUSTRALIA    New South Wales   \n",
       "6291          1892  1892.0  Provoked  AUSTRALIA      Torres Strait   \n",
       "6462   07-Apr-1877  1877.0  Provoked  AUSTRALIA           Tasmania   \n",
       "\n",
       "                            Location          Activity              Name  Sex  \\\n",
       "215        North Stradbroke Island    Harassing sharks      Rick Manning    M   \n",
       "223                   Varanus Island           Fishing              male    M   \n",
       "281                   Waterford West           Fishing      Jason Rogers    M   \n",
       "323                    Fraser Island           Fishing              male    M   \n",
       "406                     Shellharbour           Fishing               NaN  NaN   \n",
       "...                              ...               ...               ...  ...   \n",
       "6017                           Bondi           Fishing              male    M   \n",
       "6083                Western Port Bay  Shooting sharks         Leo Clarke    M   \n",
       "6290                  Lake Macquarie           Fishing  Christopher Wang    M   \n",
       "6291                     Badu Island      Dress diving    Mr. A. Rotaman    M   \n",
       "6462  Smelting Works Bay near Hobart               NaN        John Smart    M   \n",
       "\n",
       "      Age  ... Unnamed: 245 Unnamed: 246 Unnamed: 247 Unnamed: 248  \\\n",
       "215   NaN  ...          NaN          NaN          NaN          NaN   \n",
       "223    34  ...          NaN          NaN          NaN          NaN   \n",
       "281   NaN  ...          NaN          NaN          NaN          NaN   \n",
       "323   50s  ...          NaN          NaN          NaN          NaN   \n",
       "406   NaN  ...          NaN          NaN          NaN          NaN   \n",
       "...   ...  ...          ...          ...          ...          ...   \n",
       "6017  NaN  ...          NaN          NaN          NaN          NaN   \n",
       "6083  NaN  ...          NaN          NaN          NaN          NaN   \n",
       "6290   21  ...          NaN          NaN          NaN          NaN   \n",
       "6291  NaN  ...          NaN          NaN          NaN          NaN   \n",
       "6462  NaN  ...          NaN          NaN          NaN          NaN   \n",
       "\n",
       "     Unnamed: 249 Unnamed: 250 Unnamed: 251 Unnamed: 252 Unnamed: 253  \\\n",
       "215           NaN          NaN          NaN          NaN          NaN   \n",
       "223           NaN          NaN          NaN          NaN          NaN   \n",
       "281           NaN          NaN          NaN          NaN          NaN   \n",
       "323           NaN          NaN          NaN          NaN          NaN   \n",
       "406           NaN          NaN          NaN          NaN          NaN   \n",
       "...           ...          ...          ...          ...          ...   \n",
       "6017          NaN          NaN          NaN          NaN          NaN   \n",
       "6083          NaN          NaN          NaN          NaN          NaN   \n",
       "6290          NaN          NaN          NaN          NaN          NaN   \n",
       "6291          NaN          NaN          NaN          NaN          NaN   \n",
       "6462          NaN          NaN          NaN          NaN          NaN   \n",
       "\n",
       "     Unnamed: 254  \n",
       "215           NaN  \n",
       "223           NaN  \n",
       "281           NaN  \n",
       "323           NaN  \n",
       "406           NaN  \n",
       "...           ...  \n",
       "6017          NaN  \n",
       "6083          NaN  \n",
       "6290          NaN  \n",
       "6291          NaN  \n",
       "6462          NaN  \n",
       "\n",
       "[144 rows x 255 columns]"
      ]
     },
     "execution_count": 34,
     "metadata": {},
     "output_type": "execute_result"
    }
   ],
   "source": [
    "data[ (data[\"Country\"] == \"AUSTRALIA\") & (data[\"Type\"] == \"Provoked\")]"
   ]
  },
  {
   "cell_type": "code",
   "execution_count": null,
   "id": "0aad8c28",
   "metadata": {},
   "outputs": [],
   "source": []
  }
 ],
 "metadata": {
  "kernelspec": {
   "display_name": "Python 3 (ipykernel)",
   "language": "python",
   "name": "python3"
  },
  "language_info": {
   "codemirror_mode": {
    "name": "ipython",
    "version": 3
   },
   "file_extension": ".py",
   "mimetype": "text/x-python",
   "name": "python",
   "nbconvert_exporter": "python",
   "pygments_lexer": "ipython3",
   "version": "3.9.16"
  }
 },
 "nbformat": 4,
 "nbformat_minor": 5
}
