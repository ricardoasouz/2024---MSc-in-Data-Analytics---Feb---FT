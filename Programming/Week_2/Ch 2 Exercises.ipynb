{
 "cells": [
  {
   "cell_type": "markdown",
   "id": "baa4a95d",
   "metadata": {},
   "source": [
    "## Exercise 2: \n",
    "Write a program that uses input to prompt a user for their\n",
    "name and then welcomes them"
   ]
  },
  {
   "cell_type": "code",
   "execution_count": 1,
   "id": "4b5e696b",
   "metadata": {},
   "outputs": [
    {
     "name": "stdout",
     "output_type": "stream",
     "text": [
      "Welcome Ricardo\n"
     ]
    }
   ],
   "source": [
    "name = input(\"What is your name?\")\n",
    "print(f\"Welcome {name}\")"
   ]
  },
  {
   "cell_type": "code",
   "execution_count": 2,
   "id": "855331fc",
   "metadata": {},
   "outputs": [
    {
     "name": "stdout",
     "output_type": "stream",
     "text": [
      "Welcome Ricardo\n"
     ]
    }
   ],
   "source": [
    "print(\"Welcome\", input(\"What is your name?\"))"
   ]
  },
  {
   "cell_type": "code",
   "execution_count": 3,
   "id": "a02d08e0",
   "metadata": {},
   "outputs": [
    {
     "data": {
      "text/plain": [
       "'Welcome Ricardo'"
      ]
     },
     "execution_count": 3,
     "metadata": {},
     "output_type": "execute_result"
    }
   ],
   "source": [
    "\"Welcome \" + input(\"What is your name?\")"
   ]
  },
  {
   "cell_type": "code",
   "execution_count": 4,
   "id": "a47c6fb7",
   "metadata": {},
   "outputs": [
    {
     "data": {
      "text/plain": [
       "'Welcome Ricardo'"
      ]
     },
     "execution_count": 4,
     "metadata": {},
     "output_type": "execute_result"
    }
   ],
   "source": [
    "\"Welcome \" + name"
   ]
  },
  {
   "cell_type": "markdown",
   "id": "462a1ed7",
   "metadata": {},
   "source": [
    "## Exercise 3: \n",
    "Write a program to prompt the user for hours and rate per\n",
    "hour to compute gross pay.\n"
   ]
  },
  {
   "cell_type": "code",
   "execution_count": 5,
   "id": "b4b5819e",
   "metadata": {},
   "outputs": [
    {
     "name": "stdout",
     "output_type": "stream",
     "text": [
      "<class 'float'>\n",
      "<class 'str'>\n",
      "Your pay is: 177.0\n",
      "Your pay is: 177.0\n",
      "Your pay is: 177.0\n"
     ]
    }
   ],
   "source": [
    "hours = float(input(\"What are your hours?\\n\"))\n",
    "rate = input(\"What is your rate per hour?\\n\")\n",
    "\n",
    "pay = hours * float(rate)\n",
    "print(type(hours))\n",
    "print(type(rate))\n",
    "\n",
    "print(f\"Your pay is: {pay}\")\n",
    "print(\"Your pay is: \" + str(pay))\n",
    "print(\"Your pay is:\", pay)"
   ]
  },
  {
   "cell_type": "markdown",
   "id": "e401f49c",
   "metadata": {},
   "source": [
    "## Exercise 4: \n",
    "Assume that we execute the following assignment statements:\n",
    "\n",
    "width = 17\n",
    "\n",
    "height = 12.0\n",
    "\n",
    "For each of the following expressions, write the value of the expression and the\n",
    "type (of the value of the expression).\n",
    "\n",
    "1. width//2 = 8 (int)\n",
    "2. width/2.0 = 8.5 (float)\n",
    "3. height/3 = 4.0 (float)\n",
    "4. 1 + 2 * 5 = 11 (int)\n",
    "\n",
    "BIMDAS - Brackets, indices (powers), multiplication/division, addition/subtraction\n",
    "\n",
    "Use the Python interpreter to check your answers.\n"
   ]
  },
  {
   "cell_type": "code",
   "execution_count": 6,
   "id": "dcbebda8",
   "metadata": {},
   "outputs": [
    {
     "name": "stdout",
     "output_type": "stream",
     "text": [
      "8 <class 'int'>\n",
      "8.5 <class 'float'>\n",
      "4.0 <class 'float'>\n",
      "11 <class 'int'>\n"
     ]
    }
   ],
   "source": [
    "width = 17\n",
    "height = 12.0\n",
    "\n",
    "a = width//2\n",
    "print(a, type(a))\n",
    "\n",
    "b = width/2.0\n",
    "print(b, type(b))\n",
    "\n",
    "c = height/3\n",
    "print(c, type(c))\n",
    "\n",
    "d = 1 + 2 * 5\n",
    "print(d, type(d))"
   ]
  },
  {
   "cell_type": "code",
   "execution_count": 7,
   "id": "5a122c2c",
   "metadata": {},
   "outputs": [
    {
     "data": {
      "text/plain": [
       "float"
      ]
     },
     "execution_count": 7,
     "metadata": {},
     "output_type": "execute_result"
    }
   ],
   "source": [
    "type(8/2)"
   ]
  },
  {
   "cell_type": "markdown",
   "id": "1464d6cb",
   "metadata": {},
   "source": [
    "## Exercise 5: \n",
    "Write a program which prompts the user for a Celsius temperature, convert the temperature to Fahrenheit, and print out the\n",
    "converted temperature."
   ]
  },
  {
   "cell_type": "code",
   "execution_count": 8,
   "id": "0ab1bbfb",
   "metadata": {},
   "outputs": [
    {
     "name": "stdout",
     "output_type": "stream",
     "text": [
      "That temperature in Fahrenheit is: 64.4000\n"
     ]
    }
   ],
   "source": [
    "# Prompt the user for a celcius temp\n",
    "celcius = float(input(\"Please give a Celcius temperature to convert to Fahrenheit:\\n\"))\n",
    "\n",
    "# Convert celcius to fahrenheit\n",
    "fahrenheit = (celcius/5 * 9) + 32\n",
    "# fahrenheit = celcius * 1.8 + 32\n",
    "# fahrenheit = celcius * 9/5 + 32\n",
    "\n",
    "# Print result to user\n",
    "print(f\"That temperature in Fahrenheit is: {fahrenheit:.04f}\")"
   ]
  },
  {
   "cell_type": "code",
   "execution_count": 9,
   "id": "1c6713dc",
   "metadata": {},
   "outputs": [
    {
     "data": {
      "text/plain": [
       "'Please give a Celcius temperature to convert to Fahrenheit:\\n'"
      ]
     },
     "execution_count": 9,
     "metadata": {},
     "output_type": "execute_result"
    }
   ],
   "source": [
    "\"Please give a Celcius temperature to convert to Fahrenheit:\\n\""
   ]
  },
  {
   "cell_type": "code",
   "execution_count": 10,
   "id": "d2c4ae75",
   "metadata": {
    "scrolled": true
   },
   "outputs": [
    {
     "name": "stdout",
     "output_type": "stream",
     "text": [
      "Please give a Celcius temperature to convert to Fahrenheit:\n",
      "\n"
     ]
    }
   ],
   "source": [
    "print(\"Please give a Celcius temperature to convert to Fahrenheit:\\n\")"
   ]
  },
  {
   "cell_type": "code",
   "execution_count": null,
   "id": "4d6a420b",
   "metadata": {},
   "outputs": [],
   "source": []
  }
 ],
 "metadata": {
  "kernelspec": {
   "display_name": "Python 3 (ipykernel)",
   "language": "python",
   "name": "python3"
  },
  "language_info": {
   "codemirror_mode": {
    "name": "ipython",
    "version": 3
   },
   "file_extension": ".py",
   "mimetype": "text/x-python",
   "name": "python",
   "nbconvert_exporter": "python",
   "pygments_lexer": "ipython3",
   "version": "3.9.16"
  }
 },
 "nbformat": 4,
 "nbformat_minor": 5
}
