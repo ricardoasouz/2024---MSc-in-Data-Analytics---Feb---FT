{
 "cells": [
  {
   "cell_type": "code",
   "execution_count": 1,
   "id": "cb0c01e5",
   "metadata": {},
   "outputs": [],
   "source": [
    "numDict = {\"first\": 1, 2: 2, True: [1, 2, 3]}"
   ]
  },
  {
   "cell_type": "code",
   "execution_count": 3,
   "id": "5981fc33",
   "metadata": {},
   "outputs": [],
   "source": [
    "#numDict[0]"
   ]
  },
  {
   "cell_type": "code",
   "execution_count": 4,
   "id": "82a7456c",
   "metadata": {},
   "outputs": [
    {
     "data": {
      "text/plain": [
       "1"
      ]
     },
     "execution_count": 4,
     "metadata": {},
     "output_type": "execute_result"
    }
   ],
   "source": [
    "numDict[\"first\"]"
   ]
  },
  {
   "cell_type": "code",
   "execution_count": 5,
   "id": "0f44c0ed",
   "metadata": {},
   "outputs": [
    {
     "data": {
      "text/plain": [
       "2"
      ]
     },
     "execution_count": 5,
     "metadata": {},
     "output_type": "execute_result"
    }
   ],
   "source": [
    "numDict[2]"
   ]
  },
  {
   "cell_type": "code",
   "execution_count": 6,
   "id": "e9fb44ee",
   "metadata": {},
   "outputs": [
    {
     "data": {
      "text/plain": [
       "[1, 2, 3]"
      ]
     },
     "execution_count": 6,
     "metadata": {},
     "output_type": "execute_result"
    }
   ],
   "source": [
    "numDict[True]"
   ]
  },
  {
   "cell_type": "code",
   "execution_count": 9,
   "id": "e435d459",
   "metadata": {},
   "outputs": [],
   "source": [
    "nestedDict = {1: 2, \"a\": {\n",
    "    \"a\": 2,\n",
    "    \"b\" : {\n",
    "        3\n",
    "    }\n",
    "}}"
   ]
  },
  {
   "cell_type": "code",
   "execution_count": 10,
   "id": "2eec5ab1",
   "metadata": {},
   "outputs": [
    {
     "data": {
      "text/plain": [
       "{'a': 2, 'b': {3}}"
      ]
     },
     "execution_count": 10,
     "metadata": {},
     "output_type": "execute_result"
    }
   ],
   "source": [
    "nestedDict[\"a\"]"
   ]
  },
  {
   "cell_type": "code",
   "execution_count": 11,
   "id": "8b3a8a64",
   "metadata": {},
   "outputs": [
    {
     "data": {
      "text/plain": [
       "{3}"
      ]
     },
     "execution_count": 11,
     "metadata": {},
     "output_type": "execute_result"
    }
   ],
   "source": [
    "nestedDict[\"a\"][\"b\"]"
   ]
  },
  {
   "cell_type": "code",
   "execution_count": 12,
   "id": "7b3781a9",
   "metadata": {
    "collapsed": true
   },
   "outputs": [
    {
     "name": "stdout",
     "output_type": "stream",
     "text": [
      "Collecting pymongo\n",
      "  Obtaining dependency information for pymongo from https://files.pythonhosted.org/packages/6b/38/11db8be24e20b0885182aaa3839db2eb2be51f506a222538762e1b3723f5/pymongo-4.6.3-cp311-cp311-win_amd64.whl.metadata\n",
      "  Downloading pymongo-4.6.3-cp311-cp311-win_amd64.whl.metadata (22 kB)\n",
      "Collecting dnspython<3.0.0,>=1.16.0 (from pymongo)\n",
      "  Obtaining dependency information for dnspython<3.0.0,>=1.16.0 from https://files.pythonhosted.org/packages/87/a1/8c5287991ddb8d3e4662f71356d9656d91ab3a36618c3dd11b280df0d255/dnspython-2.6.1-py3-none-any.whl.metadata\n",
      "  Downloading dnspython-2.6.1-py3-none-any.whl.metadata (5.8 kB)\n",
      "Downloading pymongo-4.6.3-cp311-cp311-win_amd64.whl (472 kB)\n",
      "   ---------------------------------------- 0.0/472.9 kB ? eta -:--:--\n",
      "   ---------- ----------------------------- 122.9/472.9 kB 3.6 MB/s eta 0:00:01\n",
      "   ---------------------------- ----------- 337.9/472.9 kB 5.3 MB/s eta 0:00:01\n",
      "   ---------------------------------------- 472.9/472.9 kB 5.9 MB/s eta 0:00:00\n",
      "Downloading dnspython-2.6.1-py3-none-any.whl (307 kB)\n",
      "   ---------------------------------------- 0.0/307.7 kB ? eta -:--:--\n",
      "   ----------- ---------------------------- 92.2/307.7 kB 2.6 MB/s eta 0:00:01\n",
      "   ------------------- -------------------- 153.6/307.7 kB 2.3 MB/s eta 0:00:01\n",
      "   ----------------------------- ---------- 225.3/307.7 kB 2.3 MB/s eta 0:00:01\n",
      "   ----------------------------------- ---- 276.5/307.7 kB 2.1 MB/s eta 0:00:01\n",
      "   ---------------------------------------- 307.7/307.7 kB 1.9 MB/s eta 0:00:00\n",
      "Installing collected packages: dnspython, pymongo\n",
      "Successfully installed dnspython-2.6.1 pymongo-4.6.3\n"
     ]
    }
   ],
   "source": [
    "!pip install pymongo"
   ]
  },
  {
   "cell_type": "code",
   "execution_count": 13,
   "id": "7568dd43",
   "metadata": {},
   "outputs": [],
   "source": [
    "import pymongo"
   ]
  },
  {
   "cell_type": "code",
   "execution_count": 14,
   "id": "9e7e65aa",
   "metadata": {},
   "outputs": [],
   "source": [
    "client = pymongo.MongoClient(\"mongodb://localhost:27017\")"
   ]
  },
  {
   "cell_type": "code",
   "execution_count": 15,
   "id": "5c064da2",
   "metadata": {},
   "outputs": [],
   "source": [
    "db = client[\"test\"]"
   ]
  },
  {
   "cell_type": "code",
   "execution_count": 16,
   "id": "d8086a95",
   "metadata": {},
   "outputs": [
    {
     "data": {
      "text/plain": [
       "['admin', 'config', 'local']"
      ]
     },
     "execution_count": 16,
     "metadata": {},
     "output_type": "execute_result"
    }
   ],
   "source": [
    "client.list_database_names()"
   ]
  },
  {
   "cell_type": "code",
   "execution_count": 17,
   "id": "59f7939f",
   "metadata": {},
   "outputs": [],
   "source": [
    "coll = db[\"testCollection\"]"
   ]
  },
  {
   "cell_type": "code",
   "execution_count": 18,
   "id": "07606dad",
   "metadata": {},
   "outputs": [
    {
     "data": {
      "text/plain": [
       "[]"
      ]
     },
     "execution_count": 18,
     "metadata": {},
     "output_type": "execute_result"
    }
   ],
   "source": [
    "db.list_collection_names()"
   ]
  },
  {
   "cell_type": "code",
   "execution_count": 20,
   "id": "69f97dd3",
   "metadata": {},
   "outputs": [],
   "source": [
    "nestedDict2 = {\"one\": 2, \"a\": {\n",
    "    \"a\": 2,\n",
    "    \"b\" : {\n",
    "        \"three\": 3\n",
    "    }\n",
    "}}"
   ]
  },
  {
   "cell_type": "code",
   "execution_count": 21,
   "id": "497b972f",
   "metadata": {},
   "outputs": [],
   "source": [
    "res = coll.insert_one(nestedDict2)"
   ]
  },
  {
   "cell_type": "code",
   "execution_count": 22,
   "id": "49373037",
   "metadata": {},
   "outputs": [
    {
     "data": {
      "text/plain": [
       "['testCollection']"
      ]
     },
     "execution_count": 22,
     "metadata": {},
     "output_type": "execute_result"
    }
   ],
   "source": [
    "db.list_collection_names()"
   ]
  },
  {
   "cell_type": "code",
   "execution_count": 23,
   "id": "7bbe64df",
   "metadata": {},
   "outputs": [
    {
     "data": {
      "text/plain": [
       "['admin', 'config', 'local', 'test']"
      ]
     },
     "execution_count": 23,
     "metadata": {},
     "output_type": "execute_result"
    }
   ],
   "source": [
    "client.list_database_names()"
   ]
  },
  {
   "cell_type": "code",
   "execution_count": 24,
   "id": "665ab031",
   "metadata": {},
   "outputs": [
    {
     "data": {
      "text/plain": [
       "InsertOneResult(ObjectId('661931892aa9005e3961504c'), acknowledged=True)"
      ]
     },
     "execution_count": 24,
     "metadata": {},
     "output_type": "execute_result"
    }
   ],
   "source": [
    "res"
   ]
  },
  {
   "cell_type": "code",
   "execution_count": 26,
   "id": "804f44eb",
   "metadata": {},
   "outputs": [],
   "source": [
    "#res = coll.insert_one(nestedDict2)"
   ]
  },
  {
   "cell_type": "code",
   "execution_count": 28,
   "id": "52b8f4c7",
   "metadata": {},
   "outputs": [],
   "source": [
    "nestedDict2[\"_id\"] = 3"
   ]
  },
  {
   "cell_type": "code",
   "execution_count": 29,
   "id": "13d8189e",
   "metadata": {},
   "outputs": [],
   "source": [
    "res = coll.insert_one(nestedDict2)"
   ]
  },
  {
   "cell_type": "code",
   "execution_count": 30,
   "id": "9c5346aa",
   "metadata": {},
   "outputs": [
    {
     "data": {
      "text/plain": [
       "InsertOneResult(3, acknowledged=True)"
      ]
     },
     "execution_count": 30,
     "metadata": {},
     "output_type": "execute_result"
    }
   ],
   "source": [
    "res"
   ]
  },
  {
   "cell_type": "code",
   "execution_count": 31,
   "id": "8c7f17b8",
   "metadata": {},
   "outputs": [],
   "source": [
    "listOfDicts = [\n",
    "    {\"name\": \"Sam\", \"Student Number\": 9},\n",
    "    {\"name\": \"David\", \"Student Number\": 7},\n",
    "    {\"name\": \"Muhammad\", \"Student Number\": 10},\n",
    "    {\"name\": \"Taufique\", \"Student Number\": 5},\n",
    "    {\"name\": \"James\"}\n",
    "]"
   ]
  },
  {
   "cell_type": "code",
   "execution_count": 33,
   "id": "07522c79",
   "metadata": {},
   "outputs": [],
   "source": [
    "#res = coll.insert_one(listOfDicts)"
   ]
  },
  {
   "cell_type": "code",
   "execution_count": 34,
   "id": "27d41ad5",
   "metadata": {},
   "outputs": [],
   "source": [
    "res = coll.insert_many(listOfDicts)"
   ]
  },
  {
   "cell_type": "code",
   "execution_count": 35,
   "id": "d4cbe39e",
   "metadata": {},
   "outputs": [
    {
     "data": {
      "text/plain": [
       "InsertManyResult([ObjectId('661933502aa9005e3961504d'), ObjectId('661933502aa9005e3961504e'), ObjectId('661933502aa9005e3961504f'), ObjectId('661933502aa9005e39615050'), ObjectId('661933502aa9005e39615051')], acknowledged=True)"
      ]
     },
     "execution_count": 35,
     "metadata": {},
     "output_type": "execute_result"
    }
   ],
   "source": [
    "res"
   ]
  },
  {
   "cell_type": "code",
   "execution_count": 36,
   "id": "4755ed44",
   "metadata": {},
   "outputs": [],
   "source": [
    "res = coll.find()"
   ]
  },
  {
   "cell_type": "code",
   "execution_count": 37,
   "id": "27236a96",
   "metadata": {},
   "outputs": [
    {
     "name": "stdout",
     "output_type": "stream",
     "text": [
      "{'_id': ObjectId('661931892aa9005e3961504c'), 'one': 2, 'a': {'a': 2, 'b': {'three': 3}}}\n",
      "{'_id': 3, 'one': 2, 'a': {'a': 2, 'b': {'three': 3}}}\n",
      "{'_id': ObjectId('661933502aa9005e3961504d'), 'name': 'Sam', 'Student Number': 9}\n",
      "{'_id': ObjectId('661933502aa9005e3961504e'), 'name': 'David', 'Student Number': 7}\n",
      "{'_id': ObjectId('661933502aa9005e3961504f'), 'name': 'Muhammad', 'Student Number': 10}\n",
      "{'_id': ObjectId('661933502aa9005e39615050'), 'name': 'Taufique', 'Student Number': 5}\n",
      "{'_id': ObjectId('661933502aa9005e39615051'), 'name': 'James'}\n"
     ]
    }
   ],
   "source": [
    "for result in res:\n",
    "    print(result)"
   ]
  },
  {
   "cell_type": "code",
   "execution_count": 39,
   "id": "4cbde300",
   "metadata": {},
   "outputs": [
    {
     "name": "stdout",
     "output_type": "stream",
     "text": [
      "{'_id': ObjectId('661933502aa9005e3961504d'), 'name': 'Sam', 'Student Number': 9}\n"
     ]
    }
   ],
   "source": [
    "res = coll.find({\"name\": \"Sam\"}) # search filter\n",
    "for result in res:\n",
    "    print(result)"
   ]
  },
  {
   "cell_type": "code",
   "execution_count": 41,
   "id": "ca7615d0",
   "metadata": {},
   "outputs": [
    {
     "name": "stdout",
     "output_type": "stream",
     "text": [
      "{'Student Number': 9}\n"
     ]
    }
   ],
   "source": [
    "res = coll.find({\"name\": \"Sam\"}, {\"Student Number\": 1, \"_id\": 0}) # search filter, fields returned\n",
    "for result in res:\n",
    "    print(result)"
   ]
  },
  {
   "cell_type": "code",
   "execution_count": 44,
   "id": "94f044aa",
   "metadata": {},
   "outputs": [
    {
     "name": "stdout",
     "output_type": "stream",
     "text": [
      "{'_id': ObjectId('661931892aa9005e3961504c'), 'a': {'a': 2, 'b': {'three': 3}}}\n",
      "{'_id': 3, 'a': {'a': 2, 'b': {'three': 3}}}\n"
     ]
    }
   ],
   "source": [
    "res = coll.find({\"one\": 2}, {\"one\": 0}) # search filter, fields returned\n",
    "for result in res:\n",
    "    print(result)"
   ]
  },
  {
   "cell_type": "code",
   "execution_count": 45,
   "id": "a834a8e0",
   "metadata": {},
   "outputs": [
    {
     "name": "stdout",
     "output_type": "stream",
     "text": [
      "{'_id': ObjectId('661933502aa9005e3961504d'), 'name': 'Sam', 'Student Number': 9}\n",
      "{'_id': ObjectId('661933502aa9005e3961504f'), 'name': 'Muhammad', 'Student Number': 10}\n",
      "{'_id': ObjectId('661933502aa9005e39615050'), 'name': 'Taufique', 'Student Number': 5}\n"
     ]
    }
   ],
   "source": [
    "res = coll.find({\"name\": {\"$gt\": \"M\"}}) # search filter, fields returned\n",
    "for result in res:\n",
    "    print(result)"
   ]
  },
  {
   "cell_type": "code",
   "execution_count": 46,
   "id": "a8555a3d",
   "metadata": {},
   "outputs": [
    {
     "name": "stdout",
     "output_type": "stream",
     "text": [
      "{'_id': ObjectId('661933502aa9005e3961504e'), 'name': 'David', 'Student Number': 7}\n",
      "{'_id': ObjectId('661933502aa9005e39615050'), 'name': 'Taufique', 'Student Number': 5}\n"
     ]
    }
   ],
   "source": [
    "res = coll.find({\"Student Number\": {\"$lt\": 8}}) # search filter, fields returned\n",
    "for result in res:\n",
    "    print(result)"
   ]
  },
  {
   "cell_type": "code",
   "execution_count": 47,
   "id": "510bb3a9",
   "metadata": {},
   "outputs": [
    {
     "name": "stdout",
     "output_type": "stream",
     "text": [
      "{'_id': ObjectId('661933502aa9005e3961504e'), 'name': 'David', 'Student Number': 7}\n"
     ]
    }
   ],
   "source": [
    "res = coll.find({\"Student Number\": {\"$lt\": 8, \"$gt\": 6}}) # search filter, fields returned\n",
    "for result in res:\n",
    "    print(result)"
   ]
  },
  {
   "cell_type": "code",
   "execution_count": 49,
   "id": "779c1101",
   "metadata": {},
   "outputs": [
    {
     "name": "stdout",
     "output_type": "stream",
     "text": [
      "{'_id': ObjectId('661933502aa9005e3961504d'), 'name': 'Sam', 'Student Number': 9}\n",
      "{'_id': ObjectId('661933502aa9005e3961504f'), 'name': 'Muhammad', 'Student Number': 10}\n",
      "{'_id': ObjectId('661933502aa9005e39615051'), 'name': 'James'}\n"
     ]
    }
   ],
   "source": [
    "res = coll.find({\"name\": {\"$regex\": \"m\"}}) # search filter, fields returned\n",
    "for result in res:\n",
    "    print(result)"
   ]
  },
  {
   "cell_type": "code",
   "execution_count": 50,
   "id": "a39f67c5",
   "metadata": {},
   "outputs": [
    {
     "name": "stdout",
     "output_type": "stream",
     "text": [
      "{'_id': ObjectId('661933502aa9005e3961504d'), 'name': 'Sam', 'Student Number': 9}\n"
     ]
    }
   ],
   "source": [
    "res = coll.find({\"name\": {\"$regex\": \"m$\"}}) # search filter, fields returned\n",
    "for result in res:\n",
    "    print(result)"
   ]
  },
  {
   "cell_type": "code",
   "execution_count": 51,
   "id": "d32a35cd",
   "metadata": {},
   "outputs": [
    {
     "name": "stdout",
     "output_type": "stream",
     "text": [
      "{'_id': ObjectId('661933502aa9005e3961504f'), 'name': 'Muhammad', 'Student Number': 10}\n"
     ]
    }
   ],
   "source": [
    "res = coll.find({\"name\": {\"$regex\": \"^M\"}}) # search filter, fields returned\n",
    "for result in res:\n",
    "    print(result)"
   ]
  },
  {
   "cell_type": "code",
   "execution_count": 54,
   "id": "3d37ad19",
   "metadata": {},
   "outputs": [
    {
     "name": "stdout",
     "output_type": "stream",
     "text": [
      "{'_id': ObjectId('661933502aa9005e3961504d'), 'name': 'Sam', 'Student Number': 9}\n",
      "{'_id': ObjectId('661933502aa9005e3961504f'), 'name': 'Muhammad', 'Student Number': 10}\n",
      "{'_id': ObjectId('661933502aa9005e39615050'), 'name': 'Taufique', 'Student Number': 5}\n"
     ]
    }
   ],
   "source": [
    "res = coll.find({\"name\": {\"$regex\": \"^[M-T]\"}}) # search filter, fields returned\n",
    "for result in res:\n",
    "    print(result)"
   ]
  },
  {
   "cell_type": "code",
   "execution_count": 56,
   "id": "70bbd8ca",
   "metadata": {},
   "outputs": [],
   "source": [
    "import re # regex/regular expressions library\n",
    "# https://docs.python.org/3/howto/regex.html"
   ]
  },
  {
   "cell_type": "code",
   "execution_count": 57,
   "id": "8deb4f78",
   "metadata": {},
   "outputs": [],
   "source": [
    "text = \"I love Python!\""
   ]
  },
  {
   "cell_type": "code",
   "execution_count": 58,
   "id": "381e309a",
   "metadata": {},
   "outputs": [
    {
     "data": {
      "text/plain": [
       "'love\\\\sPython'"
      ]
     },
     "execution_count": 58,
     "metadata": {},
     "output_type": "execute_result"
    }
   ],
   "source": [
    "r\"love\\sPython\""
   ]
  },
  {
   "cell_type": "code",
   "execution_count": 59,
   "id": "7f1590b3",
   "metadata": {},
   "outputs": [
    {
     "name": "stdout",
     "output_type": "stream",
     "text": [
      "{'_id': ObjectId('661933502aa9005e3961504f'), 'name': 'Muhammad', 'Student Number': 10}\n"
     ]
    }
   ],
   "source": [
    "res = coll.find({\"name\": {\"$regex\": \"m{2}\"}}) # search filter, fields returned\n",
    "for result in res:\n",
    "    print(result)"
   ]
  },
  {
   "cell_type": "code",
   "execution_count": 64,
   "id": "3f8e6076",
   "metadata": {},
   "outputs": [
    {
     "name": "stdout",
     "output_type": "stream",
     "text": [
      "{'_id': ObjectId('661933502aa9005e3961504f'), 'name': 'Muhammad', 'Student Number': 10}\n"
     ]
    }
   ],
   "source": [
    "res = coll.find({\"name\": {\"$regex\": \"ma{1}\"}}) # search filter, fields returned\n",
    "for result in res:\n",
    "    print(result)"
   ]
  },
  {
   "cell_type": "code",
   "execution_count": 65,
   "id": "8ab427ce",
   "metadata": {},
   "outputs": [
    {
     "name": "stdout",
     "output_type": "stream",
     "text": [
      "{'_id': ObjectId('661933502aa9005e3961504d'), 'name': 'Sam', 'Student Number': 9}\n",
      "{'_id': ObjectId('661933502aa9005e3961504f'), 'name': 'Muhammad', 'Student Number': 10}\n",
      "{'_id': ObjectId('661933502aa9005e39615051'), 'name': 'James'}\n"
     ]
    }
   ],
   "source": [
    "res = coll.find({\"name\": {\"$regex\": \"am{1}\"}}) # search filter, fields returned\n",
    "for result in res:\n",
    "    print(result)"
   ]
  },
  {
   "cell_type": "code",
   "execution_count": null,
   "id": "952e3641",
   "metadata": {},
   "outputs": [],
   "source": []
  }
 ],
 "metadata": {
  "kernelspec": {
   "display_name": "Python 3 (ipykernel)",
   "language": "python",
   "name": "python3"
  },
  "language_info": {
   "codemirror_mode": {
    "name": "ipython",
    "version": 3
   },
   "file_extension": ".py",
   "mimetype": "text/x-python",
   "name": "python",
   "nbconvert_exporter": "python",
   "pygments_lexer": "ipython3",
   "version": "3.11.5"
  }
 },
 "nbformat": 4,
 "nbformat_minor": 5
}
