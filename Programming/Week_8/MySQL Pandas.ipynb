{
 "cells": [
  {
   "cell_type": "code",
   "execution_count": 1,
   "id": "fd790f2e",
   "metadata": {},
   "outputs": [
    {
     "name": "stdout",
     "output_type": "stream",
     "text": [
      "Requirement already satisfied: sqlalchemy in c:\\users\\lecturer\\anaconda3\\lib\\site-packages (1.4.39)\n",
      "Collecting pymysql\n",
      "  Obtaining dependency information for pymysql from https://files.pythonhosted.org/packages/e5/30/20467e39523d0cfc2b6227902d3687a16364307260c75e6a1cb4422b0c62/PyMySQL-1.1.0-py3-none-any.whl.metadata\n",
      "  Downloading PyMySQL-1.1.0-py3-none-any.whl.metadata (4.4 kB)\n",
      "Requirement already satisfied: greenlet!=0.4.17 in c:\\users\\lecturer\\anaconda3\\lib\\site-packages (from sqlalchemy) (2.0.1)\n",
      "Downloading PyMySQL-1.1.0-py3-none-any.whl (44 kB)\n",
      "   ---------------------------------------- 0.0/44.8 kB ? eta -:--:--\n",
      "   ------------------------------------ --- 41.0/44.8 kB 960.0 kB/s eta 0:00:01\n",
      "   ---------------------------------------- 44.8/44.8 kB 734.6 kB/s eta 0:00:00\n",
      "Installing collected packages: pymysql\n",
      "Successfully installed pymysql-1.1.0\n"
     ]
    }
   ],
   "source": [
    "!pip install sqlalchemy pymysql"
   ]
  },
  {
   "cell_type": "code",
   "execution_count": 2,
   "id": "6819180a",
   "metadata": {},
   "outputs": [],
   "source": [
    "import pandas as pd\n",
    "import sqlalchemy\n",
    "import pymysql"
   ]
  },
  {
   "cell_type": "code",
   "execution_count": 3,
   "id": "77ec18e5",
   "metadata": {},
   "outputs": [],
   "source": [
    "user = \"pda2024\"\n",
    "password = \"pda2024\"\n",
    "host = \"127.0.0.1\"\n",
    "database = \"companies\"\n",
    "# port = 3306"
   ]
  },
  {
   "cell_type": "code",
   "execution_count": null,
   "id": "6a23b1c8",
   "metadata": {},
   "outputs": [],
   "source": [
    "# https://moodle.cct.ie/my/courses.php"
   ]
  },
  {
   "cell_type": "code",
   "execution_count": 4,
   "id": "f9eaf9b1",
   "metadata": {},
   "outputs": [],
   "source": [
    "sqlEngine = sqlalchemy.create_engine(f\"mysql+pymysql://{user}:{password}@{host}\")"
   ]
  },
  {
   "cell_type": "code",
   "execution_count": 5,
   "id": "d0072a8f",
   "metadata": {},
   "outputs": [],
   "source": [
    "conn = sqlEngine.connect()"
   ]
  },
  {
   "cell_type": "code",
   "execution_count": 6,
   "id": "2d0802f9",
   "metadata": {},
   "outputs": [
    {
     "data": {
      "text/plain": [
       "<sqlalchemy.engine.cursor.LegacyCursorResult at 0x206ef7a2c50>"
      ]
     },
     "execution_count": 6,
     "metadata": {},
     "output_type": "execute_result"
    }
   ],
   "source": [
    "conn.execute(\"CREATE DATABASE IF NOT EXISTS companies;\")"
   ]
  },
  {
   "cell_type": "code",
   "execution_count": 7,
   "id": "1cf0456b",
   "metadata": {},
   "outputs": [
    {
     "data": {
      "text/plain": [
       "<sqlalchemy.engine.cursor.LegacyCursorResult at 0x206ee1e1810>"
      ]
     },
     "execution_count": 7,
     "metadata": {},
     "output_type": "execute_result"
    }
   ],
   "source": [
    "conn.execute(\"USE companies;\")"
   ]
  },
  {
   "cell_type": "code",
   "execution_count": 8,
   "id": "1cef8d25",
   "metadata": {},
   "outputs": [],
   "source": [
    "motorola_df = pd.read_csv(\"Motorola.csv\")"
   ]
  },
  {
   "cell_type": "code",
   "execution_count": 9,
   "id": "604d0097",
   "metadata": {
    "collapsed": true
   },
   "outputs": [
    {
     "data": {
      "text/html": [
       "<div>\n",
       "<style scoped>\n",
       "    .dataframe tbody tr th:only-of-type {\n",
       "        vertical-align: middle;\n",
       "    }\n",
       "\n",
       "    .dataframe tbody tr th {\n",
       "        vertical-align: top;\n",
       "    }\n",
       "\n",
       "    .dataframe thead th {\n",
       "        text-align: right;\n",
       "    }\n",
       "</style>\n",
       "<table border=\"1\" class=\"dataframe\">\n",
       "  <thead>\n",
       "    <tr style=\"text-align: right;\">\n",
       "      <th></th>\n",
       "      <th>Year</th>\n",
       "      <th>Company</th>\n",
       "      <th>Revenue (in millions)</th>\n",
       "      <th>Profit (in millions)</th>\n",
       "    </tr>\n",
       "  </thead>\n",
       "  <tbody>\n",
       "    <tr>\n",
       "      <th>0</th>\n",
       "      <td>1955</td>\n",
       "      <td>Motorola</td>\n",
       "      <td>205.2</td>\n",
       "      <td>7.6</td>\n",
       "    </tr>\n",
       "    <tr>\n",
       "      <th>1</th>\n",
       "      <td>1956</td>\n",
       "      <td>Motorola</td>\n",
       "      <td>226.7</td>\n",
       "      <td>8.5</td>\n",
       "    </tr>\n",
       "    <tr>\n",
       "      <th>2</th>\n",
       "      <td>1957</td>\n",
       "      <td>Motorola</td>\n",
       "      <td>227.6</td>\n",
       "      <td>8.0</td>\n",
       "    </tr>\n",
       "    <tr>\n",
       "      <th>3</th>\n",
       "      <td>1958</td>\n",
       "      <td>Motorola</td>\n",
       "      <td>226.4</td>\n",
       "      <td>7.8</td>\n",
       "    </tr>\n",
       "    <tr>\n",
       "      <th>4</th>\n",
       "      <td>1959</td>\n",
       "      <td>Motorola</td>\n",
       "      <td>216.6</td>\n",
       "      <td>7.4</td>\n",
       "    </tr>\n",
       "  </tbody>\n",
       "</table>\n",
       "</div>"
      ],
      "text/plain": [
       "   Year   Company  Revenue (in millions)  Profit (in millions)\n",
       "0  1955  Motorola                  205.2                   7.6\n",
       "1  1956  Motorola                  226.7                   8.5\n",
       "2  1957  Motorola                  227.6                   8.0\n",
       "3  1958  Motorola                  226.4                   7.8\n",
       "4  1959  Motorola                  216.6                   7.4"
      ]
     },
     "execution_count": 9,
     "metadata": {},
     "output_type": "execute_result"
    }
   ],
   "source": [
    "motorola_df.head()"
   ]
  },
  {
   "cell_type": "code",
   "execution_count": 10,
   "id": "fa64568e",
   "metadata": {},
   "outputs": [
    {
     "data": {
      "text/plain": [
       "51"
      ]
     },
     "execution_count": 10,
     "metadata": {},
     "output_type": "execute_result"
    }
   ],
   "source": [
    "motorola_df.to_sql(\"motorola\", conn, index=False) # (table_name, conn, index?)"
   ]
  },
  {
   "cell_type": "code",
   "execution_count": 11,
   "id": "4d442041",
   "metadata": {},
   "outputs": [],
   "source": [
    "pepsico_df = pd.read_sql(\"SELECT * FROM pepsico;\", conn)"
   ]
  },
  {
   "cell_type": "code",
   "execution_count": 12,
   "id": "c875189b",
   "metadata": {
    "collapsed": true
   },
   "outputs": [
    {
     "data": {
      "text/html": [
       "<div>\n",
       "<style scoped>\n",
       "    .dataframe tbody tr th:only-of-type {\n",
       "        vertical-align: middle;\n",
       "    }\n",
       "\n",
       "    .dataframe tbody tr th {\n",
       "        vertical-align: top;\n",
       "    }\n",
       "\n",
       "    .dataframe thead th {\n",
       "        text-align: right;\n",
       "    }\n",
       "</style>\n",
       "<table border=\"1\" class=\"dataframe\">\n",
       "  <thead>\n",
       "    <tr style=\"text-align: right;\">\n",
       "      <th></th>\n",
       "      <th>year</th>\n",
       "      <th>Company</th>\n",
       "      <th>revenue_in_millions</th>\n",
       "      <th>profit_in_millions</th>\n",
       "    </tr>\n",
       "  </thead>\n",
       "  <tbody>\n",
       "    <tr>\n",
       "      <th>0</th>\n",
       "      <td>1955</td>\n",
       "      <td>PepsiCo</td>\n",
       "      <td>74.0</td>\n",
       "      <td>6.0</td>\n",
       "    </tr>\n",
       "    <tr>\n",
       "      <th>1</th>\n",
       "      <td>1956</td>\n",
       "      <td>PepsiCo</td>\n",
       "      <td>89.0</td>\n",
       "      <td>10.0</td>\n",
       "    </tr>\n",
       "    <tr>\n",
       "      <th>2</th>\n",
       "      <td>1957</td>\n",
       "      <td>PepsiCo</td>\n",
       "      <td>97.0</td>\n",
       "      <td>9.0</td>\n",
       "    </tr>\n",
       "    <tr>\n",
       "      <th>3</th>\n",
       "      <td>1958</td>\n",
       "      <td>PepsiCo</td>\n",
       "      <td>119.0</td>\n",
       "      <td>10.0</td>\n",
       "    </tr>\n",
       "    <tr>\n",
       "      <th>4</th>\n",
       "      <td>1959</td>\n",
       "      <td>PepsiCo</td>\n",
       "      <td>137.0</td>\n",
       "      <td>12.0</td>\n",
       "    </tr>\n",
       "  </tbody>\n",
       "</table>\n",
       "</div>"
      ],
      "text/plain": [
       "   year  Company  revenue_in_millions  profit_in_millions\n",
       "0  1955  PepsiCo                 74.0                 6.0\n",
       "1  1956  PepsiCo                 89.0                10.0\n",
       "2  1957  PepsiCo                 97.0                 9.0\n",
       "3  1958  PepsiCo                119.0                10.0\n",
       "4  1959  PepsiCo                137.0                12.0"
      ]
     },
     "execution_count": 12,
     "metadata": {},
     "output_type": "execute_result"
    }
   ],
   "source": [
    "pepsico_df.head()"
   ]
  },
  {
   "cell_type": "code",
   "execution_count": 13,
   "id": "3a295e27",
   "metadata": {},
   "outputs": [],
   "source": [
    "conn.close()"
   ]
  },
  {
   "cell_type": "markdown",
   "id": "5674356a",
   "metadata": {},
   "source": [
    "## Exercise\n",
    "Create a new table called all_companies\n",
    "\n",
    "Save the data from all 5 companies to this table"
   ]
  },
  {
   "cell_type": "code",
   "execution_count": 14,
   "id": "af8c7648",
   "metadata": {},
   "outputs": [],
   "source": [
    "import os"
   ]
  },
  {
   "cell_type": "code",
   "execution_count": 16,
   "id": "8d005a62",
   "metadata": {},
   "outputs": [
    {
     "data": {
      "text/plain": [
       "['Exxon Mobil.csv',\n",
       " 'General Electric.csv',\n",
       " 'General Motors.csv',\n",
       " 'Motorola.csv',\n",
       " 'Pepsico.csv']"
      ]
     },
     "execution_count": 16,
     "metadata": {},
     "output_type": "execute_result"
    }
   ],
   "source": [
    "os.listdir(\"companies\")"
   ]
  },
  {
   "cell_type": "code",
   "execution_count": 17,
   "id": "1c3de538",
   "metadata": {},
   "outputs": [],
   "source": [
    "sqlEngine = sqlalchemy.create_engine(f\"mysql+pymysql://{user}:{password}@{host}\")\n",
    "conn = sqlEngine.connect()"
   ]
  },
  {
   "cell_type": "code",
   "execution_count": 21,
   "id": "66d33a42",
   "metadata": {},
   "outputs": [
    {
     "data": {
      "text/plain": [
       "<sqlalchemy.engine.cursor.LegacyCursorResult at 0x206f11bdad0>"
      ]
     },
     "execution_count": 21,
     "metadata": {},
     "output_type": "execute_result"
    }
   ],
   "source": [
    "conn.execute(\"USE companies;\")\n"
   ]
  },
  {
   "cell_type": "code",
   "execution_count": 23,
   "id": "3ccc288f",
   "metadata": {},
   "outputs": [
    {
     "data": {
      "text/plain": [
       "<sqlalchemy.engine.cursor.LegacyCursorResult at 0x206f14c6b10>"
      ]
     },
     "execution_count": 23,
     "metadata": {},
     "output_type": "execute_result"
    }
   ],
   "source": [
    "conn.execute(\"CREATE TABLE all_companies (year INT, name TEXT, revenue DOUBLE, profit DOUBLE);\")"
   ]
  },
  {
   "cell_type": "code",
   "execution_count": 28,
   "id": "cfeb34ef",
   "metadata": {},
   "outputs": [
    {
     "data": {
      "text/plain": [
       "<sqlalchemy.engine.cursor.LegacyCursorResult at 0x206f14c5950>"
      ]
     },
     "execution_count": 28,
     "metadata": {},
     "output_type": "execute_result"
    }
   ],
   "source": [
    "conn.execute(\"DROP TABlE all_companies;\")"
   ]
  },
  {
   "cell_type": "code",
   "execution_count": 29,
   "id": "23159bde",
   "metadata": {},
   "outputs": [
    {
     "data": {
      "text/plain": [
       "255"
      ]
     },
     "execution_count": 29,
     "metadata": {},
     "output_type": "execute_result"
    }
   ],
   "source": [
    "all_companies = []\n",
    "for company in os.listdir(\"companies\"):\n",
    "    all_companies.append(pd.read_csv(\"companies/\" + company))\n",
    "\n",
    "all_companies_df = pd.concat(all_companies)\n",
    "all_companies_df.to_sql(\"all_companies\", conn, index=False)"
   ]
  },
  {
   "cell_type": "code",
   "execution_count": null,
   "id": "d40f7853",
   "metadata": {},
   "outputs": [],
   "source": []
  }
 ],
 "metadata": {
  "kernelspec": {
   "display_name": "Python 3 (ipykernel)",
   "language": "python",
   "name": "python3"
  },
  "language_info": {
   "codemirror_mode": {
    "name": "ipython",
    "version": 3
   },
   "file_extension": ".py",
   "mimetype": "text/x-python",
   "name": "python",
   "nbconvert_exporter": "python",
   "pygments_lexer": "ipython3",
   "version": "3.11.5"
  }
 },
 "nbformat": 4,
 "nbformat_minor": 5
}
