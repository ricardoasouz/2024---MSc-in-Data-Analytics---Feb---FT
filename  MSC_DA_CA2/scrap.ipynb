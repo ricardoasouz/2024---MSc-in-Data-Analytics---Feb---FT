{
 "cells": [
  {
   "cell_type": "code",
   "execution_count": 2,
   "metadata": {},
   "outputs": [
    {
     "name": "stdout",
     "output_type": "stream",
     "text": [
      "Data has been written to forum_data.json\n"
     ]
    }
   ],
   "source": [
    "import requests\n",
    "from bs4 import BeautifulSoup\n",
    "import json\n",
    "\n",
    "base_url = \"https://www.forum4farming.com/forum/index.php?threads/cap-2023-2027.20587\"\n",
    "data_extracted = []\n",
    "\n",
    "# Loop through the pages of the forum thread\n",
    "for page_num in range(6, 0, -1):\n",
    "    if page_num == 1:\n",
    "        url = base_url + \"/\"\n",
    "    else:\n",
    "        url = f\"{base_url}/page-{page_num}\"\n",
    "\n",
    "    response = requests.get(url)\n",
    "    if response.status_code == 200:\n",
    "        soup = BeautifulSoup(response.text, 'html.parser')\n",
    "        # Find all posts in the page\n",
    "        posts = soup.find_all('article', class_='message--post')\n",
    "        for post in posts:\n",
    "            # Extract the text from each post\n",
    "            content = post.find('div', class_='bbWrapper').get_text(strip=True)\n",
    "            data_extracted.append({'text': content})\n",
    "\n",
    "# Write the extracted data to a JSON file\n",
    "with open('forum_data.json', 'w', encoding='utf-8') as json_file:\n",
    "    json.dump(data_extracted, json_file, ensure_ascii=False, indent=4)\n",
    "\n",
    "print('Data has been written to forum_data.json')\n"
   ]
  },
  {
   "cell_type": "code",
   "execution_count": null,
   "metadata": {},
   "outputs": [],
   "source": []
  }
 ],
 "metadata": {
  "kernelspec": {
   "display_name": "Python 3",
   "language": "python",
   "name": "python3"
  },
  "language_info": {
   "codemirror_mode": {
    "name": "ipython",
    "version": 3
   },
   "file_extension": ".py",
   "mimetype": "text/x-python",
   "name": "python",
   "nbconvert_exporter": "python",
   "pygments_lexer": "ipython3",
   "version": "3.9.16"
  }
 },
 "nbformat": 4,
 "nbformat_minor": 2
}
