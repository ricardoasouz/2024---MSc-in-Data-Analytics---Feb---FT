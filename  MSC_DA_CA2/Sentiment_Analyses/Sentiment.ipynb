{
 "cells": [
  {
   "cell_type": "code",
   "execution_count": 2,
   "metadata": {},
   "outputs": [],
   "source": [
    "import pandas as pd"
   ]
  },
  {
   "cell_type": "code",
   "execution_count": 3,
   "metadata": {},
   "outputs": [],
   "source": [
    "train = pd.read_csv('extracted_combined.csv')"
   ]
  },
  {
   "cell_type": "code",
   "execution_count": 4,
   "metadata": {},
   "outputs": [
    {
     "data": {
      "text/html": [
       "<div>\n",
       "<style scoped>\n",
       "    .dataframe tbody tr th:only-of-type {\n",
       "        vertical-align: middle;\n",
       "    }\n",
       "\n",
       "    .dataframe tbody tr th {\n",
       "        vertical-align: top;\n",
       "    }\n",
       "\n",
       "    .dataframe thead th {\n",
       "        text-align: right;\n",
       "    }\n",
       "</style>\n",
       "<table border=\"1\" class=\"dataframe\">\n",
       "  <thead>\n",
       "    <tr style=\"text-align: right;\">\n",
       "      <th></th>\n",
       "      <th>author</th>\n",
       "      <th>statement</th>\n",
       "    </tr>\n",
       "  </thead>\n",
       "  <tbody>\n",
       "    <tr>\n",
       "      <th>0</th>\n",
       "      <td>Franz_Werfel</td>\n",
       "      <td>the famers protests on the continent were abou...</td>\n",
       "    </tr>\n",
       "    <tr>\n",
       "      <th>1</th>\n",
       "      <td>lamahorses</td>\n",
       "      <td>Over 30% of the European budget is on CAP etc</td>\n",
       "    </tr>\n",
       "    <tr>\n",
       "      <th>2</th>\n",
       "      <td>ConnolysMoustache</td>\n",
       "      <td>What are they even protesting?\\n\\nThe IFA repr...</td>\n",
       "    </tr>\n",
       "    <tr>\n",
       "      <th>3</th>\n",
       "      <td>bintags</td>\n",
       "      <td>These people are brainwashed.</td>\n",
       "    </tr>\n",
       "    <tr>\n",
       "      <th>4</th>\n",
       "      <td>gofuckyoureself21</td>\n",
       "      <td>Stop bitching at each other and get out and su...</td>\n",
       "    </tr>\n",
       "  </tbody>\n",
       "</table>\n",
       "</div>"
      ],
      "text/plain": [
       "              author                                          statement\n",
       "0       Franz_Werfel  the famers protests on the continent were abou...\n",
       "1         lamahorses      Over 30% of the European budget is on CAP etc\n",
       "2  ConnolysMoustache  What are they even protesting?\\n\\nThe IFA repr...\n",
       "3            bintags                     These people are brainwashed. \n",
       "4  gofuckyoureself21  Stop bitching at each other and get out and su..."
      ]
     },
     "execution_count": 4,
     "metadata": {},
     "output_type": "execute_result"
    }
   ],
   "source": [
    "train.head(5)"
   ]
  },
  {
   "cell_type": "code",
   "execution_count": 5,
   "metadata": {},
   "outputs": [
    {
     "data": {
      "text/plain": [
       "(129, 2)"
      ]
     },
     "execution_count": 5,
     "metadata": {},
     "output_type": "execute_result"
    }
   ],
   "source": [
    "train.shape"
   ]
  },
  {
   "cell_type": "code",
   "execution_count": 6,
   "metadata": {},
   "outputs": [],
   "source": [
    "train['word_count'] = train['statement'].apply(lambda x: len(str(x).split(\" \")))"
   ]
  },
  {
   "cell_type": "code",
   "execution_count": 7,
   "metadata": {},
   "outputs": [
    {
     "data": {
      "text/html": [
       "<div>\n",
       "<style scoped>\n",
       "    .dataframe tbody tr th:only-of-type {\n",
       "        vertical-align: middle;\n",
       "    }\n",
       "\n",
       "    .dataframe tbody tr th {\n",
       "        vertical-align: top;\n",
       "    }\n",
       "\n",
       "    .dataframe thead th {\n",
       "        text-align: right;\n",
       "    }\n",
       "</style>\n",
       "<table border=\"1\" class=\"dataframe\">\n",
       "  <thead>\n",
       "    <tr style=\"text-align: right;\">\n",
       "      <th></th>\n",
       "      <th>statement</th>\n",
       "      <th>word_count</th>\n",
       "    </tr>\n",
       "  </thead>\n",
       "  <tbody>\n",
       "    <tr>\n",
       "      <th>0</th>\n",
       "      <td>the famers protests on the continent were abou...</td>\n",
       "      <td>47</td>\n",
       "    </tr>\n",
       "    <tr>\n",
       "      <th>1</th>\n",
       "      <td>Over 30% of the European budget is on CAP etc</td>\n",
       "      <td>10</td>\n",
       "    </tr>\n",
       "    <tr>\n",
       "      <th>2</th>\n",
       "      <td>What are they even protesting?\\n\\nThe IFA repr...</td>\n",
       "      <td>122</td>\n",
       "    </tr>\n",
       "    <tr>\n",
       "      <th>3</th>\n",
       "      <td>These people are brainwashed.</td>\n",
       "      <td>4</td>\n",
       "    </tr>\n",
       "    <tr>\n",
       "      <th>4</th>\n",
       "      <td>Stop bitching at each other and get out and su...</td>\n",
       "      <td>18</td>\n",
       "    </tr>\n",
       "  </tbody>\n",
       "</table>\n",
       "</div>"
      ],
      "text/plain": [
       "                                           statement  word_count\n",
       "0  the famers protests on the continent were abou...          47\n",
       "1      Over 30% of the European budget is on CAP etc          10\n",
       "2  What are they even protesting?\\n\\nThe IFA repr...         122\n",
       "3                     These people are brainwashed.            4\n",
       "4  Stop bitching at each other and get out and su...          18"
      ]
     },
     "execution_count": 7,
     "metadata": {},
     "output_type": "execute_result"
    }
   ],
   "source": [
    "train[['statement','word_count']].head()"
   ]
  },
  {
   "cell_type": "code",
   "execution_count": 8,
   "metadata": {},
   "outputs": [],
   "source": [
    "train['char_count'] = train['statement'].str.len() "
   ]
  },
  {
   "cell_type": "code",
   "execution_count": 9,
   "metadata": {},
   "outputs": [
    {
     "data": {
      "text/html": [
       "<div>\n",
       "<style scoped>\n",
       "    .dataframe tbody tr th:only-of-type {\n",
       "        vertical-align: middle;\n",
       "    }\n",
       "\n",
       "    .dataframe tbody tr th {\n",
       "        vertical-align: top;\n",
       "    }\n",
       "\n",
       "    .dataframe thead th {\n",
       "        text-align: right;\n",
       "    }\n",
       "</style>\n",
       "<table border=\"1\" class=\"dataframe\">\n",
       "  <thead>\n",
       "    <tr style=\"text-align: right;\">\n",
       "      <th></th>\n",
       "      <th>statement</th>\n",
       "      <th>char_count</th>\n",
       "    </tr>\n",
       "  </thead>\n",
       "  <tbody>\n",
       "    <tr>\n",
       "      <th>0</th>\n",
       "      <td>the famers protests on the continent were abou...</td>\n",
       "      <td>308</td>\n",
       "    </tr>\n",
       "    <tr>\n",
       "      <th>1</th>\n",
       "      <td>Over 30% of the European budget is on CAP etc</td>\n",
       "      <td>45</td>\n",
       "    </tr>\n",
       "    <tr>\n",
       "      <th>2</th>\n",
       "      <td>What are they even protesting?\\n\\nThe IFA repr...</td>\n",
       "      <td>729</td>\n",
       "    </tr>\n",
       "    <tr>\n",
       "      <th>3</th>\n",
       "      <td>These people are brainwashed.</td>\n",
       "      <td>30</td>\n",
       "    </tr>\n",
       "    <tr>\n",
       "      <th>4</th>\n",
       "      <td>Stop bitching at each other and get out and su...</td>\n",
       "      <td>103</td>\n",
       "    </tr>\n",
       "  </tbody>\n",
       "</table>\n",
       "</div>"
      ],
      "text/plain": [
       "                                           statement  char_count\n",
       "0  the famers protests on the continent were abou...         308\n",
       "1      Over 30% of the European budget is on CAP etc          45\n",
       "2  What are they even protesting?\\n\\nThe IFA repr...         729\n",
       "3                     These people are brainwashed.           30\n",
       "4  Stop bitching at each other and get out and su...         103"
      ]
     },
     "execution_count": 9,
     "metadata": {},
     "output_type": "execute_result"
    }
   ],
   "source": [
    "## this also includes spaces\n",
    "train[['statement','char_count']].head()"
   ]
  },
  {
   "cell_type": "code",
   "execution_count": 10,
   "metadata": {},
   "outputs": [
    {
     "data": {
      "text/html": [
       "<div>\n",
       "<style scoped>\n",
       "    .dataframe tbody tr th:only-of-type {\n",
       "        vertical-align: middle;\n",
       "    }\n",
       "\n",
       "    .dataframe tbody tr th {\n",
       "        vertical-align: top;\n",
       "    }\n",
       "\n",
       "    .dataframe thead th {\n",
       "        text-align: right;\n",
       "    }\n",
       "</style>\n",
       "<table border=\"1\" class=\"dataframe\">\n",
       "  <thead>\n",
       "    <tr style=\"text-align: right;\">\n",
       "      <th></th>\n",
       "      <th>author</th>\n",
       "      <th>statement</th>\n",
       "      <th>word_count</th>\n",
       "      <th>char_count</th>\n",
       "    </tr>\n",
       "  </thead>\n",
       "  <tbody>\n",
       "    <tr>\n",
       "      <th>0</th>\n",
       "      <td>Franz_Werfel</td>\n",
       "      <td>the famers protests on the continent were abou...</td>\n",
       "      <td>47</td>\n",
       "      <td>308</td>\n",
       "    </tr>\n",
       "    <tr>\n",
       "      <th>1</th>\n",
       "      <td>lamahorses</td>\n",
       "      <td>Over 30% of the European budget is on CAP etc</td>\n",
       "      <td>10</td>\n",
       "      <td>45</td>\n",
       "    </tr>\n",
       "    <tr>\n",
       "      <th>2</th>\n",
       "      <td>ConnolysMoustache</td>\n",
       "      <td>What are they even protesting?\\n\\nThe IFA repr...</td>\n",
       "      <td>122</td>\n",
       "      <td>729</td>\n",
       "    </tr>\n",
       "    <tr>\n",
       "      <th>3</th>\n",
       "      <td>bintags</td>\n",
       "      <td>These people are brainwashed.</td>\n",
       "      <td>4</td>\n",
       "      <td>30</td>\n",
       "    </tr>\n",
       "    <tr>\n",
       "      <th>4</th>\n",
       "      <td>gofuckyoureself21</td>\n",
       "      <td>Stop bitching at each other and get out and su...</td>\n",
       "      <td>18</td>\n",
       "      <td>103</td>\n",
       "    </tr>\n",
       "  </tbody>\n",
       "</table>\n",
       "</div>"
      ],
      "text/plain": [
       "              author                                          statement  \\\n",
       "0       Franz_Werfel  the famers protests on the continent were abou...   \n",
       "1         lamahorses      Over 30% of the European budget is on CAP etc   \n",
       "2  ConnolysMoustache  What are they even protesting?\\n\\nThe IFA repr...   \n",
       "3            bintags                     These people are brainwashed.    \n",
       "4  gofuckyoureself21  Stop bitching at each other and get out and su...   \n",
       "\n",
       "   word_count  char_count  \n",
       "0          47         308  \n",
       "1          10          45  \n",
       "2         122         729  \n",
       "3           4          30  \n",
       "4          18         103  "
      ]
     },
     "execution_count": 10,
     "metadata": {},
     "output_type": "execute_result"
    }
   ],
   "source": [
    "train.head(5)"
   ]
  },
  {
   "cell_type": "code",
   "execution_count": 11,
   "metadata": {},
   "outputs": [],
   "source": [
    "def avg_word(sentence):\n",
    "  words = sentence.split()\n",
    "  return (sum(len(word) for word in words)/len(words))\n"
   ]
  },
  {
   "cell_type": "code",
   "execution_count": 12,
   "metadata": {},
   "outputs": [],
   "source": [
    "train['avg_word'] = train['statement'].apply(lambda x: avg_word(x))"
   ]
  },
  {
   "cell_type": "code",
   "execution_count": 13,
   "metadata": {},
   "outputs": [
    {
     "data": {
      "text/html": [
       "<div>\n",
       "<style scoped>\n",
       "    .dataframe tbody tr th:only-of-type {\n",
       "        vertical-align: middle;\n",
       "    }\n",
       "\n",
       "    .dataframe tbody tr th {\n",
       "        vertical-align: top;\n",
       "    }\n",
       "\n",
       "    .dataframe thead th {\n",
       "        text-align: right;\n",
       "    }\n",
       "</style>\n",
       "<table border=\"1\" class=\"dataframe\">\n",
       "  <thead>\n",
       "    <tr style=\"text-align: right;\">\n",
       "      <th></th>\n",
       "      <th>statement</th>\n",
       "      <th>avg_word</th>\n",
       "    </tr>\n",
       "  </thead>\n",
       "  <tbody>\n",
       "    <tr>\n",
       "      <th>0</th>\n",
       "      <td>the famers protests on the continent were abou...</td>\n",
       "      <td>5.416667</td>\n",
       "    </tr>\n",
       "    <tr>\n",
       "      <th>1</th>\n",
       "      <td>Over 30% of the European budget is on CAP etc</td>\n",
       "      <td>3.600000</td>\n",
       "    </tr>\n",
       "    <tr>\n",
       "      <th>2</th>\n",
       "      <td>What are they even protesting?\\n\\nThe IFA repr...</td>\n",
       "      <td>4.800000</td>\n",
       "    </tr>\n",
       "    <tr>\n",
       "      <th>3</th>\n",
       "      <td>These people are brainwashed.</td>\n",
       "      <td>6.500000</td>\n",
       "    </tr>\n",
       "    <tr>\n",
       "      <th>4</th>\n",
       "      <td>Stop bitching at each other and get out and su...</td>\n",
       "      <td>4.777778</td>\n",
       "    </tr>\n",
       "  </tbody>\n",
       "</table>\n",
       "</div>"
      ],
      "text/plain": [
       "                                           statement  avg_word\n",
       "0  the famers protests on the continent were abou...  5.416667\n",
       "1      Over 30% of the European budget is on CAP etc  3.600000\n",
       "2  What are they even protesting?\\n\\nThe IFA repr...  4.800000\n",
       "3                     These people are brainwashed.   6.500000\n",
       "4  Stop bitching at each other and get out and su...  4.777778"
      ]
     },
     "execution_count": 13,
     "metadata": {},
     "output_type": "execute_result"
    }
   ],
   "source": [
    "train[['statement','avg_word']].head()"
   ]
  },
  {
   "cell_type": "code",
   "execution_count": 14,
   "metadata": {},
   "outputs": [
    {
     "name": "stderr",
     "output_type": "stream",
     "text": [
      "[nltk_data] Downloading package stopwords to\n",
      "[nltk_data]     /Users/ricardo/nltk_data...\n",
      "[nltk_data]   Package stopwords is already up-to-date!\n"
     ]
    },
    {
     "data": {
      "text/plain": [
       "True"
      ]
     },
     "execution_count": 14,
     "metadata": {},
     "output_type": "execute_result"
    }
   ],
   "source": [
    "import nltk\n",
    "nltk.download('stopwords')"
   ]
  },
  {
   "cell_type": "code",
   "execution_count": 15,
   "metadata": {},
   "outputs": [],
   "source": [
    "from nltk.corpus import stopwords\n",
    "stop = stopwords.words('english')"
   ]
  },
  {
   "cell_type": "code",
   "execution_count": 16,
   "metadata": {},
   "outputs": [
    {
     "data": {
      "text/html": [
       "<div>\n",
       "<style scoped>\n",
       "    .dataframe tbody tr th:only-of-type {\n",
       "        vertical-align: middle;\n",
       "    }\n",
       "\n",
       "    .dataframe tbody tr th {\n",
       "        vertical-align: top;\n",
       "    }\n",
       "\n",
       "    .dataframe thead th {\n",
       "        text-align: right;\n",
       "    }\n",
       "</style>\n",
       "<table border=\"1\" class=\"dataframe\">\n",
       "  <thead>\n",
       "    <tr style=\"text-align: right;\">\n",
       "      <th></th>\n",
       "      <th>statement</th>\n",
       "      <th>stopwords</th>\n",
       "    </tr>\n",
       "  </thead>\n",
       "  <tbody>\n",
       "    <tr>\n",
       "      <th>0</th>\n",
       "      <td>the famers protests on the continent were abou...</td>\n",
       "      <td>20</td>\n",
       "    </tr>\n",
       "    <tr>\n",
       "      <th>1</th>\n",
       "      <td>Over 30% of the European budget is on CAP etc</td>\n",
       "      <td>4</td>\n",
       "    </tr>\n",
       "    <tr>\n",
       "      <th>2</th>\n",
       "      <td>What are they even protesting?\\n\\nThe IFA repr...</td>\n",
       "      <td>47</td>\n",
       "    </tr>\n",
       "    <tr>\n",
       "      <th>3</th>\n",
       "      <td>These people are brainwashed.</td>\n",
       "      <td>1</td>\n",
       "    </tr>\n",
       "    <tr>\n",
       "      <th>4</th>\n",
       "      <td>Stop bitching at each other and get out and su...</td>\n",
       "      <td>10</td>\n",
       "    </tr>\n",
       "  </tbody>\n",
       "</table>\n",
       "</div>"
      ],
      "text/plain": [
       "                                           statement  stopwords\n",
       "0  the famers protests on the continent were abou...         20\n",
       "1      Over 30% of the European budget is on CAP etc          4\n",
       "2  What are they even protesting?\\n\\nThe IFA repr...         47\n",
       "3                     These people are brainwashed.           1\n",
       "4  Stop bitching at each other and get out and su...         10"
      ]
     },
     "execution_count": 16,
     "metadata": {},
     "output_type": "execute_result"
    }
   ],
   "source": [
    "train['stopwords'] = train['statement'].apply(lambda x: len([x for x in x.split() if x in stop]))\n",
    "train[['statement','stopwords']].head()"
   ]
  },
  {
   "cell_type": "code",
   "execution_count": 17,
   "metadata": {},
   "outputs": [
    {
     "data": {
      "text/html": [
       "<div>\n",
       "<style scoped>\n",
       "    .dataframe tbody tr th:only-of-type {\n",
       "        vertical-align: middle;\n",
       "    }\n",
       "\n",
       "    .dataframe tbody tr th {\n",
       "        vertical-align: top;\n",
       "    }\n",
       "\n",
       "    .dataframe thead th {\n",
       "        text-align: right;\n",
       "    }\n",
       "</style>\n",
       "<table border=\"1\" class=\"dataframe\">\n",
       "  <thead>\n",
       "    <tr style=\"text-align: right;\">\n",
       "      <th></th>\n",
       "      <th>statement</th>\n",
       "      <th>hastags</th>\n",
       "    </tr>\n",
       "  </thead>\n",
       "  <tbody>\n",
       "    <tr>\n",
       "      <th>0</th>\n",
       "      <td>the famers protests on the continent were abou...</td>\n",
       "      <td>0</td>\n",
       "    </tr>\n",
       "    <tr>\n",
       "      <th>1</th>\n",
       "      <td>Over 30% of the European budget is on CAP etc</td>\n",
       "      <td>0</td>\n",
       "    </tr>\n",
       "    <tr>\n",
       "      <th>2</th>\n",
       "      <td>What are they even protesting?\\n\\nThe IFA repr...</td>\n",
       "      <td>0</td>\n",
       "    </tr>\n",
       "    <tr>\n",
       "      <th>3</th>\n",
       "      <td>These people are brainwashed.</td>\n",
       "      <td>0</td>\n",
       "    </tr>\n",
       "    <tr>\n",
       "      <th>4</th>\n",
       "      <td>Stop bitching at each other and get out and su...</td>\n",
       "      <td>0</td>\n",
       "    </tr>\n",
       "  </tbody>\n",
       "</table>\n",
       "</div>"
      ],
      "text/plain": [
       "                                           statement  hastags\n",
       "0  the famers protests on the continent were abou...        0\n",
       "1      Over 30% of the European budget is on CAP etc        0\n",
       "2  What are they even protesting?\\n\\nThe IFA repr...        0\n",
       "3                     These people are brainwashed.         0\n",
       "4  Stop bitching at each other and get out and su...        0"
      ]
     },
     "execution_count": 17,
     "metadata": {},
     "output_type": "execute_result"
    }
   ],
   "source": [
    "train['hastags'] = train['statement'].apply(lambda x: len([x for x in x.split() if x.startswith('#')]))\n",
    "train[['statement','hastags']].head()"
   ]
  },
  {
   "cell_type": "code",
   "execution_count": 18,
   "metadata": {},
   "outputs": [
    {
     "data": {
      "text/html": [
       "<div>\n",
       "<style scoped>\n",
       "    .dataframe tbody tr th:only-of-type {\n",
       "        vertical-align: middle;\n",
       "    }\n",
       "\n",
       "    .dataframe tbody tr th {\n",
       "        vertical-align: top;\n",
       "    }\n",
       "\n",
       "    .dataframe thead th {\n",
       "        text-align: right;\n",
       "    }\n",
       "</style>\n",
       "<table border=\"1\" class=\"dataframe\">\n",
       "  <thead>\n",
       "    <tr style=\"text-align: right;\">\n",
       "      <th></th>\n",
       "      <th>statement</th>\n",
       "      <th>numerics</th>\n",
       "    </tr>\n",
       "  </thead>\n",
       "  <tbody>\n",
       "    <tr>\n",
       "      <th>0</th>\n",
       "      <td>the famers protests on the continent were abou...</td>\n",
       "      <td>0</td>\n",
       "    </tr>\n",
       "    <tr>\n",
       "      <th>1</th>\n",
       "      <td>Over 30% of the European budget is on CAP etc</td>\n",
       "      <td>0</td>\n",
       "    </tr>\n",
       "    <tr>\n",
       "      <th>2</th>\n",
       "      <td>What are they even protesting?\\n\\nThe IFA repr...</td>\n",
       "      <td>0</td>\n",
       "    </tr>\n",
       "    <tr>\n",
       "      <th>3</th>\n",
       "      <td>These people are brainwashed.</td>\n",
       "      <td>0</td>\n",
       "    </tr>\n",
       "    <tr>\n",
       "      <th>4</th>\n",
       "      <td>Stop bitching at each other and get out and su...</td>\n",
       "      <td>0</td>\n",
       "    </tr>\n",
       "  </tbody>\n",
       "</table>\n",
       "</div>"
      ],
      "text/plain": [
       "                                           statement  numerics\n",
       "0  the famers protests on the continent were abou...         0\n",
       "1      Over 30% of the European budget is on CAP etc         0\n",
       "2  What are they even protesting?\\n\\nThe IFA repr...         0\n",
       "3                     These people are brainwashed.          0\n",
       "4  Stop bitching at each other and get out and su...         0"
      ]
     },
     "execution_count": 18,
     "metadata": {},
     "output_type": "execute_result"
    }
   ],
   "source": [
    "train['numerics'] = train['statement'].apply(lambda x: len([x for x in x.split() if x.isdigit()]))\n",
    "train[['statement','numerics']].head()"
   ]
  },
  {
   "cell_type": "code",
   "execution_count": 19,
   "metadata": {},
   "outputs": [
    {
     "data": {
      "text/html": [
       "<div>\n",
       "<style scoped>\n",
       "    .dataframe tbody tr th:only-of-type {\n",
       "        vertical-align: middle;\n",
       "    }\n",
       "\n",
       "    .dataframe tbody tr th {\n",
       "        vertical-align: top;\n",
       "    }\n",
       "\n",
       "    .dataframe thead th {\n",
       "        text-align: right;\n",
       "    }\n",
       "</style>\n",
       "<table border=\"1\" class=\"dataframe\">\n",
       "  <thead>\n",
       "    <tr style=\"text-align: right;\">\n",
       "      <th></th>\n",
       "      <th>statement</th>\n",
       "      <th>upper</th>\n",
       "    </tr>\n",
       "  </thead>\n",
       "  <tbody>\n",
       "    <tr>\n",
       "      <th>0</th>\n",
       "      <td>the famers protests on the continent were abou...</td>\n",
       "      <td>2</td>\n",
       "    </tr>\n",
       "    <tr>\n",
       "      <th>1</th>\n",
       "      <td>Over 30% of the European budget is on CAP etc</td>\n",
       "      <td>1</td>\n",
       "    </tr>\n",
       "    <tr>\n",
       "      <th>2</th>\n",
       "      <td>What are they even protesting?\\n\\nThe IFA repr...</td>\n",
       "      <td>3</td>\n",
       "    </tr>\n",
       "    <tr>\n",
       "      <th>3</th>\n",
       "      <td>These people are brainwashed.</td>\n",
       "      <td>0</td>\n",
       "    </tr>\n",
       "    <tr>\n",
       "      <th>4</th>\n",
       "      <td>Stop bitching at each other and get out and su...</td>\n",
       "      <td>0</td>\n",
       "    </tr>\n",
       "  </tbody>\n",
       "</table>\n",
       "</div>"
      ],
      "text/plain": [
       "                                           statement  upper\n",
       "0  the famers protests on the continent were abou...      2\n",
       "1      Over 30% of the European budget is on CAP etc      1\n",
       "2  What are they even protesting?\\n\\nThe IFA repr...      3\n",
       "3                     These people are brainwashed.       0\n",
       "4  Stop bitching at each other and get out and su...      0"
      ]
     },
     "execution_count": 19,
     "metadata": {},
     "output_type": "execute_result"
    }
   ],
   "source": [
    "train['upper'] = train['statement'].apply(lambda x: len([x for x in x.split() if x.isupper()]))\n",
    "train[['statement','upper']].head()"
   ]
  },
  {
   "cell_type": "code",
   "execution_count": 20,
   "metadata": {},
   "outputs": [
    {
     "data": {
      "text/plain": [
       "0    the famers protests on the continent were abou...\n",
       "1        over 30% of the european budget is on cap etc\n",
       "2    what are they even protesting? the ifa represe...\n",
       "3                        these people are brainwashed.\n",
       "4    stop bitching at each other and get out and su...\n",
       "Name: statement, dtype: object"
      ]
     },
     "execution_count": 20,
     "metadata": {},
     "output_type": "execute_result"
    }
   ],
   "source": [
    "train['statement'] = train['statement'].apply(lambda x: \" \".join(x.lower() for x in x.split()))\n",
    "train['statement'].head()"
   ]
  },
  {
   "cell_type": "code",
   "execution_count": 21,
   "metadata": {},
   "outputs": [
    {
     "data": {
      "text/plain": [
       "0    the famers protests on the continent were abou...\n",
       "1        over 30% of the european budget is on cap etc\n",
       "2    what are they even protesting? the ifa represe...\n",
       "3                        these people are brainwashed.\n",
       "4    stop bitching at each other and get out and su...\n",
       "Name: statement, dtype: object"
      ]
     },
     "execution_count": 21,
     "metadata": {},
     "output_type": "execute_result"
    }
   ],
   "source": [
    "train['statement'] = train['statement'].str.replace('[^\\w\\s]','')\n",
    "train['statement'].head()"
   ]
  },
  {
   "cell_type": "code",
   "execution_count": 23,
   "metadata": {},
   "outputs": [
    {
     "data": {
      "text/plain": [
       "0    famers protests continent fuel prices subsidie...\n",
       "1                          30% european budget cap etc\n",
       "2    even protesting? ifa representative prime time...\n",
       "3                                  people brainwashed.\n",
       "4    stop bitching get support farmers, literally b...\n",
       "Name: statement, dtype: object"
      ]
     },
     "execution_count": 23,
     "metadata": {},
     "output_type": "execute_result"
    }
   ],
   "source": [
    "from nltk.corpus import stopwords\n",
    "stop = stopwords.words('english')\n",
    "train['statement'] = train['statement'].apply(lambda x: \" \".join(x for x in x.split() if x not in stop))\n",
    "train['statement'].head()"
   ]
  },
  {
   "cell_type": "code",
   "execution_count": 24,
   "metadata": {},
   "outputs": [
    {
     "data": {
      "text/plain": [
       "expand...    86\n",
       "click        86\n",
       "get          46\n",
       "farmers      40\n",
       "would        36\n",
       "money        32\n",
       "lot          27\n",
       "one          26\n",
       "going        25\n",
       "land         25\n",
       "Name: count, dtype: int64"
      ]
     },
     "execution_count": 24,
     "metadata": {},
     "output_type": "execute_result"
    }
   ],
   "source": [
    "freq = pd.Series(' '.join(train['statement']).split()).value_counts()[:10]\n",
    "freq"
   ]
  },
  {
   "cell_type": "code",
   "execution_count": 25,
   "metadata": {},
   "outputs": [
    {
     "data": {
      "text/plain": [
       "0    famers protests continent fuel prices subsidie...\n",
       "1                          30% european budget cap etc\n",
       "2    even protesting? ifa representative prime time...\n",
       "3                                  people brainwashed.\n",
       "4    stop bitching support farmers, literally backb...\n",
       "Name: statement, dtype: object"
      ]
     },
     "execution_count": 25,
     "metadata": {},
     "output_type": "execute_result"
    }
   ],
   "source": [
    "freq = list(freq.index)\n",
    "train['statement'] = train['statement'].apply(lambda x: \" \".join(x for x in x.split() if x not in freq))\n",
    "train['statement'].head()"
   ]
  },
  {
   "cell_type": "code",
   "execution_count": 26,
   "metadata": {},
   "outputs": [
    {
     "data": {
      "text/plain": [
       "don't.       1\n",
       "anything,    1\n",
       "produces     1\n",
       "...          1\n",
       "accounts     1\n",
       "hole         1\n",
       "filling      1\n",
       "read,        1\n",
       "meet         1\n",
       "advisor.     1\n",
       "Name: count, dtype: int64"
      ]
     },
     "execution_count": 26,
     "metadata": {},
     "output_type": "execute_result"
    }
   ],
   "source": [
    "freq = pd.Series(' '.join(train['statement']).split()).value_counts()[-10:]\n",
    "freq"
   ]
  },
  {
   "cell_type": "code",
   "execution_count": 28,
   "metadata": {},
   "outputs": [
    {
     "data": {
      "text/plain": [
       "0    famers protests continent fuel prices subsidie...\n",
       "1                          30% european budget cap etc\n",
       "2    even protesting? ifa representative prime time...\n",
       "3                                  people brainwashed.\n",
       "4    stop bitching support farmers, literally backb...\n",
       "Name: statement, dtype: object"
      ]
     },
     "execution_count": 28,
     "metadata": {},
     "output_type": "execute_result"
    }
   ],
   "source": [
    "freq = list(freq.index)\n",
    "train['statement'] = train['statement'].apply(lambda x: \" \".join(x for x in x.split() if x not in freq))\n",
    "train['statement'].head()"
   ]
  },
  {
   "cell_type": "code",
   "execution_count": 31,
   "metadata": {},
   "outputs": [
    {
     "data": {
      "text/plain": [
       "0    farmers protests continent fuel prices subsidi...\n",
       "1                          30% european budget cap etc\n",
       "2    even protesting? if representative prime time ...\n",
       "3                                  people brainwashed.\n",
       "4    stop itching support farmers, literally backbo...\n",
       "Name: statement, dtype: object"
      ]
     },
     "execution_count": 31,
     "metadata": {},
     "output_type": "execute_result"
    }
   ],
   "source": [
    "#!pip install TextBlob\n",
    "from textblob import TextBlob\n",
    "train['statement'][:5].apply(lambda x: str(TextBlob(x).correct()))\n"
   ]
  },
  {
   "cell_type": "code",
   "execution_count": 32,
   "metadata": {},
   "outputs": [
    {
     "name": "stderr",
     "output_type": "stream",
     "text": [
      "[nltk_data] Downloading package punkt to /Users/ricardo/nltk_data...\n",
      "[nltk_data]   Package punkt is already up-to-date!\n"
     ]
    },
    {
     "data": {
      "text/plain": [
       "WordList(['30', 'european', 'budget', 'cap', 'etc'])"
      ]
     },
     "execution_count": 32,
     "metadata": {},
     "output_type": "execute_result"
    }
   ],
   "source": [
    "nltk.download('punkt')\n",
    "TextBlob(train['statement'][1]).words"
   ]
  },
  {
   "cell_type": "code",
   "execution_count": 33,
   "metadata": {},
   "outputs": [
    {
     "data": {
      "text/plain": [
       "0    famer protest contin fuel price subsidies, the...\n",
       "1                          30% european budget cap etc\n",
       "2    even protesting? ifa repres prime time couldn’...\n",
       "3                                   peopl brainwashed.\n",
       "4    stop bitch support farmers, liter backbon coun...\n",
       "Name: statement, dtype: object"
      ]
     },
     "execution_count": 33,
     "metadata": {},
     "output_type": "execute_result"
    }
   ],
   "source": [
    "from nltk.stem import PorterStemmer\n",
    "st = PorterStemmer()\n",
    "train['statement'][:5].apply(lambda x: \" \".join([st.stem(word) for word in x.split()]))"
   ]
  },
  {
   "cell_type": "code",
   "execution_count": 34,
   "metadata": {},
   "outputs": [
    {
     "name": "stderr",
     "output_type": "stream",
     "text": [
      "[nltk_data] Downloading package wordnet to /Users/ricardo/nltk_data...\n",
      "[nltk_data]   Package wordnet is already up-to-date!\n"
     ]
    },
    {
     "data": {
      "text/plain": [
       "0    famers protest continent fuel price subsidies,...\n",
       "1                          30% european budget cap etc\n",
       "2    even protesting? ifa representative prime time...\n",
       "3                                  people brainwashed.\n",
       "4    stop bitching support farmers, literally backb...\n",
       "Name: statement, dtype: object"
      ]
     },
     "execution_count": 34,
     "metadata": {},
     "output_type": "execute_result"
    }
   ],
   "source": [
    "nltk.download('wordnet')\n",
    "from textblob import Word\n",
    "train['statement'] = train['statement'].apply(lambda x: \" \".join([Word(word).lemmatize() for word in x.split()]))\n",
    "train['statement'].head()"
   ]
  },
  {
   "cell_type": "code",
   "execution_count": 35,
   "metadata": {},
   "outputs": [
    {
     "data": {
      "text/plain": [
       "[WordList(['famers', 'protest']),\n",
       " WordList(['protest', 'continent']),\n",
       " WordList(['continent', 'fuel']),\n",
       " WordList(['fuel', 'price']),\n",
       " WordList(['price', 'subsidies']),\n",
       " WordList(['subsidies', 'they']),\n",
       " WordList(['they', \"'ve\"]),\n",
       " WordList([\"'ve\", 'tacked']),\n",
       " WordList(['tacked', 'nebulous']),\n",
       " WordList(['nebulous', 'complaint']),\n",
       " WordList(['complaint', 'eu']),\n",
       " WordList(['eu', 'regulation']),\n",
       " WordList(['regulation', 'without']),\n",
       " WordList(['without', 'saying']),\n",
       " WordList(['saying', 'specifically']),\n",
       " WordList(['specifically', 'ones']),\n",
       " WordList(['ones', 'also']),\n",
       " WordList(['also', 'say']),\n",
       " WordList(['say', 'requires']),\n",
       " WordList(['requires', 'massive']),\n",
       " WordList(['massive', 'amount']),\n",
       " WordList(['amount', 'cognitive']),\n",
       " WordList(['cognitive', 'dissonance']),\n",
       " WordList(['dissonance', 'irish']),\n",
       " WordList(['irish', 'famers']),\n",
       " WordList(['famers', 'protest']),\n",
       " WordList(['protest', 'eu']),\n",
       " WordList(['eu', 'ag-policy'])]"
      ]
     },
     "execution_count": 35,
     "metadata": {},
     "output_type": "execute_result"
    }
   ],
   "source": [
    "TextBlob(train['statement'][0]).ngrams(2)"
   ]
  },
  {
   "cell_type": "code",
   "execution_count": 36,
   "metadata": {},
   "outputs": [
    {
     "name": "stderr",
     "output_type": "stream",
     "text": [
      "/var/folders/1m/71syl3xd3910y8gqrq29f4w40000gn/T/ipykernel_85096/148537276.py:1: FutureWarning: pandas.value_counts is deprecated and will be removed in a future version. Use pd.Series(obj).value_counts() instead.\n",
      "  tf1 = (train['statement'][1:2]).apply(lambda x: pd.value_counts(x.split(\" \"))).sum(axis = 0).reset_index()\n",
      "/var/folders/1m/71syl3xd3910y8gqrq29f4w40000gn/T/ipykernel_85096/148537276.py:1: FutureWarning: value_counts with argument that is not not a Series, Index, ExtensionArray, or np.ndarray is deprecated and will raise in a future version.\n",
      "  tf1 = (train['statement'][1:2]).apply(lambda x: pd.value_counts(x.split(\" \"))).sum(axis = 0).reset_index()\n"
     ]
    },
    {
     "data": {
      "text/html": [
       "<div>\n",
       "<style scoped>\n",
       "    .dataframe tbody tr th:only-of-type {\n",
       "        vertical-align: middle;\n",
       "    }\n",
       "\n",
       "    .dataframe tbody tr th {\n",
       "        vertical-align: top;\n",
       "    }\n",
       "\n",
       "    .dataframe thead th {\n",
       "        text-align: right;\n",
       "    }\n",
       "</style>\n",
       "<table border=\"1\" class=\"dataframe\">\n",
       "  <thead>\n",
       "    <tr style=\"text-align: right;\">\n",
       "      <th></th>\n",
       "      <th>words</th>\n",
       "      <th>tf</th>\n",
       "    </tr>\n",
       "  </thead>\n",
       "  <tbody>\n",
       "    <tr>\n",
       "      <th>0</th>\n",
       "      <td>30%</td>\n",
       "      <td>1</td>\n",
       "    </tr>\n",
       "    <tr>\n",
       "      <th>1</th>\n",
       "      <td>european</td>\n",
       "      <td>1</td>\n",
       "    </tr>\n",
       "    <tr>\n",
       "      <th>2</th>\n",
       "      <td>budget</td>\n",
       "      <td>1</td>\n",
       "    </tr>\n",
       "    <tr>\n",
       "      <th>3</th>\n",
       "      <td>cap</td>\n",
       "      <td>1</td>\n",
       "    </tr>\n",
       "    <tr>\n",
       "      <th>4</th>\n",
       "      <td>etc</td>\n",
       "      <td>1</td>\n",
       "    </tr>\n",
       "  </tbody>\n",
       "</table>\n",
       "</div>"
      ],
      "text/plain": [
       "      words  tf\n",
       "0       30%   1\n",
       "1  european   1\n",
       "2    budget   1\n",
       "3       cap   1\n",
       "4       etc   1"
      ]
     },
     "execution_count": 36,
     "metadata": {},
     "output_type": "execute_result"
    }
   ],
   "source": [
    "tf1 = (train['statement'][1:2]).apply(lambda x: pd.value_counts(x.split(\" \"))).sum(axis = 0).reset_index()\n",
    "tf1.columns = ['words','tf']\n",
    "tf1"
   ]
  },
  {
   "cell_type": "code",
   "execution_count": 37,
   "metadata": {},
   "outputs": [
    {
     "data": {
      "text/html": [
       "<div>\n",
       "<style scoped>\n",
       "    .dataframe tbody tr th:only-of-type {\n",
       "        vertical-align: middle;\n",
       "    }\n",
       "\n",
       "    .dataframe tbody tr th {\n",
       "        vertical-align: top;\n",
       "    }\n",
       "\n",
       "    .dataframe thead th {\n",
       "        text-align: right;\n",
       "    }\n",
       "</style>\n",
       "<table border=\"1\" class=\"dataframe\">\n",
       "  <thead>\n",
       "    <tr style=\"text-align: right;\">\n",
       "      <th></th>\n",
       "      <th>words</th>\n",
       "      <th>tf</th>\n",
       "      <th>idf</th>\n",
       "    </tr>\n",
       "  </thead>\n",
       "  <tbody>\n",
       "    <tr>\n",
       "      <th>0</th>\n",
       "      <td>30%</td>\n",
       "      <td>1</td>\n",
       "      <td>4.166665</td>\n",
       "    </tr>\n",
       "    <tr>\n",
       "      <th>1</th>\n",
       "      <td>european</td>\n",
       "      <td>1</td>\n",
       "      <td>4.166665</td>\n",
       "    </tr>\n",
       "    <tr>\n",
       "      <th>2</th>\n",
       "      <td>budget</td>\n",
       "      <td>1</td>\n",
       "      <td>3.473518</td>\n",
       "    </tr>\n",
       "    <tr>\n",
       "      <th>3</th>\n",
       "      <td>cap</td>\n",
       "      <td>1</td>\n",
       "      <td>2.374906</td>\n",
       "    </tr>\n",
       "    <tr>\n",
       "      <th>4</th>\n",
       "      <td>etc</td>\n",
       "      <td>1</td>\n",
       "      <td>2.557227</td>\n",
       "    </tr>\n",
       "  </tbody>\n",
       "</table>\n",
       "</div>"
      ],
      "text/plain": [
       "      words  tf       idf\n",
       "0       30%   1  4.166665\n",
       "1  european   1  4.166665\n",
       "2    budget   1  3.473518\n",
       "3       cap   1  2.374906\n",
       "4       etc   1  2.557227"
      ]
     },
     "execution_count": 37,
     "metadata": {},
     "output_type": "execute_result"
    }
   ],
   "source": [
    "import numpy as np\n",
    "\n",
    "for i,word in enumerate(tf1['words']):\n",
    "  tf1.loc[i, 'idf'] = np.log(train.shape[0]/(len(train[train['statement'].str.contains(word)])))\n",
    "\n",
    "tf1"
   ]
  },
  {
   "cell_type": "code",
   "execution_count": 38,
   "metadata": {},
   "outputs": [
    {
     "data": {
      "text/html": [
       "<div>\n",
       "<style scoped>\n",
       "    .dataframe tbody tr th:only-of-type {\n",
       "        vertical-align: middle;\n",
       "    }\n",
       "\n",
       "    .dataframe tbody tr th {\n",
       "        vertical-align: top;\n",
       "    }\n",
       "\n",
       "    .dataframe thead th {\n",
       "        text-align: right;\n",
       "    }\n",
       "</style>\n",
       "<table border=\"1\" class=\"dataframe\">\n",
       "  <thead>\n",
       "    <tr style=\"text-align: right;\">\n",
       "      <th></th>\n",
       "      <th>words</th>\n",
       "      <th>tf</th>\n",
       "      <th>idf</th>\n",
       "      <th>tfidf</th>\n",
       "    </tr>\n",
       "  </thead>\n",
       "  <tbody>\n",
       "    <tr>\n",
       "      <th>0</th>\n",
       "      <td>30%</td>\n",
       "      <td>1</td>\n",
       "      <td>4.166665</td>\n",
       "      <td>4.166665</td>\n",
       "    </tr>\n",
       "    <tr>\n",
       "      <th>1</th>\n",
       "      <td>european</td>\n",
       "      <td>1</td>\n",
       "      <td>4.166665</td>\n",
       "      <td>4.166665</td>\n",
       "    </tr>\n",
       "    <tr>\n",
       "      <th>2</th>\n",
       "      <td>budget</td>\n",
       "      <td>1</td>\n",
       "      <td>3.473518</td>\n",
       "      <td>3.473518</td>\n",
       "    </tr>\n",
       "    <tr>\n",
       "      <th>3</th>\n",
       "      <td>cap</td>\n",
       "      <td>1</td>\n",
       "      <td>2.374906</td>\n",
       "      <td>2.374906</td>\n",
       "    </tr>\n",
       "    <tr>\n",
       "      <th>4</th>\n",
       "      <td>etc</td>\n",
       "      <td>1</td>\n",
       "      <td>2.557227</td>\n",
       "      <td>2.557227</td>\n",
       "    </tr>\n",
       "  </tbody>\n",
       "</table>\n",
       "</div>"
      ],
      "text/plain": [
       "      words  tf       idf     tfidf\n",
       "0       30%   1  4.166665  4.166665\n",
       "1  european   1  4.166665  4.166665\n",
       "2    budget   1  3.473518  3.473518\n",
       "3       cap   1  2.374906  2.374906\n",
       "4       etc   1  2.557227  2.557227"
      ]
     },
     "execution_count": 38,
     "metadata": {},
     "output_type": "execute_result"
    }
   ],
   "source": [
    "tf1['tfidf'] = tf1['tf'] * tf1['idf']\n",
    "tf1"
   ]
  },
  {
   "cell_type": "code",
   "execution_count": 39,
   "metadata": {},
   "outputs": [
    {
     "data": {
      "text/plain": [
       "<129x1000 sparse matrix of type '<class 'numpy.float64'>'\n",
       "\twith 3170 stored elements in Compressed Sparse Row format>"
      ]
     },
     "execution_count": 39,
     "metadata": {},
     "output_type": "execute_result"
    }
   ],
   "source": [
    "from sklearn.feature_extraction.text import TfidfVectorizer\n",
    "tfidf = TfidfVectorizer(max_features=1000, lowercase=True, analyzer='word',\n",
    " stop_words= 'english',ngram_range=(1,1))\n",
    "train_vect = tfidf.fit_transform(train['statement'])\n",
    "\n",
    "train_vect"
   ]
  },
  {
   "cell_type": "code",
   "execution_count": 35,
   "metadata": {},
   "outputs": [
    {
     "name": "stdout",
     "output_type": "stream",
     "text": [
      "  (0, 721)\t0.6609667853370123\n",
      "  (0, 447)\t0.581635378207173\n",
      "  (0, 269)\t0.47415524409106224\n",
      "  (1, 592)\t0.5380977952316363\n",
      "  (1, 218)\t0.3343760513811211\n",
      "  (1, 126)\t0.48468122842038097\n",
      "  (1, 903)\t0.4578604483673509\n",
      "  (1, 849)\t0.39254469257319075\n",
      "  (2, 75)\t1.0\n",
      "  (3, 995)\t0.4490802792315525\n",
      "  (3, 996)\t0.49607396352876615\n",
      "  (3, 901)\t0.5323509742771187\n",
      "  (3, 551)\t0.5184977971991528\n",
      "  (4, 560)\t1.0\n",
      "  (5, 620)\t0.35615330450388427\n",
      "  (5, 472)\t0.3998294923711774\n",
      "  (5, 833)\t0.44592005703200316\n",
      "  (5, 73)\t0.3768623096037397\n",
      "  (5, 265)\t0.39323783312663496\n",
      "  (5, 409)\t0.4666747364661482\n",
      "  (6, 866)\t1.0\n",
      "  (7, 330)\t0.25214445140310116\n",
      "  (7, 371)\t0.2972143197037405\n",
      "  (7, 252)\t0.38948146665378647\n",
      "  (7, 854)\t0.265670951765864\n",
      "  :\t:\n",
      "  (31953, 341)\t0.3017529627568916\n",
      "  (31953, 330)\t0.3272231897541668\n",
      "  (31954, 397)\t0.37773226995987863\n",
      "  (31954, 928)\t0.3003252563943781\n",
      "  (31954, 210)\t0.38238800689130437\n",
      "  (31954, 216)\t0.3834329710960391\n",
      "  (31954, 109)\t0.6883906169209224\n",
      "  (31955, 466)\t0.8002088204213111\n",
      "  (31955, 940)\t0.5997214717849726\n",
      "  (31956, 921)\t0.5776442742781255\n",
      "  (31956, 976)\t0.5699564572394813\n",
      "  (31956, 866)\t0.5843601023724303\n",
      "  (31958, 388)\t0.557743616901898\n",
      "  (31958, 751)\t0.5673006239123156\n",
      "  (31958, 887)\t0.5066743127245549\n",
      "  (31958, 486)\t0.33222462392030233\n",
      "  (31959, 491)\t0.4324031693715943\n",
      "  (31959, 783)\t0.3657472272485942\n",
      "  (31959, 962)\t0.28875334327378943\n",
      "  (31959, 558)\t0.3015888816828483\n",
      "  (31959, 554)\t0.3566984361462968\n",
      "  (31959, 723)\t0.6145635392061995\n",
      "  (31960, 15)\t1.0\n",
      "  (31961, 295)\t0.7171176000382493\n",
      "  (31961, 847)\t0.6969521846693514\n"
     ]
    }
   ],
   "source": [
    "print(train_vect)"
   ]
  },
  {
   "cell_type": "code",
   "execution_count": 40,
   "metadata": {},
   "outputs": [
    {
     "data": {
      "text/plain": [
       "<129x1000 sparse matrix of type '<class 'numpy.int64'>'\n",
       "\twith 3736 stored elements in Compressed Sparse Row format>"
      ]
     },
     "execution_count": 40,
     "metadata": {},
     "output_type": "execute_result"
    }
   ],
   "source": [
    "from sklearn.feature_extraction.text import CountVectorizer\n",
    "bow = CountVectorizer(max_features=1000, lowercase=True, ngram_range=(1,1),analyzer = \"word\")\n",
    "train_bow = bow.fit_transform(train['statement'])\n",
    "train_bow"
   ]
  },
  {
   "cell_type": "code",
   "execution_count": 37,
   "metadata": {},
   "outputs": [
    {
     "name": "stdout",
     "output_type": "stream",
     "text": [
      "  (0, 266)\t1\n",
      "  (0, 444)\t1\n",
      "  (0, 715)\t1\n",
      "  (1, 847)\t1\n",
      "  (1, 123)\t1\n",
      "  (1, 903)\t1\n",
      "  (1, 130)\t1\n",
      "  (1, 217)\t1\n",
      "  (2, 82)\t1\n",
      "  (3, 548)\t1\n",
      "  (3, 830)\t1\n",
      "  (3, 901)\t1\n",
      "  (3, 996)\t1\n",
      "  (3, 995)\t1\n",
      "  (4, 557)\t1\n",
      "  (5, 408)\t1\n",
      "  (5, 262)\t1\n",
      "  (5, 81)\t1\n",
      "  (5, 833)\t1\n",
      "  (5, 469)\t1\n",
      "  (5, 621)\t1\n",
      "  (5, 326)\t1\n",
      "  (6, 867)\t1\n",
      "  (7, 123)\t1\n",
      "  (7, 584)\t1\n",
      "  :\t:\n",
      "  (31954, 214)\t1\n",
      "  (31954, 208)\t1\n",
      "  (31954, 946)\t1\n",
      "  (31954, 928)\t1\n",
      "  (31954, 396)\t1\n",
      "  (31955, 939)\t1\n",
      "  (31955, 462)\t1\n",
      "  (31956, 867)\t1\n",
      "  (31956, 978)\t1\n",
      "  (31956, 285)\t1\n",
      "  (31956, 922)\t1\n",
      "  (31958, 732)\t1\n",
      "  (31958, 481)\t1\n",
      "  (31958, 887)\t1\n",
      "  (31958, 747)\t1\n",
      "  (31958, 387)\t1\n",
      "  (31959, 717)\t2\n",
      "  (31959, 551)\t1\n",
      "  (31959, 555)\t1\n",
      "  (31959, 963)\t1\n",
      "  (31959, 784)\t1\n",
      "  (31959, 486)\t1\n",
      "  (31960, 15)\t1\n",
      "  (31961, 845)\t1\n",
      "  (31961, 294)\t1\n"
     ]
    }
   ],
   "source": [
    "print(train_bow)"
   ]
  },
  {
   "cell_type": "code",
   "execution_count": 41,
   "metadata": {},
   "outputs": [
    {
     "data": {
      "text/plain": [
       "0    (-0.09999999999999999, 0.39999999999999997)\n",
       "1                                     (0.0, 0.0)\n",
       "2                     (0.05, 0.7119047619047618)\n",
       "3                                     (0.0, 0.0)\n",
       "4                                     (0.0, 0.0)\n",
       "Name: statement, dtype: object"
      ]
     },
     "execution_count": 41,
     "metadata": {},
     "output_type": "execute_result"
    }
   ],
   "source": [
    "train['statement'][:5].apply(lambda x: TextBlob(x).sentiment)"
   ]
  },
  {
   "cell_type": "code",
   "execution_count": 42,
   "metadata": {},
   "outputs": [
    {
     "data": {
      "text/html": [
       "<div>\n",
       "<style scoped>\n",
       "    .dataframe tbody tr th:only-of-type {\n",
       "        vertical-align: middle;\n",
       "    }\n",
       "\n",
       "    .dataframe tbody tr th {\n",
       "        vertical-align: top;\n",
       "    }\n",
       "\n",
       "    .dataframe thead th {\n",
       "        text-align: right;\n",
       "    }\n",
       "</style>\n",
       "<table border=\"1\" class=\"dataframe\">\n",
       "  <thead>\n",
       "    <tr style=\"text-align: right;\">\n",
       "      <th></th>\n",
       "      <th>statement</th>\n",
       "      <th>sentiment</th>\n",
       "    </tr>\n",
       "  </thead>\n",
       "  <tbody>\n",
       "    <tr>\n",
       "      <th>0</th>\n",
       "      <td>famers protest continent fuel price subsidies,...</td>\n",
       "      <td>-0.10</td>\n",
       "    </tr>\n",
       "    <tr>\n",
       "      <th>1</th>\n",
       "      <td>30% european budget cap etc</td>\n",
       "      <td>0.00</td>\n",
       "    </tr>\n",
       "    <tr>\n",
       "      <th>2</th>\n",
       "      <td>even protesting? ifa representative prime time...</td>\n",
       "      <td>0.05</td>\n",
       "    </tr>\n",
       "    <tr>\n",
       "      <th>3</th>\n",
       "      <td>people brainwashed.</td>\n",
       "      <td>0.00</td>\n",
       "    </tr>\n",
       "    <tr>\n",
       "      <th>4</th>\n",
       "      <td>stop bitching support farmers, literally backb...</td>\n",
       "      <td>0.00</td>\n",
       "    </tr>\n",
       "  </tbody>\n",
       "</table>\n",
       "</div>"
      ],
      "text/plain": [
       "                                           statement  sentiment\n",
       "0  famers protest continent fuel price subsidies,...      -0.10\n",
       "1                        30% european budget cap etc       0.00\n",
       "2  even protesting? ifa representative prime time...       0.05\n",
       "3                                people brainwashed.       0.00\n",
       "4  stop bitching support farmers, literally backb...       0.00"
      ]
     },
     "execution_count": 42,
     "metadata": {},
     "output_type": "execute_result"
    }
   ],
   "source": [
    "train['sentiment'] = train['statement'].apply(lambda x: TextBlob(x).sentiment[0] )\n",
    "train[['statement','sentiment']].head()"
   ]
  },
  {
   "cell_type": "code",
   "execution_count": 43,
   "metadata": {},
   "outputs": [
    {
     "data": {
      "text/html": [
       "<div>\n",
       "<style scoped>\n",
       "    .dataframe tbody tr th:only-of-type {\n",
       "        vertical-align: middle;\n",
       "    }\n",
       "\n",
       "    .dataframe tbody tr th {\n",
       "        vertical-align: top;\n",
       "    }\n",
       "\n",
       "    .dataframe thead th {\n",
       "        text-align: right;\n",
       "    }\n",
       "</style>\n",
       "<table border=\"1\" class=\"dataframe\">\n",
       "  <thead>\n",
       "    <tr style=\"text-align: right;\">\n",
       "      <th></th>\n",
       "      <th>author</th>\n",
       "      <th>statement</th>\n",
       "      <th>word_count</th>\n",
       "      <th>char_count</th>\n",
       "      <th>avg_word</th>\n",
       "      <th>stopwords</th>\n",
       "      <th>hastags</th>\n",
       "      <th>numerics</th>\n",
       "      <th>upper</th>\n",
       "      <th>sentiment</th>\n",
       "    </tr>\n",
       "  </thead>\n",
       "  <tbody>\n",
       "    <tr>\n",
       "      <th>0</th>\n",
       "      <td>Franz_Werfel</td>\n",
       "      <td>famers protest continent fuel price subsidies,...</td>\n",
       "      <td>47</td>\n",
       "      <td>308</td>\n",
       "      <td>5.416667</td>\n",
       "      <td>20</td>\n",
       "      <td>0</td>\n",
       "      <td>0</td>\n",
       "      <td>2</td>\n",
       "      <td>-0.10</td>\n",
       "    </tr>\n",
       "    <tr>\n",
       "      <th>1</th>\n",
       "      <td>lamahorses</td>\n",
       "      <td>30% european budget cap etc</td>\n",
       "      <td>10</td>\n",
       "      <td>45</td>\n",
       "      <td>3.600000</td>\n",
       "      <td>4</td>\n",
       "      <td>0</td>\n",
       "      <td>0</td>\n",
       "      <td>1</td>\n",
       "      <td>0.00</td>\n",
       "    </tr>\n",
       "    <tr>\n",
       "      <th>2</th>\n",
       "      <td>ConnolysMoustache</td>\n",
       "      <td>even protesting? ifa representative prime time...</td>\n",
       "      <td>122</td>\n",
       "      <td>729</td>\n",
       "      <td>4.800000</td>\n",
       "      <td>47</td>\n",
       "      <td>0</td>\n",
       "      <td>0</td>\n",
       "      <td>3</td>\n",
       "      <td>0.05</td>\n",
       "    </tr>\n",
       "    <tr>\n",
       "      <th>3</th>\n",
       "      <td>bintags</td>\n",
       "      <td>people brainwashed.</td>\n",
       "      <td>4</td>\n",
       "      <td>30</td>\n",
       "      <td>6.500000</td>\n",
       "      <td>1</td>\n",
       "      <td>0</td>\n",
       "      <td>0</td>\n",
       "      <td>0</td>\n",
       "      <td>0.00</td>\n",
       "    </tr>\n",
       "    <tr>\n",
       "      <th>4</th>\n",
       "      <td>gofuckyoureself21</td>\n",
       "      <td>stop bitching support farmers, literally backb...</td>\n",
       "      <td>18</td>\n",
       "      <td>103</td>\n",
       "      <td>4.777778</td>\n",
       "      <td>10</td>\n",
       "      <td>0</td>\n",
       "      <td>0</td>\n",
       "      <td>0</td>\n",
       "      <td>0.00</td>\n",
       "    </tr>\n",
       "  </tbody>\n",
       "</table>\n",
       "</div>"
      ],
      "text/plain": [
       "              author                                          statement  \\\n",
       "0       Franz_Werfel  famers protest continent fuel price subsidies,...   \n",
       "1         lamahorses                        30% european budget cap etc   \n",
       "2  ConnolysMoustache  even protesting? ifa representative prime time...   \n",
       "3            bintags                                people brainwashed.   \n",
       "4  gofuckyoureself21  stop bitching support farmers, literally backb...   \n",
       "\n",
       "   word_count  char_count  avg_word  stopwords  hastags  numerics  upper  \\\n",
       "0          47         308  5.416667         20        0         0      2   \n",
       "1          10          45  3.600000          4        0         0      1   \n",
       "2         122         729  4.800000         47        0         0      3   \n",
       "3           4          30  6.500000          1        0         0      0   \n",
       "4          18         103  4.777778         10        0         0      0   \n",
       "\n",
       "   sentiment  \n",
       "0      -0.10  \n",
       "1       0.00  \n",
       "2       0.05  \n",
       "3       0.00  \n",
       "4       0.00  "
      ]
     },
     "execution_count": 43,
     "metadata": {},
     "output_type": "execute_result"
    }
   ],
   "source": [
    "train.head(5)"
   ]
  }
 ],
 "metadata": {
  "kernelspec": {
   "display_name": "Python 3",
   "language": "python",
   "name": "python3"
  },
  "language_info": {
   "codemirror_mode": {
    "name": "ipython",
    "version": 3
   },
   "file_extension": ".py",
   "mimetype": "text/x-python",
   "name": "python",
   "nbconvert_exporter": "python",
   "pygments_lexer": "ipython3",
   "version": "3.9.16"
  }
 },
 "nbformat": 4,
 "nbformat_minor": 4
}
