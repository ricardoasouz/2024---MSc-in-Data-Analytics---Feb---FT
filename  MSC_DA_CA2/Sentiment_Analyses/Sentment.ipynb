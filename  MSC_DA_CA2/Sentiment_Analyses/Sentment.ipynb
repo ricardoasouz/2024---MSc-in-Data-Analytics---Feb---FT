{
 "cells": [
  {
   "cell_type": "markdown",
   "metadata": {
    "id": "WF4Qh5xVqM4D"
   },
   "source": [
    "# Sentiment Analysis on Extracted Forumns"
   ]
  },
  {
   "cell_type": "markdown",
   "metadata": {
    "id": "-hBtFjjoqV2_"
   },
   "source": [
    "**Import All Required Packages**"
   ]
  },
  {
   "cell_type": "code",
   "execution_count": 2,
   "metadata": {
    "colab": {
     "base_uri": "https://localhost:8080/"
    },
    "id": "-sSRIdY1HZCS",
    "outputId": "ab15e23e-0924-42bb-c694-f4ddb58df4ef"
   },
   "outputs": [
    {
     "name": "stderr",
     "output_type": "stream",
     "text": [
      "[nltk_data] Downloading package stopwords to\n",
      "[nltk_data]     /Users/ricardo/nltk_data...\n",
      "[nltk_data]   Package stopwords is already up-to-date!\n"
     ]
    }
   ],
   "source": [
    "import pandas as pd\n",
    "import numpy as np\n",
    "import seaborn as sns\n",
    "#import re\n",
    "import string\n",
    "from string import punctuation\n",
    "import nltk\n",
    "from nltk.corpus import stopwords\n",
    "nltk.download('stopwords')\n",
    "\n",
    "\n",
    "import matplotlib.pyplot as plt\n",
    "from sklearn.model_selection import train_test_split\n",
    "from sklearn.feature_extraction.text import CountVectorizer\n",
    "from sklearn.feature_extraction.text import TfidfTransformer\n",
    "\n",
    "import tensorflow as tf\n",
    "from tensorflow.keras.models import Sequential\n",
    "from tensorflow.keras.layers import Dense, Activation, Dropout\n",
    "from tensorflow.keras.callbacks import EarlyStopping"
   ]
  },
  {
   "cell_type": "markdown",
   "metadata": {
    "id": "YUH7jv5KrgG-"
   },
   "source": [
    "**Read data from csv**"
   ]
  },
  {
   "cell_type": "code",
   "execution_count": 3,
   "metadata": {
    "colab": {
     "base_uri": "https://localhost:8080/",
     "height": 306
    },
    "id": "aBdnYpaqqEfs",
    "outputId": "c4a417df-8a1e-42b2-de17-ed4e672cbbf3"
   },
   "outputs": [
    {
     "data": {
      "text/html": [
       "<div>\n",
       "<style scoped>\n",
       "    .dataframe tbody tr th:only-of-type {\n",
       "        vertical-align: middle;\n",
       "    }\n",
       "\n",
       "    .dataframe tbody tr th {\n",
       "        vertical-align: top;\n",
       "    }\n",
       "\n",
       "    .dataframe thead th {\n",
       "        text-align: right;\n",
       "    }\n",
       "</style>\n",
       "<table border=\"1\" class=\"dataframe\">\n",
       "  <thead>\n",
       "    <tr style=\"text-align: right;\">\n",
       "      <th></th>\n",
       "      <th>rotten_tomatoes_link</th>\n",
       "      <th>movie_title</th>\n",
       "      <th>movie_info</th>\n",
       "      <th>critics_consensus</th>\n",
       "      <th>content_rating</th>\n",
       "      <th>genres</th>\n",
       "      <th>directors</th>\n",
       "      <th>authors</th>\n",
       "      <th>actors</th>\n",
       "      <th>original_release_date</th>\n",
       "      <th>...</th>\n",
       "      <th>production_company</th>\n",
       "      <th>tomatometer_status</th>\n",
       "      <th>tomatometer_rating</th>\n",
       "      <th>tomatometer_count</th>\n",
       "      <th>audience_status</th>\n",
       "      <th>audience_rating</th>\n",
       "      <th>audience_count</th>\n",
       "      <th>tomatometer_top_critics_count</th>\n",
       "      <th>tomatometer_fresh_critics_count</th>\n",
       "      <th>tomatometer_rotten_critics_count</th>\n",
       "    </tr>\n",
       "  </thead>\n",
       "  <tbody>\n",
       "    <tr>\n",
       "      <th>0</th>\n",
       "      <td>m/0814255</td>\n",
       "      <td>Percy Jackson &amp; the Olympians: The Lightning T...</td>\n",
       "      <td>Always trouble-prone, the life of teenager Per...</td>\n",
       "      <td>Though it may seem like just another Harry Pot...</td>\n",
       "      <td>PG</td>\n",
       "      <td>Action &amp; Adventure, Comedy, Drama, Science Fic...</td>\n",
       "      <td>Chris Columbus</td>\n",
       "      <td>Craig Titley, Chris Columbus, Rick Riordan</td>\n",
       "      <td>Logan Lerman, Brandon T. Jackson, Alexandra Da...</td>\n",
       "      <td>2010-02-12</td>\n",
       "      <td>...</td>\n",
       "      <td>20th Century Fox</td>\n",
       "      <td>Rotten</td>\n",
       "      <td>49.0</td>\n",
       "      <td>149.0</td>\n",
       "      <td>Spilled</td>\n",
       "      <td>53.0</td>\n",
       "      <td>254421.0</td>\n",
       "      <td>43</td>\n",
       "      <td>73</td>\n",
       "      <td>76</td>\n",
       "    </tr>\n",
       "  </tbody>\n",
       "</table>\n",
       "<p>1 rows × 22 columns</p>\n",
       "</div>"
      ],
      "text/plain": [
       "  rotten_tomatoes_link                                        movie_title  \\\n",
       "0            m/0814255  Percy Jackson & the Olympians: The Lightning T...   \n",
       "\n",
       "                                          movie_info  \\\n",
       "0  Always trouble-prone, the life of teenager Per...   \n",
       "\n",
       "                                   critics_consensus content_rating  \\\n",
       "0  Though it may seem like just another Harry Pot...             PG   \n",
       "\n",
       "                                              genres       directors  \\\n",
       "0  Action & Adventure, Comedy, Drama, Science Fic...  Chris Columbus   \n",
       "\n",
       "                                      authors  \\\n",
       "0  Craig Titley, Chris Columbus, Rick Riordan   \n",
       "\n",
       "                                              actors original_release_date  \\\n",
       "0  Logan Lerman, Brandon T. Jackson, Alexandra Da...            2010-02-12   \n",
       "\n",
       "   ... production_company  tomatometer_status tomatometer_rating  \\\n",
       "0  ...   20th Century Fox              Rotten               49.0   \n",
       "\n",
       "  tomatometer_count  audience_status  audience_rating audience_count  \\\n",
       "0             149.0          Spilled             53.0       254421.0   \n",
       "\n",
       "   tomatometer_top_critics_count  tomatometer_fresh_critics_count  \\\n",
       "0                             43                               73   \n",
       "\n",
       "   tomatometer_rotten_critics_count  \n",
       "0                                76  \n",
       "\n",
       "[1 rows x 22 columns]"
      ]
     },
     "execution_count": 3,
     "metadata": {},
     "output_type": "execute_result"
    }
   ],
   "source": [
    "df = pd.read_csv('/Users/ricardo/Documents/ML/rotten_tomatoes_movies.csv')\n",
    "df.head(1)"
   ]
  },
  {
   "cell_type": "code",
   "execution_count": 4,
   "metadata": {},
   "outputs": [],
   "source": [
    "df.dropna(inplace=True)\n",
    "df = df[:1000]"
   ]
  },
  {
   "cell_type": "markdown",
   "metadata": {
    "id": "N1DXfvBurnSO"
   },
   "source": [
    "**Drop unnecessary columns**"
   ]
  },
  {
   "cell_type": "code",
   "execution_count": 5,
   "metadata": {
    "id": "Gn_vu_gprlK1"
   },
   "outputs": [],
   "source": [
    "df = df.drop(['rotten_tomatoes_link', 'movie_info',\n",
    "             'content_rating','genres','directors','authors','actors',\n",
    "             'original_release_date','production_company','tomatometer_status',\n",
    "             'tomatometer_rating','tomatometer_count','audience_status',\n",
    "             'tomatometer_top_critics_count','tomatometer_rotten_critics_count',\n",
    "             'streaming_release_date', 'runtime', 'tomatometer_fresh_critics_count' ], axis=1)\n"
   ]
  },
  {
   "cell_type": "markdown",
   "metadata": {
    "id": "VqT2elfcs4tj"
   },
   "source": [
    "**Calculation of Polarity**"
   ]
  },
  {
   "cell_type": "code",
   "execution_count": null,
   "metadata": {},
   "outputs": [],
   "source": []
  },
  {
   "cell_type": "code",
   "execution_count": 6,
   "metadata": {
    "id": "GY08-o4YzR1i"
   },
   "outputs": [],
   "source": [
    "df['Polarity_Rating'] = df['audience_rating'].apply(lambda x: 'Positive' if (x >= 60) else 'Neutral' if (x < 60 and x > 49) else 'Negative')"
   ]
  },
  {
   "cell_type": "code",
   "execution_count": 7,
   "metadata": {
    "colab": {
     "base_uri": "https://localhost:8080/",
     "height": 202
    },
    "id": "6b0k-DA-0IYJ",
    "outputId": "623e6ff7-6699-4a3d-b08f-8f79bf2ce8d3"
   },
   "outputs": [
    {
     "data": {
      "text/html": [
       "<div>\n",
       "<style scoped>\n",
       "    .dataframe tbody tr th:only-of-type {\n",
       "        vertical-align: middle;\n",
       "    }\n",
       "\n",
       "    .dataframe tbody tr th {\n",
       "        vertical-align: top;\n",
       "    }\n",
       "\n",
       "    .dataframe thead th {\n",
       "        text-align: right;\n",
       "    }\n",
       "</style>\n",
       "<table border=\"1\" class=\"dataframe\">\n",
       "  <thead>\n",
       "    <tr style=\"text-align: right;\">\n",
       "      <th></th>\n",
       "      <th>movie_title</th>\n",
       "      <th>critics_consensus</th>\n",
       "      <th>audience_rating</th>\n",
       "      <th>audience_count</th>\n",
       "      <th>Polarity_Rating</th>\n",
       "    </tr>\n",
       "  </thead>\n",
       "  <tbody>\n",
       "    <tr>\n",
       "      <th>0</th>\n",
       "      <td>Percy Jackson &amp; the Olympians: The Lightning T...</td>\n",
       "      <td>Though it may seem like just another Harry Pot...</td>\n",
       "      <td>53.0</td>\n",
       "      <td>254421.0</td>\n",
       "      <td>Neutral</td>\n",
       "    </tr>\n",
       "    <tr>\n",
       "      <th>1</th>\n",
       "      <td>Please Give</td>\n",
       "      <td>Nicole Holofcener's newest might seem slight i...</td>\n",
       "      <td>64.0</td>\n",
       "      <td>11574.0</td>\n",
       "      <td>Positive</td>\n",
       "    </tr>\n",
       "    <tr>\n",
       "      <th>2</th>\n",
       "      <td>10</td>\n",
       "      <td>Blake Edwards' bawdy comedy may not score a pe...</td>\n",
       "      <td>53.0</td>\n",
       "      <td>14684.0</td>\n",
       "      <td>Neutral</td>\n",
       "    </tr>\n",
       "    <tr>\n",
       "      <th>3</th>\n",
       "      <td>12 Angry Men (Twelve Angry Men)</td>\n",
       "      <td>Sidney Lumet's feature debut is a superbly wri...</td>\n",
       "      <td>97.0</td>\n",
       "      <td>105386.0</td>\n",
       "      <td>Positive</td>\n",
       "    </tr>\n",
       "    <tr>\n",
       "      <th>4</th>\n",
       "      <td>20,000 Leagues Under The Sea</td>\n",
       "      <td>One of Disney's finest live-action adventures,...</td>\n",
       "      <td>74.0</td>\n",
       "      <td>68918.0</td>\n",
       "      <td>Positive</td>\n",
       "    </tr>\n",
       "  </tbody>\n",
       "</table>\n",
       "</div>"
      ],
      "text/plain": [
       "                                         movie_title  \\\n",
       "0  Percy Jackson & the Olympians: The Lightning T...   \n",
       "1                                        Please Give   \n",
       "2                                                 10   \n",
       "3                    12 Angry Men (Twelve Angry Men)   \n",
       "4                       20,000 Leagues Under The Sea   \n",
       "\n",
       "                                   critics_consensus  audience_rating  \\\n",
       "0  Though it may seem like just another Harry Pot...             53.0   \n",
       "1  Nicole Holofcener's newest might seem slight i...             64.0   \n",
       "2  Blake Edwards' bawdy comedy may not score a pe...             53.0   \n",
       "3  Sidney Lumet's feature debut is a superbly wri...             97.0   \n",
       "4  One of Disney's finest live-action adventures,...             74.0   \n",
       "\n",
       "   audience_count Polarity_Rating  \n",
       "0        254421.0         Neutral  \n",
       "1         11574.0        Positive  \n",
       "2         14684.0         Neutral  \n",
       "3        105386.0        Positive  \n",
       "4         68918.0        Positive  "
      ]
     },
     "execution_count": 7,
     "metadata": {},
     "output_type": "execute_result"
    }
   ],
   "source": [
    "df.head()"
   ]
  },
  {
   "cell_type": "code",
   "execution_count": 8,
   "metadata": {},
   "outputs": [
    {
     "data": {
      "text/plain": [
       "(1000, 5)"
      ]
     },
     "execution_count": 8,
     "metadata": {},
     "output_type": "execute_result"
    }
   ],
   "source": [
    "df.shape"
   ]
  },
  {
   "cell_type": "markdown",
   "metadata": {
    "id": "lMD-lue81NME"
   },
   "source": [
    "**Plot the Rating visualization graph**"
   ]
  },
  {
   "cell_type": "code",
   "execution_count": 9,
   "metadata": {
    "colab": {
     "base_uri": "https://localhost:8080/",
     "height": 297
    },
    "id": "EwQ5_FWh1R-p",
    "outputId": "1db2e56f-a522-400a-8edf-235f14cd73dd"
   },
   "outputs": [
    {
     "data": {
      "text/plain": [
       "<AxesSubplot:xlabel='audience_rating', ylabel='count'>"
      ]
     },
     "execution_count": 9,
     "metadata": {},
     "output_type": "execute_result"
    },
    {
     "data": {
      "image/png": "[encoded data removed]",
      "text/plain": [
       "<Figure size 432x288 with 1 Axes>"
      ]
     },
     "metadata": {},
     "output_type": "display_data"
    }
   ],
   "source": [
    "sns.set_style('whitegrid')\n",
    "sns.countplot(x='audience_rating',data=df, palette='YlGnBu_r')"
   ]
  },
  {
   "cell_type": "markdown",
   "metadata": {
    "id": "cObGcj-R1_Uf"
   },
   "source": [
    "**Plot the Polarity Rating count**"
   ]
  },
  {
   "cell_type": "code",
   "execution_count": 10,
   "metadata": {
    "colab": {
     "base_uri": "https://localhost:8080/",
     "height": 297
    },
    "id": "TglKEwxS2DcK",
    "outputId": "32a9bc27-7a55-450e-c1fd-e3380a0af5d1"
   },
   "outputs": [
    {
     "data": {
      "text/plain": [
       "<AxesSubplot:xlabel='Polarity_Rating', ylabel='count'>"
      ]
     },
     "execution_count": 10,
     "metadata": {},
     "output_type": "execute_result"
    },
    {
     "data": {
      "image/png": "[encoded data removed]",
      "text/plain": [
       "<Figure size 432x288 with 1 Axes>"
      ]
     },
     "metadata": {},
     "output_type": "display_data"
    }
   ],
   "source": [
    "sns.set_style('whitegrid')\n",
    "sns.countplot(x='Polarity_Rating',data=df, palette='summer')"
   ]
  },
  {
   "cell_type": "markdown",
   "metadata": {
    "id": "l2ppN_Gj3MXZ"
   },
   "source": [
    "**Data Preprocessing**"
   ]
  },
  {
   "cell_type": "code",
   "execution_count": 11,
   "metadata": {
    "id": "KMryD2Ok3PbF"
   },
   "outputs": [],
   "source": [
    "df_Positive = df[df['Polarity_Rating'] == 'Positive'][0:1000]\n",
    "df_Neutral = df[df['Polarity_Rating'] == 'Neutral']\n",
    "df_Negative = df[df['Polarity_Rating'] == 'Negative']"
   ]
  },
  {
   "cell_type": "markdown",
   "metadata": {
    "id": "mUZim1eA3qDF"
   },
   "source": [
    "**Sample negative and neutral polarity dataset and create final dataframe**"
   ]
  },
  {
   "cell_type": "code",
   "execution_count": 12,
   "metadata": {
    "id": "9PqqFadV4Qaf"
   },
   "outputs": [],
   "source": [
    "df_Neutral_over = df_Neutral.sample(1000, replace=True)\n",
    "df_Negative_over = df_Negative.sample(1000, replace=True)\n",
    "df = pd.concat([df_Positive, df_Neutral_over, df_Negative_over], axis=0)"
   ]
  },
  {
   "cell_type": "markdown",
   "metadata": {
    "id": "B3so3XNt5PXg"
   },
   "source": [
    "**Text Preprocessing**"
   ]
  },
  {
   "cell_type": "code",
   "execution_count": 13,
   "metadata": {
    "id": "mvi7pt-d5R6E"
   },
   "outputs": [],
   "source": [
    "def get_text_processing(text):\n",
    "    stpword = stopwords.words('english')\n",
    "    no_punctuation = [char for char in text if char not in string.punctuation]\n",
    "    no_punctuation = ''.join(no_punctuation)\n",
    "    return ' '.join([word for word in no_punctuation.split() if word.lower() not in stpword])"
   ]
  },
  {
   "cell_type": "markdown",
   "metadata": {
    "id": "1F75BGMk5zbT"
   },
   "source": [
    "**Apply the method \"get_text_processing\" into column review text**"
   ]
  },
  {
   "cell_type": "code",
   "execution_count": 14,
   "metadata": {
    "colab": {
     "base_uri": "https://localhost:8080/",
     "height": 306
    },
    "id": "52_Rbc3p5953",
    "outputId": "5e231d9d-8ea7-4821-d0a6-e8f956efb97f"
   },
   "outputs": [
    {
     "data": {
      "text/html": [
       "<div>\n",
       "<style scoped>\n",
       "    .dataframe tbody tr th:only-of-type {\n",
       "        vertical-align: middle;\n",
       "    }\n",
       "\n",
       "    .dataframe tbody tr th {\n",
       "        vertical-align: top;\n",
       "    }\n",
       "\n",
       "    .dataframe thead th {\n",
       "        text-align: right;\n",
       "    }\n",
       "</style>\n",
       "<table border=\"1\" class=\"dataframe\">\n",
       "  <thead>\n",
       "    <tr style=\"text-align: right;\">\n",
       "      <th></th>\n",
       "      <th>movie_title</th>\n",
       "      <th>critics_consensus</th>\n",
       "      <th>audience_rating</th>\n",
       "      <th>audience_count</th>\n",
       "      <th>Polarity_Rating</th>\n",
       "      <th>review</th>\n",
       "    </tr>\n",
       "  </thead>\n",
       "  <tbody>\n",
       "    <tr>\n",
       "      <th>1</th>\n",
       "      <td>Please Give</td>\n",
       "      <td>Nicole Holofcener's newest might seem slight i...</td>\n",
       "      <td>64.0</td>\n",
       "      <td>11574.0</td>\n",
       "      <td>Positive</td>\n",
       "      <td>Nicole Holofceners newest might seem slight pl...</td>\n",
       "    </tr>\n",
       "    <tr>\n",
       "      <th>3</th>\n",
       "      <td>12 Angry Men (Twelve Angry Men)</td>\n",
       "      <td>Sidney Lumet's feature debut is a superbly wri...</td>\n",
       "      <td>97.0</td>\n",
       "      <td>105386.0</td>\n",
       "      <td>Positive</td>\n",
       "      <td>Sidney Lumets feature debut superbly written d...</td>\n",
       "    </tr>\n",
       "    <tr>\n",
       "      <th>4</th>\n",
       "      <td>20,000 Leagues Under The Sea</td>\n",
       "      <td>One of Disney's finest live-action adventures,...</td>\n",
       "      <td>74.0</td>\n",
       "      <td>68918.0</td>\n",
       "      <td>Positive</td>\n",
       "      <td>One Disneys finest liveaction adventures 20000...</td>\n",
       "    </tr>\n",
       "    <tr>\n",
       "      <th>6</th>\n",
       "      <td>The 39 Steps</td>\n",
       "      <td>Packed with twists and turns, this essential e...</td>\n",
       "      <td>86.0</td>\n",
       "      <td>23890.0</td>\n",
       "      <td>Positive</td>\n",
       "      <td>Packed twists turns essential early Alfred Hit...</td>\n",
       "    </tr>\n",
       "    <tr>\n",
       "      <th>12</th>\n",
       "      <td>The Lost City</td>\n",
       "      <td>Its heart is in the right place, but what star...</td>\n",
       "      <td>64.0</td>\n",
       "      <td>25944.0</td>\n",
       "      <td>Positive</td>\n",
       "      <td>heart right place starts promising exercise de...</td>\n",
       "    </tr>\n",
       "  </tbody>\n",
       "</table>\n",
       "</div>"
      ],
      "text/plain": [
       "                        movie_title  \\\n",
       "1                       Please Give   \n",
       "3   12 Angry Men (Twelve Angry Men)   \n",
       "4      20,000 Leagues Under The Sea   \n",
       "6                      The 39 Steps   \n",
       "12                    The Lost City   \n",
       "\n",
       "                                    critics_consensus  audience_rating  \\\n",
       "1   Nicole Holofcener's newest might seem slight i...             64.0   \n",
       "3   Sidney Lumet's feature debut is a superbly wri...             97.0   \n",
       "4   One of Disney's finest live-action adventures,...             74.0   \n",
       "6   Packed with twists and turns, this essential e...             86.0   \n",
       "12  Its heart is in the right place, but what star...             64.0   \n",
       "\n",
       "    audience_count Polarity_Rating  \\\n",
       "1          11574.0        Positive   \n",
       "3         105386.0        Positive   \n",
       "4          68918.0        Positive   \n",
       "6          23890.0        Positive   \n",
       "12         25944.0        Positive   \n",
       "\n",
       "                                               review  \n",
       "1   Nicole Holofceners newest might seem slight pl...  \n",
       "3   Sidney Lumets feature debut superbly written d...  \n",
       "4   One Disneys finest liveaction adventures 20000...  \n",
       "6   Packed twists turns essential early Alfred Hit...  \n",
       "12  heart right place starts promising exercise de...  "
      ]
     },
     "execution_count": 14,
     "metadata": {},
     "output_type": "execute_result"
    }
   ],
   "source": [
    "df['review'] = df['critics_consensus'].apply(get_text_processing)\n",
    "df.head()"
   ]
  },
  {
   "cell_type": "markdown",
   "metadata": {
    "id": "Fhxnn-pj7R6P"
   },
   "source": [
    "**Visualize Text Review with Polarity Rating**"
   ]
  },
  {
   "cell_type": "code",
   "execution_count": 15,
   "metadata": {
    "colab": {
     "base_uri": "https://localhost:8080/",
     "height": 202
    },
    "id": "yFeqv9LG7N5N",
    "outputId": "a06a4655-55ed-4748-e2c4-90d8820c70b1"
   },
   "outputs": [
    {
     "data": {
      "text/html": [
       "<div>\n",
       "<style scoped>\n",
       "    .dataframe tbody tr th:only-of-type {\n",
       "        vertical-align: middle;\n",
       "    }\n",
       "\n",
       "    .dataframe tbody tr th {\n",
       "        vertical-align: top;\n",
       "    }\n",
       "\n",
       "    .dataframe thead th {\n",
       "        text-align: right;\n",
       "    }\n",
       "</style>\n",
       "<table border=\"1\" class=\"dataframe\">\n",
       "  <thead>\n",
       "    <tr style=\"text-align: right;\">\n",
       "      <th></th>\n",
       "      <th>review</th>\n",
       "      <th>Polarity_Rating</th>\n",
       "    </tr>\n",
       "  </thead>\n",
       "  <tbody>\n",
       "    <tr>\n",
       "      <th>1</th>\n",
       "      <td>Nicole Holofceners newest might seem slight pl...</td>\n",
       "      <td>Positive</td>\n",
       "    </tr>\n",
       "    <tr>\n",
       "      <th>3</th>\n",
       "      <td>Sidney Lumets feature debut superbly written d...</td>\n",
       "      <td>Positive</td>\n",
       "    </tr>\n",
       "    <tr>\n",
       "      <th>4</th>\n",
       "      <td>One Disneys finest liveaction adventures 20000...</td>\n",
       "      <td>Positive</td>\n",
       "    </tr>\n",
       "    <tr>\n",
       "      <th>6</th>\n",
       "      <td>Packed twists turns essential early Alfred Hit...</td>\n",
       "      <td>Positive</td>\n",
       "    </tr>\n",
       "    <tr>\n",
       "      <th>12</th>\n",
       "      <td>heart right place starts promising exercise de...</td>\n",
       "      <td>Positive</td>\n",
       "    </tr>\n",
       "  </tbody>\n",
       "</table>\n",
       "</div>"
      ],
      "text/plain": [
       "                                               review Polarity_Rating\n",
       "1   Nicole Holofceners newest might seem slight pl...        Positive\n",
       "3   Sidney Lumets feature debut superbly written d...        Positive\n",
       "4   One Disneys finest liveaction adventures 20000...        Positive\n",
       "6   Packed twists turns essential early Alfred Hit...        Positive\n",
       "12  heart right place starts promising exercise de...        Positive"
      ]
     },
     "execution_count": 15,
     "metadata": {},
     "output_type": "execute_result"
    }
   ],
   "source": [
    "df = df[['review', 'Polarity_Rating']]\n",
    "df.head()"
   ]
  },
  {
   "cell_type": "code",
   "execution_count": 16,
   "metadata": {},
   "outputs": [
    {
     "data": {
      "text/plain": [
       "(2605, 2)"
      ]
     },
     "execution_count": 16,
     "metadata": {},
     "output_type": "execute_result"
    }
   ],
   "source": [
    "df.shape"
   ]
  },
  {
   "cell_type": "markdown",
   "metadata": {
    "id": "rwpsuZPk8HCS"
   },
   "source": [
    "**Apply One hot encoding on negative, neutral, and positive**"
   ]
  },
  {
   "cell_type": "code",
   "execution_count": 17,
   "metadata": {
    "colab": {
     "base_uri": "https://localhost:8080/",
     "height": 202
    },
    "id": "lHrXiYDQ8Pj6",
    "outputId": "a80ce8f8-e4f3-4a6a-9f39-0f95d17d0007"
   },
   "outputs": [
    {
     "data": {
      "text/html": [
       "<div>\n",
       "<style scoped>\n",
       "    .dataframe tbody tr th:only-of-type {\n",
       "        vertical-align: middle;\n",
       "    }\n",
       "\n",
       "    .dataframe tbody tr th {\n",
       "        vertical-align: top;\n",
       "    }\n",
       "\n",
       "    .dataframe thead th {\n",
       "        text-align: right;\n",
       "    }\n",
       "</style>\n",
       "<table border=\"1\" class=\"dataframe\">\n",
       "  <thead>\n",
       "    <tr style=\"text-align: right;\">\n",
       "      <th></th>\n",
       "      <th>review</th>\n",
       "      <th>Negative</th>\n",
       "      <th>Neutral</th>\n",
       "      <th>Positive</th>\n",
       "    </tr>\n",
       "  </thead>\n",
       "  <tbody>\n",
       "    <tr>\n",
       "      <th>1</th>\n",
       "      <td>Nicole Holofceners newest might seem slight pl...</td>\n",
       "      <td>0</td>\n",
       "      <td>0</td>\n",
       "      <td>1</td>\n",
       "    </tr>\n",
       "    <tr>\n",
       "      <th>3</th>\n",
       "      <td>Sidney Lumets feature debut superbly written d...</td>\n",
       "      <td>0</td>\n",
       "      <td>0</td>\n",
       "      <td>1</td>\n",
       "    </tr>\n",
       "    <tr>\n",
       "      <th>4</th>\n",
       "      <td>One Disneys finest liveaction adventures 20000...</td>\n",
       "      <td>0</td>\n",
       "      <td>0</td>\n",
       "      <td>1</td>\n",
       "    </tr>\n",
       "    <tr>\n",
       "      <th>6</th>\n",
       "      <td>Packed twists turns essential early Alfred Hit...</td>\n",
       "      <td>0</td>\n",
       "      <td>0</td>\n",
       "      <td>1</td>\n",
       "    </tr>\n",
       "    <tr>\n",
       "      <th>12</th>\n",
       "      <td>heart right place starts promising exercise de...</td>\n",
       "      <td>0</td>\n",
       "      <td>0</td>\n",
       "      <td>1</td>\n",
       "    </tr>\n",
       "  </tbody>\n",
       "</table>\n",
       "</div>"
      ],
      "text/plain": [
       "                                               review  Negative  Neutral  \\\n",
       "1   Nicole Holofceners newest might seem slight pl...         0        0   \n",
       "3   Sidney Lumets feature debut superbly written d...         0        0   \n",
       "4   One Disneys finest liveaction adventures 20000...         0        0   \n",
       "6   Packed twists turns essential early Alfred Hit...         0        0   \n",
       "12  heart right place starts promising exercise de...         0        0   \n",
       "\n",
       "    Positive  \n",
       "1          1  \n",
       "3          1  \n",
       "4          1  \n",
       "6          1  \n",
       "12         1  "
      ]
     },
     "execution_count": 17,
     "metadata": {},
     "output_type": "execute_result"
    }
   ],
   "source": [
    "one_hot = pd.get_dummies(df[\"Polarity_Rating\"])\n",
    "df.drop(['Polarity_Rating'],axis=1,inplace=True)\n",
    "df = pd.concat([df,one_hot],axis=1)\n",
    "df.head()"
   ]
  },
  {
   "cell_type": "markdown",
   "metadata": {
    "id": "O63qBfKuE2nu"
   },
   "source": [
    "**Apply Train Test Split**"
   ]
  },
  {
   "cell_type": "code",
   "execution_count": 18,
   "metadata": {
    "id": "6PNWLYhME7Pf"
   },
   "outputs": [],
   "source": [
    "X = df['review'].values\n",
    "y = df.drop('review', axis=1).values\n",
    "X_train, X_test, y_train, y_test = train_test_split(X, y, test_size=0.30, random_state=42)"
   ]
  },
  {
   "cell_type": "markdown",
   "metadata": {
    "id": "AuADdT8UFgOy"
   },
   "source": [
    "**Apply vectorization**"
   ]
  },
  {
   "cell_type": "code",
   "execution_count": 19,
   "metadata": {
    "id": "r20vXgZ6Fvqw"
   },
   "outputs": [],
   "source": [
    "vect = CountVectorizer()\n",
    "X_train = vect.fit_transform(X_train)\n",
    "X_test = vect.transform(X_test)"
   ]
  },
  {
   "cell_type": "markdown",
   "metadata": {
    "id": "akiDMHsvGNxD"
   },
   "source": [
    "**Apply frequency, inverse document frequency:**"
   ]
  },
  {
   "cell_type": "code",
   "execution_count": 20,
   "metadata": {
    "id": "_q3-ppruGRz7"
   },
   "outputs": [],
   "source": [
    "tfidf = TfidfTransformer()\n",
    "X_train = tfidf.fit_transform(X_train)\n",
    "X_test = tfidf.transform(X_test)\n",
    "X_train = X_train.toarray()\n",
    "X_test = X_test.toarray()"
   ]
  },
  {
   "cell_type": "markdown",
   "metadata": {
    "id": "rXV_Xf5kHB73"
   },
   "source": [
    "**Add different layers**"
   ]
  },
  {
   "cell_type": "code",
   "execution_count": 21,
   "metadata": {
    "id": "-Su4eu41HAUT"
   },
   "outputs": [
    {
     "name": "stderr",
     "output_type": "stream",
     "text": [
      "2022-08-07 15:51:32.663629: I tensorflow/core/platform/cpu_feature_guard.cc:193] This TensorFlow binary is optimized with oneAPI Deep Neural Network Library (oneDNN) to use the following CPU instructions in performance-critical operations:  AVX2 FMA\n",
      "To enable them in other operations, rebuild TensorFlow with the appropriate compiler flags.\n"
     ]
    }
   ],
   "source": [
    "model = Sequential()\n",
    "\n",
    "model.add(Dense(units=12673,activation='relu'))\n",
    "model.add(Dropout(0.5))\n",
    "\n",
    "model.add(Dense(units=4000,activation='relu'))\n",
    "model.add(Dropout(0.5))\n",
    "\n",
    "model.add(Dense(units=500,activation='relu'))\n",
    "model.add(Dropout(0.5))\n",
    "\n",
    "model.add(Dense(units=3, activation='softmax'))\n",
    "\n",
    "opt=tf.keras.optimizers.Adam(learning_rate=0.001)\n",
    "model.compile(loss='categorical_crossentropy', optimizer=opt, metrics=['accuracy'])\n",
    "\n",
    "early_stop = EarlyStopping(monitor='val_loss', mode='min', verbose=1, patience=2)"
   ]
  },
  {
   "cell_type": "markdown",
   "metadata": {
    "id": "NYGn2m1lIFvo"
   },
   "source": [
    "**Fit the Model**"
   ]
  },
  {
   "cell_type": "code",
   "execution_count": 22,
   "metadata": {
    "colab": {
     "base_uri": "https://localhost:8080/"
    },
    "id": "NtKRqIcYIEev",
    "outputId": "0de54d2f-bc01-4606-e290-1f0b216baab5"
   },
   "outputs": [
    {
     "name": "stdout",
     "output_type": "stream",
     "text": [
      "Epoch 1/100\n",
      "8/8 [==============================] - 9s 990ms/step - loss: 0.9780 - accuracy: 0.4937 - val_loss: 0.6613 - val_accuracy: 0.7136\n",
      "Epoch 2/100\n",
      "8/8 [==============================] - 8s 1s/step - loss: 0.2994 - accuracy: 0.8733 - val_loss: 0.1959 - val_accuracy: 0.9309\n",
      "Epoch 3/100\n",
      "8/8 [==============================] - 8s 1s/step - loss: 0.0313 - accuracy: 0.9940 - val_loss: 0.2536 - val_accuracy: 0.9604\n",
      "Epoch 4/100\n",
      "8/8 [==============================] - 9s 1s/step - loss: 6.4570e-04 - accuracy: 1.0000 - val_loss: 0.3286 - val_accuracy: 0.9565\n",
      "Epoch 4: early stopping\n"
     ]
    },
    {
     "data": {
      "text/plain": [
       "<keras.callbacks.History at 0x7fb4f2cc5c40>"
      ]
     },
     "execution_count": 22,
     "metadata": {},
     "output_type": "execute_result"
    }
   ],
   "source": [
    "model.fit(x=X_train, y=y_train, batch_size=256, epochs=100, validation_data=(X_test, y_test), verbose=1, callbacks=early_stop)"
   ]
  },
  {
   "cell_type": "markdown",
   "metadata": {
    "id": "mOSbaNrqJBeP"
   },
   "source": [
    "**Evaluation of Model**"
   ]
  },
  {
   "cell_type": "code",
   "execution_count": 23,
   "metadata": {
    "id": "ZTsIgolQJD2M"
   },
   "outputs": [
    {
     "name": "stdout",
     "output_type": "stream",
     "text": [
      "13/13 [==============================] - 1s 95ms/step - loss: 0.3286 - accuracy: 0.9565\n",
      "Test accuracy: 0.95652174949646\n"
     ]
    }
   ],
   "source": [
    "model_score = model.evaluate(X_test, y_test, batch_size=64, verbose=1)\n",
    "print('Test accuracy:', model_score[1])"
   ]
  },
  {
   "cell_type": "markdown",
   "metadata": {
    "id": "s6c7yRFKJUK4"
   },
   "source": [
    "**Prediction**"
   ]
  },
  {
   "cell_type": "code",
   "execution_count": 24,
   "metadata": {
    "id": "Q34Yb_0pJW3r"
   },
   "outputs": [
    {
     "name": "stdout",
     "output_type": "stream",
     "text": [
      "25/25 [==============================] - 2s 81ms/step\n"
     ]
    },
    {
     "data": {
      "text/plain": [
       "array([[3.5702598e-17, 9.9999917e-01, 8.5234291e-07],\n",
       "       [4.8128084e-16, 9.9999988e-01, 1.3114904e-07],\n",
       "       [3.4939632e-05, 6.5067360e-07, 9.9996436e-01],\n",
       "       ...,\n",
       "       [9.7058263e-18, 9.9999988e-01, 7.7264595e-08],\n",
       "       [2.8277325e-02, 8.1921748e-08, 9.7172260e-01],\n",
       "       [1.0000000e+00, 2.3198744e-18, 9.6453219e-09]], dtype=float32)"
      ]
     },
     "execution_count": 24,
     "metadata": {},
     "output_type": "execute_result"
    }
   ],
   "source": [
    "preds = model.predict(X_test)\n",
    "preds"
   ]
  },
  {
   "cell_type": "code",
   "execution_count": 25,
   "metadata": {},
   "outputs": [
    {
     "data": {
      "text/plain": [
       "(782, 3)"
      ]
     },
     "execution_count": 25,
     "metadata": {},
     "output_type": "execute_result"
    }
   ],
   "source": [
    "preds.shape"
   ]
  },
  {
   "cell_type": "code",
   "execution_count": 26,
   "metadata": {},
   "outputs": [
    {
     "data": {
      "text/plain": [
       "array([[3.5702598e-17, 9.9999917e-01, 8.5234291e-07],\n",
       "       [4.8128084e-16, 9.9999988e-01, 1.3114904e-07],\n",
       "       [3.4939632e-05, 6.5067360e-07, 9.9996436e-01],\n",
       "       ...,\n",
       "       [9.7058263e-18, 9.9999988e-01, 7.7264595e-08],\n",
       "       [2.8277325e-02, 8.1921748e-08, 9.7172260e-01],\n",
       "       [1.0000000e+00, 2.3198744e-18, 9.6453219e-09]], dtype=float32)"
      ]
     },
     "execution_count": 26,
     "metadata": {},
     "output_type": "execute_result"
    }
   ],
   "source": [
    "preds"
   ]
  }
 ],
 "metadata": {
  "colab": {
   "include_colab_link": true,
   "name": "sentiment_analysis_tutorial.ipynb",
   "provenance": []
  },
  "kernelspec": {
   "display_name": "Python 3",
   "language": "python",
   "name": "python3"
  },
  "language_info": {
   "codemirror_mode": {
    "name": "ipython",
    "version": 3
   },
   "file_extension": ".py",
   "mimetype": "text/x-python",
   "name": "python",
   "nbconvert_exporter": "python",
   "pygments_lexer": "ipython3",
   "version": "3.9.7"
  }
 },
 "nbformat": 4,
 "nbformat_minor": 1
}
