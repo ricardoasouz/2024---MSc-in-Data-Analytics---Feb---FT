{
 "cells": [
  {
   "cell_type": "code",
   "execution_count": 10,
   "metadata": {},
   "outputs": [],
   "source": [
    "#!pip install python-dotenv\n",
    "import pandas as pd\n",
    "import os\n",
    "\n",
    "from dotenv import load_dotenv\n",
    "\n",
    "import praw\n",
    "import json"
   ]
  },
  {
   "cell_type": "code",
   "execution_count": 11,
   "metadata": {},
   "outputs": [],
   "source": [
    "# Load environment variables from .env file\n",
    "load_dotenv()\n",
    "\n",
    "reddit = praw.Reddit(\n",
    "    client_id=os.getenv(\"REDDIT_CLIENT_ID\"),\n",
    "    client_secret=os.getenv(\"REDDIT_CLIENT_SECRET\"),\n",
    "    user_agent=os.getenv(\"REDDIT_USER_AGENT\")\n",
    ")\n",
    "\n",
    "#url = 'https://www.reddit.com/r/ireland/comments/w5lhur/we_need_to_get_out_of_animal_farming_all_together/'\n",
    "url = 'https://www.reddit.com/r/ireland/comments/1aghrfn/irish_farmers_protest_in_solidarity_with_eu/'\n",
    "submission = reddit.submission(url=url)\n",
    "\n",
    "# Collecting author and comment\n",
    "comments = []\n",
    "submission.comments.replace_more(limit=0)\n",
    "for comment in submission.comments.list():\n",
    "    author = comment.author.name if comment.author else \"Deleted\"  # Handling deleted users\n",
    "    comments.append({'author': author, 'statement': comment.body})\n"
   ]
  },
  {
   "cell_type": "code",
   "execution_count": 12,
   "metadata": {},
   "outputs": [],
   "source": [
    "# Write the comments to a JSON file\n",
    "with open('extracted_redditfarming.json', 'w') as f:\n",
    "    json.dump(comments, f, indent=4)"
   ]
  },
  {
   "cell_type": "code",
   "execution_count": 13,
   "metadata": {},
   "outputs": [],
   "source": [
    "import requests\n",
    "from bs4 import BeautifulSoup\n",
    "import json\n",
    "import re\n",
    "\n",
    "# Base URL of the forum thread\n",
    "base_url = \"https://www.forum4farming.com/forum/index.php?threads/cap-2023-2027.20587\"\n",
    "\n",
    "# Regular expression to match \"X said:\" and capture X and the statement\n",
    "pattern = r\"(\\w+) said:\\s*(.*)\"\n",
    "\n",
    "# List to store the filtered data\n",
    "extracted_data = []\n",
    "\n",
    "# Loop through the pages of the thread\n",
    "for page_num in range(1, 7):  # going over 6 pages\n",
    "    # Construct the URL for each page\n",
    "    url = f\"{base_url}/page-{page_num}\" if page_num > 1 else base_url + \"/\"\n",
    "    # Fetch the page content\n",
    "    response = requests.get(url)\n",
    "    if response.status_code == 200:\n",
    "        # Parse the HTML content\n",
    "        soup = BeautifulSoup(response.content, 'html.parser')\n",
    "        # Extract all text from the forum\n",
    "        posts = soup.find_all('article', class_='message--post')\n",
    "        for post in posts:\n",
    "            text = post.find('div', class_='bbWrapper').text\n",
    "            # Find all matches of the pattern\n",
    "            matches = re.findall(pattern, text, re.DOTALL)\n",
    "            for match in matches:\n",
    "                name, statement = match\n",
    "                # Clean the statement of newlines and extra spaces\n",
    "                statement = re.sub(r'\\s+', ' ', statement.strip())\n",
    "                extracted_data.append({\"author\": name, \"statement\": statement})\n",
    "\n",
    "# Save the extracted data to a JSON file\n",
    "output_file_path = 'extracted_forum4farming.json'\n",
    "with open(output_file_path, 'w', encoding='utf-8') as file:\n",
    "    json.dump(extracted_data, file, ensure_ascii=False, indent=4)\n",
    "\n",
    "#print(f'Data has been written to {output_file_path}')"
   ]
  },
  {
   "cell_type": "code",
   "execution_count": 14,
   "metadata": {},
   "outputs": [
    {
     "name": "stdout",
     "output_type": "stream",
     "text": [
      "              author                                          statement\n",
      "0       Franz_Werfel  the famers protests on the continent were abou...\n",
      "1         lamahorses      Over 30% of the European budget is on CAP etc\n",
      "2  ConnolysMoustache  What are they even protesting?\\n\\nThe IFA repr...\n",
      "3            bintags                     These people are brainwashed. \n",
      "4  gofuckyoureself21  Stop bitching at each other and get out and su...\n",
      "Total rows on reddit DataFrame: 44\n"
     ]
    }
   ],
   "source": [
    "# Load data from extracted_redditfarming.json file into a DataFrame\n",
    "df_reddit = pd.read_json('extracted_redditfarming.json')\n",
    "\n",
    "# Display the DataFrame\n",
    "print(df_reddit.head())\n",
    "\n",
    "# Check the size of DataFrame\n",
    "print(f\"Total rows on reddit DataFrame: {df_reddit.shape[0]}\")"
   ]
  },
  {
   "cell_type": "code",
   "execution_count": 15,
   "metadata": {},
   "outputs": [
    {
     "name": "stdout",
     "output_type": "stream",
     "text": [
      "       author                                          statement\n",
      "0      eire23  Surprised there wasn't a thread on this with s...\n",
      "1  muckymanor  I see that female farmers are going to get 60%...\n",
      "2         boy  Discrimination Click to expand... 60% for youn...\n",
      "3    Burdizzo  60% for young farmers - Ageism Click to expand...\n",
      "4  muckymanor  I see that female farmers are going to get 60%...\n",
      "Total rows on f4f DataFrame: 85\n"
     ]
    }
   ],
   "source": [
    "# Load data from extracted_forum4farming.json file into a DataFrame\n",
    "df_f4f = pd.read_json('extracted_forum4farming.json')\n",
    "\n",
    "# Display the first few rows to confirm it's loaded correctly\n",
    "print(df_f4f.head())\n",
    "\n",
    "# Check the size of DataFrame\n",
    "print(f\"Total rows on f4f DataFrame: {df_f4f.shape[0]}\")\n"
   ]
  },
  {
   "cell_type": "code",
   "execution_count": 16,
   "metadata": {},
   "outputs": [
    {
     "name": "stdout",
     "output_type": "stream",
     "text": [
      "                  author                                          statement\n",
      "0           Franz_Werfel  the famers protests on the continent were abou...\n",
      "1             lamahorses      Over 30% of the European budget is on CAP etc\n",
      "2      ConnolysMoustache  What are they even protesting?\\n\\nThe IFA repr...\n",
      "3                bintags                     These people are brainwashed. \n",
      "4      gofuckyoureself21  Stop bitching at each other and get out and su...\n",
      "5         No-Category-38       People with jobs are too busy for this shit.\n",
      "6               af_lt274  >massive amount of cognitive dissonance for ir...\n",
      "7                Deleted                                          [deleted]\n",
      "8      TruthSeeker101110  Don't they already get [€1.2 billion in subsid...\n",
      "9                bintags  The cognitive dissonance is all that’s keeping...\n",
      "10    Healthy-Travel3105  I thought their issue was having to compete wi...\n",
      "11             JRR_STARK  Alright, you know more about agriculture then ...\n",
      "12          Franz_Werfel                    What are they protesting about?\n",
      "13               Deleted  What came before them regulations though was a...\n",
      "14               Deleted  Irelands manufacturing sector is the largest i...\n",
      "15               Deleted  If the farmers can't keep their business's goi...\n",
      "16               Deleted                                          [deleted]\n",
      "17        RoyRobotoRobot  There is a good bit of mismanagement of funds ...\n",
      "18               Deleted                                          [deleted]\n",
      "19     ConnolysMoustache  If it is the IFA guy on prime time neglected t...\n",
      "20  DiscussionUnusual466                         Your food prices going up \n",
      "21  DiscussionUnusual466  To date that is true that farms have benefited...\n",
      "22        RoyRobotoRobot  You do know we subsidize farmers to keep food ...\n",
      "23            BB2014Mods  > If the farmers can't keep their business's g...\n",
      "24               Deleted                                          [deleted]\n",
      "25              lkdubdub                                    But Bill Gates!\n",
      "26     TruthSeeker101110  You sure? i thought Ireland was [a net exporte...\n",
      "27               bintags                     I disagree, farmers are thick \n",
      "28               showars  Begs the question of why we would consciously ...\n",
      "29          Franz_Werfel     And who is contributing to rising food prices?\n",
      "30               Deleted  If you make a bad decision with your finances ...\n",
      "31         WolfOfWexford  I’m a farmer and I massively disagree with BIS...\n",
      "32  DiscussionUnusual466  Ok let's do a little basic thoughts experiment...\n",
      "33     ConnolysMoustache  Most of the regulations that we’re talking abo...\n",
      "34  DiscussionUnusual466  Increase in prices of fuel, fertilizer and gra...\n",
      "35  DiscussionUnusual466  Nationalise the meet factories is the same as ...\n",
      "36     TruthSeeker101110  Sure if the farmer actually produces anything,...\n",
      "37               showars  Then it’s even more stupid. Climate regulation...\n",
      "38               Deleted  It isn’t. It disciplines capital. Rather than ...\n",
      "39     ConnolysMoustache  Arbitrary targets? There’s nothing arbitrary a...\n",
      "40         WolfOfWexford  Exactly. The best we could have is local small...\n",
      "41               showars  You’re absolutely right, we can and should be ...\n",
      "42     ConnolysMoustache  We’re never not going to import foreign produc...\n",
      "43               showars  Why are they the two options? I’ve literally g...\n",
      "44                eire23  Surprised there wasn't a thread on this with s...\n",
      "45            muckymanor  I see that female farmers are going to get 60%...\n",
      "46                   boy  Discrimination Click to expand... 60% for youn...\n",
      "Total rows in combined DataFrames: 129\n"
     ]
    }
   ],
   "source": [
    "# Concatenate the two dataframes\n",
    "df_combined = pd.concat([df_reddit, df_f4f], ignore_index=True)\n",
    "\n",
    "# Display the first few rows of the combined DataFrame\n",
    "print(df_combined.head(47))\n",
    "\n",
    "# Check the size of the combined DataFrame\n",
    "print(f\"Total rows in combined DataFrames: {df_combined.shape[0]}\")\n"
   ]
  },
  {
   "cell_type": "code",
   "execution_count": 17,
   "metadata": {},
   "outputs": [],
   "source": [
    "# Save the combined extracted data to a JSON file\n",
    "output_file_path = 'extracted_combined.json'\n",
    "\n",
    "# Using the correct method to save to JSON\n",
    "df_combined.to_json(output_file_path, force_ascii=False, indent=4, orient='records')"
   ]
  },
  {
   "cell_type": "code",
   "execution_count": 18,
   "metadata": {},
   "outputs": [],
   "source": [
    "# Save the combined DataFrame to a CSV file\n",
    "output_file_path = 'extracted_combined.csv'\n",
    "df_combined.to_csv(output_file_path, index=False, encoding='utf-8')"
   ]
  }
 ],
 "metadata": {
  "kernelspec": {
   "display_name": "Python 3",
   "language": "python",
   "name": "python3"
  },
  "language_info": {
   "codemirror_mode": {
    "name": "ipython",
    "version": 3
   },
   "file_extension": ".py",
   "mimetype": "text/x-python",
   "name": "python",
   "nbconvert_exporter": "python",
   "pygments_lexer": "ipython3",
   "version": "3.9.16"
  }
 },
 "nbformat": 4,
 "nbformat_minor": 2
}
