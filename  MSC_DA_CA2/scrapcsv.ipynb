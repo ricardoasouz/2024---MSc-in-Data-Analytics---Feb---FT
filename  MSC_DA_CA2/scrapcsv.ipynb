{
 "cells": [
  {
   "cell_type": "code",
   "execution_count": 2,
   "metadata": {},
   "outputs": [
    {
     "name": "stdout",
     "output_type": "stream",
     "text": [
      "Data has been written to forum_posts.csv\n"
     ]
    }
   ],
   "source": [
    "import requests\n",
    "from bs4 import BeautifulSoup\n",
    "import csv\n",
    "\n",
    "# The base URL for the thread.\n",
    "base_url = \"https://www.forum4farming.com/forum/index.php?threads/cap-2023-2027.20587\"\n",
    "# List to hold all the posts.\n",
    "all_posts = []\n",
    "\n",
    "# Iterate through the pages of the thread.\n",
    "for page_num in range(1, 7):\n",
    "    # Construct the URL for each page.\n",
    "    if page_num == 1:\n",
    "        url = base_url + \"/\"\n",
    "    else:\n",
    "        url = f\"{base_url}/page-{page_num}\"\n",
    "\n",
    "    # Make the HTTP request to get the page content.\n",
    "    response = requests.get(url)\n",
    "    if response.status_code == 200:\n",
    "        # Parse the HTML content.\n",
    "        soup = BeautifulSoup(response.content, 'html.parser')\n",
    "        # Find all the post containers.\n",
    "        post_containers = soup.find_all('article', class_='message--post')\n",
    "\n",
    "        # Extract the text content from each post.\n",
    "        for post_container in post_containers:\n",
    "            post_content = post_container.find('div', class_='bbWrapper').text.strip()\n",
    "            all_posts.append([post_content])\n",
    "\n",
    "# Now we'll write the posts to a CSV file.\n",
    "csv_file_name = 'forum_posts.csv'\n",
    "with open(csv_file_name, 'w', newline='', encoding='utf-8') as file:\n",
    "    writer = csv.writer(file)\n",
    "    # Write a header row, if you want one.\n",
    "    writer.writerow(['Post Content'])\n",
    "    # Write all the posts to the CSV.\n",
    "    writer.writerows(all_posts)\n",
    "\n",
    "print(f'Data has been written to {csv_file_name}')\n"
   ]
  }
 ],
 "metadata": {
  "kernelspec": {
   "display_name": "Python 3",
   "language": "python",
   "name": "python3"
  },
  "language_info": {
   "codemirror_mode": {
    "name": "ipython",
    "version": 3
   },
   "file_extension": ".py",
   "mimetype": "text/x-python",
   "name": "python",
   "nbconvert_exporter": "python",
   "pygments_lexer": "ipython3",
   "version": "3.9.16"
  }
 },
 "nbformat": 4,
 "nbformat_minor": 2
}
