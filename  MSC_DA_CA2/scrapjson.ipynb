{
 "cells": [
  {
   "cell_type": "code",
   "execution_count": 1,
   "metadata": {},
   "outputs": [
    {
     "name": "stdout",
     "output_type": "stream",
     "text": [
      "Data has been written to extracted_forum4farming.json\n"
     ]
    }
   ],
   "source": [
    "import requests\n",
    "from bs4 import BeautifulSoup\n",
    "import json\n",
    "import re\n",
    "\n",
    "# Base URL of the forum thread\n",
    "base_url = \"https://www.forum4farming.com/forum/index.php?threads/cap-2023-2027.20587\"\n",
    "\n",
    "# Regular expression to match \"X said:\" and capture X and the statement\n",
    "pattern = r\"(\\w+) said:\\s*(.*)\"\n",
    "\n",
    "# List to store the filtered data\n",
    "extracted_data = []\n",
    "\n",
    "# Loop through the pages of the thread\n",
    "for page_num in range(1, 7):  # assuming there are 6 pages\n",
    "    # Construct the URL for each page\n",
    "    url = f\"{base_url}/page-{page_num}\" if page_num > 1 else base_url + \"/\"\n",
    "    # Fetch the page content\n",
    "    response = requests.get(url)\n",
    "    if response.status_code == 200:\n",
    "        # Parse the HTML content\n",
    "        soup = BeautifulSoup(response.content, 'html.parser')\n",
    "        # Extract all text from the forum\n",
    "        posts = soup.find_all('article', class_='message--post')\n",
    "        for post in posts:\n",
    "            text = post.find('div', class_='bbWrapper').text\n",
    "            # Find all matches of the pattern\n",
    "            matches = re.findall(pattern, text, re.DOTALL)\n",
    "            for match in matches:\n",
    "                name, statement = match\n",
    "                # Clean the statement of newlines and extra spaces\n",
    "                statement = re.sub(r'\\s+', ' ', statement.strip())\n",
    "                extracted_data.append({\"name\": name, \"statement\": statement})\n",
    "\n",
    "# Save the extracted data to a JSON file\n",
    "output_file_path = 'extracted_forum4farming.json'\n",
    "with open(output_file_path, 'w', encoding='utf-8') as file:\n",
    "    json.dump(extracted_data, file, ensure_ascii=False, indent=4)\n",
    "\n",
    "print(f'Data has been written to {output_file_path}')\n"
   ]
  },
  {
   "cell_type": "code",
   "execution_count": null,
   "metadata": {},
   "outputs": [],
   "source": []
  }
 ],
 "metadata": {
  "kernelspec": {
   "display_name": "Python 3",
   "language": "python",
   "name": "python3"
  },
  "language_info": {
   "codemirror_mode": {
    "name": "ipython",
    "version": 3
   },
   "file_extension": ".py",
   "mimetype": "text/x-python",
   "name": "python",
   "nbconvert_exporter": "python",
   "pygments_lexer": "ipython3",
   "version": "3.9.16"
  }
 },
 "nbformat": 4,
 "nbformat_minor": 2
}
