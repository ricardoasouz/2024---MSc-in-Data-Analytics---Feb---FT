{
  "nbformat": 4,
  "nbformat_minor": 0,
  "metadata": {
    "colab": {
      "provenance": []
    },
    "kernelspec": {
      "name": "python3",
      "display_name": "Python 3"
    },
    "language_info": {
      "name": "python"
    }
  },
  "cells": [
    {
      "cell_type": "markdown",
      "source": [
        "#Task\n",
        "use the Iris dataset to perform three hypothesis tests using different statistical methods. We'll investigate the following hypotheses:\n",
        "\n",
        "- Is there a significant difference in the average sepal length between Setosa and Versicolor iris flowers?\n",
        "- Is there a significant difference in the average petal width between Setosa and Virginica iris flowers?\n",
        "- Is there a significant difference in the average sepal width between Versicolor and Virginica iris flowers?\n"
      ],
      "metadata": {
        "id": "rzTZM1yhy_No"
      }
    },
    {
      "cell_type": "code",
      "source": [
        "# Importing necessary libraries\n",
        "import pandas as pd\n",
        "from scipy.stats import ttest_ind, mannwhitneyu\n",
        "from sklearn.datasets import load_iris\n",
        "\n",
        "# Load the Iris dataset\n",
        "iris = load_iris()\n",
        "iris_df = pd.DataFrame(data=iris.data, columns=iris.feature_names)"
      ],
      "metadata": {
        "id": "8MjR3zBNzcD4"
      },
      "execution_count": 1,
      "outputs": []
    }
  ]
}