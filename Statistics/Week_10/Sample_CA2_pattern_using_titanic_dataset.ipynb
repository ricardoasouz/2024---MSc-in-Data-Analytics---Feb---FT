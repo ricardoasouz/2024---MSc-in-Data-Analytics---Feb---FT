{
  "nbformat": 4,
  "nbformat_minor": 0,
  "metadata": {
    "colab": {
      "provenance": []
    },
    "kernelspec": {
      "name": "python3",
      "display_name": "Python 3"
    },
    "language_info": {
      "name": "python"
    }
  },
  "cells": [
    {
      "cell_type": "code",
      "execution_count": 2,
      "metadata": {
        "colab": {
          "base_uri": "https://localhost:8080/",
          "height": 206
        },
        "id": "MMdy6VWT0_fn",
        "outputId": "48c32220-0f26-4326-c9ce-73b26540e823"
      },
      "outputs": [
        {
          "output_type": "execute_result",
          "data": {
            "text/plain": [
              "   survived  pclass     sex   age  sibsp  parch     fare embarked  class  \\\n",
              "0         0       3    male  22.0      1      0   7.2500        S  Third   \n",
              "1         1       1  female  38.0      1      0  71.2833        C  First   \n",
              "2         1       3  female  26.0      0      0   7.9250        S  Third   \n",
              "3         1       1  female  35.0      1      0  53.1000        S  First   \n",
              "4         0       3    male  35.0      0      0   8.0500        S  Third   \n",
              "\n",
              "     who  adult_male deck  embark_town alive  alone  \n",
              "0    man        True  NaN  Southampton    no  False  \n",
              "1  woman       False    C    Cherbourg   yes  False  \n",
              "2  woman       False  NaN  Southampton   yes   True  \n",
              "3  woman       False    C  Southampton   yes  False  \n",
              "4    man        True  NaN  Southampton    no   True  "
            ],
            "text/html": [
              "\n",
              "  <div id=\"df-e33c2aa0-c804-4847-81cb-7192b8dfa59a\" class=\"colab-df-container\">\n",
              "    <div>\n",
              "<style scoped>\n",
              "    .dataframe tbody tr th:only-of-type {\n",
              "        vertical-align: middle;\n",
              "    }\n",
              "\n",
              "    .dataframe tbody tr th {\n",
              "        vertical-align: top;\n",
              "    }\n",
              "\n",
              "    .dataframe thead th {\n",
              "        text-align: right;\n",
              "    }\n",
              "</style>\n",
              "<table border=\"1\" class=\"dataframe\">\n",
              "  <thead>\n",
              "    <tr style=\"text-align: right;\">\n",
              "      <th></th>\n",
              "      <th>survived</th>\n",
              "      <th>pclass</th>\n",
              "      <th>sex</th>\n",
              "      <th>age</th>\n",
              "      <th>sibsp</th>\n",
              "      <th>parch</th>\n",
              "      <th>fare</th>\n",
              "      <th>embarked</th>\n",
              "      <th>class</th>\n",
              "      <th>who</th>\n",
              "      <th>adult_male</th>\n",
              "      <th>deck</th>\n",
              "      <th>embark_town</th>\n",
              "      <th>alive</th>\n",
              "      <th>alone</th>\n",
              "    </tr>\n",
              "  </thead>\n",
              "  <tbody>\n",
              "    <tr>\n",
              "      <th>0</th>\n",
              "      <td>0</td>\n",
              "      <td>3</td>\n",
              "      <td>male</td>\n",
              "      <td>22.0</td>\n",
              "      <td>1</td>\n",
              "      <td>0</td>\n",
              "      <td>7.2500</td>\n",
              "      <td>S</td>\n",
              "      <td>Third</td>\n",
              "      <td>man</td>\n",
              "      <td>True</td>\n",
              "      <td>NaN</td>\n",
              "      <td>Southampton</td>\n",
              "      <td>no</td>\n",
              "      <td>False</td>\n",
              "    </tr>\n",
              "    <tr>\n",
              "      <th>1</th>\n",
              "      <td>1</td>\n",
              "      <td>1</td>\n",
              "      <td>female</td>\n",
              "      <td>38.0</td>\n",
              "      <td>1</td>\n",
              "      <td>0</td>\n",
              "      <td>71.2833</td>\n",
              "      <td>C</td>\n",
              "      <td>First</td>\n",
              "      <td>woman</td>\n",
              "      <td>False</td>\n",
              "      <td>C</td>\n",
              "      <td>Cherbourg</td>\n",
              "      <td>yes</td>\n",
              "      <td>False</td>\n",
              "    </tr>\n",
              "    <tr>\n",
              "      <th>2</th>\n",
              "      <td>1</td>\n",
              "      <td>3</td>\n",
              "      <td>female</td>\n",
              "      <td>26.0</td>\n",
              "      <td>0</td>\n",
              "      <td>0</td>\n",
              "      <td>7.9250</td>\n",
              "      <td>S</td>\n",
              "      <td>Third</td>\n",
              "      <td>woman</td>\n",
              "      <td>False</td>\n",
              "      <td>NaN</td>\n",
              "      <td>Southampton</td>\n",
              "      <td>yes</td>\n",
              "      <td>True</td>\n",
              "    </tr>\n",
              "    <tr>\n",
              "      <th>3</th>\n",
              "      <td>1</td>\n",
              "      <td>1</td>\n",
              "      <td>female</td>\n",
              "      <td>35.0</td>\n",
              "      <td>1</td>\n",
              "      <td>0</td>\n",
              "      <td>53.1000</td>\n",
              "      <td>S</td>\n",
              "      <td>First</td>\n",
              "      <td>woman</td>\n",
              "      <td>False</td>\n",
              "      <td>C</td>\n",
              "      <td>Southampton</td>\n",
              "      <td>yes</td>\n",
              "      <td>False</td>\n",
              "    </tr>\n",
              "    <tr>\n",
              "      <th>4</th>\n",
              "      <td>0</td>\n",
              "      <td>3</td>\n",
              "      <td>male</td>\n",
              "      <td>35.0</td>\n",
              "      <td>0</td>\n",
              "      <td>0</td>\n",
              "      <td>8.0500</td>\n",
              "      <td>S</td>\n",
              "      <td>Third</td>\n",
              "      <td>man</td>\n",
              "      <td>True</td>\n",
              "      <td>NaN</td>\n",
              "      <td>Southampton</td>\n",
              "      <td>no</td>\n",
              "      <td>True</td>\n",
              "    </tr>\n",
              "  </tbody>\n",
              "</table>\n",
              "</div>\n",
              "    <div class=\"colab-df-buttons\">\n",
              "\n",
              "  <div class=\"colab-df-container\">\n",
              "    <button class=\"colab-df-convert\" onclick=\"convertToInteractive('df-e33c2aa0-c804-4847-81cb-7192b8dfa59a')\"\n",
              "            title=\"Convert this dataframe to an interactive table.\"\n",
              "            style=\"display:none;\">\n",
              "\n",
              "  <svg xmlns=\"http://www.w3.org/2000/svg\" height=\"24px\" viewBox=\"0 -960 960 960\">\n",
              "    <path d=\"M120-120v-720h720v720H120Zm60-500h600v-160H180v160Zm220 220h160v-160H400v160Zm0 220h160v-160H400v160ZM180-400h160v-160H180v160Zm440 0h160v-160H620v160ZM180-180h160v-160H180v160Zm440 0h160v-160H620v160Z\"/>\n",
              "  </svg>\n",
              "    </button>\n",
              "\n",
              "  <style>\n",
              "    .colab-df-container {\n",
              "      display:flex;\n",
              "      gap: 12px;\n",
              "    }\n",
              "\n",
              "    .colab-df-convert {\n",
              "      background-color: #E8F0FE;\n",
              "      border: none;\n",
              "      border-radius: 50%;\n",
              "      cursor: pointer;\n",
              "      display: none;\n",
              "      fill: #1967D2;\n",
              "      height: 32px;\n",
              "      padding: 0 0 0 0;\n",
              "      width: 32px;\n",
              "    }\n",
              "\n",
              "    .colab-df-convert:hover {\n",
              "      background-color: #E2EBFA;\n",
              "      box-shadow: 0px 1px 2px rgba(60, 64, 67, 0.3), 0px 1px 3px 1px rgba(60, 64, 67, 0.15);\n",
              "      fill: #174EA6;\n",
              "    }\n",
              "\n",
              "    .colab-df-buttons div {\n",
              "      margin-bottom: 4px;\n",
              "    }\n",
              "\n",
              "    [theme=dark] .colab-df-convert {\n",
              "      background-color: #3B4455;\n",
              "      fill: #D2E3FC;\n",
              "    }\n",
              "\n",
              "    [theme=dark] .colab-df-convert:hover {\n",
              "      background-color: #434B5C;\n",
              "      box-shadow: 0px 1px 3px 1px rgba(0, 0, 0, 0.15);\n",
              "      filter: drop-shadow(0px 1px 2px rgba(0, 0, 0, 0.3));\n",
              "      fill: #FFFFFF;\n",
              "    }\n",
              "  </style>\n",
              "\n",
              "    <script>\n",
              "      const buttonEl =\n",
              "        document.querySelector('#df-e33c2aa0-c804-4847-81cb-7192b8dfa59a button.colab-df-convert');\n",
              "      buttonEl.style.display =\n",
              "        google.colab.kernel.accessAllowed ? 'block' : 'none';\n",
              "\n",
              "      async function convertToInteractive(key) {\n",
              "        const element = document.querySelector('#df-e33c2aa0-c804-4847-81cb-7192b8dfa59a');\n",
              "        const dataTable =\n",
              "          await google.colab.kernel.invokeFunction('convertToInteractive',\n",
              "                                                    [key], {});\n",
              "        if (!dataTable) return;\n",
              "\n",
              "        const docLinkHtml = 'Like what you see? Visit the ' +\n",
              "          '<a target=\"_blank\" href=https://colab.research.google.com/notebooks/data_table.ipynb>data table notebook</a>'\n",
              "          + ' to learn more about interactive tables.';\n",
              "        element.innerHTML = '';\n",
              "        dataTable['output_type'] = 'display_data';\n",
              "        await google.colab.output.renderOutput(dataTable, element);\n",
              "        const docLink = document.createElement('div');\n",
              "        docLink.innerHTML = docLinkHtml;\n",
              "        element.appendChild(docLink);\n",
              "      }\n",
              "    </script>\n",
              "  </div>\n",
              "\n",
              "\n",
              "<div id=\"df-8b0c7bd6-e22c-4129-9a6b-b088b21d848f\">\n",
              "  <button class=\"colab-df-quickchart\" onclick=\"quickchart('df-8b0c7bd6-e22c-4129-9a6b-b088b21d848f')\"\n",
              "            title=\"Suggest charts\"\n",
              "            style=\"display:none;\">\n",
              "\n",
              "<svg xmlns=\"http://www.w3.org/2000/svg\" height=\"24px\"viewBox=\"0 0 24 24\"\n",
              "     width=\"24px\">\n",
              "    <g>\n",
              "        <path d=\"M19 3H5c-1.1 0-2 .9-2 2v14c0 1.1.9 2 2 2h14c1.1 0 2-.9 2-2V5c0-1.1-.9-2-2-2zM9 17H7v-7h2v7zm4 0h-2V7h2v10zm4 0h-2v-4h2v4z\"/>\n",
              "    </g>\n",
              "</svg>\n",
              "  </button>\n",
              "\n",
              "<style>\n",
              "  .colab-df-quickchart {\n",
              "      --bg-color: #E8F0FE;\n",
              "      --fill-color: #1967D2;\n",
              "      --hover-bg-color: #E2EBFA;\n",
              "      --hover-fill-color: #174EA6;\n",
              "      --disabled-fill-color: #AAA;\n",
              "      --disabled-bg-color: #DDD;\n",
              "  }\n",
              "\n",
              "  [theme=dark] .colab-df-quickchart {\n",
              "      --bg-color: #3B4455;\n",
              "      --fill-color: #D2E3FC;\n",
              "      --hover-bg-color: #434B5C;\n",
              "      --hover-fill-color: #FFFFFF;\n",
              "      --disabled-bg-color: #3B4455;\n",
              "      --disabled-fill-color: #666;\n",
              "  }\n",
              "\n",
              "  .colab-df-quickchart {\n",
              "    background-color: var(--bg-color);\n",
              "    border: none;\n",
              "    border-radius: 50%;\n",
              "    cursor: pointer;\n",
              "    display: none;\n",
              "    fill: var(--fill-color);\n",
              "    height: 32px;\n",
              "    padding: 0;\n",
              "    width: 32px;\n",
              "  }\n",
              "\n",
              "  .colab-df-quickchart:hover {\n",
              "    background-color: var(--hover-bg-color);\n",
              "    box-shadow: 0 1px 2px rgba(60, 64, 67, 0.3), 0 1px 3px 1px rgba(60, 64, 67, 0.15);\n",
              "    fill: var(--button-hover-fill-color);\n",
              "  }\n",
              "\n",
              "  .colab-df-quickchart-complete:disabled,\n",
              "  .colab-df-quickchart-complete:disabled:hover {\n",
              "    background-color: var(--disabled-bg-color);\n",
              "    fill: var(--disabled-fill-color);\n",
              "    box-shadow: none;\n",
              "  }\n",
              "\n",
              "  .colab-df-spinner {\n",
              "    border: 2px solid var(--fill-color);\n",
              "    border-color: transparent;\n",
              "    border-bottom-color: var(--fill-color);\n",
              "    animation:\n",
              "      spin 1s steps(1) infinite;\n",
              "  }\n",
              "\n",
              "  @keyframes spin {\n",
              "    0% {\n",
              "      border-color: transparent;\n",
              "      border-bottom-color: var(--fill-color);\n",
              "      border-left-color: var(--fill-color);\n",
              "    }\n",
              "    20% {\n",
              "      border-color: transparent;\n",
              "      border-left-color: var(--fill-color);\n",
              "      border-top-color: var(--fill-color);\n",
              "    }\n",
              "    30% {\n",
              "      border-color: transparent;\n",
              "      border-left-color: var(--fill-color);\n",
              "      border-top-color: var(--fill-color);\n",
              "      border-right-color: var(--fill-color);\n",
              "    }\n",
              "    40% {\n",
              "      border-color: transparent;\n",
              "      border-right-color: var(--fill-color);\n",
              "      border-top-color: var(--fill-color);\n",
              "    }\n",
              "    60% {\n",
              "      border-color: transparent;\n",
              "      border-right-color: var(--fill-color);\n",
              "    }\n",
              "    80% {\n",
              "      border-color: transparent;\n",
              "      border-right-color: var(--fill-color);\n",
              "      border-bottom-color: var(--fill-color);\n",
              "    }\n",
              "    90% {\n",
              "      border-color: transparent;\n",
              "      border-bottom-color: var(--fill-color);\n",
              "    }\n",
              "  }\n",
              "</style>\n",
              "\n",
              "  <script>\n",
              "    async function quickchart(key) {\n",
              "      const quickchartButtonEl =\n",
              "        document.querySelector('#' + key + ' button');\n",
              "      quickchartButtonEl.disabled = true;  // To prevent multiple clicks.\n",
              "      quickchartButtonEl.classList.add('colab-df-spinner');\n",
              "      try {\n",
              "        const charts = await google.colab.kernel.invokeFunction(\n",
              "            'suggestCharts', [key], {});\n",
              "      } catch (error) {\n",
              "        console.error('Error during call to suggestCharts:', error);\n",
              "      }\n",
              "      quickchartButtonEl.classList.remove('colab-df-spinner');\n",
              "      quickchartButtonEl.classList.add('colab-df-quickchart-complete');\n",
              "    }\n",
              "    (() => {\n",
              "      let quickchartButtonEl =\n",
              "        document.querySelector('#df-8b0c7bd6-e22c-4129-9a6b-b088b21d848f button');\n",
              "      quickchartButtonEl.style.display =\n",
              "        google.colab.kernel.accessAllowed ? 'block' : 'none';\n",
              "    })();\n",
              "  </script>\n",
              "</div>\n",
              "    </div>\n",
              "  </div>\n"
            ],
            "application/vnd.google.colaboratory.intrinsic+json": {
              "type": "dataframe",
              "variable_name": "titanic_df",
              "summary": "{\n  \"name\": \"titanic_df\",\n  \"rows\": 891,\n  \"fields\": [\n    {\n      \"column\": \"survived\",\n      \"properties\": {\n        \"dtype\": \"number\",\n        \"std\": 0,\n        \"min\": 0,\n        \"max\": 1,\n        \"num_unique_values\": 2,\n        \"samples\": [\n          1,\n          0\n        ],\n        \"semantic_type\": \"\",\n        \"description\": \"\"\n      }\n    },\n    {\n      \"column\": \"pclass\",\n      \"properties\": {\n        \"dtype\": \"number\",\n        \"std\": 0,\n        \"min\": 1,\n        \"max\": 3,\n        \"num_unique_values\": 3,\n        \"samples\": [\n          3,\n          1\n        ],\n        \"semantic_type\": \"\",\n        \"description\": \"\"\n      }\n    },\n    {\n      \"column\": \"sex\",\n      \"properties\": {\n        \"dtype\": \"category\",\n        \"num_unique_values\": 2,\n        \"samples\": [\n          \"female\",\n          \"male\"\n        ],\n        \"semantic_type\": \"\",\n        \"description\": \"\"\n      }\n    },\n    {\n      \"column\": \"age\",\n      \"properties\": {\n        \"dtype\": \"number\",\n        \"std\": 14.526497332334042,\n        \"min\": 0.42,\n        \"max\": 80.0,\n        \"num_unique_values\": 88,\n        \"samples\": [\n          0.75,\n          22.0\n        ],\n        \"semantic_type\": \"\",\n        \"description\": \"\"\n      }\n    },\n    {\n      \"column\": \"sibsp\",\n      \"properties\": {\n        \"dtype\": \"number\",\n        \"std\": 1,\n        \"min\": 0,\n        \"max\": 8,\n        \"num_unique_values\": 7,\n        \"samples\": [\n          1,\n          0\n        ],\n        \"semantic_type\": \"\",\n        \"description\": \"\"\n      }\n    },\n    {\n      \"column\": \"parch\",\n      \"properties\": {\n        \"dtype\": \"number\",\n        \"std\": 0,\n        \"min\": 0,\n        \"max\": 6,\n        \"num_unique_values\": 7,\n        \"samples\": [\n          0,\n          1\n        ],\n        \"semantic_type\": \"\",\n        \"description\": \"\"\n      }\n    },\n    {\n      \"column\": \"fare\",\n      \"properties\": {\n        \"dtype\": \"number\",\n        \"std\": 49.6934285971809,\n        \"min\": 0.0,\n        \"max\": 512.3292,\n        \"num_unique_values\": 248,\n        \"samples\": [\n          11.2417,\n          51.8625\n        ],\n        \"semantic_type\": \"\",\n        \"description\": \"\"\n      }\n    },\n    {\n      \"column\": \"embarked\",\n      \"properties\": {\n        \"dtype\": \"category\",\n        \"num_unique_values\": 3,\n        \"samples\": [\n          \"S\",\n          \"C\"\n        ],\n        \"semantic_type\": \"\",\n        \"description\": \"\"\n      }\n    },\n    {\n      \"column\": \"class\",\n      \"properties\": {\n        \"dtype\": \"category\",\n        \"num_unique_values\": 3,\n        \"samples\": [\n          \"Third\",\n          \"First\"\n        ],\n        \"semantic_type\": \"\",\n        \"description\": \"\"\n      }\n    },\n    {\n      \"column\": \"who\",\n      \"properties\": {\n        \"dtype\": \"category\",\n        \"num_unique_values\": 3,\n        \"samples\": [\n          \"man\",\n          \"woman\"\n        ],\n        \"semantic_type\": \"\",\n        \"description\": \"\"\n      }\n    },\n    {\n      \"column\": \"adult_male\",\n      \"properties\": {\n        \"dtype\": \"boolean\",\n        \"num_unique_values\": 2,\n        \"samples\": [\n          false,\n          true\n        ],\n        \"semantic_type\": \"\",\n        \"description\": \"\"\n      }\n    },\n    {\n      \"column\": \"deck\",\n      \"properties\": {\n        \"dtype\": \"category\",\n        \"num_unique_values\": 7,\n        \"samples\": [\n          \"C\",\n          \"E\"\n        ],\n        \"semantic_type\": \"\",\n        \"description\": \"\"\n      }\n    },\n    {\n      \"column\": \"embark_town\",\n      \"properties\": {\n        \"dtype\": \"category\",\n        \"num_unique_values\": 3,\n        \"samples\": [\n          \"Southampton\",\n          \"Cherbourg\"\n        ],\n        \"semantic_type\": \"\",\n        \"description\": \"\"\n      }\n    },\n    {\n      \"column\": \"alive\",\n      \"properties\": {\n        \"dtype\": \"category\",\n        \"num_unique_values\": 2,\n        \"samples\": [\n          \"yes\",\n          \"no\"\n        ],\n        \"semantic_type\": \"\",\n        \"description\": \"\"\n      }\n    },\n    {\n      \"column\": \"alone\",\n      \"properties\": {\n        \"dtype\": \"boolean\",\n        \"num_unique_values\": 2,\n        \"samples\": [\n          true,\n          false\n        ],\n        \"semantic_type\": \"\",\n        \"description\": \"\"\n      }\n    }\n  ]\n}"
            }
          },
          "metadata": {},
          "execution_count": 2
        }
      ],
      "source": [
        "# Import necessary libraries\n",
        "import seaborn as sns\n",
        "import pandas as pd\n",
        "import numpy as np\n",
        "import matplotlib.pyplot as plt\n",
        "\n",
        "# Load the Titanic dataset\n",
        "titanic_df = sns.load_dataset(\"titanic\")\n",
        "\n",
        "# Display the first few rows of the dataset\n",
        "titanic_df.head()"
      ]
    },
    {
      "cell_type": "markdown",
      "source": [
        "# Descriptive Statistics"
      ],
      "metadata": {
        "id": "SmYr1jDl1QaC"
      }
    },
    {
      "cell_type": "code",
      "source": [
        "# 1. Passenger Count\n",
        "passenger_count = len(titanic_df)"
      ],
      "metadata": {
        "id": "LlDIzZ-K1OQk"
      },
      "execution_count": 5,
      "outputs": []
    },
    {
      "cell_type": "code",
      "source": [
        "# 2. Passenger Age\n",
        "mean_age = titanic_df['age'].mean()\n",
        "median_age = titanic_df['age'].median()\n",
        "std_age = titanic_df['age'].std()\n",
        "age_range = (titanic_df['age'].min(), titanic_df['age'].max())\n",
        "missing_age_percentage = titanic_df['age'].isnull().mean() * 100\n",
        "\n",
        "\n",
        "# Display Descriptive Statistics\n",
        "print(\"Passenger Count:\", passenger_count)\n",
        "print(\"Mean Age:\", mean_age)\n",
        "print(\"Median Age:\", median_age)\n",
        "print(\"Standard Deviation of Age:\", std_age)\n",
        "print(\"Age Range:\", age_range)\n",
        "print(\"Percentage of Missing Age Values:\", missing_age_percentage)"
      ],
      "metadata": {
        "colab": {
          "base_uri": "https://localhost:8080/"
        },
        "id": "wvXVlHRh1OaK",
        "outputId": "76a0aabf-8cb2-4ba3-fe9d-828c7c8c9257"
      },
      "execution_count": 6,
      "outputs": [
        {
          "output_type": "stream",
          "name": "stdout",
          "text": [
            "Passenger Count: 891\n",
            "Mean Age: 29.69911764705882\n",
            "Median Age: 28.0\n",
            "Standard Deviation of Age: 14.526497332334042\n",
            "Age Range: (0.42, 80.0)\n",
            "Percentage of Missing Age Values: 19.865319865319865\n"
          ]
        }
      ]
    },
    {
      "cell_type": "code",
      "source": [
        "# 3. Passenger Fare\n",
        "mean_fare = titanic_df['fare'].mean()\n",
        "median_fare = titanic_df['fare'].median()\n",
        "std_fare = titanic_df['fare'].std()\n",
        "fare_range = (titanic_df['fare'].min(), titanic_df['fare'].max())\n",
        "missing_fare_percentage = titanic_df['fare'].isnull().mean() * 100\n",
        "\n",
        "\n",
        "print(\"Mean Fare:\", mean_fare)\n",
        "print(\"Median Fare:\", median_fare)\n",
        "print(\"Standard Deviation of Fare:\", std_fare)\n",
        "print(\"Fare Range:\", fare_range)\n",
        "print(\"Percentage of Missing Fare Values:\", missing_fare_percentage)"
      ],
      "metadata": {
        "colab": {
          "base_uri": "https://localhost:8080/"
        },
        "id": "gAr7o6Hj1OdA",
        "outputId": "7224ae4f-af70-4626-bc2d-9e96531418a8"
      },
      "execution_count": 7,
      "outputs": [
        {
          "output_type": "stream",
          "name": "stdout",
          "text": [
            "Mean Fare: 32.204207968574636\n",
            "Median Fare: 14.4542\n",
            "Standard Deviation of Fare: 49.6934285971809\n",
            "Fare Range: (0.0, 512.3292)\n",
            "Percentage of Missing Fare Values: 0.0\n"
          ]
        }
      ]
    },
    {
      "cell_type": "code",
      "source": [
        "# 4. Passenger Class\n",
        "class_counts = titanic_df['class'].value_counts()\n",
        "class_percentages = (class_counts / passenger_count) * 100\n",
        "\n",
        "print(\"Passenger Class Counts:\\n\", class_counts)\n",
        "print(\"Passenger Class Percentages:\\n\", class_percentages)"
      ],
      "metadata": {
        "colab": {
          "base_uri": "https://localhost:8080/"
        },
        "id": "eWfodv441Ofo",
        "outputId": "def59739-2228-41a2-8e00-59c4b32210b9"
      },
      "execution_count": 8,
      "outputs": [
        {
          "output_type": "stream",
          "name": "stdout",
          "text": [
            "Passenger Class Counts:\n",
            " class\n",
            "Third     491\n",
            "First     216\n",
            "Second    184\n",
            "Name: count, dtype: int64\n",
            "Passenger Class Percentages:\n",
            " class\n",
            "Third     55.106622\n",
            "First     24.242424\n",
            "Second    20.650954\n",
            "Name: count, dtype: float64\n"
          ]
        }
      ]
    },
    {
      "cell_type": "code",
      "source": [
        "# 5. Survival Rate\n",
        "survival_rate = titanic_df['survived'].mean() * 100\n",
        "death_rate = 100 - survival_rate\n",
        "\n",
        "print(\"Survival Rate:\", survival_rate)\n",
        "print(\"Death Rate:\", death_rate)"
      ],
      "metadata": {
        "colab": {
          "base_uri": "https://localhost:8080/"
        },
        "id": "kTP34cXv1Oh9",
        "outputId": "291c1d6a-363d-46e0-9366-5b19ad5bba07"
      },
      "execution_count": 9,
      "outputs": [
        {
          "output_type": "stream",
          "name": "stdout",
          "text": [
            "Survival Rate: 38.38383838383838\n",
            "Death Rate: 61.61616161616162\n"
          ]
        }
      ]
    },
    {
      "cell_type": "markdown",
      "source": [
        "Visualises different aspects of the Titanic dataset, including the distribution of passenger ages, distribution of passenger fares, survival rate by passenger class, survival rate by gender, and survival rate by age."
      ],
      "metadata": {
        "id": "obVqj1162YL8"
      }
    },
    {
      "cell_type": "code",
      "source": [
        "# Visualization\n",
        "\n",
        "# 1. Distribution of Passenger Ages\n",
        "plt.figure(figsize=(10, 6))\n",
        "sns.histplot(data=titanic_df, x='age', bins=20, kde=True)\n",
        "plt.title('Distribution of Passenger Ages')\n",
        "plt.xlabel('Age')\n",
        "plt.ylabel('Frequency')\n",
        "plt.show()"
      ],
      "metadata": {
        "colab": {
          "base_uri": "https://localhost:8080/",
          "height": 564
        },
        "id": "McoLgo3B1Okj",
        "outputId": "044a995c-f85f-4cc0-a7cb-5d4bf4ce499a"
      },
      "execution_count": 10,
      "outputs": [
        {
          "output_type": "display_data",
          "data": {
            "text/plain": [
              "<Figure size 1000x600 with 1 Axes>"
            ],
            "image/png": "[encoded data removed]"
          },
          "metadata": {}
        }
      ]
    },
    {
      "cell_type": "code",
      "source": [
        "# 2. Distribution of Passenger Fares\n",
        "plt.figure(figsize=(10, 6))\n",
        "sns.histplot(data=titanic_df, x='fare', bins=20, kde=True)\n",
        "plt.title('Distribution of Passenger Fares')\n",
        "plt.xlabel('Fare')\n",
        "plt.ylabel('Frequency')\n",
        "plt.show()"
      ],
      "metadata": {
        "colab": {
          "base_uri": "https://localhost:8080/",
          "height": 564
        },
        "id": "cQqGtCXV1Om6",
        "outputId": "237e42a0-27ef-4006-fcf7-070e3f2047df"
      },
      "execution_count": 12,
      "outputs": [
        {
          "output_type": "display_data",
          "data": {
            "text/plain": [
              "<Figure size 1000x600 with 1 Axes>"
            ],
            "image/png": "[encoded data removed]"
          },
          "metadata": {}
        }
      ]
    },
    {
      "cell_type": "code",
      "source": [
        "# 3. Survival Rate by Passenger Class\n",
        "plt.figure(figsize=(8, 6))\n",
        "sns.barplot(data=titanic_df, x='class', y='survived', ci=None)\n",
        "plt.title('Survival Rate by Passenger Class')\n",
        "plt.xlabel('Class')\n",
        "plt.ylabel('Survival Rate')\n",
        "plt.show()"
      ],
      "metadata": {
        "colab": {
          "base_uri": "https://localhost:8080/",
          "height": 653
        },
        "id": "ielfYtMR1OpR",
        "outputId": "71e32537-1e89-45d6-93b9-51d10db67a41"
      },
      "execution_count": 13,
      "outputs": [
        {
          "output_type": "stream",
          "name": "stderr",
          "text": [
            "<ipython-input-13-d1c4fe2c3a4a>:3: FutureWarning: \n",
            "\n",
            "The `ci` parameter is deprecated. Use `errorbar=None` for the same effect.\n",
            "\n",
            "  sns.barplot(data=titanic_df, x='class', y='survived', ci=None)\n"
          ]
        },
        {
          "output_type": "display_data",
          "data": {
            "text/plain": [
              "<Figure size 800x600 with 1 Axes>"
            ],
            "image/png": "[encoded data removed]"
          },
          "metadata": {}
        }
      ]
    },
    {
      "cell_type": "code",
      "source": [
        "# 4. Survival Rate by Gender\n",
        "plt.figure(figsize=(8, 6))\n",
        "sns.barplot(data=titanic_df, x='sex', y='survived', ci=None)\n",
        "plt.title('Survival Rate by Gender')\n",
        "plt.xlabel('Gender')\n",
        "plt.ylabel('Survival Rate')\n",
        "plt.show()"
      ],
      "metadata": {
        "colab": {
          "base_uri": "https://localhost:8080/",
          "height": 653
        },
        "id": "dNqRC7w_1Or2",
        "outputId": "d24a32ed-dfd5-48ca-9d68-4c8ba40d169e"
      },
      "execution_count": 14,
      "outputs": [
        {
          "output_type": "stream",
          "name": "stderr",
          "text": [
            "<ipython-input-14-d76b6638ee3c>:3: FutureWarning: \n",
            "\n",
            "The `ci` parameter is deprecated. Use `errorbar=None` for the same effect.\n",
            "\n",
            "  sns.barplot(data=titanic_df, x='sex', y='survived', ci=None)\n"
          ]
        },
        {
          "output_type": "display_data",
          "data": {
            "text/plain": [
              "<Figure size 800x600 with 1 Axes>"
            ],
            "image/png": "[encoded data removed]"
          },
          "metadata": {}
        }
      ]
    },
    {
      "cell_type": "code",
      "source": [
        "# Create age bins\n",
        "age_bins = pd.cut(titanic_df['age'], bins=range(0, 90, 10), right=False)\n",
        "\n",
        "# Calculate survival rate for each age bin\n",
        "survival_by_age = titanic_df.groupby(age_bins)['survived'].mean().reset_index()\n",
        "\n",
        "# Visualization: Survival Rate by Age (Bar Plot)\n",
        "plt.figure(figsize=(10, 6))\n",
        "sns.barplot(data=survival_by_age, x='age', y='survived', color='skyblue')\n",
        "plt.title('Survival Rate by Age')\n",
        "plt.xlabel('Age Group')\n",
        "plt.ylabel('Survival Rate')\n",
        "plt.xticks(rotation=45)\n",
        "plt.show()\n"
      ],
      "metadata": {
        "colab": {
          "base_uri": "https://localhost:8080/",
          "height": 599
        },
        "id": "QdF7pC-S1Out",
        "outputId": "a29b8c07-bda8-4c31-aa2c-8f216fff6a43"
      },
      "execution_count": 20,
      "outputs": [
        {
          "output_type": "display_data",
          "data": {
            "text/plain": [
              "<Figure size 1000x600 with 1 Axes>"
            ],
            "image/png": "[encoded data removed]"
          },
          "metadata": {}
        }
      ]
    },
    {
      "cell_type": "markdown",
      "source": [
        "#Analyse the variables in your dataset(s) and use appropriate inferential statistics to gain insights on possible population values . you could find a confidence interval for the population proportion.\n",
        "\n",
        "\n",
        "To analyze the variables in the Titanic dataset and gain insights into possible population values, let's focus on the variable 'sex', which represents the gender of the passengers. We'll calculate the confidence interval for the population proportion of females among all passengers."
      ],
      "metadata": {
        "id": "eb3cnqZa4oPE"
      }
    },
    {
      "cell_type": "code",
      "source": [
        "# Import necessary libraries\n",
        "from statsmodels.stats.proportion import proportion_confint"
      ],
      "metadata": {
        "id": "j1UTYGhF1OxU"
      },
      "execution_count": 21,
      "outputs": []
    },
    {
      "cell_type": "code",
      "source": [
        "# Calculate the number of female passengers\n",
        "female_passengers = titanic_df[titanic_df['sex'] == 'female'].shape[0]\n",
        "print(\"Number of Female Passengers:\", female_passengers)"
      ],
      "metadata": {
        "colab": {
          "base_uri": "https://localhost:8080/"
        },
        "id": "yY8ncEXl1Oz7",
        "outputId": "ba48f31c-ea42-4f92-daee-00d12d07ecaf"
      },
      "execution_count": 26,
      "outputs": [
        {
          "output_type": "stream",
          "name": "stdout",
          "text": [
            "Number of Female Passengers: 314\n"
          ]
        }
      ]
    },
    {
      "cell_type": "code",
      "source": [
        "# Calculate the total number of passengers\n",
        "total_passengers = titanic_df.shape[0]\n",
        "print(\"Total Number of Passengers:\", total_passengers)\n"
      ],
      "metadata": {
        "colab": {
          "base_uri": "https://localhost:8080/"
        },
        "id": "6vrA6C1_1O2i",
        "outputId": "b9915f3f-3eed-470d-b44d-973cdb2de369"
      },
      "execution_count": 27,
      "outputs": [
        {
          "output_type": "stream",
          "name": "stdout",
          "text": [
            "Total Number of Passengers: 891\n"
          ]
        }
      ]
    },
    {
      "cell_type": "code",
      "source": [
        "# Calculate the proportion of female passengers\n",
        "proportion_female = female_passengers / total_passengers\n",
        "print(\"Proportion of Female Passengers:\", proportion_female)\n"
      ],
      "metadata": {
        "colab": {
          "base_uri": "https://localhost:8080/"
        },
        "id": "lqXOfAEO5vth",
        "outputId": "710cdcea-76d6-4664-b319-3f5bceec265e"
      },
      "execution_count": 28,
      "outputs": [
        {
          "output_type": "stream",
          "name": "stdout",
          "text": [
            "Proportion of Female Passengers: 0.35241301907968575\n"
          ]
        }
      ]
    },
    {
      "cell_type": "code",
      "source": [
        "# Calculate the confidence interval for the population proportion of females\n",
        "ci_female = proportion_confint(female_passengers, total_passengers, alpha=0.05, method='normal')\n",
        "print(\"95% Confidence Interval for the Population Proportion of Females:\", ci_female)"
      ],
      "metadata": {
        "colab": {
          "base_uri": "https://localhost:8080/"
        },
        "id": "zV0HMvxP50US",
        "outputId": "1483a171-9564-4f06-b74c-70b487eeeeff"
      },
      "execution_count": 29,
      "outputs": [
        {
          "output_type": "stream",
          "name": "stdout",
          "text": [
            "95% Confidence Interval for the Population Proportion of Females: (0.3210452042496816, 0.3837808339096899)\n"
          ]
        }
      ]
    },
    {
      "cell_type": "markdown",
      "source": [
        "**Interpretation:**\n",
        "\n",
        "- Lower Bound: 0.321\n",
        "- Upper Bound: 0.384\n",
        "\n",
        "This confidence interval suggests that we can be 95% confident that the true proportion of females among all passengers on the Titanic falls within the range of approximately 32.1% to 38.4%. In other words:\n",
        "\n",
        "There is a 95% chance that the true proportion of female passengers on the Titanic is between 32.1% and 38.4%.\n",
        "\n",
        "We are fairly confident that the population proportion of females is not below 32.1% or above 38.4%.\n",
        "\n",
        "This information provides insights into the likely range of the proportion of female passengers on the Titanic, helping us better understand the gender distribution among passengers with a certain level of confidence."
      ],
      "metadata": {
        "id": "4Awc65Zd6qYZ"
      }
    },
    {
      "cell_type": "markdown",
      "source": [
        "#  Apply parametric and non-parametric inferential statistical techniques to compare them (e.g., t-test, analysis of variance, Wilcoxon test, chi-squared test, among others). You must justify your choices and verify the applicability of the tests. Hypotheses and conclusions must be clearly stated. You are expected to use at least 5 different inferential statistics tests."
      ],
      "metadata": {
        "id": "pNm-A21O7Hck"
      }
    },
    {
      "cell_type": "code",
      "source": [
        "# Import necessary libraries\n",
        "import scipy.stats as stats"
      ],
      "metadata": {
        "id": "PUQx2pmI6z1E"
      },
      "execution_count": 30,
      "outputs": []
    },
    {
      "cell_type": "markdown",
      "source": [
        "# Comparison 1: Survival Rates by Gender\n",
        "\n",
        "## Hypothesis:\n",
        "- Null Hypothesis (H0): There is no difference in the survival rates between male and female passengers.\n",
        "- Alternative Hypothesis (H1): There is a difference in the survival rates between male and female passengers.\n",
        "\n",
        "## Test Used:\n",
        "- Parametric Test: Independent t-test\n",
        "- Non-parametric Test: Mann-Whitney U test\n",
        "\n",
        "## Explanation:\n",
        "- The t-test assumes that the survival rates of male and female passengers are normally distributed, whereas the Mann-Whitney U test does not make this assumption and is suitable for non-normally distributed data or ordinal data.\n"
      ],
      "metadata": {
        "id": "07vfZpZm80z4"
      }
    },
    {
      "cell_type": "code",
      "source": [
        "# Extract survival data for male and female passengers\n",
        "male_survived = titanic_df[titanic_df['sex'] == 'male']['survived']\n",
        "female_survived = titanic_df[titanic_df['sex'] == 'female']['survived']"
      ],
      "metadata": {
        "id": "rf7tqt2Z6z3G"
      },
      "execution_count": 31,
      "outputs": []
    },
    {
      "cell_type": "code",
      "source": [
        "# Perform parametric test: Independent t-test\n",
        "t_stat_gender, p_val_gender_t = stats.ttest_ind(male_survived, female_survived)\n"
      ],
      "metadata": {
        "id": "8Kh_ISxS6z5-"
      },
      "execution_count": 32,
      "outputs": []
    },
    {
      "cell_type": "code",
      "source": [
        "# Perform non-parametric test: Mann-Whitney U test\n",
        "u_stat_gender, p_val_gender_u = stats.mannwhitneyu(male_survived, female_survived)\n"
      ],
      "metadata": {
        "id": "8MIlvTNy6z82"
      },
      "execution_count": 33,
      "outputs": []
    },
    {
      "cell_type": "code",
      "source": [
        "# Print results\n",
        "print(\"1. Comparison of Survival Rates by Gender:\")\n",
        "print(\"Parametric t-test p-value:\", p_val_gender_t)\n",
        "print(\"Non-parametric Mann-Whitney U test p-value:\", p_val_gender_u)"
      ],
      "metadata": {
        "colab": {
          "base_uri": "https://localhost:8080/"
        },
        "id": "2gEoiNb46z_M",
        "outputId": "8cc7a9a9-c238-4764-a4dc-5943d1322b49"
      },
      "execution_count": 34,
      "outputs": [
        {
          "output_type": "stream",
          "name": "stdout",
          "text": [
            "1. Comparison of Survival Rates by Gender:\n",
            "Parametric t-test p-value: 1.4060661308802594e-69\n",
            "Non-parametric Mann-Whitney U test p-value: 4.315906231881016e-59\n"
          ]
        }
      ]
    },
    {
      "cell_type": "code",
      "source": [
        "# Interpretation\n",
        "if p_val_gender_t < 0.05:\n",
        "    print(\"Parametric t-test: Reject null hypothesis. There is a significant difference in survival rates between male and female passengers.\")\n",
        "else:\n",
        "    print(\"Parametric t-test: Fail to reject null hypothesis. There is no significant difference in survival rates between male and female passengers.\")\n",
        "\n",
        "if p_val_gender_u < 0.05:\n",
        "    print(\"Non-parametric Mann-Whitney U test: Reject null hypothesis. There is a significant difference in survival rates between male and female passengers.\")\n",
        "else:\n",
        "    print(\"Non-parametric Mann-Whitney U test: Fail to reject null hypothesis. There is no significant difference in survival rates between male and female passengers.\")"
      ],
      "metadata": {
        "colab": {
          "base_uri": "https://localhost:8080/"
        },
        "id": "JUxF5qQL60B0",
        "outputId": "b8f801f9-3fe3-4c23-f91e-8d6329ebe26b"
      },
      "execution_count": 35,
      "outputs": [
        {
          "output_type": "stream",
          "name": "stdout",
          "text": [
            "Parametric t-test: Reject null hypothesis. There is a significant difference in survival rates between male and female passengers.\n",
            "Non-parametric Mann-Whitney U test: Reject null hypothesis. There is a significant difference in survival rates between male and female passengers.\n"
          ]
        }
      ]
    },
    {
      "cell_type": "markdown",
      "source": [
        "#Comparison 2: Comparison of Survival Rates by Passenger Class\n",
        "## Hypothesis:\n",
        "\n",
        "- Null Hypothesis (H0): There is no difference in survival rates among different passenger classes.\n",
        "- Alternative Hypothesis (H1): There is a difference in survival rates among different passenger classes.\n",
        "\n",
        "##Tests Used:\n",
        "\n",
        "- Parametric Test: One-way ANOVA\n",
        "- Non-parametric Test: Kruskal-Wallis H test\n",
        "\n",
        "## Explanation:\n",
        "\n",
        "- ANOVA is used to compare means across multiple groups.\n",
        "- Kruskal-Wallis H test is a non-parametric alternative to ANOVA when the assumption of normality is violated or the data is ordinal."
      ],
      "metadata": {
        "id": "xfYCNlN9-GwF"
      }
    },
    {
      "cell_type": "code",
      "source": [
        "# Extract survival data for each passenger class\n",
        "class_1_survived = titanic_df[titanic_df['class'] == 'First']['survived']\n",
        "class_2_survived = titanic_df[titanic_df['class'] == 'Second']['survived']\n",
        "class_3_survived = titanic_df[titanic_df['class'] == 'Third']['survived']"
      ],
      "metadata": {
        "id": "1F_lgN0B60Eq"
      },
      "execution_count": 36,
      "outputs": []
    },
    {
      "cell_type": "code",
      "source": [
        "# Perform parametric test: One-way ANOVA\n",
        "f_stat_class, p_val_class_f = stats.f_oneway(class_1_survived, class_2_survived, class_3_survived)\n"
      ],
      "metadata": {
        "id": "l9FsoIwn-sEj"
      },
      "execution_count": 37,
      "outputs": []
    },
    {
      "cell_type": "code",
      "source": [
        "# Perform non-parametric test: Kruskal-Wallis H test\n",
        "h_stat_class, p_val_class_h = stats.kruskal(class_1_survived, class_2_survived, class_3_survived)"
      ],
      "metadata": {
        "id": "CRVzjml3-sHJ"
      },
      "execution_count": 38,
      "outputs": []
    },
    {
      "cell_type": "code",
      "source": [
        "# Interpretation of Comparison 2: Survival Rates by Passenger Class\n",
        "print(\"2. Comparison of Survival Rates by Passenger Class:\")\n",
        "print(\"Parametric ANOVA p-value:\", p_val_class_f)\n",
        "print(\"Non-parametric Kruskal-Wallis H test p-value:\", p_val_class_h)\n",
        "\n",
        "if p_val_class_f < 0.05:\n",
        "    print(\"Parametric ANOVA: Reject null hypothesis. There is a significant difference in survival rates among passenger classes.\")\n",
        "else:\n",
        "    print(\"Parametric ANOVA: Fail to reject null hypothesis. There is no significant difference in survival rates among passenger classes.\")\n",
        "\n",
        "if p_val_class_h < 0.05:\n",
        "    print(\"Non-parametric Kruskal-Wallis H test: Reject null hypothesis. There is a significant difference in survival rates among passenger classes.\")\n",
        "else:\n",
        "    print(\"Non-parametric Kruskal-Wallis H test: Fail to reject null hypothesis. There is no significant difference in survival rates among passenger classes.\")\n",
        "print()"
      ],
      "metadata": {
        "colab": {
          "base_uri": "https://localhost:8080/"
        },
        "id": "c_3lMimY-sJw",
        "outputId": "c782aaeb-1630-4a28-ab1a-72cea6607c3a"
      },
      "execution_count": 39,
      "outputs": [
        {
          "output_type": "stream",
          "name": "stdout",
          "text": [
            "2. Comparison of Survival Rates by Passenger Class:\n",
            "Parametric ANOVA p-value: 2.1832474151179777e-24\n",
            "Non-parametric Kruskal-Wallis H test p-value: 4.819647000539969e-23\n",
            "Parametric ANOVA: Reject null hypothesis. There is a significant difference in survival rates among passenger classes.\n",
            "Non-parametric Kruskal-Wallis H test: Reject null hypothesis. There is a significant difference in survival rates among passenger classes.\n",
            "\n"
          ]
        }
      ]
    },
    {
      "cell_type": "markdown",
      "source": [
        "# Comparison 3: Comparison of Survival Rates by Embarked Port\n",
        "\n",
        "## Hypothesis:\n",
        "\n",
        "- Null Hypothesis (H0): There is no association between the port of embarkation and survival rates.\n",
        "- Alternative Hypothesis (H1): There is an association between the port of embarkation and survival rates.\n",
        "\n",
        "##Tests Used:\n",
        "\n",
        "- Parametric Test: Chi-squared test for independence\n",
        "- Non-parametric Test: Not applicable\n",
        "\n",
        "##Explanation:\n",
        "\n",
        "- Chi-squared test for independence is used to determine if there is a significant association between two categorical variables.\n",
        "\n",
        "- The Mann-Whitney U test is not suitable for this scenario. It is typically used to compare two independent groups when the outcome variable is continuous or ordinal, not categorical."
      ],
      "metadata": {
        "id": "ELRVMJvV_QFf"
      }
    },
    {
      "cell_type": "code",
      "source": [
        "# Create a contingency table for survival by embarked port\n",
        "embarked_survived = pd.crosstab(titanic_df['embarked'], titanic_df['survived'])\n",
        "\n",
        "# Perform parametric test: Chi-squared test for independence\n",
        "chi2_stat_embarked, p_val_embarked_chi2, _, _ = stats.chi2_contingency(embarked_survived)\n",
        "\n",
        "# Perform non-parametric test: Chi-squared test for independence\n",
        "chi2_stat_embarked_u, p_val_embarked_chi2_u = stats.mannwhitneyu(embarked_survived.iloc[0], embarked_survived.iloc[1])\n"
      ],
      "metadata": {
        "id": "Cz421S2O-sMW"
      },
      "execution_count": 40,
      "outputs": []
    },
    {
      "cell_type": "code",
      "source": [
        "# Interpretation of Comparison 3: Survival Rates by Embarked Port\n",
        "print(\"3. Comparison of Survival Rates by Embarked Port:\")\n",
        "print(\"Parametric Chi-squared test p-value:\", p_val_embarked_chi2)\n",
        "\n",
        "\n",
        "if p_val_embarked_chi2 < 0.05:\n",
        "    print(\"Parametric Chi-squared test: Reject null hypothesis. There is a significant association between the port of embarkation and survival rates.\")\n",
        "else:\n",
        "    print(\"Parametric Chi-squared test: Fail to reject null hypothesis. There is no significant association between the port of embarkation and survival rates.\")\n",
        "\n"
      ],
      "metadata": {
        "colab": {
          "base_uri": "https://localhost:8080/"
        },
        "id": "zsS3mCaP-sX1",
        "outputId": "2fb87c27-5b54-4fa6-9bb7-d0f2da6d5e12"
      },
      "execution_count": 42,
      "outputs": [
        {
          "output_type": "stream",
          "name": "stdout",
          "text": [
            "3. Comparison of Survival Rates by Embarked Port:\n",
            "Parametric Chi-squared test p-value: 1.769922284120912e-06\n",
            "Parametric Chi-squared test: Reject null hypothesis. There is a significant association between the port of embarkation and survival rates.\n"
          ]
        }
      ]
    },
    {
      "cell_type": "markdown",
      "source": [
        "# Comparison 4: Comparison of Fare by Passenger Class\n",
        "\n",
        "##Hypothesis:\n",
        "\n",
        "- Null Hypothesis (H0): There is no difference in fare prices among different passenger classes.\n",
        "- Alternative Hypothesis (H1): There is a difference in fare prices among different passenger classes.\n",
        "\n",
        "##Tests Used:\n",
        "\n",
        "- Parametric Test: Independent t-test\n",
        "- Non-parametric Test: Mann-Whitney U test\n",
        "\n",
        "## Explanation:\n",
        "\n",
        "- Independent t-test is used to compare means between two independent groups.\n",
        "- Mann-Whitney U test is a non-parametric alternative to the independent t-test when the assumptions are not met."
      ],
      "metadata": {
        "id": "u1uoIeKiBJY4"
      }
    },
    {
      "cell_type": "code",
      "source": [
        "# Extract fare data for each passenger class\n",
        "class_1_fare = titanic_df[titanic_df['class'] == 'First']['fare']\n",
        "class_2_fare = titanic_df[titanic_df['class'] == 'Second']['fare']\n",
        "class_3_fare = titanic_df[titanic_df['class'] == 'Third']['fare']\n",
        "\n",
        "# Perform parametric test: Independent t-test\n",
        "t_stat_fare, p_val_fare_t = stats.ttest_ind(class_1_fare, class_2_fare)\n",
        "\n",
        "# Perform non-parametric test: Mann-Whitney U test\n",
        "u_stat_fare, p_val_fare_u = stats.mannwhitneyu(class_1_fare, class_2_fare)\n"
      ],
      "metadata": {
        "id": "AOyS6qQUBIjO"
      },
      "execution_count": 43,
      "outputs": []
    },
    {
      "cell_type": "code",
      "source": [
        "# Interpretation of Comparison 4: Comparison of Fare by Passenger Class\n",
        "print(\"4. Comparison of Fare by Passenger Class:\")\n",
        "print(\"Parametric t-test p-value:\", p_val_fare_t)\n",
        "print(\"Non-parametric Mann-Whitney U test p-value:\", p_val_fare_u)\n",
        "\n",
        "if p_val_fare_t < 0.05:\n",
        "    print(\"Parametric t-test: Reject null hypothesis. There is a significant difference in fare prices among passenger classes.\")\n",
        "else:\n",
        "    print(\"Parametric t-test: Fail to reject null hypothesis. There is no significant difference in fare prices among passenger classes.\")\n",
        "\n",
        "if p_val_fare_u < 0.05:\n",
        "    print(\"Non-parametric Mann-Whitney U test: Reject null hypothesis. There is a significant difference in fare prices among passenger classes.\")\n",
        "else:\n",
        "    print(\"Non-parametric Mann-Whitney U test: Fail to reject null hypothesis. There is no significant difference in fare prices among passenger classes.\")"
      ],
      "metadata": {
        "colab": {
          "base_uri": "https://localhost:8080/"
        },
        "id": "p3jhsM3_Boul",
        "outputId": "1ca392af-354c-415d-b516-e00d5b521742"
      },
      "execution_count": 44,
      "outputs": [
        {
          "output_type": "stream",
          "name": "stdout",
          "text": [
            "4. Comparison of Fare by Passenger Class:\n",
            "Parametric t-test p-value: 3.303644173119574e-24\n",
            "Non-parametric Mann-Whitney U test p-value: 4.760107632647433e-47\n",
            "Parametric t-test: Reject null hypothesis. There is a significant difference in fare prices among passenger classes.\n",
            "Non-parametric Mann-Whitney U test: Reject null hypothesis. There is a significant difference in fare prices among passenger classes.\n"
          ]
        }
      ]
    },
    {
      "cell_type": "markdown",
      "source": [
        "#When to choose the hypothesis test\n",
        "\n",
        "## Independent t-test:\n",
        "- Use: Comparing means of two independent groups.\n",
        "- When to Choose: When comparing means of continuous variables between two independent groups, and the data meet the assumptions of normality and homogeneity of variance.\n",
        "\n",
        "## Mann-Whitney U test:\n",
        "- Use: Non-parametric alternative to the independent t-test.\n",
        "- When to Choose: When comparing distributions of continuous or ordinal variables between two independent groups, and the data do not meet the assumptions of normality and homogeneity of variance.\n",
        "\n",
        "## One-way ANOVA:\n",
        "- Use: Comparing means of three or more independent groups.\n",
        "- When to Choose: When comparing means of continuous variables among multiple independent groups (more than two), and the data meet the assumptions of normality and homogeneity of variance.\n",
        "\n",
        "##Kruskal-Wallis H test:\n",
        "- Use: Non-parametric alternative to one-way ANOVA.\n",
        "- When to Choose: When comparing distributions of continuous or ordinal variables among multiple independent groups (more than two), and the data do not meet the assumptions of normality and homogeneity of variance.\n",
        "\n",
        "##Chi-squared test for independence:\n",
        "- Use: Assessing the association between two categorical variables.\n",
        "- When to Choose: When analyzing the association between two categorical variables, and the data consist of counts or frequencies."
      ],
      "metadata": {
        "id": "XSiY3_9KCnhQ"
      }
    },
    {
      "cell_type": "markdown",
      "source": [
        "#Task Description:\n",
        "\n",
        "Your task is to explore and analyze the Wine dataset using descriptive statistics and hypothesis testing techniques.\n",
        "You are required to perform the following tasks:\n",
        "\n",
        "\n",
        "##Step-by-Step Task Description:\n",
        "\n",
        "- Dataset Selection: Choose the Wine dataset from scikit-learn (sklearn.datasets.load_wine).\n",
        "- Data Exploration: Explore the dataset to understand its structure, summary statistics, and variable distributions.\n",
        "- Descriptive Statistics and Visualization: Compute descriptive statistics and create visualizations (e.g., histograms, box plots) for key variables.\n",
        "- Hypothesis Formulation: Formulate hypotheses to compare variables across different wine cultivars.\n",
        "- Hypothesis Testing: Select appropriate statistical tests (e.g., ANOVA, t-tests) and conduct hypothesis tests."
      ],
      "metadata": {
        "id": "UvESmwHWGNb7"
      }
    },
    {
      "cell_type": "code",
      "source": [],
      "metadata": {
        "id": "a3MeQ_eGF-l5"
      },
      "execution_count": null,
      "outputs": []
    },
    {
      "cell_type": "code",
      "source": [],
      "metadata": {
        "id": "OpcrkOILDQzu"
      },
      "execution_count": null,
      "outputs": []
    }
  ]
}