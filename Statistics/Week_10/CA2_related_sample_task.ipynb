{
  "nbformat": 4,
  "nbformat_minor": 0,
  "metadata": {
    "colab": {
      "provenance": []
    },
    "kernelspec": {
      "name": "python3",
      "display_name": "Python 3"
    },
    "language_info": {
      "name": "python"
    }
  },
  "cells": [
    {
      "cell_type": "markdown",
      "source": [
        "#Task Description:\n",
        "\n",
        "Your task is to explore and analyze the Wine dataset using descriptive statistics and hypothesis testing techniques.\n",
        "You are required to perform the following tasks:\n",
        "\n",
        "\n",
        "##Step-by-Step Task Description:\n",
        "\n",
        "- Dataset Selection: Choose the Wine dataset from scikit-learn (sklearn.datasets.load_wine).\n",
        "- Data Exploration: Explore the dataset to understand its structure, summary statistics, and variable distributions.\n",
        "- Descriptive Statistics and Visualization: Compute descriptive statistics and create visualizations (e.g., histograms, box plots) for key variables.\n",
        "- Hypothesis Formulation: Formulate hypotheses to compare variables across different wine cultivars.\n",
        "- Hypothesis Testing: Select appropriate statistical tests (e.g., ANOVA, t-tests) and conduct hypothesis tests."
      ],
      "metadata": {
        "id": "lwOPeDt5HksH"
      }
    },
    {
      "cell_type": "code",
      "source": [],
      "metadata": {
        "id": "0DSyRL5MHnO4"
      },
      "execution_count": null,
      "outputs": []
    }
  ]
}