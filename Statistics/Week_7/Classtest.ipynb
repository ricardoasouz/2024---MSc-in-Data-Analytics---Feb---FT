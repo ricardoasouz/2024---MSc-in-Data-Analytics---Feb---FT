{
 "cells": [
  {
   "cell_type": "markdown",
   "id": "277b58ce",
   "metadata": {},
   "source": [
    "### Task: Implement and evaluate the performance of a decision tree classification model on the scikit-learn inbuilt wine dataset to classify wine classes such as class1, class2, and class3. \n",
    "\n",
    "\n",
    "The following steps to be performed to complete this task."
   ]
  },
  {
   "cell_type": "markdown",
   "id": "e9e269f3",
   "metadata": {},
   "source": [
    "### Step 1: Import all libraries required to complete this task."
   ]
  },
  {
   "cell_type": "code",
   "execution_count": 7,
   "id": "f06c2491",
   "metadata": {},
   "outputs": [],
   "source": []
  },
  {
   "cell_type": "markdown",
   "id": "65611f67",
   "metadata": {},
   "source": [
    "### Step 2: Load wine dataset from scikit learn using function \"datasets.load_wine()\""
   ]
  },
  {
   "cell_type": "code",
   "execution_count": 58,
   "id": "32604883",
   "metadata": {},
   "outputs": [],
   "source": []
  },
  {
   "cell_type": "markdown",
   "id": "3520b54f",
   "metadata": {},
   "source": [
    "### Step 3: create objects x and y to store the data and the target value. Convert these objects into dataframe using pd.DataFrame() function and name these dataframe as independent and dependent variable."
   ]
  },
  {
   "cell_type": "code",
   "execution_count": 12,
   "id": "3180e8d1",
   "metadata": {},
   "outputs": [],
   "source": []
  },
  {
   "cell_type": "code",
   "execution_count": null,
   "id": "21605b24",
   "metadata": {},
   "outputs": [],
   "source": []
  },
  {
   "cell_type": "markdown",
   "id": "a9c3fcce",
   "metadata": {},
   "source": [
    "### Step 4: Use train_test_split() to plit the dataset into 80% training and 20% testing."
   ]
  },
  {
   "cell_type": "code",
   "execution_count": null,
   "id": "0dfbdd2e",
   "metadata": {},
   "outputs": [],
   "source": [
    "\n"
   ]
  },
  {
   "cell_type": "markdown",
   "id": "376c4f88",
   "metadata": {},
   "source": [
    "### Step 5: Train decision tree classification model using training data and predict the wine classes of unseen testing data."
   ]
  },
  {
   "cell_type": "code",
   "execution_count": 59,
   "id": "179001b4",
   "metadata": {},
   "outputs": [],
   "source": [
    "\n"
   ]
  },
  {
   "cell_type": "markdown",
   "id": "44ed24bc",
   "metadata": {},
   "source": [
    "### Step 6: Generate the classification report and confusion matrix of decision tree classification model."
   ]
  },
  {
   "cell_type": "code",
   "execution_count": null,
   "id": "57bd16be",
   "metadata": {},
   "outputs": [],
   "source": [
    "\n"
   ]
  },
  {
   "cell_type": "code",
   "execution_count": null,
   "id": "4cbc86f4",
   "metadata": {},
   "outputs": [],
   "source": []
  }
 ],
 "metadata": {
  "kernelspec": {
   "display_name": "Python 3 (ipykernel)",
   "language": "python",
   "name": "python3"
  },
  "language_info": {
   "codemirror_mode": {
    "name": "ipython",
    "version": 3
   },
   "file_extension": ".py",
   "mimetype": "text/x-python",
   "name": "python",
   "nbconvert_exporter": "python",
   "pygments_lexer": "ipython3",
   "version": "3.9.12"
  }
 },
 "nbformat": 4,
 "nbformat_minor": 5
}
