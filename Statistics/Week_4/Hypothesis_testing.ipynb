{
  "nbformat": 4,
  "nbformat_minor": 0,
  "metadata": {
    "colab": {
      "provenance": []
    },
    "kernelspec": {
      "name": "python3",
      "display_name": "Python 3"
    },
    "language_info": {
      "name": "python"
    }
  },
  "cells": [
    {
      "cell_type": "markdown",
      "source": [
        "##Hypotheis Testing"
      ],
      "metadata": {
        "id": "q8R1di-8B6sG"
      }
    },
    {
      "cell_type": "code",
      "execution_count": 7,
      "metadata": {
        "id": "3gH9j7q4BqO9"
      },
      "outputs": [],
      "source": [
        "# import library packages\n",
        "import numpy as np\n",
        "from scipy.stats import ttest_ind"
      ]
    },
    {
      "cell_type": "code",
      "source": [
        "# Generate random data for two samples\n",
        "np.random.seed(42)  # For reproducibility\n",
        "sample1 = np.random.normal(loc=5, scale=2, size=100)  # Sample 1 with mean 5 and standard deviation 2\n",
        "sample2 = np.random.normal(loc=6, scale=2, size=100)  # Sample 2 with mean 6 and standard deviation 2\n"
      ],
      "metadata": {
        "id": "2rJzKvvjCPQz"
      },
      "execution_count": 2,
      "outputs": []
    },
    {
      "cell_type": "code",
      "source": [
        "# Calculate sample statistics\n",
        "mean1 = np.mean(sample1)\n",
        "mean2 = np.mean(sample2)\n",
        "std_dev1 = np.std(sample1, ddof=1)  # Use Bessel's correction by setting ddof=1 for sample standard deviation\n",
        "std_dev2 = np.std(sample2, ddof=1)\n",
        "n1 = len(sample1)\n",
        "n2 = len(sample2)"
      ],
      "metadata": {
        "id": "Lve9y-nrCX3V"
      },
      "execution_count": 3,
      "outputs": []
    },
    {
      "cell_type": "code",
      "source": [
        "# Perform two-sample t-test\n",
        "# Null Hypothesis: The means of the two samples are equal\n",
        "# Alternative Hypothesis: The means of the two samples are not equal\n",
        "t_stat, p_value = ttest_ind(sample1, sample2)"
      ],
      "metadata": {
        "id": "2gOQCs73CekA"
      },
      "execution_count": 8,
      "outputs": []
    },
    {
      "cell_type": "code",
      "source": [
        "# Print results\n",
        "print(\"T-statistic:\", t_stat)\n",
        "print(\"P-value:\", p_value)"
      ],
      "metadata": {
        "colab": {
          "base_uri": "https://localhost:8080/"
        },
        "id": "mGVelNgoCy6m",
        "outputId": "1f88cf45-6973-429e-bdb5-ec3dedda9c20"
      },
      "execution_count": 9,
      "outputs": [
        {
          "output_type": "stream",
          "name": "stdout",
          "text": [
            "T-statistic: -4.75469594350529\n",
            "P-value: 3.8191352626793134e-06\n"
          ]
        }
      ]
    },
    {
      "cell_type": "code",
      "source": [
        "# Interpretation of results\n",
        "alpha = 0.05\n",
        "if p_value < alpha:\n",
        "    print(\"\\nReject the null hypothesis. There is sufficient evidence to conclude that the means of the two samples are not equal.\")\n",
        "else:\n",
        "    print(\"\\nFail to reject the null hypothesis. There is not enough evidence to conclude that the means of the two samples are different.\")"
      ],
      "metadata": {
        "colab": {
          "base_uri": "https://localhost:8080/"
        },
        "id": "ZTosQeUmC2Gd",
        "outputId": "b360d9d8-f0bf-4eb2-a63e-64508fce2d86"
      },
      "execution_count": 10,
      "outputs": [
        {
          "output_type": "stream",
          "name": "stdout",
          "text": [
            "\n",
            "Reject the null hypothesis. There is sufficient evidence to conclude that the means of the two samples are not equal.\n"
          ]
        }
      ]
    },
    {
      "cell_type": "markdown",
      "source": [
        "**Example 2:** Perform two-sample t-test\n",
        "Null Hypothesis: The means of the two samples are equal <br>\n",
        "Alternative Hypothesis: The means of the two samples are not equal <br>"
      ],
      "metadata": {
        "id": "8mQkOuXNDKrY"
      }
    },
    {
      "cell_type": "code",
      "source": [
        "import numpy as np\n",
        "from scipy.stats import ttest_ind\n",
        "from sklearn.datasets import load_iris\n",
        "\n",
        "# Load the Iris dataset\n",
        "iris_data = load_iris()\n",
        "\n",
        "# Select two random classes of iris flowers\n",
        "np.random.seed(42)  # For reproducibility\n",
        "class1 = np.random.randint(0, 3)\n",
        "class2 = np.random.randint(0, 3)\n",
        "while class2 == class1:\n",
        "    class2 = np.random.randint(0, 3)\n",
        "\n",
        "# Get samples of a specific feature for the selected classes\n",
        "feature_idx = 0  # Selecting the first feature (sepal length) for demonstration\n",
        "samples_class1 = iris_data.data[iris_data.target == class1, feature_idx]\n",
        "samples_class2 = iris_data.data[iris_data.target == class2, feature_idx]\n",
        "\n",
        "# Perform two-sample t-test\n",
        "# Null Hypothesis: The means of the two samples are equal\n",
        "# Alternative Hypothesis: The means of the two samples are not equal\n",
        "t_stat, p_value = ttest_ind(samples_class1, samples_class2)\n",
        "\n",
        "# Print results\n",
        "print(\"T-statistic:\", t_stat)\n",
        "print(\"P-value:\", p_value)\n",
        "\n",
        "# Interpretation of results\n",
        "alpha = 0.05\n",
        "if p_value < alpha:\n",
        "    print(\"\\nReject the null hypothesis. There is sufficient evidence to conclude that the means of the two samples are not equal.\")\n",
        "else:\n",
        "    print(\"\\nFail to reject the null hypothesis. There is not enough evidence to conclude that the means of the two samples are different.\")\n"
      ],
      "metadata": {
        "colab": {
          "base_uri": "https://localhost:8080/"
        },
        "id": "ZYEVBetXDKFZ",
        "outputId": "9de44895-226e-43db-c56e-187fea1f778b"
      },
      "execution_count": 12,
      "outputs": [
        {
          "output_type": "stream",
          "name": "stdout",
          "text": [
            "T-statistic: 15.386195820079404\n",
            "P-value: 6.892546060674059e-28\n",
            "\n",
            "Reject the null hypothesis. There is sufficient evidence to conclude that the means of the two samples are not equal.\n"
          ]
        }
      ]
    },
    {
      "cell_type": "markdown",
      "source": [
        "#Task\n",
        "\n",
        "In this task, you will perform hypothesis testing using the Boston housing dataset. You will investigate whether there is a significant difference in the median house prices between houses located near the Charles River (CHAS = 1) and those not located near the river (CHAS = 0).<br>\n",
        "The following steps to perform:<br>\n",
        "1. Load the Boston housing dataset from scikit-learn.  **boston_data = load_boston()**\n",
        "2. Create a Pandas DataFrame from the dataset.\n",
        "3. Extract samples of median house prices for houses near and not near the Charles River.\n",
        "4. Perform a two-sample t-test to compare the median house prices between houses near and not near the Charles River.\n",
        "\n"
      ],
      "metadata": {
        "id": "-CguAUaVEtw1"
      }
    },
    {
      "cell_type": "code",
      "source": [],
      "metadata": {
        "id": "yyH4zcEhFaqM"
      },
      "execution_count": null,
      "outputs": []
    }
  ]
}