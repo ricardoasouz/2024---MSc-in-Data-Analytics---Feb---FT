{
 "cells": [
  {
   "attachments": {},
   "cell_type": "markdown",
   "id": "298c6ad8",
   "metadata": {},
   "source": [
    "# Population and sampling\n",
    "\n",
    "A sample is a subset of data from a larger data set; statisticians call this larger data set the population. A population in statistics is a large, defined (but sometimes theoretical or imaginary) set of data.\n",
    "\n",
    "If sampling is done with replacement.\n",
    "        Total number of samples = N ^n\n",
    "If sampling is done without-replacement\n",
    "        Total number of samples = C(N,n)\n",
    "        "
   ]
  },
  {
   "cell_type": "code",
   "execution_count": null,
   "id": "489e4bd8",
   "metadata": {},
   "outputs": [],
   "source": [
    "#sample size n = 2\n",
    "# Number of all possible samples = N x N = 5 x 5 = 25"
   ]
  },
  {
   "cell_type": "markdown",
   "id": "353d00e0",
   "metadata": {},
   "source": [
    "step1: Import all libraries"
   ]
  },
  {
   "cell_type": "code",
   "execution_count": 2,
   "id": "74031a50",
   "metadata": {},
   "outputs": [],
   "source": [
    "import numpy as np\n",
    "import pandas as pd\n",
    "from itertools import product, combinations\n",
    "import matplotlib.pyplot as plt"
   ]
  },
  {
   "cell_type": "markdown",
   "id": "de50a0fe",
   "metadata": {},
   "source": [
    "Step2: Create list as a population"
   ]
  },
  {
   "cell_type": "code",
   "execution_count": 10,
   "id": "8946b775",
   "metadata": {},
   "outputs": [],
   "source": [
    "#population size N = 5\n",
    "p = [1,2,3,4,5]"
   ]
  },
  {
   "cell_type": "markdown",
   "id": "a3194f1d",
   "metadata": {},
   "source": [
    "Step3: draw all samples of with replacement"
   ]
  },
  {
   "cell_type": "code",
   "execution_count": 15,
   "id": "a3fb0930",
   "metadata": {},
   "outputs": [
    {
     "name": "stdout",
     "output_type": "stream",
     "text": [
      "[(1, 1), (1, 2), (1, 3), (1, 4), (1, 5), (2, 1), (2, 2), (2, 3), (2, 4), (2, 5), (3, 1), (3, 2), (3, 3), (3, 4), (3, 5), (4, 1), (4, 2), (4, 3), (4, 4), (4, 5), (5, 1), (5, 2), (5, 3), (5, 4), (5, 5)]\n"
     ]
    }
   ],
   "source": [
    "sample_with_rep=list(product(p, p))\n",
    "print(sample_with_rep)"
   ]
  },
  {
   "cell_type": "markdown",
   "id": "c6483658",
   "metadata": {},
   "source": [
    "Step4: Return the size of the sample list"
   ]
  },
  {
   "cell_type": "code",
   "execution_count": 16,
   "id": "b151ab44",
   "metadata": {},
   "outputs": [
    {
     "data": {
      "text/plain": [
       "25"
      ]
     },
     "execution_count": 16,
     "metadata": {},
     "output_type": "execute_result"
    }
   ],
   "source": [
    "len(sample_with_rep)"
   ]
  },
  {
   "cell_type": "markdown",
   "id": "7108a3cf",
   "metadata": {},
   "source": [
    "Step5: calculate the mean of all samples"
   ]
  },
  {
   "cell_type": "code",
   "execution_count": 19,
   "id": "f094778e",
   "metadata": {},
   "outputs": [
    {
     "name": "stdout",
     "output_type": "stream",
     "text": [
      " sample of all mean: [1.  1.5 2.  2.5 3.  1.5 2.  2.5 3.  3.5 2.  2.5 3.  3.5 4.  2.5 3.  3.5\n",
      " 4.  4.5 3.  3.5 4.  4.5 5. ]\n"
     ]
    }
   ],
   "source": [
    "sample_mean=np.mean(list(product(p, p)), axis=1)\n",
    "print(f' sample of all mean: {sample_mean}')"
   ]
  },
  {
   "cell_type": "markdown",
   "id": "ca304028",
   "metadata": {},
   "source": [
    "Step6: draw all samples of without replacement"
   ]
  },
  {
   "cell_type": "code",
   "execution_count": 51,
   "id": "d19300bd",
   "metadata": {},
   "outputs": [],
   "source": [
    "m=[1,2,3]"
   ]
  },
  {
   "cell_type": "code",
   "execution_count": 52,
   "id": "ee88b2dc",
   "metadata": {},
   "outputs": [
    {
     "name": "stdout",
     "output_type": "stream",
     "text": [
      "[(1, 2), (1, 3), (2, 3)]\n"
     ]
    }
   ],
   "source": [
    "sample_without_rep=list(combinations(m, 2))\n",
    "print(sample_without_rep)"
   ]
  },
  {
   "cell_type": "markdown",
   "id": "afe59559",
   "metadata": {},
   "source": [
    "Step7: Return the size of the sample list"
   ]
  },
  {
   "cell_type": "code",
   "execution_count": 22,
   "id": "fbd206ab",
   "metadata": {},
   "outputs": [
    {
     "data": {
      "text/plain": [
       "10"
      ]
     },
     "execution_count": 22,
     "metadata": {},
     "output_type": "execute_result"
    }
   ],
   "source": [
    "len(sample_without_rep)"
   ]
  },
  {
   "cell_type": "markdown",
   "id": "fea95329",
   "metadata": {},
   "source": [
    "Step8: calculate the mean of all samples"
   ]
  },
  {
   "cell_type": "code",
   "execution_count": 27,
   "id": "7e89a4e4",
   "metadata": {},
   "outputs": [
    {
     "name": "stdout",
     "output_type": "stream",
     "text": [
      " sample of all mean: [1.5 2.  2.5 3.  2.5 3.  3.5 3.5 4.  4.5]\n"
     ]
    }
   ],
   "source": [
    "sample_without_rep_mean=np.mean(sample_without_rep,axis=1)\n",
    "print(f' sample of all mean: {sample_without_rep_mean}')"
   ]
  },
  {
   "cell_type": "markdown",
   "id": "399a1449",
   "metadata": {},
   "source": [
    "# Random sampling"
   ]
  },
  {
   "cell_type": "markdown",
   "id": "accd7d64",
   "metadata": {},
   "source": [
    "step9: Import sample method from random"
   ]
  },
  {
   "cell_type": "code",
   "execution_count": 28,
   "id": "887485b2",
   "metadata": {},
   "outputs": [],
   "source": [
    "from random import sample"
   ]
  },
  {
   "cell_type": "markdown",
   "id": "c48026d7",
   "metadata": {},
   "source": [
    "Step10: Prints list of random items of length 2 from the given list."
   ]
  },
  {
   "cell_type": "code",
   "execution_count": 32,
   "id": "1087b6a9",
   "metadata": {},
   "outputs": [
    {
     "name": "stdout",
     "output_type": "stream",
     "text": [
      "With list length of 2: [4, 3]\n"
     ]
    }
   ],
   "source": [
    "print(\"With list length of 2:\", sample(p, 2))"
   ]
  },
  {
   "attachments": {},
   "cell_type": "markdown",
   "id": "b04abc7e",
   "metadata": {},
   "source": [
    "# Stratified Sampling\n",
    "\n",
    "Using stratified sampling, we separate a population into homogeneous subpopulations called strata according to certain criteria (e.g., age, race, gender identity, location, event type etc."
   ]
  },
  {
   "cell_type": "markdown",
   "id": "803e6883",
   "metadata": {},
   "source": [
    "step 11: Create dictionary of students"
   ]
  },
  {
   "cell_type": "code",
   "execution_count": 33,
   "id": "abddc3a4",
   "metadata": {},
   "outputs": [],
   "source": [
    "students = {\n",
    "    'Name': ['John', 'david', 'philip', 'anthony', 'Alex'],\n",
    "    'ID': ['001', '002', '003', '004', '005'],\n",
    "    'Grade': ['A', 'C', 'B', 'B', 'A'], \n",
    "    'Category': [2, 3, 1, 3, 2]\n",
    "}"
   ]
  },
  {
   "cell_type": "markdown",
   "id": "fdd4d396",
   "metadata": {},
   "source": [
    "Step 12: create dataframe from student dictionary"
   ]
  },
  {
   "cell_type": "code",
   "execution_count": 37,
   "id": "b3383ee2",
   "metadata": {},
   "outputs": [
    {
     "name": "stdout",
     "output_type": "stream",
     "text": [
      "40% grade A, 40% grade B, and 10% grade C\n"
     ]
    },
    {
     "data": {
      "text/html": [
       "<div>\n",
       "<style scoped>\n",
       "    .dataframe tbody tr th:only-of-type {\n",
       "        vertical-align: middle;\n",
       "    }\n",
       "\n",
       "    .dataframe tbody tr th {\n",
       "        vertical-align: top;\n",
       "    }\n",
       "\n",
       "    .dataframe thead th {\n",
       "        text-align: right;\n",
       "    }\n",
       "</style>\n",
       "<table border=\"1\" class=\"dataframe\">\n",
       "  <thead>\n",
       "    <tr style=\"text-align: right;\">\n",
       "      <th></th>\n",
       "      <th>Name</th>\n",
       "      <th>ID</th>\n",
       "      <th>Grade</th>\n",
       "      <th>Category</th>\n",
       "    </tr>\n",
       "  </thead>\n",
       "  <tbody>\n",
       "    <tr>\n",
       "      <th>0</th>\n",
       "      <td>John</td>\n",
       "      <td>001</td>\n",
       "      <td>A</td>\n",
       "      <td>2</td>\n",
       "    </tr>\n",
       "    <tr>\n",
       "      <th>1</th>\n",
       "      <td>david</td>\n",
       "      <td>002</td>\n",
       "      <td>C</td>\n",
       "      <td>3</td>\n",
       "    </tr>\n",
       "    <tr>\n",
       "      <th>2</th>\n",
       "      <td>philip</td>\n",
       "      <td>003</td>\n",
       "      <td>B</td>\n",
       "      <td>1</td>\n",
       "    </tr>\n",
       "    <tr>\n",
       "      <th>3</th>\n",
       "      <td>anthony</td>\n",
       "      <td>004</td>\n",
       "      <td>B</td>\n",
       "      <td>3</td>\n",
       "    </tr>\n",
       "    <tr>\n",
       "      <th>4</th>\n",
       "      <td>Alex</td>\n",
       "      <td>005</td>\n",
       "      <td>A</td>\n",
       "      <td>2</td>\n",
       "    </tr>\n",
       "  </tbody>\n",
       "</table>\n",
       "</div>"
      ],
      "text/plain": [
       "      Name   ID Grade  Category\n",
       "0     John  001     A         2\n",
       "1    david  002     C         3\n",
       "2   philip  003     B         1\n",
       "3  anthony  004     B         3\n",
       "4     Alex  005     A         2"
      ]
     },
     "execution_count": 37,
     "metadata": {},
     "output_type": "execute_result"
    }
   ],
   "source": [
    "df = pd.DataFrame(students)\n",
    "print('40% grade A, 40% grade B, and 10% grade C')\n",
    "df"
   ]
  },
  {
   "cell_type": "markdown",
   "id": "a164489f",
   "metadata": {},
   "source": [
    "Step 13: Create a sample of 3 students equal number of student from each grade.andomly sample 1 students from each grade group using the sample function"
   ]
  },
  {
   "cell_type": "code",
   "execution_count": 38,
   "id": "a304b067",
   "metadata": {},
   "outputs": [
    {
     "data": {
      "text/html": [
       "<div>\n",
       "<style scoped>\n",
       "    .dataframe tbody tr th:only-of-type {\n",
       "        vertical-align: middle;\n",
       "    }\n",
       "\n",
       "    .dataframe tbody tr th {\n",
       "        vertical-align: top;\n",
       "    }\n",
       "\n",
       "    .dataframe thead th {\n",
       "        text-align: right;\n",
       "    }\n",
       "</style>\n",
       "<table border=\"1\" class=\"dataframe\">\n",
       "  <thead>\n",
       "    <tr style=\"text-align: right;\">\n",
       "      <th></th>\n",
       "      <th>Name</th>\n",
       "      <th>ID</th>\n",
       "      <th>Grade</th>\n",
       "      <th>Category</th>\n",
       "    </tr>\n",
       "  </thead>\n",
       "  <tbody>\n",
       "    <tr>\n",
       "      <th>4</th>\n",
       "      <td>Alex</td>\n",
       "      <td>005</td>\n",
       "      <td>A</td>\n",
       "      <td>2</td>\n",
       "    </tr>\n",
       "    <tr>\n",
       "      <th>2</th>\n",
       "      <td>philip</td>\n",
       "      <td>003</td>\n",
       "      <td>B</td>\n",
       "      <td>1</td>\n",
       "    </tr>\n",
       "    <tr>\n",
       "      <th>1</th>\n",
       "      <td>david</td>\n",
       "      <td>002</td>\n",
       "      <td>C</td>\n",
       "      <td>3</td>\n",
       "    </tr>\n",
       "  </tbody>\n",
       "</table>\n",
       "</div>"
      ],
      "text/plain": [
       "     Name   ID Grade  Category\n",
       "4    Alex  005     A         2\n",
       "2  philip  003     B         1\n",
       "1   david  002     C         3"
      ]
     },
     "execution_count": 38,
     "metadata": {},
     "output_type": "execute_result"
    }
   ],
   "source": [
    "df1=df.groupby('Grade', group_keys=False).apply(lambda x: x.sample(1))\n",
    "df1"
   ]
  },
  {
   "attachments": {},
   "cell_type": "markdown",
   "id": "7d8ced8a",
   "metadata": {},
   "source": [
    "# Cluster Sampling\n",
    "\n",
    "Cluster sampling involves segmenting the entire population into groups or clusters, and then randomly sampling one or more of those groups."
   ]
  },
  {
   "cell_type": "markdown",
   "id": "9f495391",
   "metadata": {},
   "source": [
    "step 14: creating dictionary of data"
   ]
  },
  {
   "cell_type": "code",
   "execution_count": 42,
   "id": "42b6430b",
   "metadata": {},
   "outputs": [
    {
     "data": {
      "text/plain": [
       "{'N_numbers': array([1, 2, 3, 4, 5, 6, 7, 8])}"
      ]
     },
     "execution_count": 42,
     "metadata": {},
     "output_type": "execute_result"
    }
   ],
   "source": [
    "data = {'N_numbers':np.arange(1,9)}\n",
    "data"
   ]
  },
  {
   "cell_type": "markdown",
   "id": "edce9536",
   "metadata": {},
   "source": [
    "Step 15: creating dataframe"
   ]
  },
  {
   "cell_type": "code",
   "execution_count": 43,
   "id": "3e26dd08",
   "metadata": {},
   "outputs": [
    {
     "data": {
      "text/html": [
       "<div>\n",
       "<style scoped>\n",
       "    .dataframe tbody tr th:only-of-type {\n",
       "        vertical-align: middle;\n",
       "    }\n",
       "\n",
       "    .dataframe tbody tr th {\n",
       "        vertical-align: top;\n",
       "    }\n",
       "\n",
       "    .dataframe thead th {\n",
       "        text-align: right;\n",
       "    }\n",
       "</style>\n",
       "<table border=\"1\" class=\"dataframe\">\n",
       "  <thead>\n",
       "    <tr style=\"text-align: right;\">\n",
       "      <th></th>\n",
       "      <th>N_numbers</th>\n",
       "    </tr>\n",
       "  </thead>\n",
       "  <tbody>\n",
       "    <tr>\n",
       "      <th>0</th>\n",
       "      <td>1</td>\n",
       "    </tr>\n",
       "    <tr>\n",
       "      <th>1</th>\n",
       "      <td>2</td>\n",
       "    </tr>\n",
       "    <tr>\n",
       "      <th>2</th>\n",
       "      <td>3</td>\n",
       "    </tr>\n",
       "    <tr>\n",
       "      <th>3</th>\n",
       "      <td>4</td>\n",
       "    </tr>\n",
       "    <tr>\n",
       "      <th>4</th>\n",
       "      <td>5</td>\n",
       "    </tr>\n",
       "    <tr>\n",
       "      <th>5</th>\n",
       "      <td>6</td>\n",
       "    </tr>\n",
       "    <tr>\n",
       "      <th>6</th>\n",
       "      <td>7</td>\n",
       "    </tr>\n",
       "    <tr>\n",
       "      <th>7</th>\n",
       "      <td>8</td>\n",
       "    </tr>\n",
       "  </tbody>\n",
       "</table>\n",
       "</div>"
      ],
      "text/plain": [
       "   N_numbers\n",
       "0          1\n",
       "1          2\n",
       "2          3\n",
       "3          4\n",
       "4          5\n",
       "5          6\n",
       "6          7\n",
       "7          8"
      ]
     },
     "execution_count": 43,
     "metadata": {},
     "output_type": "execute_result"
    }
   ],
   "source": [
    "df = pd.DataFrame(data)\n",
    "df"
   ]
  },
  {
   "cell_type": "markdown",
   "id": "49dadec4",
   "metadata": {},
   "source": [
    "Step 16: sample of data and create random cluster which contains 2 samples"
   ]
  },
  {
   "cell_type": "code",
   "execution_count": 50,
   "id": "03e91038",
   "metadata": {},
   "outputs": [
    {
     "name": "stdout",
     "output_type": "stream",
     "text": [
      "   N_numbers\n",
      "2          3\n",
      "5          6\n",
      "6          7\n"
     ]
    }
   ],
   "source": [
    "samples = df.sample(3)\n",
    "print(samples)"
   ]
  }
 ],
 "metadata": {
  "kernelspec": {
   "display_name": "Python 3 (ipykernel)",
   "language": "python",
   "name": "python3"
  },
  "language_info": {
   "codemirror_mode": {
    "name": "ipython",
    "version": 3
   },
   "file_extension": ".py",
   "mimetype": "text/x-python",
   "name": "python",
   "nbconvert_exporter": "python",
   "pygments_lexer": "ipython3",
   "version": "3.9.12"
  }
 },
 "nbformat": 4,
 "nbformat_minor": 5
}
