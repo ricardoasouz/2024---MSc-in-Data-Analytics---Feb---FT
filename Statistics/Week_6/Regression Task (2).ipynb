{
 "cells": [
  {
   "cell_type": "markdown",
   "id": "f2f8d83f",
   "metadata": {},
   "source": [
    "## Session 3 Task 1: Construct a predictive model for estimating fish weight using simple or multiple linear regression on a dataset containing 7 common fish species sold at fish markets.\n",
    "\n",
    "In this task, you will perform data visualisation, data preprocessing, implement simple/multiple linear regression, model evaluation, and model comparision. The dataset description is as follows:\n",
    "\n",
    "Species : species name of fish\n",
    "Weight  : weight of fish in Gram g\n",
    "Length1 : vertical length in cm\n",
    "Length2 : diagonal length in cm\n",
    "Length3 : cross length in cm\n",
    "Height  : height in cm\n",
    "width   : diagonal width in cm\n",
    "\n",
    "Follow this instructions to implement this task:"
   ]
  },
  {
   "cell_type": "markdown",
   "id": "1568d1e4",
   "metadata": {},
   "source": [
    "Step 1: Import Library packages"
   ]
  },
  {
   "cell_type": "code",
   "execution_count": 1,
   "id": "a390ec0e",
   "metadata": {},
   "outputs": [],
   "source": [
    "# Import library packages\n",
    "import pandas as  pd\n",
    "import numpy as np\n",
    "import matplotlib.pyplot as plt\n",
    "import seaborn as sns\n",
    "%matplotlib inline\n",
    "import warnings\n",
    "warnings.filterwarnings(\"ignore\")"
   ]
  },
  {
   "cell_type": "markdown",
   "id": "ad157e6f",
   "metadata": {},
   "source": [
    "Step 2: Read the dataset"
   ]
  },
  {
   "cell_type": "code",
   "execution_count": 2,
   "id": "644e31ce",
   "metadata": {},
   "outputs": [
    {
     "data": {
      "text/html": [
       "<div>\n",
       "<style scoped>\n",
       "    .dataframe tbody tr th:only-of-type {\n",
       "        vertical-align: middle;\n",
       "    }\n",
       "\n",
       "    .dataframe tbody tr th {\n",
       "        vertical-align: top;\n",
       "    }\n",
       "\n",
       "    .dataframe thead th {\n",
       "        text-align: right;\n",
       "    }\n",
       "</style>\n",
       "<table border=\"1\" class=\"dataframe\">\n",
       "  <thead>\n",
       "    <tr style=\"text-align: right;\">\n",
       "      <th></th>\n",
       "      <th>Species</th>\n",
       "      <th>Weight</th>\n",
       "      <th>Length1</th>\n",
       "      <th>Length2</th>\n",
       "      <th>Length3</th>\n",
       "      <th>Height</th>\n",
       "      <th>Width</th>\n",
       "    </tr>\n",
       "  </thead>\n",
       "  <tbody>\n",
       "    <tr>\n",
       "      <th>0</th>\n",
       "      <td>Bream</td>\n",
       "      <td>242.0</td>\n",
       "      <td>23.2</td>\n",
       "      <td>25.4</td>\n",
       "      <td>30.0</td>\n",
       "      <td>11.5200</td>\n",
       "      <td>4.0200</td>\n",
       "    </tr>\n",
       "    <tr>\n",
       "      <th>1</th>\n",
       "      <td>Bream</td>\n",
       "      <td>290.0</td>\n",
       "      <td>24.0</td>\n",
       "      <td>26.3</td>\n",
       "      <td>31.2</td>\n",
       "      <td>12.4800</td>\n",
       "      <td>4.3056</td>\n",
       "    </tr>\n",
       "    <tr>\n",
       "      <th>2</th>\n",
       "      <td>Bream</td>\n",
       "      <td>340.0</td>\n",
       "      <td>23.9</td>\n",
       "      <td>26.5</td>\n",
       "      <td>31.1</td>\n",
       "      <td>12.3778</td>\n",
       "      <td>4.6961</td>\n",
       "    </tr>\n",
       "    <tr>\n",
       "      <th>3</th>\n",
       "      <td>Bream</td>\n",
       "      <td>363.0</td>\n",
       "      <td>26.3</td>\n",
       "      <td>29.0</td>\n",
       "      <td>33.5</td>\n",
       "      <td>12.7300</td>\n",
       "      <td>4.4555</td>\n",
       "    </tr>\n",
       "    <tr>\n",
       "      <th>4</th>\n",
       "      <td>Bream</td>\n",
       "      <td>430.0</td>\n",
       "      <td>26.5</td>\n",
       "      <td>29.0</td>\n",
       "      <td>34.0</td>\n",
       "      <td>12.4440</td>\n",
       "      <td>5.1340</td>\n",
       "    </tr>\n",
       "  </tbody>\n",
       "</table>\n",
       "</div>"
      ],
      "text/plain": [
       "  Species  Weight  Length1  Length2  Length3   Height   Width\n",
       "0   Bream   242.0     23.2     25.4     30.0  11.5200  4.0200\n",
       "1   Bream   290.0     24.0     26.3     31.2  12.4800  4.3056\n",
       "2   Bream   340.0     23.9     26.5     31.1  12.3778  4.6961\n",
       "3   Bream   363.0     26.3     29.0     33.5  12.7300  4.4555\n",
       "4   Bream   430.0     26.5     29.0     34.0  12.4440  5.1340"
      ]
     },
     "execution_count": 2,
     "metadata": {},
     "output_type": "execute_result"
    }
   ],
   "source": [
    "#Read the dataset from scikit-learn library.\n",
    "fish = pd.read_csv('Fish.csv')\n",
    "fish.head()"
   ]
  },
  {
   "cell_type": "markdown",
   "id": "f7ff10b6",
   "metadata": {},
   "source": [
    "### Data pre-processing"
   ]
  },
  {
   "cell_type": "markdown",
   "id": "b7d44466",
   "metadata": {},
   "source": [
    "Step 3: generate the correlation matrix using sns.heatmap()"
   ]
  },
  {
   "cell_type": "code",
   "execution_count": 3,
   "id": "7a05327e",
   "metadata": {},
   "outputs": [
    {
     "data": {
      "text/html": [
       "<div>\n",
       "<style scoped>\n",
       "    .dataframe tbody tr th:only-of-type {\n",
       "        vertical-align: middle;\n",
       "    }\n",
       "\n",
       "    .dataframe tbody tr th {\n",
       "        vertical-align: top;\n",
       "    }\n",
       "\n",
       "    .dataframe thead th {\n",
       "        text-align: right;\n",
       "    }\n",
       "</style>\n",
       "<table border=\"1\" class=\"dataframe\">\n",
       "  <thead>\n",
       "    <tr style=\"text-align: right;\">\n",
       "      <th></th>\n",
       "      <th>Weight</th>\n",
       "      <th>Length1</th>\n",
       "      <th>Length2</th>\n",
       "      <th>Length3</th>\n",
       "      <th>Height</th>\n",
       "      <th>Width</th>\n",
       "    </tr>\n",
       "  </thead>\n",
       "  <tbody>\n",
       "    <tr>\n",
       "      <th>count</th>\n",
       "      <td>159.000000</td>\n",
       "      <td>159.000000</td>\n",
       "      <td>159.000000</td>\n",
       "      <td>159.000000</td>\n",
       "      <td>159.000000</td>\n",
       "      <td>159.000000</td>\n",
       "    </tr>\n",
       "    <tr>\n",
       "      <th>mean</th>\n",
       "      <td>398.326415</td>\n",
       "      <td>26.247170</td>\n",
       "      <td>28.415723</td>\n",
       "      <td>31.227044</td>\n",
       "      <td>8.970994</td>\n",
       "      <td>4.417486</td>\n",
       "    </tr>\n",
       "    <tr>\n",
       "      <th>std</th>\n",
       "      <td>357.978317</td>\n",
       "      <td>9.996441</td>\n",
       "      <td>10.716328</td>\n",
       "      <td>11.610246</td>\n",
       "      <td>4.286208</td>\n",
       "      <td>1.685804</td>\n",
       "    </tr>\n",
       "    <tr>\n",
       "      <th>min</th>\n",
       "      <td>0.000000</td>\n",
       "      <td>7.500000</td>\n",
       "      <td>8.400000</td>\n",
       "      <td>8.800000</td>\n",
       "      <td>1.728400</td>\n",
       "      <td>1.047600</td>\n",
       "    </tr>\n",
       "    <tr>\n",
       "      <th>25%</th>\n",
       "      <td>120.000000</td>\n",
       "      <td>19.050000</td>\n",
       "      <td>21.000000</td>\n",
       "      <td>23.150000</td>\n",
       "      <td>5.944800</td>\n",
       "      <td>3.385650</td>\n",
       "    </tr>\n",
       "    <tr>\n",
       "      <th>50%</th>\n",
       "      <td>273.000000</td>\n",
       "      <td>25.200000</td>\n",
       "      <td>27.300000</td>\n",
       "      <td>29.400000</td>\n",
       "      <td>7.786000</td>\n",
       "      <td>4.248500</td>\n",
       "    </tr>\n",
       "    <tr>\n",
       "      <th>75%</th>\n",
       "      <td>650.000000</td>\n",
       "      <td>32.700000</td>\n",
       "      <td>35.500000</td>\n",
       "      <td>39.650000</td>\n",
       "      <td>12.365900</td>\n",
       "      <td>5.584500</td>\n",
       "    </tr>\n",
       "    <tr>\n",
       "      <th>max</th>\n",
       "      <td>1650.000000</td>\n",
       "      <td>59.000000</td>\n",
       "      <td>63.400000</td>\n",
       "      <td>68.000000</td>\n",
       "      <td>18.957000</td>\n",
       "      <td>8.142000</td>\n",
       "    </tr>\n",
       "  </tbody>\n",
       "</table>\n",
       "</div>"
      ],
      "text/plain": [
       "            Weight     Length1     Length2     Length3      Height       Width\n",
       "count   159.000000  159.000000  159.000000  159.000000  159.000000  159.000000\n",
       "mean    398.326415   26.247170   28.415723   31.227044    8.970994    4.417486\n",
       "std     357.978317    9.996441   10.716328   11.610246    4.286208    1.685804\n",
       "min       0.000000    7.500000    8.400000    8.800000    1.728400    1.047600\n",
       "25%     120.000000   19.050000   21.000000   23.150000    5.944800    3.385650\n",
       "50%     273.000000   25.200000   27.300000   29.400000    7.786000    4.248500\n",
       "75%     650.000000   32.700000   35.500000   39.650000   12.365900    5.584500\n",
       "max    1650.000000   59.000000   63.400000   68.000000   18.957000    8.142000"
      ]
     },
     "execution_count": 3,
     "metadata": {},
     "output_type": "execute_result"
    }
   ],
   "source": [
    "#description of the data in the DataFrame\n",
    "fish.describe()"
   ]
  },
  {
   "cell_type": "code",
   "execution_count": 4,
   "id": "efeac311",
   "metadata": {},
   "outputs": [
    {
     "data": {
      "text/plain": [
       "<AxesSubplot:>"
      ]
     },
     "execution_count": 4,
     "metadata": {},
     "output_type": "execute_result"
    },
    {
     "data": {
      "image/png": "[encoded data removed]",
      "text/plain": [
       "<Figure size 1800x1000 with 2 Axes>"
      ]
     },
     "metadata": {},
     "output_type": "display_data"
    }
   ],
   "source": [
    "fig , ax = plt.subplots(figsize = (18,10))\n",
    "corrdat = fish.corr()\n",
    "sns.heatmap(corrdat , annot = True , annot_kws = {'size':12})"
   ]
  },
  {
   "cell_type": "markdown",
   "id": "cd1c6b3d",
   "metadata": {},
   "source": [
    "Step 4: Select the features which have a high correlation with our target variable weight with threshold 0.8 coefficeient value. "
   ]
  },
  {
   "cell_type": "code",
   "execution_count": 5,
   "id": "0dbfab5d",
   "metadata": {},
   "outputs": [
    {
     "data": {
      "text/html": [
       "<div>\n",
       "<style scoped>\n",
       "    .dataframe tbody tr th:only-of-type {\n",
       "        vertical-align: middle;\n",
       "    }\n",
       "\n",
       "    .dataframe tbody tr th {\n",
       "        vertical-align: top;\n",
       "    }\n",
       "\n",
       "    .dataframe thead th {\n",
       "        text-align: right;\n",
       "    }\n",
       "</style>\n",
       "<table border=\"1\" class=\"dataframe\">\n",
       "  <thead>\n",
       "    <tr style=\"text-align: right;\">\n",
       "      <th></th>\n",
       "      <th>corr value</th>\n",
       "    </tr>\n",
       "  </thead>\n",
       "  <tbody>\n",
       "    <tr>\n",
       "      <th>Weight</th>\n",
       "      <td>1.000000</td>\n",
       "    </tr>\n",
       "    <tr>\n",
       "      <th>Length1</th>\n",
       "      <td>0.915712</td>\n",
       "    </tr>\n",
       "    <tr>\n",
       "      <th>Length2</th>\n",
       "      <td>0.918618</td>\n",
       "    </tr>\n",
       "    <tr>\n",
       "      <th>Length3</th>\n",
       "      <td>0.923044</td>\n",
       "    </tr>\n",
       "    <tr>\n",
       "      <th>Width</th>\n",
       "      <td>0.886507</td>\n",
       "    </tr>\n",
       "  </tbody>\n",
       "</table>\n",
       "</div>"
      ],
      "text/plain": [
       "         corr value\n",
       "Weight     1.000000\n",
       "Length1    0.915712\n",
       "Length2    0.918618\n",
       "Length3    0.923044\n",
       "Width      0.886507"
      ]
     },
     "execution_count": 5,
     "metadata": {},
     "output_type": "execute_result"
    }
   ],
   "source": [
    "def getCorrelatedFeature(Corrdata, threshold):\n",
    "    feature = []\n",
    "    value = []\n",
    "    \n",
    "    for i , index in enumerate(Corrdata.index):\n",
    "        if abs(Corrdata[index])>threshold:\n",
    "            feature.append(index)\n",
    "            value.append(Corrdata[index])\n",
    "    df = pd.DataFrame(data = value, index = feature, columns = ['corr value'])\n",
    "    return df\n",
    "threshold = 0.8\n",
    "corr_value = getCorrelatedFeature(corrdat['Weight'],threshold)\n",
    "corr_value"
   ]
  },
  {
   "cell_type": "code",
   "execution_count": null,
   "id": "74893b48",
   "metadata": {},
   "outputs": [],
   "source": [
    "Step 5: Recreate the dataset which contains only high correlation features with target variable weight."
   ]
  },
  {
   "cell_type": "code",
   "execution_count": 6,
   "id": "41956cc9",
   "metadata": {},
   "outputs": [
    {
     "data": {
      "text/html": [
       "<div>\n",
       "<style scoped>\n",
       "    .dataframe tbody tr th:only-of-type {\n",
       "        vertical-align: middle;\n",
       "    }\n",
       "\n",
       "    .dataframe tbody tr th {\n",
       "        vertical-align: top;\n",
       "    }\n",
       "\n",
       "    .dataframe thead th {\n",
       "        text-align: right;\n",
       "    }\n",
       "</style>\n",
       "<table border=\"1\" class=\"dataframe\">\n",
       "  <thead>\n",
       "    <tr style=\"text-align: right;\">\n",
       "      <th></th>\n",
       "      <th>Weight</th>\n",
       "      <th>Length1</th>\n",
       "      <th>Length2</th>\n",
       "      <th>Length3</th>\n",
       "      <th>Width</th>\n",
       "    </tr>\n",
       "  </thead>\n",
       "  <tbody>\n",
       "    <tr>\n",
       "      <th>0</th>\n",
       "      <td>242.0</td>\n",
       "      <td>23.2</td>\n",
       "      <td>25.4</td>\n",
       "      <td>30.0</td>\n",
       "      <td>4.0200</td>\n",
       "    </tr>\n",
       "    <tr>\n",
       "      <th>1</th>\n",
       "      <td>290.0</td>\n",
       "      <td>24.0</td>\n",
       "      <td>26.3</td>\n",
       "      <td>31.2</td>\n",
       "      <td>4.3056</td>\n",
       "    </tr>\n",
       "    <tr>\n",
       "      <th>2</th>\n",
       "      <td>340.0</td>\n",
       "      <td>23.9</td>\n",
       "      <td>26.5</td>\n",
       "      <td>31.1</td>\n",
       "      <td>4.6961</td>\n",
       "    </tr>\n",
       "    <tr>\n",
       "      <th>3</th>\n",
       "      <td>363.0</td>\n",
       "      <td>26.3</td>\n",
       "      <td>29.0</td>\n",
       "      <td>33.5</td>\n",
       "      <td>4.4555</td>\n",
       "    </tr>\n",
       "    <tr>\n",
       "      <th>4</th>\n",
       "      <td>430.0</td>\n",
       "      <td>26.5</td>\n",
       "      <td>29.0</td>\n",
       "      <td>34.0</td>\n",
       "      <td>5.1340</td>\n",
       "    </tr>\n",
       "  </tbody>\n",
       "</table>\n",
       "</div>"
      ],
      "text/plain": [
       "   Weight  Length1  Length2  Length3   Width\n",
       "0   242.0     23.2     25.4     30.0  4.0200\n",
       "1   290.0     24.0     26.3     31.2  4.3056\n",
       "2   340.0     23.9     26.5     31.1  4.6961\n",
       "3   363.0     26.3     29.0     33.5  4.4555\n",
       "4   430.0     26.5     29.0     34.0  5.1340"
      ]
     },
     "execution_count": 6,
     "metadata": {},
     "output_type": "execute_result"
    }
   ],
   "source": [
    "#dataset contains only high correlation features with target variable weight.\n",
    "CD = fish[corr_value.index]\n",
    "CD.head()"
   ]
  },
  {
   "cell_type": "markdown",
   "id": "21beb6d1",
   "metadata": {},
   "source": [
    "### Data visualisation\n",
    "\n",
    "Step 6: Generate the scatter plot to visualise the change in variables. Example: target variable weight with high correlated feature."
   ]
  },
  {
   "cell_type": "code",
   "execution_count": 8,
   "id": "6ba69f7c",
   "metadata": {},
   "outputs": [
    {
     "data": {
      "image/png": "[encoded data removed]",
      "text/plain": [
       "<Figure size 640x480 with 1 Axes>"
      ]
     },
     "metadata": {},
     "output_type": "display_data"
    },
    {
     "data": {
      "text/plain": [
       "<AxesSubplot:xlabel='Length3', ylabel='Weight'>"
      ]
     },
     "execution_count": 8,
     "metadata": {},
     "output_type": "execute_result"
    },
    {
     "data": {
      "image/png": "[encoded data removed]",
      "text/plain": [
       "<Figure size 640x480 with 1 Axes>"
      ]
     },
     "metadata": {},
     "output_type": "display_data"
    }
   ],
   "source": [
    "#visualise the change in variables\n",
    "CD.plot(x='Length3',y='Weight',style='o')\n",
    "plt.xlabel('Length3')\n",
    "plt.ylabel('Weight')\n",
    "plt.show()\n",
    "sns.regplot(x=\"Length3\",y=\"Weight\", data=CD)"
   ]
  },
  {
   "cell_type": "markdown",
   "id": "df5816f1",
   "metadata": {},
   "source": [
    "## Scenario 1: Simple linear regression model. \n",
    "\n",
    "Step 7: prepare data for  simple linear regression model with one independent variable which has highest correlation with weight."
   ]
  },
  {
   "cell_type": "code",
   "execution_count": 11,
   "id": "96754cd2",
   "metadata": {},
   "outputs": [
    {
     "data": {
      "text/html": [
       "<div>\n",
       "<style scoped>\n",
       "    .dataframe tbody tr th:only-of-type {\n",
       "        vertical-align: middle;\n",
       "    }\n",
       "\n",
       "    .dataframe tbody tr th {\n",
       "        vertical-align: top;\n",
       "    }\n",
       "\n",
       "    .dataframe thead th {\n",
       "        text-align: right;\n",
       "    }\n",
       "</style>\n",
       "<table border=\"1\" class=\"dataframe\">\n",
       "  <thead>\n",
       "    <tr style=\"text-align: right;\">\n",
       "      <th></th>\n",
       "      <th>Weight</th>\n",
       "      <th>Length3</th>\n",
       "    </tr>\n",
       "  </thead>\n",
       "  <tbody>\n",
       "    <tr>\n",
       "      <th>0</th>\n",
       "      <td>242.0</td>\n",
       "      <td>30.0</td>\n",
       "    </tr>\n",
       "    <tr>\n",
       "      <th>1</th>\n",
       "      <td>290.0</td>\n",
       "      <td>31.2</td>\n",
       "    </tr>\n",
       "    <tr>\n",
       "      <th>2</th>\n",
       "      <td>340.0</td>\n",
       "      <td>31.1</td>\n",
       "    </tr>\n",
       "    <tr>\n",
       "      <th>3</th>\n",
       "      <td>363.0</td>\n",
       "      <td>33.5</td>\n",
       "    </tr>\n",
       "    <tr>\n",
       "      <th>4</th>\n",
       "      <td>430.0</td>\n",
       "      <td>34.0</td>\n",
       "    </tr>\n",
       "  </tbody>\n",
       "</table>\n",
       "</div>"
      ],
      "text/plain": [
       "   Weight  Length3\n",
       "0   242.0     30.0\n",
       "1   290.0     31.2\n",
       "2   340.0     31.1\n",
       "3   363.0     33.5\n",
       "4   430.0     34.0"
      ]
     },
     "execution_count": 11,
     "metadata": {},
     "output_type": "execute_result"
    }
   ],
   "source": [
    "simple_data = CD[[\"Weight\",\"Length3\"]]\n",
    "simple_data.head()"
   ]
  },
  {
   "cell_type": "code",
   "execution_count": null,
   "id": "80338941",
   "metadata": {},
   "outputs": [],
   "source": [
    "Step 8: Divide dependent and independent variable."
   ]
  },
  {
   "cell_type": "code",
   "execution_count": 24,
   "id": "029c7b3f",
   "metadata": {},
   "outputs": [
    {
     "name": "stdout",
     "output_type": "stream",
     "text": [
      "(159, 1) (159,)\n"
     ]
    }
   ],
   "source": [
    "#Divide data into dependent and independent variables into x and y\n",
    "x = simple_data.drop(labels = ['Weight'], axis = 1)\n",
    "y = simple_data['Weight']\n",
    "print(x.shape,y.shape)"
   ]
  },
  {
   "cell_type": "code",
   "execution_count": null,
   "id": "f13d265a",
   "metadata": {},
   "outputs": [],
   "source": [
    "Step 9: Split the dataset into training and testing using train_test_split()"
   ]
  },
  {
   "cell_type": "markdown",
   "id": "4cf14a86",
   "metadata": {},
   "source": [
    "### Spliting Data\n",
    "split the data into training and testing subsets. Typically, the data is also shuffled into a random order when creating the training and testing subsets to remove any bias in the ordering of the dataset"
   ]
  },
  {
   "cell_type": "code",
   "execution_count": 19,
   "id": "adbc4a99",
   "metadata": {},
   "outputs": [
    {
     "data": {
      "text/plain": [
       "((127, 1), (32, 1), (127,), (32,))"
      ]
     },
     "execution_count": 19,
     "metadata": {},
     "output_type": "execute_result"
    }
   ],
   "source": [
    "from sklearn.model_selection import train_test_split\n",
    "x_train, x_test , y_train, y_test = train_test_split(x, y, test_size = 0.2, random_state = 0 )\n",
    "x_train.shape , x_test.shape, y_train.shape,y_test.shape"
   ]
  },
  {
   "cell_type": "markdown",
   "id": "65f576dc",
   "metadata": {},
   "source": [
    "### Train simple linear regression model\n",
    "Step 10: Train simple linear regression model using LinearRegression() from sklearn.linear_model and predict the test data."
   ]
  },
  {
   "cell_type": "code",
   "execution_count": 20,
   "id": "75ece14f",
   "metadata": {},
   "outputs": [],
   "source": [
    "from sklearn.linear_model import LinearRegression\n",
    "model = LinearRegression()\n",
    "model.fit(x_train , y_train)\n",
    "predict = model.predict(x_test)"
   ]
  },
  {
   "cell_type": "code",
   "execution_count": 21,
   "id": "f41150c2",
   "metadata": {},
   "outputs": [
    {
     "name": "stdout",
     "output_type": "stream",
     "text": [
      "Best fit line has the intercept value of -452.6116080825334\n",
      "Best fit line has the slope value of [27.20499092]\n"
     ]
    }
   ],
   "source": [
    "print('Best fit line has the intercept value of', model.intercept_)\n",
    "print('Best fit line has the slope value of', model.coef_)"
   ]
  },
  {
   "cell_type": "code",
   "execution_count": 22,
   "id": "c5974401",
   "metadata": {},
   "outputs": [
    {
     "data": {
      "text/html": [
       "<div>\n",
       "<style scoped>\n",
       "    .dataframe tbody tr th:only-of-type {\n",
       "        vertical-align: middle;\n",
       "    }\n",
       "\n",
       "    .dataframe tbody tr th {\n",
       "        vertical-align: top;\n",
       "    }\n",
       "\n",
       "    .dataframe thead th {\n",
       "        text-align: right;\n",
       "    }\n",
       "</style>\n",
       "<table border=\"1\" class=\"dataframe\">\n",
       "  <thead>\n",
       "    <tr style=\"text-align: right;\">\n",
       "      <th></th>\n",
       "      <th>Predicted</th>\n",
       "      <th>Actual</th>\n",
       "    </tr>\n",
       "  </thead>\n",
       "  <tbody>\n",
       "    <tr>\n",
       "      <th>7</th>\n",
       "      <td>499.563074</td>\n",
       "      <td>390.0</td>\n",
       "    </tr>\n",
       "    <tr>\n",
       "      <th>40</th>\n",
       "      <td>167.662185</td>\n",
       "      <td>0.0</td>\n",
       "    </tr>\n",
       "    <tr>\n",
       "      <th>95</th>\n",
       "      <td>227.513165</td>\n",
       "      <td>170.0</td>\n",
       "    </tr>\n",
       "    <tr>\n",
       "      <th>45</th>\n",
       "      <td>235.674662</td>\n",
       "      <td>160.0</td>\n",
       "    </tr>\n",
       "    <tr>\n",
       "      <th>110</th>\n",
       "      <td>540.370561</td>\n",
       "      <td>556.0</td>\n",
       "    </tr>\n",
       "    <tr>\n",
       "      <th>120</th>\n",
       "      <td>703.600506</td>\n",
       "      <td>900.0</td>\n",
       "    </tr>\n",
       "    <tr>\n",
       "      <th>59</th>\n",
       "      <td>624.706032</td>\n",
       "      <td>800.0</td>\n",
       "    </tr>\n",
       "    <tr>\n",
       "      <th>131</th>\n",
       "      <td>630.147031</td>\n",
       "      <td>300.0</td>\n",
       "    </tr>\n",
       "    <tr>\n",
       "      <th>33</th>\n",
       "      <td>796.097475</td>\n",
       "      <td>975.0</td>\n",
       "    </tr>\n",
       "    <tr>\n",
       "      <th>83</th>\n",
       "      <td>159.500688</td>\n",
       "      <td>115.0</td>\n",
       "    </tr>\n",
       "  </tbody>\n",
       "</table>\n",
       "</div>"
      ],
      "text/plain": [
       "      Predicted  Actual\n",
       "7    499.563074   390.0\n",
       "40   167.662185     0.0\n",
       "95   227.513165   170.0\n",
       "45   235.674662   160.0\n",
       "110  540.370561   556.0\n",
       "120  703.600506   900.0\n",
       "59   624.706032   800.0\n",
       "131  630.147031   300.0\n",
       "33   796.097475   975.0\n",
       "83   159.500688   115.0"
      ]
     },
     "execution_count": 22,
     "metadata": {},
     "output_type": "execute_result"
    }
   ],
   "source": [
    "#compare actual and predicted value of Price from simple linear regression.\n",
    "simple_compare = pd.DataFrame({\"Predicted\":predict , \"Actual\": y_test})\n",
    "simple_compare.head(10)"
   ]
  },
  {
   "cell_type": "markdown",
   "id": "cfd67784",
   "metadata": {},
   "source": [
    "### Performance evaluation of simple linear regression\n",
    "\n",
    "Step 11: Evaluate the performance of simple linear regression by taking an account of r2_score , mean_absolute_error, mean_squared_error"
   ]
  },
  {
   "cell_type": "code",
   "execution_count": 23,
   "id": "f69443fc",
   "metadata": {},
   "outputs": [
    {
     "name": "stdout",
     "output_type": "stream",
     "text": [
      "R2 score of this model: 0.8645942708451833\n",
      "Mean absolute error of this model: 127.95247959602432\n",
      "Mean squared error of this model: 25774.568186770954\n",
      "Root mean squared error of this model: 160.5445987467998\n"
     ]
    }
   ],
   "source": [
    "from sklearn.metrics import r2_score , mean_absolute_error, mean_squared_error\n",
    "print('R2 score of this model:', r2_score(y_test, predict))\n",
    "print('Mean absolute error of this model:', mean_absolute_error(y_test, predict))\n",
    "print('Mean squared error of this model:', mean_squared_error(y_test, predict))\n",
    "print('Root mean squared error of this model:', np.sqrt(mean_squared_error(y_test, predict)))"
   ]
  },
  {
   "cell_type": "markdown",
   "id": "54240ff8",
   "metadata": {},
   "source": [
    "## Scenario 2: Implement Multiple linear regression model. "
   ]
  },
  {
   "cell_type": "code",
   "execution_count": 25,
   "id": "2f317503",
   "metadata": {},
   "outputs": [],
   "source": [
    "#divide dataset into dependent and independent variable\n",
    "x_mult = CD.drop(labels = ['Weight'], axis = 1)\n",
    "y_mult = CD['Weight']"
   ]
  },
  {
   "cell_type": "code",
   "execution_count": 27,
   "id": "d5362577",
   "metadata": {},
   "outputs": [
    {
     "data": {
      "text/plain": [
       "((127, 4), (32, 4), (127,), (32,))"
      ]
     },
     "execution_count": 27,
     "metadata": {},
     "output_type": "execute_result"
    }
   ],
   "source": [
    "#Spliting Data into train and test\n",
    "from sklearn.model_selection import train_test_split\n",
    "xm_train, xm_test , ym_train, ym_test = train_test_split(x_mult, y_mult, test_size = 0.2, random_state = 0 )\n",
    "xm_train.shape , xm_test.shape, ym_train.shape,ym_test.shape"
   ]
  },
  {
   "cell_type": "markdown",
   "id": "2632bfdd",
   "metadata": {},
   "source": [
    "### Train multiple linear regression model\n",
    "Step 12 : Train multiple linear regression model using LinearRegression() from sklearn.linear_model and predict the test data."
   ]
  },
  {
   "cell_type": "code",
   "execution_count": 28,
   "id": "f45142fc",
   "metadata": {},
   "outputs": [],
   "source": [
    "from sklearn.linear_model import LinearRegression\n",
    "mult_model = LinearRegression()\n",
    "mult_model.fit(xm_train , ym_train)\n",
    "mult_predict = mult_model.predict(xm_test)"
   ]
  },
  {
   "cell_type": "code",
   "execution_count": 29,
   "id": "dcca6ca3",
   "metadata": {},
   "outputs": [
    {
     "data": {
      "text/html": [
       "<div>\n",
       "<style scoped>\n",
       "    .dataframe tbody tr th:only-of-type {\n",
       "        vertical-align: middle;\n",
       "    }\n",
       "\n",
       "    .dataframe tbody tr th {\n",
       "        vertical-align: top;\n",
       "    }\n",
       "\n",
       "    .dataframe thead th {\n",
       "        text-align: right;\n",
       "    }\n",
       "</style>\n",
       "<table border=\"1\" class=\"dataframe\">\n",
       "  <thead>\n",
       "    <tr style=\"text-align: right;\">\n",
       "      <th></th>\n",
       "      <th>Predicted</th>\n",
       "      <th>Actual</th>\n",
       "    </tr>\n",
       "  </thead>\n",
       "  <tbody>\n",
       "    <tr>\n",
       "      <th>7</th>\n",
       "      <td>487.839067</td>\n",
       "      <td>390.0</td>\n",
       "    </tr>\n",
       "    <tr>\n",
       "      <th>40</th>\n",
       "      <td>176.204010</td>\n",
       "      <td>0.0</td>\n",
       "    </tr>\n",
       "    <tr>\n",
       "      <th>95</th>\n",
       "      <td>226.157914</td>\n",
       "      <td>170.0</td>\n",
       "    </tr>\n",
       "    <tr>\n",
       "      <th>45</th>\n",
       "      <td>244.695057</td>\n",
       "      <td>160.0</td>\n",
       "    </tr>\n",
       "    <tr>\n",
       "      <th>110</th>\n",
       "      <td>638.600681</td>\n",
       "      <td>556.0</td>\n",
       "    </tr>\n",
       "  </tbody>\n",
       "</table>\n",
       "</div>"
      ],
      "text/plain": [
       "      Predicted  Actual\n",
       "7    487.839067   390.0\n",
       "40   176.204010     0.0\n",
       "95   226.157914   170.0\n",
       "45   244.695057   160.0\n",
       "110  638.600681   556.0"
      ]
     },
     "execution_count": 29,
     "metadata": {},
     "output_type": "execute_result"
    }
   ],
   "source": [
    "#compare actual and predicted value of Price from multiple linear regression.\n",
    "multi_compare = pd.DataFrame({\"Predicted\":mult_predict , \"Actual\": ym_test})\n",
    "multi_compare.head(5)"
   ]
  },
  {
   "cell_type": "markdown",
   "id": "f3ba8815",
   "metadata": {},
   "source": [
    "### Performance evaluation of multiple linear regression\n",
    "Step 13: Evaluate the performance of multiple linear regression using r2_score , mean_absolute_error, mean_squared_error"
   ]
  },
  {
   "cell_type": "code",
   "execution_count": 30,
   "id": "a4b471e9",
   "metadata": {},
   "outputs": [
    {
     "name": "stdout",
     "output_type": "stream",
     "text": [
      "R2 score of multiple LR model: 0.8686654255237541\n",
      "Mean absolute error of multiple LR model: 116.92679606272087\n",
      "Mean squared error of multiple LR model: 24999.621258626263\n",
      "Root mean squared error of multiple LR model: 158.11268531849765\n"
     ]
    }
   ],
   "source": [
    "from sklearn.metrics import r2_score , mean_absolute_error, mean_squared_error\n",
    "print('R2 score of multiple LR model:', r2_score(ym_test, mult_predict))\n",
    "print('Mean absolute error of multiple LR model:', mean_absolute_error(ym_test, mult_predict))\n",
    "print('Mean squared error of multiple LR model:', mean_squared_error(ym_test, mult_predict))\n",
    "print('Root mean squared error of multiple LR model:', np.sqrt(mean_squared_error(ym_test, mult_predict)))"
   ]
  },
  {
   "cell_type": "code",
   "execution_count": null,
   "id": "b38ef8ee",
   "metadata": {},
   "outputs": [],
   "source": [
    "Step 14 : Compare the results of two models."
   ]
  }
 ],
 "metadata": {
  "kernelspec": {
   "display_name": "Python 3 (ipykernel)",
   "language": "python",
   "name": "python3"
  },
  "language_info": {
   "codemirror_mode": {
    "name": "ipython",
    "version": 3
   },
   "file_extension": ".py",
   "mimetype": "text/x-python",
   "name": "python",
   "nbconvert_exporter": "python",
   "pygments_lexer": "ipython3",
   "version": "3.9.12"
  }
 },
 "nbformat": 4,
 "nbformat_minor": 5
}
