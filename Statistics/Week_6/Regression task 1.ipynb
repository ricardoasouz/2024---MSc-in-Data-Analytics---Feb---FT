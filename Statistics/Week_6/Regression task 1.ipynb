{
 "cells": [
  {
   "cell_type": "markdown",
   "id": "fbcec22f",
   "metadata": {},
   "source": [
    "## Construct a predictive model for estimating fish weight using simple or multiple linear regression. \n",
    "\n",
    "The dataset description is as follows:\n",
    "\n",
    "Species : species name of fish\n",
    "Weight  : weight of fish in Gram g\n",
    "Length1 : vertical length in cm\n",
    "Length2 : diagonal length in cm\n",
    "Length3 : cross length in cm\n",
    "Height  : height in cm\n",
    "width   : diagonal width in cm\n",
    "\n",
    "Follow this instructions to implement this task:"
   ]
  },
  {
   "cell_type": "markdown",
   "id": "2ddd85f1",
   "metadata": {},
   "source": [
    "Step 1: Import Library packages"
   ]
  },
  {
   "cell_type": "code",
   "execution_count": null,
   "id": "5e3b43b9",
   "metadata": {},
   "outputs": [],
   "source": [
    "\n"
   ]
  },
  {
   "cell_type": "markdown",
   "id": "c152b6c8",
   "metadata": {},
   "source": [
    "Step 2: Read the dataset"
   ]
  },
  {
   "cell_type": "code",
   "execution_count": null,
   "id": "98360bd7",
   "metadata": {},
   "outputs": [],
   "source": []
  },
  {
   "cell_type": "markdown",
   "id": "b5da73ed",
   "metadata": {},
   "source": [
    "### Data pre-processing"
   ]
  },
  {
   "cell_type": "markdown",
   "id": "17f60800",
   "metadata": {},
   "source": [
    "Step 3: generate the correlation matrix using sns.heatmap()"
   ]
  },
  {
   "cell_type": "code",
   "execution_count": null,
   "id": "604cc8f7",
   "metadata": {},
   "outputs": [],
   "source": []
  },
  {
   "cell_type": "code",
   "execution_count": null,
   "id": "234db20e",
   "metadata": {},
   "outputs": [],
   "source": []
  },
  {
   "cell_type": "markdown",
   "id": "462d764e",
   "metadata": {},
   "source": [
    "Step 4: Select the features which have a high correlation with our target variable weight with threshold 0.8 coefficeient value. "
   ]
  },
  {
   "cell_type": "code",
   "execution_count": null,
   "id": "79a99d7f",
   "metadata": {},
   "outputs": [],
   "source": [
    "\n"
   ]
  },
  {
   "cell_type": "code",
   "execution_count": null,
   "id": "0366112b",
   "metadata": {},
   "outputs": [],
   "source": [
    "Step 5: Recreate the dataset which contains only high correlation features with target variable weight."
   ]
  },
  {
   "cell_type": "code",
   "execution_count": null,
   "id": "22fd917b",
   "metadata": {},
   "outputs": [],
   "source": []
  },
  {
   "cell_type": "markdown",
   "id": "1ffa1734",
   "metadata": {},
   "source": [
    "### Data visualisation\n",
    "\n",
    "Step 6: Generate the scatter plot to visualise the change in variables. Example: target variable weight with high correlated feature."
   ]
  },
  {
   "cell_type": "code",
   "execution_count": null,
   "id": "fcbb9ee4",
   "metadata": {},
   "outputs": [],
   "source": []
  },
  {
   "cell_type": "markdown",
   "id": "18ccda87",
   "metadata": {},
   "source": [
    "## Scenario 1: Simple linear regression model. \n",
    "\n",
    "Step 7: prepare data for  simple linear regression model with one independent variable which has highest correlation with weight."
   ]
  },
  {
   "cell_type": "code",
   "execution_count": null,
   "id": "48f1dc3c",
   "metadata": {},
   "outputs": [],
   "source": []
  },
  {
   "cell_type": "code",
   "execution_count": null,
   "id": "1fc7c777",
   "metadata": {},
   "outputs": [],
   "source": [
    "Step 8: Select dependent and independent variable."
   ]
  },
  {
   "cell_type": "code",
   "execution_count": null,
   "id": "85e63b56",
   "metadata": {},
   "outputs": [],
   "source": []
  },
  {
   "cell_type": "code",
   "execution_count": null,
   "id": "59c0f945",
   "metadata": {},
   "outputs": [],
   "source": [
    "Step 9: Split the dataset into training and testing using train_test_split()"
   ]
  },
  {
   "cell_type": "markdown",
   "id": "a2b5a023",
   "metadata": {},
   "source": [
    "### Train simple linear regression model\n",
    "Step 10: Train simple linear regression model using LinearRegression() from sklearn.linear_model and predict the test data."
   ]
  },
  {
   "cell_type": "code",
   "execution_count": null,
   "id": "2c1ce8fa",
   "metadata": {},
   "outputs": [],
   "source": []
  },
  {
   "cell_type": "code",
   "execution_count": null,
   "id": "288c6d64",
   "metadata": {},
   "outputs": [],
   "source": []
  },
  {
   "cell_type": "markdown",
   "id": "6ac5ee11",
   "metadata": {},
   "source": [
    "### Performance evaluation of simple linear regression\n",
    "\n",
    "Step 11: Evaluate the performance of simple linear regression by taking an account of r2_score , mean_absolute_error, mean_squared_error"
   ]
  },
  {
   "cell_type": "code",
   "execution_count": null,
   "id": "50fb1ca8",
   "metadata": {},
   "outputs": [],
   "source": []
  },
  {
   "cell_type": "markdown",
   "id": "4aea8239",
   "metadata": {},
   "source": [
    "## Scenario 2: Implement Multiple linear regression model. "
   ]
  },
  {
   "cell_type": "code",
   "execution_count": 25,
   "id": "03d03588",
   "metadata": {},
   "outputs": [],
   "source": [
    "Step 12 : Prepare the data for multiple linear regression and divide it into training and testing."
   ]
  },
  {
   "cell_type": "code",
   "execution_count": null,
   "id": "57984769",
   "metadata": {},
   "outputs": [],
   "source": []
  },
  {
   "cell_type": "markdown",
   "id": "1cd46ab8",
   "metadata": {},
   "source": [
    "### Train multiple linear regression model\n",
    "Step 13 : Train multiple linear regression model using LinearRegression() from sklearn.linear_model and predict the test data."
   ]
  },
  {
   "cell_type": "code",
   "execution_count": null,
   "id": "4cb3975e",
   "metadata": {},
   "outputs": [],
   "source": []
  },
  {
   "cell_type": "code",
   "execution_count": null,
   "id": "b29bc3f7",
   "metadata": {},
   "outputs": [],
   "source": []
  },
  {
   "cell_type": "markdown",
   "id": "78a73e98",
   "metadata": {},
   "source": [
    "### Performance evaluation of multiple linear regression\n",
    "Step 14: Evaluate the performance of multiple linear regression using r2_score , mean_absolute_error, mean_squared_error"
   ]
  },
  {
   "cell_type": "code",
   "execution_count": null,
   "id": "e071c602",
   "metadata": {},
   "outputs": [],
   "source": []
  },
  {
   "cell_type": "code",
   "execution_count": null,
   "id": "7b9563c8",
   "metadata": {},
   "outputs": [],
   "source": [
    "Step 15 : Compare the results of two models."
   ]
  }
 ],
 "metadata": {
  "kernelspec": {
   "display_name": "Python 3 (ipykernel)",
   "language": "python",
   "name": "python3"
  },
  "language_info": {
   "codemirror_mode": {
    "name": "ipython",
    "version": 3
   },
   "file_extension": ".py",
   "mimetype": "text/x-python",
   "name": "python",
   "nbconvert_exporter": "python",
   "pygments_lexer": "ipython3",
   "version": "3.9.12"
  }
 },
 "nbformat": 4,
 "nbformat_minor": 5
}
