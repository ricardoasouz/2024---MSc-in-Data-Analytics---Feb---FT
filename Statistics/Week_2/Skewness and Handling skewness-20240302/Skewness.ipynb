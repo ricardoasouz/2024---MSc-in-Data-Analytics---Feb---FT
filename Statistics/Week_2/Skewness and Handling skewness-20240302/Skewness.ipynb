{
  "cells": [
    {
      "cell_type": "markdown",
      "metadata": {
        "id": "kNGYCKAGWIE2"
      },
      "source": [
        "**Skewness**\n",
        "\n",
        "Skewness of a distribution is defined as the lack of symmetry. In a symmetrical distribution, the Mean, Meadian and Mode are equal to each other.The normal distribution has a skewness of 0. Skewness tell us about where most of the values are concentrated on an ascending scale.\n",
        "\n",
        "Now, the question is when we can say our data is mderately skewed or heavily skewed?\n",
        "\n",
        "The thumb rule is:\n",
        "\n",
        "If the skewness is between -0.5 to +0.5 then we can say data is fairly symmetrical.\n",
        "\n",
        "-If the skewness is between -1 to -0.5 or 0.5 to 1 then data is moderately skewed.\n",
        "\n",
        "-And if the skewness is less than -1 and greater than +1 then our data is heavily skewed.\n",
        "\n",
        "Types of Skewness\n",
        "\n",
        "**Positive skewness:** In simple words, if the skewness is greater than 0 then the distribution is positively skewed. The tail on the right side of the distribution will be longer or flatter. If the data is positively skewed than most of values will be concentrated below the average value of the data.\n",
        "\n",
        "**Negative skewness:** If the skewness is less than 0 then the distribution is negatively skewed. For negatively skewed data, most of the values will be concentrated above the average value and tail on the left side of the distribution will be longer of flatter.\n",
        "\n",
        "What does skewness tells us?\n",
        "Skewness of a data indicates the direction and relative magnitude of a distribution's deviation from the normal distribution. Skewness considers the extremes of the dataset rather than concentrating only on the average. Investors need to look at the extremes while judging the return from market as they are less likely to depend on the average value to work out.\n",
        "\n",
        "Many model assumes normal distribution but in reality data points may not be perfectly symmetric. If the data are skewed, then this kind of model will always underestimate the skewness risk.The more the data is skewed the less accurate the model will be.\n",
        "\n",
        "Here,\n",
        "\n",
        "skew of raw data is positive and greater than 1, right tail of the data is skewed.\n",
        "skew of raw data is negative and less than 1, left tail of the data is skewed."
      ]
    },
    {
      "cell_type": "code",
      "execution_count": 1,
      "metadata": {
        "id": "9vgnDBbZV5gL"
      },
      "outputs": [
        {
          "name": "stderr",
          "output_type": "stream",
          "text": [
            "/var/folders/1m/71syl3xd3910y8gqrq29f4w40000gn/T/ipykernel_27853/265554930.py:2: DeprecationWarning: \n",
            "Pyarrow will become a required dependency of pandas in the next major release of pandas (pandas 3.0),\n",
            "(to allow more performant data types, such as the Arrow string type, and better interoperability with other libraries)\n",
            "but was not found to be installed on your system.\n",
            "If this would cause problems for you,\n",
            "please provide us feedback at https://github.com/pandas-dev/pandas/issues/54466\n",
            "        \n",
            "  import pandas as pd\n"
          ]
        }
      ],
      "source": [
        "import numpy as np\n",
        "import pandas as pd\n",
        "import matplotlib.pyplot as plt\n",
        "import seaborn as sns"
      ]
    },
    {
      "cell_type": "code",
      "execution_count": 3,
      "metadata": {
        "colab": {
          "base_uri": "https://localhost:8080/",
          "height": 296
        },
        "id": "-srYlGniXM-a",
        "outputId": "cbecc3a4-7559-4985-ad8a-994caebf7af7"
      },
      "outputs": [
        {
          "data": {
            "text/html": [
              "<div>\n",
              "<style scoped>\n",
              "    .dataframe tbody tr th:only-of-type {\n",
              "        vertical-align: middle;\n",
              "    }\n",
              "\n",
              "    .dataframe tbody tr th {\n",
              "        vertical-align: top;\n",
              "    }\n",
              "\n",
              "    .dataframe thead th {\n",
              "        text-align: right;\n",
              "    }\n",
              "</style>\n",
              "<table border=\"1\" class=\"dataframe\">\n",
              "  <thead>\n",
              "    <tr style=\"text-align: right;\">\n",
              "      <th></th>\n",
              "      <th>Unnamed: 0</th>\n",
              "      <th>price</th>\n",
              "      <th>brand</th>\n",
              "      <th>model</th>\n",
              "      <th>year</th>\n",
              "      <th>title_status</th>\n",
              "      <th>mileage</th>\n",
              "      <th>color</th>\n",
              "      <th>vin</th>\n",
              "      <th>lot</th>\n",
              "      <th>state</th>\n",
              "      <th>country</th>\n",
              "      <th>condition</th>\n",
              "    </tr>\n",
              "  </thead>\n",
              "  <tbody>\n",
              "    <tr>\n",
              "      <th>0</th>\n",
              "      <td>0</td>\n",
              "      <td>6300</td>\n",
              "      <td>toyota</td>\n",
              "      <td>cruiser</td>\n",
              "      <td>2008</td>\n",
              "      <td>clean vehicle</td>\n",
              "      <td>274117.0</td>\n",
              "      <td>black</td>\n",
              "      <td>jtezu11f88k007763</td>\n",
              "      <td>159348797</td>\n",
              "      <td>new jersey</td>\n",
              "      <td>usa</td>\n",
              "      <td>10 days left</td>\n",
              "    </tr>\n",
              "    <tr>\n",
              "      <th>1</th>\n",
              "      <td>1</td>\n",
              "      <td>2899</td>\n",
              "      <td>ford</td>\n",
              "      <td>se</td>\n",
              "      <td>2011</td>\n",
              "      <td>clean vehicle</td>\n",
              "      <td>190552.0</td>\n",
              "      <td>silver</td>\n",
              "      <td>2fmdk3gc4bbb02217</td>\n",
              "      <td>166951262</td>\n",
              "      <td>tennessee</td>\n",
              "      <td>usa</td>\n",
              "      <td>6 days left</td>\n",
              "    </tr>\n",
              "    <tr>\n",
              "      <th>2</th>\n",
              "      <td>2</td>\n",
              "      <td>5350</td>\n",
              "      <td>dodge</td>\n",
              "      <td>mpv</td>\n",
              "      <td>2018</td>\n",
              "      <td>clean vehicle</td>\n",
              "      <td>39590.0</td>\n",
              "      <td>silver</td>\n",
              "      <td>3c4pdcgg5jt346413</td>\n",
              "      <td>167655728</td>\n",
              "      <td>georgia</td>\n",
              "      <td>usa</td>\n",
              "      <td>2 days left</td>\n",
              "    </tr>\n",
              "    <tr>\n",
              "      <th>3</th>\n",
              "      <td>3</td>\n",
              "      <td>25000</td>\n",
              "      <td>ford</td>\n",
              "      <td>door</td>\n",
              "      <td>2014</td>\n",
              "      <td>clean vehicle</td>\n",
              "      <td>64146.0</td>\n",
              "      <td>blue</td>\n",
              "      <td>1ftfw1et4efc23745</td>\n",
              "      <td>167753855</td>\n",
              "      <td>virginia</td>\n",
              "      <td>usa</td>\n",
              "      <td>22 hours left</td>\n",
              "    </tr>\n",
              "    <tr>\n",
              "      <th>4</th>\n",
              "      <td>4</td>\n",
              "      <td>27700</td>\n",
              "      <td>chevrolet</td>\n",
              "      <td>1500</td>\n",
              "      <td>2018</td>\n",
              "      <td>clean vehicle</td>\n",
              "      <td>6654.0</td>\n",
              "      <td>red</td>\n",
              "      <td>3gcpcrec2jg473991</td>\n",
              "      <td>167763266</td>\n",
              "      <td>florida</td>\n",
              "      <td>usa</td>\n",
              "      <td>22 hours left</td>\n",
              "    </tr>\n",
              "  </tbody>\n",
              "</table>\n",
              "</div>"
            ],
            "text/plain": [
              "   Unnamed: 0  price      brand    model  year   title_status   mileage  \\\n",
              "0           0   6300     toyota  cruiser  2008  clean vehicle  274117.0   \n",
              "1           1   2899       ford       se  2011  clean vehicle  190552.0   \n",
              "2           2   5350      dodge      mpv  2018  clean vehicle   39590.0   \n",
              "3           3  25000       ford     door  2014  clean vehicle   64146.0   \n",
              "4           4  27700  chevrolet     1500  2018  clean vehicle    6654.0   \n",
              "\n",
              "    color                  vin        lot       state country      condition  \n",
              "0   black    jtezu11f88k007763  159348797  new jersey     usa   10 days left  \n",
              "1  silver    2fmdk3gc4bbb02217  166951262   tennessee     usa    6 days left  \n",
              "2  silver    3c4pdcgg5jt346413  167655728     georgia     usa    2 days left  \n",
              "3    blue    1ftfw1et4efc23745  167753855    virginia     usa  22 hours left  \n",
              "4     red    3gcpcrec2jg473991  167763266     florida     usa  22 hours left  "
            ]
          },
          "execution_count": 3,
          "metadata": {},
          "output_type": "execute_result"
        }
      ],
      "source": [
        "dataset=pd.read_csv('USA_cars_datasets.csv')\n",
        "dataset.head(5)"
      ]
    },
    {
      "cell_type": "code",
      "execution_count": 4,
      "metadata": {
        "id": "awm4Y2mdXdYp"
      },
      "outputs": [],
      "source": [
        "#Removing the unnamed: 0 column\n",
        "data = dataset.drop(['Unnamed: 0'], axis = 1)"
      ]
    },
    {
      "cell_type": "code",
      "execution_count": 5,
      "metadata": {
        "colab": {
          "base_uri": "https://localhost:8080/",
          "height": 206
        },
        "id": "vGTLhsOqX51K",
        "outputId": "464a34e8-e4cb-4d04-9ecc-fff590efe064"
      },
      "outputs": [
        {
          "data": {
            "text/html": [
              "<div>\n",
              "<style scoped>\n",
              "    .dataframe tbody tr th:only-of-type {\n",
              "        vertical-align: middle;\n",
              "    }\n",
              "\n",
              "    .dataframe tbody tr th {\n",
              "        vertical-align: top;\n",
              "    }\n",
              "\n",
              "    .dataframe thead th {\n",
              "        text-align: right;\n",
              "    }\n",
              "</style>\n",
              "<table border=\"1\" class=\"dataframe\">\n",
              "  <thead>\n",
              "    <tr style=\"text-align: right;\">\n",
              "      <th></th>\n",
              "      <th>price</th>\n",
              "      <th>brand</th>\n",
              "      <th>model</th>\n",
              "      <th>year</th>\n",
              "      <th>title_status</th>\n",
              "      <th>mileage</th>\n",
              "      <th>color</th>\n",
              "      <th>vin</th>\n",
              "      <th>lot</th>\n",
              "      <th>state</th>\n",
              "      <th>country</th>\n",
              "      <th>condition</th>\n",
              "    </tr>\n",
              "  </thead>\n",
              "  <tbody>\n",
              "    <tr>\n",
              "      <th>0</th>\n",
              "      <td>6300</td>\n",
              "      <td>toyota</td>\n",
              "      <td>cruiser</td>\n",
              "      <td>2008</td>\n",
              "      <td>clean vehicle</td>\n",
              "      <td>274117.0</td>\n",
              "      <td>black</td>\n",
              "      <td>jtezu11f88k007763</td>\n",
              "      <td>159348797</td>\n",
              "      <td>new jersey</td>\n",
              "      <td>usa</td>\n",
              "      <td>10 days left</td>\n",
              "    </tr>\n",
              "    <tr>\n",
              "      <th>1</th>\n",
              "      <td>2899</td>\n",
              "      <td>ford</td>\n",
              "      <td>se</td>\n",
              "      <td>2011</td>\n",
              "      <td>clean vehicle</td>\n",
              "      <td>190552.0</td>\n",
              "      <td>silver</td>\n",
              "      <td>2fmdk3gc4bbb02217</td>\n",
              "      <td>166951262</td>\n",
              "      <td>tennessee</td>\n",
              "      <td>usa</td>\n",
              "      <td>6 days left</td>\n",
              "    </tr>\n",
              "    <tr>\n",
              "      <th>2</th>\n",
              "      <td>5350</td>\n",
              "      <td>dodge</td>\n",
              "      <td>mpv</td>\n",
              "      <td>2018</td>\n",
              "      <td>clean vehicle</td>\n",
              "      <td>39590.0</td>\n",
              "      <td>silver</td>\n",
              "      <td>3c4pdcgg5jt346413</td>\n",
              "      <td>167655728</td>\n",
              "      <td>georgia</td>\n",
              "      <td>usa</td>\n",
              "      <td>2 days left</td>\n",
              "    </tr>\n",
              "    <tr>\n",
              "      <th>3</th>\n",
              "      <td>25000</td>\n",
              "      <td>ford</td>\n",
              "      <td>door</td>\n",
              "      <td>2014</td>\n",
              "      <td>clean vehicle</td>\n",
              "      <td>64146.0</td>\n",
              "      <td>blue</td>\n",
              "      <td>1ftfw1et4efc23745</td>\n",
              "      <td>167753855</td>\n",
              "      <td>virginia</td>\n",
              "      <td>usa</td>\n",
              "      <td>22 hours left</td>\n",
              "    </tr>\n",
              "    <tr>\n",
              "      <th>4</th>\n",
              "      <td>27700</td>\n",
              "      <td>chevrolet</td>\n",
              "      <td>1500</td>\n",
              "      <td>2018</td>\n",
              "      <td>clean vehicle</td>\n",
              "      <td>6654.0</td>\n",
              "      <td>red</td>\n",
              "      <td>3gcpcrec2jg473991</td>\n",
              "      <td>167763266</td>\n",
              "      <td>florida</td>\n",
              "      <td>usa</td>\n",
              "      <td>22 hours left</td>\n",
              "    </tr>\n",
              "  </tbody>\n",
              "</table>\n",
              "</div>"
            ],
            "text/plain": [
              "   price      brand    model  year   title_status   mileage   color  \\\n",
              "0   6300     toyota  cruiser  2008  clean vehicle  274117.0   black   \n",
              "1   2899       ford       se  2011  clean vehicle  190552.0  silver   \n",
              "2   5350      dodge      mpv  2018  clean vehicle   39590.0  silver   \n",
              "3  25000       ford     door  2014  clean vehicle   64146.0    blue   \n",
              "4  27700  chevrolet     1500  2018  clean vehicle    6654.0     red   \n",
              "\n",
              "                   vin        lot       state country      condition  \n",
              "0    jtezu11f88k007763  159348797  new jersey     usa   10 days left  \n",
              "1    2fmdk3gc4bbb02217  166951262   tennessee     usa    6 days left  \n",
              "2    3c4pdcgg5jt346413  167655728     georgia     usa    2 days left  \n",
              "3    1ftfw1et4efc23745  167753855    virginia     usa  22 hours left  \n",
              "4    3gcpcrec2jg473991  167763266     florida     usa  22 hours left  "
            ]
          },
          "execution_count": 5,
          "metadata": {},
          "output_type": "execute_result"
        }
      ],
      "source": [
        "data.head(5)"
      ]
    },
    {
      "cell_type": "code",
      "execution_count": 6,
      "metadata": {
        "colab": {
          "base_uri": "https://localhost:8080/"
        },
        "id": "mxSK2Q8hYE_B",
        "outputId": "a7d630ba-6a4c-4fc3-a118-b687cb176d66"
      },
      "outputs": [
        {
          "name": "stdout",
          "output_type": "stream",
          "text": [
            "<class 'pandas.core.frame.DataFrame'>\n",
            "RangeIndex: 2499 entries, 0 to 2498\n",
            "Data columns (total 12 columns):\n",
            " #   Column        Non-Null Count  Dtype  \n",
            "---  ------        --------------  -----  \n",
            " 0   price         2499 non-null   int64  \n",
            " 1   brand         2499 non-null   object \n",
            " 2   model         2499 non-null   object \n",
            " 3   year          2499 non-null   int64  \n",
            " 4   title_status  2499 non-null   object \n",
            " 5   mileage       2499 non-null   float64\n",
            " 6   color         2499 non-null   object \n",
            " 7   vin           2499 non-null   object \n",
            " 8   lot           2499 non-null   int64  \n",
            " 9   state         2499 non-null   object \n",
            " 10  country       2499 non-null   object \n",
            " 11  condition     2499 non-null   object \n",
            "dtypes: float64(1), int64(3), object(8)\n",
            "memory usage: 234.4+ KB\n"
          ]
        }
      ],
      "source": [
        "#Exploring the dataset information\n",
        "data.info()"
      ]
    },
    {
      "cell_type": "code",
      "execution_count": 7,
      "metadata": {
        "colab": {
          "base_uri": "https://localhost:8080/"
        },
        "id": "PLXFVc53YIPz",
        "outputId": "30a4cae5-ef16-42fa-b289-3d3581eb0dd0"
      },
      "outputs": [
        {
          "data": {
            "text/plain": [
              "(2499, 12)"
            ]
          },
          "execution_count": 7,
          "metadata": {},
          "output_type": "execute_result"
        }
      ],
      "source": [
        "#checking dimension of dataset\n",
        "data.shape"
      ]
    },
    {
      "cell_type": "code",
      "execution_count": 8,
      "metadata": {
        "colab": {
          "base_uri": "https://localhost:8080/",
          "height": 448
        },
        "id": "nDZZdy2MYMWm",
        "outputId": "42d5e5e1-b38d-443b-dafa-ec6c8ce36796"
      },
      "outputs": [
        {
          "data": {
            "text/plain": [
              "<Axes: >"
            ]
          },
          "execution_count": 8,
          "metadata": {},
          "output_type": "execute_result"
        },
        {
          "data": {
            "image/png": "[encoded data removed]",
            "text/plain": [
              "<Figure size 640x480 with 1 Axes>"
            ]
          },
          "metadata": {},
          "output_type": "display_data"
        }
      ],
      "source": [
        "#importing library for visualising dataset and plotting the  histogram for  price attributes\n",
        "import seaborn as sns\n",
        "data['price'].hist(grid = False)"
      ]
    },
    {
      "cell_type": "code",
      "execution_count": 9,
      "metadata": {
        "colab": {
          "base_uri": "https://localhost:8080/"
        },
        "id": "2gjqpXlDYRni",
        "outputId": "af45972c-0c41-4b1e-ba07-9975d4ec3ede"
      },
      "outputs": [
        {
          "data": {
            "text/plain": [
              "0.9227307836499805"
            ]
          },
          "execution_count": 9,
          "metadata": {},
          "output_type": "execute_result"
        }
      ],
      "source": [
        "# Checking the skewness of Price column of dataset\n",
        "data['price'].skew()"
      ]
    },
    {
      "cell_type": "code",
      "execution_count": 18,
      "metadata": {
        "colab": {
          "base_uri": "https://localhost:8080/",
          "height": 679
        },
        "id": "5di2O60mYdOg",
        "outputId": "b86a9e48-7574-4740-9e18-4cd43734b63b"
      },
      "outputs": [
        {
          "name": "stderr",
          "output_type": "stream",
          "text": [
            "/var/folders/1m/71syl3xd3910y8gqrq29f4w40000gn/T/ipykernel_27853/1795920049.py:2: UserWarning: \n",
            "\n",
            "`distplot` is a deprecated function and will be removed in seaborn v0.14.0.\n",
            "\n",
            "Please adapt your code to use either `displot` (a figure-level function with\n",
            "similar flexibility) or `histplot` (an axes-level function for histograms).\n",
            "\n",
            "For a guide to updating your code to use the new functions, please see\n",
            "https://gist.github.com/mwaskom/de44147ed2974457ad6372750bbe5751\n",
            "\n",
            "  sns.distplot(data['price'], hist = True)\n"
          ]
        },
        {
          "data": {
            "text/plain": [
              "<Axes: xlabel='price', ylabel='Density'>"
            ]
          },
          "execution_count": 18,
          "metadata": {},
          "output_type": "execute_result"
        },
        {
          "data": {
            "image/png": "[encoded data removed]",
            "text/plain": [
              "<Figure size 640x480 with 1 Axes>"
            ]
          },
          "metadata": {},
          "output_type": "display_data"
        }
      ],
      "source": [
        "#density plot\n",
        "sns.distplot(data['price'], hist = True)"
      ]
    },
    {
      "cell_type": "markdown",
      "metadata": {
        "id": "tm4aWVulYx1e"
      },
      "source": [
        "Note: As we can see the skewed values lies between the 0.5 to 1 range. so, data is moderately skewed and right skewed(but it's fine to train the model with it). Let's explore another attribute.\n",
        "\n"
      ]
    },
    {
      "cell_type": "code",
      "execution_count": 19,
      "metadata": {
        "colab": {
          "base_uri": "https://localhost:8080/"
        },
        "id": "x7wBvzNCYpgd",
        "outputId": "aaf1d48e-67b9-4e15-99fd-efd074094755"
      },
      "outputs": [
        {
          "data": {
            "text/plain": [
              "7.0793210165347915"
            ]
          },
          "execution_count": 19,
          "metadata": {},
          "output_type": "execute_result"
        }
      ],
      "source": [
        "# Checking the skewness of mileage column of dataset\n",
        "data['mileage'].skew()"
      ]
    },
    {
      "cell_type": "code",
      "execution_count": 20,
      "metadata": {
        "colab": {
          "base_uri": "https://localhost:8080/",
          "height": 679
        },
        "id": "fcCAB-naYtDl",
        "outputId": "2cbc94c3-56ca-431c-b9e1-7d9a5ddef5d3"
      },
      "outputs": [
        {
          "name": "stderr",
          "output_type": "stream",
          "text": [
            "/var/folders/1m/71syl3xd3910y8gqrq29f4w40000gn/T/ipykernel_27853/1388293605.py:1: UserWarning: \n",
            "\n",
            "`distplot` is a deprecated function and will be removed in seaborn v0.14.0.\n",
            "\n",
            "Please adapt your code to use either `displot` (a figure-level function with\n",
            "similar flexibility) or `histplot` (an axes-level function for histograms).\n",
            "\n",
            "For a guide to updating your code to use the new functions, please see\n",
            "https://gist.github.com/mwaskom/de44147ed2974457ad6372750bbe5751\n",
            "\n",
            "  sns.distplot(data['mileage'], hist = True)\n"
          ]
        },
        {
          "data": {
            "text/plain": [
              "<Axes: xlabel='mileage', ylabel='Density'>"
            ]
          },
          "execution_count": 20,
          "metadata": {},
          "output_type": "execute_result"
        },
        {
          "data": {
            "image/png": "[encoded data removed]",
            "text/plain": [
              "<Figure size 640x480 with 1 Axes>"
            ]
          },
          "metadata": {},
          "output_type": "display_data"
        }
      ],
      "source": [
        "sns.distplot(data['mileage'], hist = True)"
      ]
    },
    {
      "cell_type": "markdown",
      "metadata": {
        "id": "tKlAYJHyY7qH"
      },
      "source": [
        "Note: As we can see the skewed values lies between -1 and greater than +1 then our data is heavily skewed. so, data is heavily skewed. data['mileage'] is right skewed by looking at the graph and skewed values.\n",
        "\n"
      ]
    },
    {
      "cell_type": "markdown",
      "metadata": {
        "id": "BRqWvr77ZZjG"
      },
      "source": [
        "## How to handle these skewed data?¶\n",
        "\n",
        "**Transformation**\n",
        "\n",
        "In data analysis transformation is the replacement of a variable by a function of that variable: for example, replacing a variable x by the square root of x or the logarithm of x. In a stronger sense, a transformation is a replacement that changes the shape of a distribution or relationship.\n",
        "\n",
        "\n"
      ]
    },
    {
      "cell_type": "code",
      "execution_count": 25,
      "metadata": {
        "colab": {
          "base_uri": "https://localhost:8080/"
        },
        "id": "VYwu6-EyZ3GO",
        "outputId": "f156b77c-e395-432c-e3fb-745864789222"
      },
      "outputs": [
        {
          "data": {
            "text/plain": [
              "0       12.521310\n",
              "1       12.157680\n",
              "2       10.586332\n",
              "3       11.068917\n",
              "4        8.802973\n",
              "          ...    \n",
              "2494    10.069383\n",
              "2495    10.450250\n",
              "2496    10.360723\n",
              "2497    10.390748\n",
              "2498    10.353639\n",
              "Name: mileage, Length: 2499, dtype: float64"
            ]
          },
          "execution_count": 25,
          "metadata": {},
          "output_type": "execute_result"
        }
      ],
      "source": [
        "#performing the log transformation using numpy\n",
        "log_mileage = np.log(data['mileage'])\n",
        "log_mileage"
      ]
    },
    {
      "cell_type": "code",
      "execution_count": 26,
      "metadata": {
        "colab": {
          "base_uri": "https://localhost:8080/"
        },
        "id": "VcpQhVP2ZZKo",
        "outputId": "44a94636-9e02-4b5a-d812-b7a198cc6dae"
      },
      "outputs": [
        {
          "data": {
            "text/plain": [
              "nan"
            ]
          },
          "execution_count": 26,
          "metadata": {},
          "output_type": "execute_result"
        }
      ],
      "source": [
        "#checking the skewness after the log-transformation\n",
        "log_mileage.skew()\n"
      ]
    },
    {
      "cell_type": "code",
      "execution_count": 27,
      "metadata": {
        "colab": {
          "base_uri": "https://localhost:8080/"
        },
        "id": "5sZPLBhiY9fl",
        "outputId": "fd05c357-14c0-4f93-aa94-1da71676750a"
      },
      "outputs": [
        {
          "data": {
            "text/plain": [
              "0       523.561840\n",
              "1       436.522623\n",
              "2       198.972360\n",
              "3       253.270606\n",
              "4        81.572054\n",
              "           ...    \n",
              "2494    153.652205\n",
              "2495    185.884373\n",
              "2496    177.747011\n",
              "2497    180.435584\n",
              "2498    177.118604\n",
              "Name: mileage, Length: 2499, dtype: float64"
            ]
          },
          "execution_count": 27,
          "metadata": {},
          "output_type": "execute_result"
        }
      ],
      "source": [
        "#calculating the square root for data['mileage'] column\n",
        "sqrt_mileage = np.sqrt(data['mileage'])\n",
        "sqrt_mileage"
      ]
    },
    {
      "cell_type": "code",
      "execution_count": 28,
      "metadata": {
        "colab": {
          "base_uri": "https://localhost:8080/"
        },
        "id": "udE7d97waPp3",
        "outputId": "a1ce4401-f688-4118-f3c5-4f8c9093f8e8"
      },
      "outputs": [
        {
          "data": {
            "text/plain": [
              "1.6676282633339148"
            ]
          },
          "execution_count": 28,
          "metadata": {},
          "output_type": "execute_result"
        }
      ],
      "source": [
        "#calculation skewness after calculating the square root\n",
        "sqrt_mileage.skew()"
      ]
    },
    {
      "cell_type": "code",
      "execution_count": 29,
      "metadata": {
        "colab": {
          "base_uri": "https://localhost:8080/",
          "height": 663
        },
        "id": "RYmtoE0jaSwQ",
        "outputId": "fa5dd623-3f21-4e2c-e4cd-1c0356f1687a"
      },
      "outputs": [
        {
          "name": "stderr",
          "output_type": "stream",
          "text": [
            "/var/folders/1m/71syl3xd3910y8gqrq29f4w40000gn/T/ipykernel_27853/2620551414.py:2: UserWarning: \n",
            "\n",
            "`distplot` is a deprecated function and will be removed in seaborn v0.14.0.\n",
            "\n",
            "Please adapt your code to use either `displot` (a figure-level function with\n",
            "similar flexibility) or `histplot` (an axes-level function for histograms).\n",
            "\n",
            "For a guide to updating your code to use the new functions, please see\n",
            "https://gist.github.com/mwaskom/de44147ed2974457ad6372750bbe5751\n",
            "\n",
            "  sns.distplot(sqrt_mileage, hist = True)\n"
          ]
        },
        {
          "data": {
            "text/plain": [
              "<Axes: xlabel='mileage', ylabel='Density'>"
            ]
          },
          "execution_count": 29,
          "metadata": {},
          "output_type": "execute_result"
        },
        {
          "data": {
            "image/png": "[encoded data removed]",
            "text/plain": [
              "<Figure size 640x480 with 1 Axes>"
            ]
          },
          "metadata": {},
          "output_type": "display_data"
        }
      ],
      "source": [
        "#visualising by density plot\n",
        "sns.distplot(sqrt_mileage, hist = True)"
      ]
    },
    {
      "cell_type": "markdown",
      "metadata": {
        "id": "p5oqfdC1aW-z"
      },
      "source": [
        "Note: In previous case we got the nan because of zero, but the square root tranformation has reduced the skewed values from 7.07 to 1.66. which is very much nearer to zero compare to 7.07.\n",
        "\n"
      ]
    },
    {
      "cell_type": "code",
      "execution_count": 34,
      "metadata": {
        "colab": {
          "base_uri": "https://localhost:8080/",
          "height": 491
        },
        "id": "XYhMaqPYaYRE",
        "outputId": "f95df810-17ae-4e1a-b4d2-a583b5b62ac6"
      },
      "outputs": [
        {
          "data": {
            "image/png": "[encoded data removed]",
            "text/plain": [
              "<Figure size 640x480 with 2 Axes>"
            ]
          },
          "metadata": {},
          "output_type": "display_data"
        }
      ],
      "source": [
        "sns.heatmap(data.select_dtypes(include=[np.number]).corr(),annot=True)\n",
        "plt.show()\n",
        "\n",
        "#data.select_dtypes(include=[np.number])"
      ]
    },
    {
      "cell_type": "code",
      "execution_count": 32,
      "metadata": {
        "colab": {
          "base_uri": "https://localhost:8080/",
          "height": 548
        },
        "id": "DyrjyRXXbnU6",
        "outputId": "f73fd437-1e08-4d97-d5c5-142808fdb9fc"
      },
      "outputs": [
        {
          "data": {
            "text/html": [
              "<div>\n",
              "<style scoped>\n",
              "    .dataframe tbody tr th:only-of-type {\n",
              "        vertical-align: middle;\n",
              "    }\n",
              "\n",
              "    .dataframe tbody tr th {\n",
              "        vertical-align: top;\n",
              "    }\n",
              "\n",
              "    .dataframe thead th {\n",
              "        text-align: right;\n",
              "    }\n",
              "</style>\n",
              "<table border=\"1\" class=\"dataframe\">\n",
              "  <thead>\n",
              "    <tr style=\"text-align: right;\">\n",
              "      <th></th>\n",
              "      <th>price</th>\n",
              "      <th>brand</th>\n",
              "      <th>model</th>\n",
              "      <th>year</th>\n",
              "      <th>title_status</th>\n",
              "      <th>color</th>\n",
              "      <th>vin</th>\n",
              "      <th>lot</th>\n",
              "      <th>state</th>\n",
              "      <th>country</th>\n",
              "      <th>condition</th>\n",
              "      <th>mileage</th>\n",
              "    </tr>\n",
              "  </thead>\n",
              "  <tbody>\n",
              "    <tr>\n",
              "      <th>0</th>\n",
              "      <td>6300</td>\n",
              "      <td>toyota</td>\n",
              "      <td>cruiser</td>\n",
              "      <td>2008</td>\n",
              "      <td>clean vehicle</td>\n",
              "      <td>black</td>\n",
              "      <td>jtezu11f88k007763</td>\n",
              "      <td>159348797</td>\n",
              "      <td>new jersey</td>\n",
              "      <td>usa</td>\n",
              "      <td>10 days left</td>\n",
              "      <td>523.561840</td>\n",
              "    </tr>\n",
              "    <tr>\n",
              "      <th>1</th>\n",
              "      <td>2899</td>\n",
              "      <td>ford</td>\n",
              "      <td>se</td>\n",
              "      <td>2011</td>\n",
              "      <td>clean vehicle</td>\n",
              "      <td>silver</td>\n",
              "      <td>2fmdk3gc4bbb02217</td>\n",
              "      <td>166951262</td>\n",
              "      <td>tennessee</td>\n",
              "      <td>usa</td>\n",
              "      <td>6 days left</td>\n",
              "      <td>436.522623</td>\n",
              "    </tr>\n",
              "    <tr>\n",
              "      <th>2</th>\n",
              "      <td>5350</td>\n",
              "      <td>dodge</td>\n",
              "      <td>mpv</td>\n",
              "      <td>2018</td>\n",
              "      <td>clean vehicle</td>\n",
              "      <td>silver</td>\n",
              "      <td>3c4pdcgg5jt346413</td>\n",
              "      <td>167655728</td>\n",
              "      <td>georgia</td>\n",
              "      <td>usa</td>\n",
              "      <td>2 days left</td>\n",
              "      <td>198.972360</td>\n",
              "    </tr>\n",
              "    <tr>\n",
              "      <th>3</th>\n",
              "      <td>25000</td>\n",
              "      <td>ford</td>\n",
              "      <td>door</td>\n",
              "      <td>2014</td>\n",
              "      <td>clean vehicle</td>\n",
              "      <td>blue</td>\n",
              "      <td>1ftfw1et4efc23745</td>\n",
              "      <td>167753855</td>\n",
              "      <td>virginia</td>\n",
              "      <td>usa</td>\n",
              "      <td>22 hours left</td>\n",
              "      <td>253.270606</td>\n",
              "    </tr>\n",
              "    <tr>\n",
              "      <th>4</th>\n",
              "      <td>27700</td>\n",
              "      <td>chevrolet</td>\n",
              "      <td>1500</td>\n",
              "      <td>2018</td>\n",
              "      <td>clean vehicle</td>\n",
              "      <td>red</td>\n",
              "      <td>3gcpcrec2jg473991</td>\n",
              "      <td>167763266</td>\n",
              "      <td>florida</td>\n",
              "      <td>usa</td>\n",
              "      <td>22 hours left</td>\n",
              "      <td>81.572054</td>\n",
              "    </tr>\n",
              "    <tr>\n",
              "      <th>...</th>\n",
              "      <td>...</td>\n",
              "      <td>...</td>\n",
              "      <td>...</td>\n",
              "      <td>...</td>\n",
              "      <td>...</td>\n",
              "      <td>...</td>\n",
              "      <td>...</td>\n",
              "      <td>...</td>\n",
              "      <td>...</td>\n",
              "      <td>...</td>\n",
              "      <td>...</td>\n",
              "      <td>...</td>\n",
              "    </tr>\n",
              "    <tr>\n",
              "      <th>2494</th>\n",
              "      <td>7800</td>\n",
              "      <td>nissan</td>\n",
              "      <td>versa</td>\n",
              "      <td>2019</td>\n",
              "      <td>clean vehicle</td>\n",
              "      <td>red</td>\n",
              "      <td>3n1cn7ap9kl880319</td>\n",
              "      <td>167722715</td>\n",
              "      <td>california</td>\n",
              "      <td>usa</td>\n",
              "      <td>1 days left</td>\n",
              "      <td>153.652205</td>\n",
              "    </tr>\n",
              "    <tr>\n",
              "      <th>2495</th>\n",
              "      <td>9200</td>\n",
              "      <td>nissan</td>\n",
              "      <td>versa</td>\n",
              "      <td>2018</td>\n",
              "      <td>clean vehicle</td>\n",
              "      <td>silver</td>\n",
              "      <td>3n1cn7ap5jl884088</td>\n",
              "      <td>167762225</td>\n",
              "      <td>florida</td>\n",
              "      <td>usa</td>\n",
              "      <td>21 hours left</td>\n",
              "      <td>185.884373</td>\n",
              "    </tr>\n",
              "    <tr>\n",
              "      <th>2496</th>\n",
              "      <td>9200</td>\n",
              "      <td>nissan</td>\n",
              "      <td>versa</td>\n",
              "      <td>2018</td>\n",
              "      <td>clean vehicle</td>\n",
              "      <td>silver</td>\n",
              "      <td>3n1cn7ap9jl884191</td>\n",
              "      <td>167762226</td>\n",
              "      <td>florida</td>\n",
              "      <td>usa</td>\n",
              "      <td>21 hours left</td>\n",
              "      <td>177.747011</td>\n",
              "    </tr>\n",
              "    <tr>\n",
              "      <th>2497</th>\n",
              "      <td>9200</td>\n",
              "      <td>nissan</td>\n",
              "      <td>versa</td>\n",
              "      <td>2018</td>\n",
              "      <td>clean vehicle</td>\n",
              "      <td>black</td>\n",
              "      <td>3n1cn7ap3jl883263</td>\n",
              "      <td>167762227</td>\n",
              "      <td>florida</td>\n",
              "      <td>usa</td>\n",
              "      <td>2 days left</td>\n",
              "      <td>180.435584</td>\n",
              "    </tr>\n",
              "    <tr>\n",
              "      <th>2498</th>\n",
              "      <td>9200</td>\n",
              "      <td>nissan</td>\n",
              "      <td>versa</td>\n",
              "      <td>2018</td>\n",
              "      <td>clean vehicle</td>\n",
              "      <td>silver</td>\n",
              "      <td>3n1cn7ap4jl884311</td>\n",
              "      <td>167762228</td>\n",
              "      <td>florida</td>\n",
              "      <td>usa</td>\n",
              "      <td>21 hours left</td>\n",
              "      <td>177.118604</td>\n",
              "    </tr>\n",
              "  </tbody>\n",
              "</table>\n",
              "<p>2499 rows × 12 columns</p>\n",
              "</div>"
            ],
            "text/plain": [
              "      price      brand    model  year   title_status   color  \\\n",
              "0      6300     toyota  cruiser  2008  clean vehicle   black   \n",
              "1      2899       ford       se  2011  clean vehicle  silver   \n",
              "2      5350      dodge      mpv  2018  clean vehicle  silver   \n",
              "3     25000       ford     door  2014  clean vehicle    blue   \n",
              "4     27700  chevrolet     1500  2018  clean vehicle     red   \n",
              "...     ...        ...      ...   ...            ...     ...   \n",
              "2494   7800     nissan    versa  2019  clean vehicle     red   \n",
              "2495   9200     nissan    versa  2018  clean vehicle  silver   \n",
              "2496   9200     nissan    versa  2018  clean vehicle  silver   \n",
              "2497   9200     nissan    versa  2018  clean vehicle   black   \n",
              "2498   9200     nissan    versa  2018  clean vehicle  silver   \n",
              "\n",
              "                      vin        lot       state country      condition  \\\n",
              "0       jtezu11f88k007763  159348797  new jersey     usa   10 days left   \n",
              "1       2fmdk3gc4bbb02217  166951262   tennessee     usa    6 days left   \n",
              "2       3c4pdcgg5jt346413  167655728     georgia     usa    2 days left   \n",
              "3       1ftfw1et4efc23745  167753855    virginia     usa  22 hours left   \n",
              "4       3gcpcrec2jg473991  167763266     florida     usa  22 hours left   \n",
              "...                   ...        ...         ...     ...            ...   \n",
              "2494    3n1cn7ap9kl880319  167722715  california     usa    1 days left   \n",
              "2495    3n1cn7ap5jl884088  167762225     florida     usa  21 hours left   \n",
              "2496    3n1cn7ap9jl884191  167762226     florida     usa  21 hours left   \n",
              "2497    3n1cn7ap3jl883263  167762227     florida     usa    2 days left   \n",
              "2498    3n1cn7ap4jl884311  167762228     florida     usa  21 hours left   \n",
              "\n",
              "         mileage  \n",
              "0     523.561840  \n",
              "1     436.522623  \n",
              "2     198.972360  \n",
              "3     253.270606  \n",
              "4      81.572054  \n",
              "...          ...  \n",
              "2494  153.652205  \n",
              "2495  185.884373  \n",
              "2496  177.747011  \n",
              "2497  180.435584  \n",
              "2498  177.118604  \n",
              "\n",
              "[2499 rows x 12 columns]"
            ]
          },
          "execution_count": 32,
          "metadata": {},
          "output_type": "execute_result"
        }
      ],
      "source": [
        "# Drop column 'B'\n",
        "df = data.drop(columns=['mileage'])\n",
        "df['mileage']=sqrt_mileage\n",
        "df"
      ]
    },
    {
      "cell_type": "code",
      "execution_count": 35,
      "metadata": {
        "colab": {
          "base_uri": "https://localhost:8080/",
          "height": 491
        },
        "id": "suNFvbcPcmBE",
        "outputId": "98539969-f409-4c60-c21f-adedb0b46852"
      },
      "outputs": [
        {
          "data": {
            "image/png": "[encoded data removed]",
            "text/plain": [
              "<Figure size 640x480 with 2 Axes>"
            ]
          },
          "metadata": {},
          "output_type": "display_data"
        }
      ],
      "source": [
        "sns.heatmap(df.select_dtypes(include=[np.number]).corr(),annot=True)\n",
        "plt.show()"
      ]
    }
  ],
  "metadata": {
    "colab": {
      "provenance": []
    },
    "kernelspec": {
      "display_name": "Python 3",
      "name": "python3"
    },
    "language_info": {
      "codemirror_mode": {
        "name": "ipython",
        "version": 3
      },
      "file_extension": ".py",
      "mimetype": "text/x-python",
      "name": "python",
      "nbconvert_exporter": "python",
      "pygments_lexer": "ipython3",
      "version": "3.9.16"
    }
  },
  "nbformat": 4,
  "nbformat_minor": 0
}
