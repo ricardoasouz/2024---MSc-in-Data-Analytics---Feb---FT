{
 "cells": [
  {
   "cell_type": "code",
   "execution_count": 6,
   "metadata": {},
   "outputs": [
    {
     "name": "stdout",
     "output_type": "stream",
     "text": [
      "             State  Population  Murder.Rate Abbreviation\n",
      "0          Alabama     4779736          5.7           AL\n",
      "1           Alaska      710231          5.6           AK\n",
      "2          Arizona     6392017          4.7           AZ\n",
      "3         Arkansas     2915918          5.6           AR\n",
      "4       California    37253956          4.4           CA\n",
      "5         Colorado     5029196          2.8           CO\n",
      "6      Connecticut     3574097          2.4           CT\n",
      "7         Delaware      897934          5.8           DE\n",
      "8          Florida    18801310          5.8           FL\n",
      "9          Georgia     9687653          5.7           GA\n",
      "10          Hawaii     1360301          1.8           HI\n",
      "11           Idaho     1567582          2.0           ID\n",
      "12        Illinois    12830632          5.3           IL\n",
      "13         Indiana     6483802          5.0           IN\n",
      "14            Iowa     3046355          1.9           IA\n",
      "15          Kansas     2853118          3.1           KS\n",
      "16        Kentucky     4339367          3.6           KY\n",
      "17       Louisiana     4533372         10.3           LA\n",
      "18           Maine     1328361          1.6           ME\n",
      "19        Maryland     5773552          6.1           MD\n",
      "20   Massachusetts     6547629          2.0           MA\n",
      "21        Michigan     9883640          5.4           MI\n",
      "22       Minnesota     5303925          1.6           MN\n",
      "23     Mississippi     2967297          8.6           MS\n",
      "24        Missouri     5988927          6.6           MO\n",
      "25         Montana      989415          3.6           MT\n",
      "26        Nebraska     1826341          2.9           NE\n",
      "27          Nevada     2700551          6.0           NV\n",
      "28   New Hampshire     1316470          0.9           NH\n",
      "29      New Jersey     8791894          3.9           NJ\n",
      "30      New Mexico     2059179          4.8           NM\n",
      "31        New York    19378102          3.1           NY\n",
      "32  North Carolina     9535483          5.1           NC\n",
      "33    North Dakota      672591          3.0           ND\n",
      "34            Ohio    11536504          4.0           OH\n",
      "35        Oklahoma     3751351          4.5           OK\n",
      "36          Oregon     3831074          2.0           OR\n",
      "37    Pennsylvania    12702379          4.8           PA\n",
      "38    Rhode Island     1052567          2.4           RI\n",
      "39  South Carolina     4625364          6.4           SC\n",
      "40    South Dakota      814180          2.3           SD\n",
      "41       Tennessee     6346105          5.7           TN\n",
      "42           Texas    25145561          4.4           TX\n",
      "43            Utah     2763885          2.3           UT\n",
      "44         Vermont      625741          1.6           VT\n",
      "45        Virginia     8001024          4.1           VA\n",
      "46      Washington     6724540          2.5           WA\n",
      "47   West Virginia     1852994          4.0           WV\n",
      "48       Wisconsin     5686986          2.9           WI\n",
      "49         Wyoming      563626          2.7           WY\n"
     ]
    }
   ],
   "source": [
    "#Read the dataset using pandas method of data frame.\n",
    "import pandas as pd\n",
    "state = pd.read_csv('state.csv')\n",
    "print(state)"
   ]
  },
  {
   "cell_type": "code",
   "execution_count": 7,
   "metadata": {},
   "outputs": [
    {
     "name": "stdout",
     "output_type": "stream",
     "text": [
      " Mean of state population is :  6162876.3\n"
     ]
    }
   ],
   "source": [
    "#calculate mean of population\n",
    "population_mean = state['Population'].mean() \n",
    "print(f' Mean of state population is :  {population_mean}')"
   ]
  },
  {
   "cell_type": "code",
   "execution_count": 8,
   "metadata": {},
   "outputs": [
    {
     "name": "stdout",
     "output_type": "stream",
     "text": [
      " Mean of Murder rate is :  4.066\n"
     ]
    }
   ],
   "source": [
    "#calculate mean of Murder rate\n",
    "Murder_mean = state['Murder.Rate'].mean() \n",
    "print(f' Mean of Murder rate is :  {Murder_mean}')"
   ]
  },
  {
   "cell_type": "markdown",
   "metadata": {},
   "source": [
    "Median: The median is the middle number on a sorted list of the data.\n",
    "        If there is an even number of data values,\n",
    "        the middle value is one that is not actually in the data set, \n",
    "        but rather the average of the two values that divide the sorted data into upper and lower halves.\n",
    "        For better understanding take the first 9 samples of the original dataset\n",
    "        for calculating the median when dataset has odd number of elemnets.\n",
    "        Next, first 10 samples when dataset has even number of elements.\n",
    "        \n",
    "sorted data = { 2.4, 2.8, 4.4, 4.7, 5.6,5.6,5.7,5.8,5.8}"
   ]
  },
  {
   "cell_type": "code",
   "execution_count": 9,
   "metadata": {},
   "outputs": [
    {
     "data": {
      "text/html": [
       "<div>\n",
       "<style scoped>\n",
       "    .dataframe tbody tr th:only-of-type {\n",
       "        vertical-align: middle;\n",
       "    }\n",
       "\n",
       "    .dataframe tbody tr th {\n",
       "        vertical-align: top;\n",
       "    }\n",
       "\n",
       "    .dataframe thead th {\n",
       "        text-align: right;\n",
       "    }\n",
       "</style>\n",
       "<table border=\"1\" class=\"dataframe\">\n",
       "  <thead>\n",
       "    <tr style=\"text-align: right;\">\n",
       "      <th></th>\n",
       "      <th>State</th>\n",
       "      <th>Population</th>\n",
       "      <th>Murder.Rate</th>\n",
       "      <th>Abbreviation</th>\n",
       "    </tr>\n",
       "  </thead>\n",
       "  <tbody>\n",
       "    <tr>\n",
       "      <th>0</th>\n",
       "      <td>Alabama</td>\n",
       "      <td>4779736</td>\n",
       "      <td>5.7</td>\n",
       "      <td>AL</td>\n",
       "    </tr>\n",
       "    <tr>\n",
       "      <th>1</th>\n",
       "      <td>Alaska</td>\n",
       "      <td>710231</td>\n",
       "      <td>5.6</td>\n",
       "      <td>AK</td>\n",
       "    </tr>\n",
       "    <tr>\n",
       "      <th>2</th>\n",
       "      <td>Arizona</td>\n",
       "      <td>6392017</td>\n",
       "      <td>4.7</td>\n",
       "      <td>AZ</td>\n",
       "    </tr>\n",
       "    <tr>\n",
       "      <th>3</th>\n",
       "      <td>Arkansas</td>\n",
       "      <td>2915918</td>\n",
       "      <td>5.6</td>\n",
       "      <td>AR</td>\n",
       "    </tr>\n",
       "    <tr>\n",
       "      <th>4</th>\n",
       "      <td>California</td>\n",
       "      <td>37253956</td>\n",
       "      <td>4.4</td>\n",
       "      <td>CA</td>\n",
       "    </tr>\n",
       "    <tr>\n",
       "      <th>5</th>\n",
       "      <td>Colorado</td>\n",
       "      <td>5029196</td>\n",
       "      <td>2.8</td>\n",
       "      <td>CO</td>\n",
       "    </tr>\n",
       "    <tr>\n",
       "      <th>6</th>\n",
       "      <td>Connecticut</td>\n",
       "      <td>3574097</td>\n",
       "      <td>2.4</td>\n",
       "      <td>CT</td>\n",
       "    </tr>\n",
       "    <tr>\n",
       "      <th>7</th>\n",
       "      <td>Delaware</td>\n",
       "      <td>897934</td>\n",
       "      <td>5.8</td>\n",
       "      <td>DE</td>\n",
       "    </tr>\n",
       "    <tr>\n",
       "      <th>8</th>\n",
       "      <td>Florida</td>\n",
       "      <td>18801310</td>\n",
       "      <td>5.8</td>\n",
       "      <td>FL</td>\n",
       "    </tr>\n",
       "  </tbody>\n",
       "</table>\n",
       "</div>"
      ],
      "text/plain": [
       "         State  Population  Murder.Rate Abbreviation\n",
       "0      Alabama     4779736          5.7           AL\n",
       "1       Alaska      710231          5.6           AK\n",
       "2      Arizona     6392017          4.7           AZ\n",
       "3     Arkansas     2915918          5.6           AR\n",
       "4   California    37253956          4.4           CA\n",
       "5     Colorado     5029196          2.8           CO\n",
       "6  Connecticut     3574097          2.4           CT\n",
       "7     Delaware      897934          5.8           DE\n",
       "8      Florida    18801310          5.8           FL"
      ]
     },
     "execution_count": 9,
     "metadata": {},
     "output_type": "execute_result"
    }
   ],
   "source": [
    "#sample dataset from original dataset\n",
    "state_9 = state[:9]\n",
    "state_9"
   ]
  },
  {
   "cell_type": "code",
   "execution_count": 10,
   "metadata": {},
   "outputs": [
    {
     "name": "stdout",
     "output_type": "stream",
     "text": [
      " Mean of state population is :  4779736.04779736.0\n"
     ]
    }
   ],
   "source": [
    "#median using odd numbers of elements.\n",
    "population_median = state_9['Population'].median() \n",
    "print(f' Mean of state population is :  {population_median}')"
   ]
  },
  {
   "cell_type": "code",
   "execution_count": 11,
   "metadata": {},
   "outputs": [
    {
     "data": {
      "text/html": [
       "<div>\n",
       "<style scoped>\n",
       "    .dataframe tbody tr th:only-of-type {\n",
       "        vertical-align: middle;\n",
       "    }\n",
       "\n",
       "    .dataframe tbody tr th {\n",
       "        vertical-align: top;\n",
       "    }\n",
       "\n",
       "    .dataframe thead th {\n",
       "        text-align: right;\n",
       "    }\n",
       "</style>\n",
       "<table border=\"1\" class=\"dataframe\">\n",
       "  <thead>\n",
       "    <tr style=\"text-align: right;\">\n",
       "      <th></th>\n",
       "      <th>State</th>\n",
       "      <th>Population</th>\n",
       "      <th>Murder.Rate</th>\n",
       "      <th>Abbreviation</th>\n",
       "    </tr>\n",
       "  </thead>\n",
       "  <tbody>\n",
       "    <tr>\n",
       "      <th>0</th>\n",
       "      <td>Alabama</td>\n",
       "      <td>4779736</td>\n",
       "      <td>5.7</td>\n",
       "      <td>AL</td>\n",
       "    </tr>\n",
       "    <tr>\n",
       "      <th>1</th>\n",
       "      <td>Alaska</td>\n",
       "      <td>710231</td>\n",
       "      <td>5.6</td>\n",
       "      <td>AK</td>\n",
       "    </tr>\n",
       "    <tr>\n",
       "      <th>2</th>\n",
       "      <td>Arizona</td>\n",
       "      <td>6392017</td>\n",
       "      <td>4.7</td>\n",
       "      <td>AZ</td>\n",
       "    </tr>\n",
       "    <tr>\n",
       "      <th>3</th>\n",
       "      <td>Arkansas</td>\n",
       "      <td>2915918</td>\n",
       "      <td>5.6</td>\n",
       "      <td>AR</td>\n",
       "    </tr>\n",
       "    <tr>\n",
       "      <th>4</th>\n",
       "      <td>California</td>\n",
       "      <td>37253956</td>\n",
       "      <td>4.4</td>\n",
       "      <td>CA</td>\n",
       "    </tr>\n",
       "    <tr>\n",
       "      <th>5</th>\n",
       "      <td>Colorado</td>\n",
       "      <td>5029196</td>\n",
       "      <td>2.8</td>\n",
       "      <td>CO</td>\n",
       "    </tr>\n",
       "    <tr>\n",
       "      <th>6</th>\n",
       "      <td>Connecticut</td>\n",
       "      <td>3574097</td>\n",
       "      <td>2.4</td>\n",
       "      <td>CT</td>\n",
       "    </tr>\n",
       "    <tr>\n",
       "      <th>7</th>\n",
       "      <td>Delaware</td>\n",
       "      <td>897934</td>\n",
       "      <td>5.8</td>\n",
       "      <td>DE</td>\n",
       "    </tr>\n",
       "    <tr>\n",
       "      <th>8</th>\n",
       "      <td>Florida</td>\n",
       "      <td>18801310</td>\n",
       "      <td>5.8</td>\n",
       "      <td>FL</td>\n",
       "    </tr>\n",
       "    <tr>\n",
       "      <th>9</th>\n",
       "      <td>Georgia</td>\n",
       "      <td>9687653</td>\n",
       "      <td>5.7</td>\n",
       "      <td>GA</td>\n",
       "    </tr>\n",
       "  </tbody>\n",
       "</table>\n",
       "</div>"
      ],
      "text/plain": [
       "         State  Population  Murder.Rate Abbreviation\n",
       "0      Alabama     4779736          5.7           AL\n",
       "1       Alaska      710231          5.6           AK\n",
       "2      Arizona     6392017          4.7           AZ\n",
       "3     Arkansas     2915918          5.6           AR\n",
       "4   California    37253956          4.4           CA\n",
       "5     Colorado     5029196          2.8           CO\n",
       "6  Connecticut     3574097          2.4           CT\n",
       "7     Delaware      897934          5.8           DE\n",
       "8      Florida    18801310          5.8           FL\n",
       "9      Georgia     9687653          5.7           GA"
      ]
     },
     "execution_count": 11,
     "metadata": {},
     "output_type": "execute_result"
    }
   ],
   "source": [
    "#sample dataset from original dataset\n",
    "state_10 = state[:10]\n",
    "state_10"
   ]
  },
  {
   "cell_type": "code",
   "execution_count": 24,
   "metadata": {},
   "outputs": [
    {
     "name": "stdout",
     "output_type": "stream",
     "text": [
      " Mean of state population is :  4904466.0\n"
     ]
    }
   ],
   "source": [
    "#median using even number of data values\n",
    "population_median = state_10['Population'].median() \n",
    "print(f' Mean of state population is :  {population_median}')"
   ]
  },
  {
   "cell_type": "markdown",
   "metadata": {},
   "source": [
    "Weighted mean: calculated by multiplying each data value xi by a user specified weight wi and dividing their sum\n",
    "by the sum of the weights. When making decisions when certain factors are more crucial than others, weighted\n",
    "mean might be useful. Create two lists, one is for values and another is for weights. Create a user defined\n",
    "function name weighted_mean() with two parameters, value and weight.Use for loop in a function to retrive all\n",
    "values from list and weights."
   ]
  },
  {
   "cell_type": "code",
   "execution_count": 26,
   "metadata": {},
   "outputs": [
    {
     "name": "stdout",
     "output_type": "stream",
     "text": [
      "Original list of elements:\n",
      "[15, 60, 40]\n",
      "[6, 5, 2]\n",
      "\n",
      "\n",
      "Weighted average of the said two list of numbers:\n",
      "36.15384615384615\n"
     ]
    }
   ],
   "source": [
    "def weighted_mean(number, weights):\n",
    "  return sum(x * y for x, y in zip(number, weights)) / sum(weights)\n",
    "list1 = [15, 60, 40]\n",
    "list2 = [6, 5, 2]\n",
    "print(\"Original list of elements:\")\n",
    "print(list1) \n",
    "print(list2)\n",
    "print(\"\\n\\nWeighted average of the said two list of numbers:\")\n",
    "print(weighted_mean(list1, list2))"
   ]
  },
  {
   "cell_type": "markdown",
   "metadata": {},
   "source": [
    "Trimmed mean: : Calculated by dropping a fixed number of sorted values at each end and then taking an\n",
    "average of remaining values. Compute 20% trimmed mean for an array of data:"
   ]
  },
  {
   "cell_type": "code",
   "execution_count": 27,
   "metadata": {},
   "outputs": [
    {
     "name": "stdout",
     "output_type": "stream",
     "text": [
      " trimmed mean of the above data is equal to : 8.5\n"
     ]
    }
   ],
   "source": [
    "from scipy import stats\n",
    "#define data\n",
    "data = [6.8, 8.1, 8.3, 9.1,9.3]\n",
    "#calculate 10% trimmed mean\n",
    "trimean=stats.trim_mean(data, 0.2)\n",
    "print(f' trimmed mean of the above data is equal to : {trimean}')"
   ]
  },
  {
   "cell_type": "markdown",
   "metadata": {},
   "source": [
    "Percentile: In statistics refers to a score's position in relation to other scores from the same set.In statistics,\n",
    "percentiles are used to provide a numerical representation of the value that a specific percentage of values are\n",
    "lower than."
   ]
  },
  {
   "cell_type": "code",
   "execution_count": 28,
   "metadata": {},
   "outputs": [
    {
     "data": {
      "text/plain": [
       "73.33333333333334"
      ]
     },
     "execution_count": 28,
     "metadata": {},
     "output_type": "execute_result"
    }
   ],
   "source": [
    "from scipy import stats\n",
    "std_score = [67, 70, 75, 76, 77, 78, 80, 83, 85, 87, 88, 89, 90, 93, 95]\n",
    "stats.percentileofscore(std_score, 88)"
   ]
  },
  {
   "cell_type": "code",
   "execution_count": 29,
   "metadata": {},
   "outputs": [
    {
     "data": {
      "text/plain": [
       "60.0"
      ]
     },
     "execution_count": 29,
     "metadata": {},
     "output_type": "execute_result"
    }
   ],
   "source": [
    "stats.percentileofscore([1, 2, 3, 3, 4], 3, kind='mean')"
   ]
  },
  {
   "cell_type": "markdown",
   "metadata": {},
   "source": [
    "Example: Let's say we have an array of the ages of all the people that lives in a street. What is the 75. percentile?"
   ]
  },
  {
   "cell_type": "code",
   "execution_count": 31,
   "metadata": {},
   "outputs": [
    {
     "name": "stdout",
     "output_type": "stream",
     "text": [
      "43.0\n"
     ]
    }
   ],
   "source": [
    "import numpy\n",
    "ages1 = [5,31,43,48,50,41,7,11,15,39,80,82,32,2,8,6,25,36,27,61,31]\n",
    "x = numpy.percentile(ages1, 75)\n",
    "print(x)"
   ]
  },
  {
   "cell_type": "markdown",
   "metadata": {},
   "source": [
    "Outlier: outlier is an untypical observed data point in a given distribution of data points. We can visualise outliers\n",
    "in our dataset using Histogram, boxplot, and scatter plot"
   ]
  },
  {
   "cell_type": "code",
   "execution_count": 32,
   "metadata": {},
   "outputs": [
    {
     "data": {
      "image/png": "[encoded data removed]",
      "text/plain": [
       "<Figure size 640x480 with 1 Axes>"
      ]
     },
     "metadata": {},
     "output_type": "display_data"
    },
    {
     "data": {
      "text/plain": [
       "<Figure size 1000x700 with 0 Axes>"
      ]
     },
     "metadata": {},
     "output_type": "display_data"
    }
   ],
   "source": [
    "#outlier visualisation using boxplot\n",
    "import matplotlib.pyplot as plt\n",
    "plt.boxplot(state['Population'])\n",
    "fig = plt.figure(figsize =(10, 7))\n",
    "plt.show()"
   ]
  },
  {
   "cell_type": "code",
   "execution_count": 33,
   "metadata": {},
   "outputs": [
    {
     "data": {
      "image/png": "[encoded data removed]",
      "text/plain": [
       "<Figure size 640x480 with 1 Axes>"
      ]
     },
     "metadata": {},
     "output_type": "display_data"
    }
   ],
   "source": [
    "#outlier visualisation using histogram\n",
    "plt.hist(state['Population'])\n",
    "plt.show()"
   ]
  },
  {
   "cell_type": "code",
   "execution_count": 34,
   "metadata": {},
   "outputs": [
    {
     "data": {
      "image/png": "[encoded data removed]",
      "text/plain": [
       "<Figure size 640x480 with 1 Axes>"
      ]
     },
     "metadata": {},
     "output_type": "display_data"
    }
   ],
   "source": [
    "plt.scatter(state['Population'],state['Murder.Rate'])\n",
    "plt.show()"
   ]
  },
  {
   "cell_type": "markdown",
   "metadata": {},
   "source": [
    "Variance: The sum of squared deviations from the mean divided by n – 1 where n is the number of data values. Find the mean\n",
    "and each score’s deviation from the mean. \n",
    "Next, find the sum of squared for each deviation from the mean and divide it by number of samples."
   ]
  },
  {
   "cell_type": "code",
   "execution_count": 35,
   "metadata": {},
   "outputs": [
    {
     "name": "stdout",
     "output_type": "stream",
     "text": [
      "177.2\n"
     ]
    }
   ],
   "source": [
    "import statistics\n",
    "var=statistics.variance([46,69,32,60,52,41])\n",
    "print(var)"
   ]
  },
  {
   "cell_type": "markdown",
   "metadata": {},
   "source": [
    "Standard deviation: is the square root of the variance."
   ]
  },
  {
   "cell_type": "code",
   "execution_count": 36,
   "metadata": {},
   "outputs": [
    {
     "data": {
      "text/plain": [
       "13.311649033834989"
      ]
     },
     "execution_count": 36,
     "metadata": {},
     "output_type": "execute_result"
    }
   ],
   "source": [
    "import math\n",
    "std_dev = math.sqrt(var)\n",
    "std_dev"
   ]
  },
  {
   "cell_type": "markdown",
   "metadata": {},
   "source": [
    "Mean absolute deviation: The mean of the absolute values of the deviation from the mean. Calculate mean of the\n",
    "data, calculate absolute deviation from the mean for each sample,calculate the average of mean absolute value\n",
    "of deviation."
   ]
  },
  {
   "cell_type": "code",
   "execution_count": 38,
   "metadata": {},
   "outputs": [
    {
     "name": "stdout",
     "output_type": "stream",
     "text": [
      "1.3333333333333333\n"
     ]
    }
   ],
   "source": [
    "from statistics import mean\n",
    "numbers = [1,4,4]\n",
    "mean_value = mean(numbers)\n",
    "mean_absolute_deviation = mean([abs(number-mean_value) for number in numbers])\n",
    "print(mean_absolute_deviation)"
   ]
  },
  {
   "cell_type": "markdown",
   "metadata": {},
   "source": [
    "Median absolute deviation: The median of the absolute values of the deviation from the median. Calculate\n",
    "median of the data, calculate absolute deviation from the median for each sample"
   ]
  },
  {
   "cell_type": "code",
   "execution_count": 39,
   "metadata": {},
   "outputs": [
    {
     "name": "stdout",
     "output_type": "stream",
     "text": [
      "0\n"
     ]
    }
   ],
   "source": [
    "from statistics import median\n",
    "numbers = [1,4,4]\n",
    "median_value = median(numbers)\n",
    "median_absolute_deviation = median([abs(number-median_value) for number in numbers])\n",
    "print(median_absolute_deviation)"
   ]
  }
 ],
 "metadata": {
  "kernelspec": {
   "display_name": "Python 3",
   "language": "python",
   "name": "python3"
  },
  "language_info": {
   "codemirror_mode": {
    "name": "ipython",
    "version": 3
   },
   "file_extension": ".py",
   "mimetype": "text/x-python",
   "name": "python",
   "nbconvert_exporter": "python",
   "pygments_lexer": "ipython3",
   "version": "3.9.16"
  }
 },
 "nbformat": 4,
 "nbformat_minor": 2
}
