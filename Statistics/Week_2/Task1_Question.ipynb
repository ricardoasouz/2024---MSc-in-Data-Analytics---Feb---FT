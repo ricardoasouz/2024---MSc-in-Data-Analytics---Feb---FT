{
 "cells": [
  {
   "cell_type": "markdown",
   "id": "3c6c7d66",
   "metadata": {},
   "source": [
    "# Task_1: Create a list or numpy array of 1000 elements and compute mean, median, weighted mean, trimmed mean, percentile, outliers, variance, std deviation, mean absolute deviation, and median absolute deviation.\n",
    "\n",
    "To complete this task, follow these instructions:\n"
   ]
  },
  {
   "cell_type": "markdown",
   "id": "751be85d",
   "metadata": {},
   "source": [
    "Import required library packages to compute all parameters for estimation:\n",
    "step1: import pandas method of data frame.\n",
    "step2: import numpy array\n",
    "step3: import stats from scipy to compute trimmed mean, percentile\n",
    "step4: import statistics for compute variance,mean, and median\n",
    "step5: import math for compute sqrt, std deviation.\n",
    "step6: import matplotlib to visualise outliers\n"
   ]
  },
  {
   "cell_type": "code",
   "execution_count": null,
   "id": "3c8488c7",
   "metadata": {},
   "outputs": [],
   "source": []
  },
  {
   "cell_type": "markdown",
   "id": "a8a2bef2",
   "metadata": {},
   "source": [
    "Create list:\n",
    "step1: create a list of 1000 elements range from 1 to 20 and give the name list.\n",
    "step2: sort the list using .sort() function if your given numbers are not in sorted order."
   ]
  },
  {
   "cell_type": "code",
   "execution_count": null,
   "id": "794807a5",
   "metadata": {},
   "outputs": [],
   "source": []
  },
  {
   "cell_type": "markdown",
   "id": "224de36a",
   "metadata": {},
   "source": [
    "compute Mean:\n",
    "step1: use statistics.mean() function \n",
    "step2: pass the list to compute the sum of all values in a list divided by the number of values. \n",
    "step3: Print the computed mean using print() function.\n"
   ]
  },
  {
   "cell_type": "code",
   "execution_count": null,
   "id": "4dfd9082",
   "metadata": {},
   "outputs": [],
   "source": []
  },
  {
   "cell_type": "markdown",
   "id": "4bdcd096",
   "metadata": {},
   "source": [
    "compute Median:\n",
    "step1: use statistics.median() function \n",
    "step2: pass the list to compute the sum of all values in a list divided by the number of values. \n",
    "step3: Print the computed mean using print() function.\n",
    "    "
   ]
  },
  {
   "cell_type": "code",
   "execution_count": null,
   "id": "a67d7fba",
   "metadata": {},
   "outputs": [],
   "source": []
  },
  {
   "cell_type": "markdown",
   "id": "91a09708",
   "metadata": {},
   "source": [
    "Compute Weighted mean: \n",
    "step1: create data list as weights of same size of previously created list.\n",
    "step2: create a user defined function name weighted_mean() with two parameters, value and weight.\n",
    "step3: use for loop in a function to retrive all values from list and weights.\n",
    "step4: multiplying each data value xi by a user specified weight wi and dividing their sum by the sum of the weights.\n",
    "step5: call the function to compute weighted mean and printit. "
   ]
  },
  {
   "cell_type": "code",
   "execution_count": null,
   "id": "6008db63",
   "metadata": {},
   "outputs": [],
   "source": []
  },
  {
   "cell_type": "markdown",
   "id": "78b58f39",
   "metadata": {},
   "source": [
    "Compute Trimmed mean:Calculated by dropping a fixed number of sorted values at each end and then taking an average of remaining values. 40% trimmed mean for an array of data:\n",
    "step1: use stats.trim_mean() function from scipy.\n",
    "stpe2: pass the data and dropping value.\n",
    "step3: print the result."
   ]
  },
  {
   "cell_type": "code",
   "execution_count": null,
   "id": "7836117a",
   "metadata": {},
   "outputs": [],
   "source": []
  },
  {
   "cell_type": "markdown",
   "id": "0919af93",
   "metadata": {},
   "source": [
    "Compute Percentile: \n",
    "step1: use stats.percentileofscore() from scipy.\n",
    "step2: compute the percentile score of 10 from the same list"
   ]
  },
  {
   "cell_type": "code",
   "execution_count": null,
   "id": "2ff5e5c5",
   "metadata": {},
   "outputs": [],
   "source": []
  },
  {
   "cell_type": "markdown",
   "id": "29d74665",
   "metadata": {},
   "source": [
    "Compute Outlier: \n",
    "step1: create another list, values are same as original created list, but insert one more value 100 to check the outliers, give the name list1.\n",
    "step1: visualise outlier using plt.boxplot() from matplotlib to check the values to check the values outside of upper and lower boundary\n",
    "step2: visualise outlier using plt.hist()"
   ]
  },
  {
   "cell_type": "code",
   "execution_count": null,
   "id": "a965e75d",
   "metadata": {},
   "outputs": [],
   "source": []
  },
  {
   "cell_type": "code",
   "execution_count": null,
   "id": "b427fde6",
   "metadata": {},
   "outputs": [],
   "source": []
  },
  {
   "cell_type": "markdown",
   "id": "962ef78b",
   "metadata": {},
   "source": [
    "Compute variance and standard deviation:\n",
    "step1: use statistics.variance() function to compute the variance of list.\n",
    "step2: use math.sqrt() function and pass computed variance to calculate the standard deviation. \n",
    "step3: print both computed variance and standard deviation."
   ]
  },
  {
   "cell_type": "code",
   "execution_count": null,
   "id": "63c4f02b",
   "metadata": {},
   "outputs": [],
   "source": []
  },
  {
   "cell_type": "markdown",
   "id": "dbdc7ba0",
   "metadata": {},
   "source": [
    "Compute Mean absolute deviation: \n",
    "step1: calculate mean of the data list using statistics.mean() function\n",
    "step2: calculate absolute deviation from the mean for each sample.\n",
    "step3: print the result"
   ]
  },
  {
   "cell_type": "code",
   "execution_count": null,
   "id": "4c74d9a0",
   "metadata": {},
   "outputs": [],
   "source": []
  },
  {
   "cell_type": "markdown",
   "id": "bdbdb653",
   "metadata": {},
   "source": [
    "Compute Median absolute deviation: \n",
    "step1: calculate median of the data list using statistics.median() function\n",
    "step2: calculate absolute deviation from the median for each sample.\n",
    "step3: print the result."
   ]
  },
  {
   "cell_type": "code",
   "execution_count": null,
   "id": "b60c0ae1",
   "metadata": {},
   "outputs": [],
   "source": []
  }
 ],
 "metadata": {
  "kernelspec": {
   "display_name": "Python 3 (ipykernel)",
   "language": "python",
   "name": "python3"
  },
  "language_info": {
   "codemirror_mode": {
    "name": "ipython",
    "version": 3
   },
   "file_extension": ".py",
   "mimetype": "text/x-python",
   "name": "python",
   "nbconvert_exporter": "python",
   "pygments_lexer": "ipython3",
   "version": "3.9.16"
  }
 },
 "nbformat": 4,
 "nbformat_minor": 5
}
