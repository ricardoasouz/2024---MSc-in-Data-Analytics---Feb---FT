{
 "cells": [
  {
   "cell_type": "markdown",
   "metadata": {
    "toc": true
   },
   "source": [
    "<h1>Table of Contents<span class=\"tocSkip\"></span></h1>\n",
    "<div class=\"toc\"><ul class=\"toc-item\"><li><span><a href=\"#Descriptive-Analysis\" data-toc-modified-id=\"Descriptive-Analysis-1\"><span class=\"toc-item-num\">1&nbsp;&nbsp;</span>Descriptive Analysis</a></span><ul class=\"toc-item\"><li><span><a href=\"#Objectives\" data-toc-modified-id=\"Objectives-1.1\"><span class=\"toc-item-num\">1.1&nbsp;&nbsp;</span>Objectives</a></span></li></ul></li><li><span><a href=\"#Sample-Data\" data-toc-modified-id=\"Sample-Data-2\"><span class=\"toc-item-num\">2&nbsp;&nbsp;</span>Sample Data</a></span></li><li><span><a href=\"#Different-Statical-Measures\" data-toc-modified-id=\"Different-Statical-Measures-3\"><span class=\"toc-item-num\">3&nbsp;&nbsp;</span>Different Statical Measures</a></span><ul class=\"toc-item\"><li><span><a href=\"#Measures-of-Center\" data-toc-modified-id=\"Measures-of-Center-3.1\"><span class=\"toc-item-num\">3.1&nbsp;&nbsp;</span>Measures of Center</a></span><ul class=\"toc-item\"><li><span><a href=\"#Mathematical-Properties\" data-toc-modified-id=\"Mathematical-Properties-3.1.1\"><span class=\"toc-item-num\">3.1.1&nbsp;&nbsp;</span>Mathematical Properties</a></span></li></ul></li><li><span><a href=\"#Measures-of-Spread\" data-toc-modified-id=\"Measures-of-Spread-3.2\"><span class=\"toc-item-num\">3.2&nbsp;&nbsp;</span>Measures of Spread</a></span><ul class=\"toc-item\"><li><span><a href=\"#Min,-Max,-and-Range\" data-toc-modified-id=\"Min,-Max,-and-Range-3.2.1\"><span class=\"toc-item-num\">3.2.1&nbsp;&nbsp;</span>Min, Max, and Range</a></span></li><li><span><a href=\"#Percentiles-and-IQR\" data-toc-modified-id=\"Percentiles-and-IQR-3.2.2\"><span class=\"toc-item-num\">3.2.2&nbsp;&nbsp;</span>Percentiles and IQR</a></span></li><li><span><a href=\"#Standard-Deviation\" data-toc-modified-id=\"Standard-Deviation-3.2.3\"><span class=\"toc-item-num\">3.2.3&nbsp;&nbsp;</span>Standard Deviation</a></span></li></ul></li><li><span><a href=\"#df.describe()\" data-toc-modified-id=\"df.describe()-3.3\"><span class=\"toc-item-num\">3.3&nbsp;&nbsp;</span><code>df.describe()</code></a></span></li></ul></li><li><span><a href=\"#Visual-Description\" data-toc-modified-id=\"Visual-Description-4\"><span class=\"toc-item-num\">4&nbsp;&nbsp;</span>Visual Description</a></span><ul class=\"toc-item\"><li><span><a href=\"#Histograms\" data-toc-modified-id=\"Histograms-4.1\"><span class=\"toc-item-num\">4.1&nbsp;&nbsp;</span>Histograms</a></span></li><li><span><a href=\"#Box-and-Whisker-Plot\" data-toc-modified-id=\"Box-and-Whisker-Plot-4.2\"><span class=\"toc-item-num\">4.2&nbsp;&nbsp;</span>Box and Whisker Plot</a></span></li></ul></li><li><span><a href=\"#Addressing-Business-Questions\" data-toc-modified-id=\"Addressing-Business-Questions-5\"><span class=\"toc-item-num\">5&nbsp;&nbsp;</span>Addressing Business Questions</a></span><ul class=\"toc-item\"><li><span><a href=\"#Fast-Food-Data\" data-toc-modified-id=\"Fast-Food-Data-5.1\"><span class=\"toc-item-num\">5.1&nbsp;&nbsp;</span>Fast Food Data</a></span><ul class=\"toc-item\"><li><span><a href=\"#Question-1:\" data-toc-modified-id=\"Question-1:-5.1.1\"><span class=\"toc-item-num\">5.1.1&nbsp;&nbsp;</span>Question 1:</a></span></li><li><span><a href=\"#Question-2\" data-toc-modified-id=\"Question-2-5.1.2\"><span class=\"toc-item-num\">5.1.2&nbsp;&nbsp;</span>Question 2</a></span></li><li><span><a href=\"#Question-3-(Exercise!):\" data-toc-modified-id=\"Question-3-(Exercise!):-5.1.3\"><span class=\"toc-item-num\">5.1.3&nbsp;&nbsp;</span>Question 3 (Exercise!):</a></span></li><li><span><a href=\"#Question-4-(Exercise!):\" data-toc-modified-id=\"Question-4-(Exercise!):-5.1.4\"><span class=\"toc-item-num\">5.1.4&nbsp;&nbsp;</span>Question 4 (Exercise!):</a></span></li><li><span><a href=\"#Question-5-(Exercise!)\" data-toc-modified-id=\"Question-5-(Exercise!)-5.1.5\"><span class=\"toc-item-num\">5.1.5&nbsp;&nbsp;</span>Question 5 (Exercise!)</a></span></li></ul></li><li><span><a href=\"#Credit-Card-Data\" data-toc-modified-id=\"Credit-Card-Data-5.2\"><span class=\"toc-item-num\">5.2&nbsp;&nbsp;</span>Credit Card Data</a></span><ul class=\"toc-item\"><li><span><a href=\"#Question-1-(Exercise!)\" data-toc-modified-id=\"Question-1-(Exercise!)-5.2.1\"><span class=\"toc-item-num\">5.2.1&nbsp;&nbsp;</span>Question 1 (Exercise!)</a></span></li><li><span><a href=\"#Question-2-(Exercise!)\" data-toc-modified-id=\"Question-2-(Exercise!)-5.2.2\"><span class=\"toc-item-num\">5.2.2&nbsp;&nbsp;</span>Question 2 (Exercise!)</a></span></li><li><span><a href=\"#Question-3-(Exercise!)\" data-toc-modified-id=\"Question-3-(Exercise!)-5.2.3\"><span class=\"toc-item-num\">5.2.3&nbsp;&nbsp;</span>Question 3 (Exercise!)</a></span></li></ul></li></ul></li><li><span><a href=\"#Level-Up:-Other-Shape-Descriptors\" data-toc-modified-id=\"Level-Up:-Other-Shape-Descriptors-6\"><span class=\"toc-item-num\">6&nbsp;&nbsp;</span>Level Up: Other Shape Descriptors</a></span><ul class=\"toc-item\"><li><span><a href=\"#Moments\" data-toc-modified-id=\"Moments-6.1\"><span class=\"toc-item-num\">6.1&nbsp;&nbsp;</span>Moments</a></span><ul class=\"toc-item\"><li><span><a href=\"#Skewness\" data-toc-modified-id=\"Skewness-6.1.1\"><span class=\"toc-item-num\">6.1.1&nbsp;&nbsp;</span>Skewness</a></span></li><li><span><a href=\"#Kurtosis\" data-toc-modified-id=\"Kurtosis-6.1.2\"><span class=\"toc-item-num\">6.1.2&nbsp;&nbsp;</span>Kurtosis</a></span></li></ul></li><li><span><a href=\"#Symmetry\" data-toc-modified-id=\"Symmetry-6.2\"><span class=\"toc-item-num\">6.2&nbsp;&nbsp;</span>Symmetry</a></span></li><li><span><a href=\"#Modality\" data-toc-modified-id=\"Modality-6.3\"><span class=\"toc-item-num\">6.3&nbsp;&nbsp;</span>Modality</a></span></li></ul></li></ul></div>"
   ]
  },
  {
   "cell_type": "code",
   "execution_count": 3,
   "metadata": {},
   "outputs": [],
   "source": [
    "from scipy import stats\n",
    "from matplotlib import pyplot as plt\n",
    "import seaborn as sns\n",
    "import pandas as pd\n",
    "import numpy as np\n",
    "\n",
    "%matplotlib inline\n",
    "\n",
    "plt.style.use('fivethirtyeight')"
   ]
  },
  {
   "cell_type": "markdown",
   "metadata": {
    "heading_collapsed": true
   },
   "source": [
    "# Descriptive Analysis"
   ]
  },
  {
   "cell_type": "markdown",
   "metadata": {
    "hidden": true
   },
   "source": [
    "When trying to understand your data, it is typically impossible to just look at raw data and get much insight. We need ways to turn a bunch of data into a smaller set of numbers that are easily digestible summaries of your data. This will make them understandable both for you and for the people you work with. We call these **descriptive statistics**."
   ]
  },
  {
   "cell_type": "markdown",
   "metadata": {
    "heading_collapsed": true,
    "hidden": true
   },
   "source": [
    "## Objectives"
   ]
  },
  {
   "cell_type": "markdown",
   "metadata": {
    "hidden": true
   },
   "source": [
    "- Use business context to guide exploratory analyses\n",
    "- Pose clear business-relevant questions and answer them with data\n",
    "- Identify limitations of data for solving business problems"
   ]
  },
  {
   "cell_type": "markdown",
   "metadata": {
    "heading_collapsed": true
   },
   "source": [
    "# Sample Data"
   ]
  },
  {
   "cell_type": "markdown",
   "metadata": {
    "hidden": true
   },
   "source": [
    "Let's build a simple dataset, based on a hypothetical survey of the number of pairs of shoes owned by 11 random people:"
   ]
  },
  {
   "cell_type": "code",
   "execution_count": 4,
   "metadata": {
    "hidden": true
   },
   "outputs": [],
   "source": [
    "data = np.array([5, 6, 3, 4, 3, 4, 8, 8, 1, 8, 2])\n",
    "data_df = pd.DataFrame(data, columns=[\"Pairs of Shoes\"])"
   ]
  },
  {
   "cell_type": "markdown",
   "metadata": {
    "hidden": true
   },
   "source": [
    "This dataset has a bunch of individual observations in a range of values. These observations have an **empirical distribution** describing how the values are distributed across this range. We'll shorten this to just **distribution** for now. Everything that follows is our attempt to understand the distribution of our data."
   ]
  },
  {
   "cell_type": "markdown",
   "metadata": {
    "hidden": true
   },
   "source": [
    "You can actually get a bunch of descriptive statistics from any `pandas` DataFrame using the `.describe()` method. This should be one of the first things you'll do when exploring a new dataset."
   ]
  },
  {
   "cell_type": "code",
   "execution_count": 5,
   "metadata": {
    "hidden": true
   },
   "outputs": [
    {
     "data": {
      "text/html": [
       "<div>\n",
       "<style scoped>\n",
       "    .dataframe tbody tr th:only-of-type {\n",
       "        vertical-align: middle;\n",
       "    }\n",
       "\n",
       "    .dataframe tbody tr th {\n",
       "        vertical-align: top;\n",
       "    }\n",
       "\n",
       "    .dataframe thead th {\n",
       "        text-align: right;\n",
       "    }\n",
       "</style>\n",
       "<table border=\"1\" class=\"dataframe\">\n",
       "  <thead>\n",
       "    <tr style=\"text-align: right;\">\n",
       "      <th></th>\n",
       "      <th>Pairs of Shoes</th>\n",
       "    </tr>\n",
       "  </thead>\n",
       "  <tbody>\n",
       "    <tr>\n",
       "      <th>count</th>\n",
       "      <td>11.000000</td>\n",
       "    </tr>\n",
       "    <tr>\n",
       "      <th>mean</th>\n",
       "      <td>4.727273</td>\n",
       "    </tr>\n",
       "    <tr>\n",
       "      <th>std</th>\n",
       "      <td>2.493628</td>\n",
       "    </tr>\n",
       "    <tr>\n",
       "      <th>min</th>\n",
       "      <td>1.000000</td>\n",
       "    </tr>\n",
       "    <tr>\n",
       "      <th>25%</th>\n",
       "      <td>3.000000</td>\n",
       "    </tr>\n",
       "    <tr>\n",
       "      <th>50%</th>\n",
       "      <td>4.000000</td>\n",
       "    </tr>\n",
       "    <tr>\n",
       "      <th>75%</th>\n",
       "      <td>7.000000</td>\n",
       "    </tr>\n",
       "    <tr>\n",
       "      <th>max</th>\n",
       "      <td>8.000000</td>\n",
       "    </tr>\n",
       "  </tbody>\n",
       "</table>\n",
       "</div>"
      ],
      "text/plain": [
       "       Pairs of Shoes\n",
       "count       11.000000\n",
       "mean         4.727273\n",
       "std          2.493628\n",
       "min          1.000000\n",
       "25%          3.000000\n",
       "50%          4.000000\n",
       "75%          7.000000\n",
       "max          8.000000"
      ]
     },
     "execution_count": 5,
     "metadata": {},
     "output_type": "execute_result"
    }
   ],
   "source": [
    "data_df.describe()"
   ]
  },
  {
   "cell_type": "markdown",
   "metadata": {
    "heading_collapsed": true
   },
   "source": [
    "# Different Statistical Measures"
   ]
  },
  {
   "cell_type": "markdown",
   "metadata": {
    "heading_collapsed": true,
    "hidden": true
   },
   "source": [
    "## Measures of Center"
   ]
  },
  {
   "cell_type": "markdown",
   "metadata": {
    "hidden": true
   },
   "source": [
    "One natural place to begin is to ask about where the **middle** of the data is. In other words, what is the value that is closest to our other values? "
   ]
  },
  {
   "cell_type": "markdown",
   "metadata": {
    "hidden": true
   },
   "source": [
    "There are three common measures used to describe the \"middle\":\n",
    "\n",
    "- **Mean**: The sum of values / number of values\n",
    "- **Median**: The value with as many values above it as below it\n",
    "    - If the dataset has an even number of values, the median is the mean of the two middle numbers.\n",
    "- **Mode**: The most frequent value(s)\n",
    "    - A dataset can have multiple modes if multiple values are tied for the most frequent."
   ]
  },
  {
   "cell_type": "markdown",
   "metadata": {
    "hidden": true
   },
   "source": [
    "Let's see what we have for our example:"
   ]
  },
  {
   "cell_type": "code",
   "execution_count": 6,
   "metadata": {
    "hidden": true
   },
   "outputs": [
    {
     "name": "stdout",
     "output_type": "stream",
     "text": [
      "Mean: 4.7272727272727275\n",
      "Median: 4.0\n",
      "Mode: 8\n"
     ]
    }
   ],
   "source": [
    "print(f\"Mean: {np.mean(data)}\")\n",
    "print(f\"Median: {np.median(data)}\")\n",
    "print(f\"Mode: {stats.mode(data)[0]}\")"
   ]
  },
  {
   "cell_type": "code",
   "execution_count": 7,
   "metadata": {
    "hidden": true
   },
   "outputs": [
    {
     "data": {
      "text/plain": [
       "(array([1, 2, 3, 4, 5, 6, 8]), array([1, 1, 2, 2, 1, 1, 3]))"
      ]
     },
     "execution_count": 7,
     "metadata": {},
     "output_type": "execute_result"
    }
   ],
   "source": [
    "## You can also find the mode(s) using np.unique()\n",
    "counts = np.unique(data, return_counts=True)\n",
    "counts"
   ]
  },
  {
   "cell_type": "markdown",
   "metadata": {
    "hidden": true
   },
   "source": [
    "**Discussion**: If somebody asked you \"How many pairs of shoes do people usually have?\", how would you answer (based on these data)?"
   ]
  },
  {
   "cell_type": "code",
   "execution_count": 8,
   "metadata": {},
   "outputs": [
    {
     "data": {
      "text/plain": [
       "52"
      ]
     },
     "execution_count": 8,
     "metadata": {},
     "output_type": "execute_result"
    }
   ],
   "source": [
    "data.sum()"
   ]
  },
  {
   "cell_type": "markdown",
   "metadata": {
    "heading_collapsed": true,
    "hidden": true
   },
   "source": [
    "### Mathematical Properties"
   ]
  },
  {
   "cell_type": "markdown",
   "metadata": {
    "hidden": true
   },
   "source": [
    "The mean $\\bar{x}$ is the point that minimizes the *sum of squared differences* for a given set of data.\n",
    "\n",
    "<details>\n",
    "    <summary>\n",
    "        Proof\n",
    "    </summary>\n",
    "    We want to find the point $k$ that minimizes $L(k) = \\Sigma^n_{i=1}(x_i-k)^2$. Now, a calculus trick, which we'll see again: To find the minimum of a function, we'll set its derivative to 0. Taking the derivative, we have:\n",
    "\n",
    "$L'(k) = -2\\Sigma^n_{i=1}(x_i-k)$.\n",
    "\n",
    "Now we solve $L'(k) = 0$ for $k$:\n",
    "\n",
    "$-2\\Sigma^n_{i=1}(x_i-k) = 0$, so <br/><br/>\n",
    "$\\Sigma^n_{i=1}(x_i-k) = 0$, so <br/><br/>\n",
    "$\\Sigma^n_{i=1}x_i = \\Sigma^n_{i=1}k = nk$, so <br/><br/>\n",
    "$k = \\frac{\\Sigma^n_{i=1}x_i}{n} = \\bar{x}$.\n",
    "    </details>\n"
   ]
  },
  {
   "cell_type": "markdown",
   "metadata": {
    "hidden": true
   },
   "source": [
    "By contrast, the median is the point that minimizes the *sum of absolute differences*.\n",
    "\n",
    "<details>\n",
    "    <summary>\n",
    "    Proof\n",
    "    </summary>\n",
    "    We want to find the point $k$ that minimizes $D(k) = \\Sigma^n_{i=1}|x_i-k|$. Taking the derivative, we have:\n",
    "\n",
    "$D'(k) = \\Sigma^n_{i=1}\\frac{k-x_i}{|k-x_i|}$.\n",
    "\n",
    "Now we solve $D'(k) = 0$ for $k$:\n",
    "\n",
    "Consider the sum $\\Sigma^n_{i=1}\\frac{k-x_i}{|k-x_i|} = 0$. Ignoring the case where $k = x_i$, each of the addends in this sum is $1$ if $k\\geq x_i$ and $-1$ if not. To make this sum equal to 0, we thus want to choose $k$ such that there are the same number of $1$s and $-1$s, which means that we want to choose $k$ to be the middle number, i.e. the median.\n",
    "\n",
    "Notes:\n",
    "- if $n$ is odd, then the minimum of the function occurs not where its derivative is 0 but where it is *undefined*;\n",
    "- if $n$ is even, then *any* number between the two middle numbers will minimize our function. By conventional defintion of the median in cases of an even number of data points, we take the arithmetic mean of the two middle numbers.\n",
    "    </details>"
   ]
  },
  {
   "cell_type": "markdown",
   "metadata": {
    "heading_collapsed": true,
    "hidden": true
   },
   "source": [
    "## Measures of Spread"
   ]
  },
  {
   "cell_type": "markdown",
   "metadata": {
    "hidden": true
   },
   "source": [
    "Another natural question is about the **spread** of the data. In other words, how wide a range of values do you have? And how close or far are they from the \"middle\"?"
   ]
  },
  {
   "cell_type": "markdown",
   "metadata": {
    "heading_collapsed": true,
    "hidden": true
   },
   "source": [
    "### Min, Max, and Range"
   ]
  },
  {
   "cell_type": "markdown",
   "metadata": {
    "hidden": true
   },
   "source": [
    "The minimum and maximum values of a dataset tell you the full extent of the values of your dataset. The range of the dataset is the difference between those two values."
   ]
  },
  {
   "cell_type": "code",
   "execution_count": 9,
   "metadata": {
    "hidden": true
   },
   "outputs": [
    {
     "name": "stdout",
     "output_type": "stream",
     "text": [
      "Min: 1\n",
      "Max: 8\n",
      "Range: 7\n"
     ]
    }
   ],
   "source": [
    "print(f\"Min: {data.min()}\")\n",
    "print(f\"Max: {data.max()}\")\n",
    "print(f\"Range: {data.max() - data.min()}\")"
   ]
  },
  {
   "cell_type": "markdown",
   "metadata": {
    "heading_collapsed": true,
    "hidden": true
   },
   "source": [
    "### Percentiles and IQR"
   ]
  },
  {
   "cell_type": "markdown",
   "metadata": {
    "hidden": true
   },
   "source": [
    "You can also calculate values at various **percentiles** to understand the spread. An \"Nth Percentile\" value is the value that is greater than N% of other values. The 25th and 75th percentiles are commonly used to describe spread, and the **interquartile range (IQR)** is the difference between these two values.\n",
    "\n",
    "See [the docs](https://numpy.org/doc/stable/reference/generated/numpy.percentile.html) for more specifics about how percentiles are calculated, which is surprisingly tricky."
   ]
  },
  {
   "cell_type": "code",
   "execution_count": 10,
   "metadata": {
    "hidden": true
   },
   "outputs": [
    {
     "name": "stdout",
     "output_type": "stream",
     "text": [
      "25th Percentile: 3.0\n",
      "75th Percentile: 7.0\n",
      "IQR: 4.0\n"
     ]
    }
   ],
   "source": [
    "print(f\"25th Percentile: {np.percentile(data, 25)}\")\n",
    "print(f\"75th Percentile: {np.percentile(data, 75)}\")\n",
    "print(f\"IQR: {np.percentile(data, 75) - np.percentile(data, 25)}\")"
   ]
  },
  {
   "cell_type": "markdown",
   "metadata": {
    "heading_collapsed": true,
    "hidden": true
   },
   "source": [
    "### Standard Deviation"
   ]
  },
  {
   "cell_type": "markdown",
   "metadata": {
    "hidden": true
   },
   "source": [
    "The **standard deviation** is in effect the distance from the mean of the \"average\" data point. It is defined as: $$\\sqrt\\frac{\\Sigma(x_i - \\bar{x})^2}{n}$$."
   ]
  },
  {
   "cell_type": "code",
   "execution_count": 11,
   "metadata": {
    "hidden": true,
    "scrolled": true
   },
   "outputs": [
    {
     "name": "stdout",
     "output_type": "stream",
     "text": [
      "Standard Deviation: 2.3775812419312765\n"
     ]
    }
   ],
   "source": [
    "print(f\"Standard Deviation: {data.std()}\")"
   ]
  },
  {
   "cell_type": "code",
   "execution_count": 12,
   "metadata": {},
   "outputs": [
    {
     "data": {
      "text/plain": [
       "2.3775812419312765"
      ]
     },
     "execution_count": 12,
     "metadata": {},
     "output_type": "execute_result"
    }
   ],
   "source": [
    "np.std(data)#, ddof=1)"
   ]
  },
  {
   "cell_type": "markdown",
   "metadata": {
    "heading_collapsed": true,
    "hidden": true
   },
   "source": [
    "## `df.describe()`"
   ]
  },
  {
   "cell_type": "markdown",
   "metadata": {
    "hidden": true
   },
   "source": [
    "You can actually get a bunch of descriptive statistics from any `pandas` DataFrame using the `.describe()` method. This should be one of the first things you'll do when exploring a new dataset."
   ]
  },
  {
   "cell_type": "code",
   "execution_count": 13,
   "metadata": {
    "hidden": true
   },
   "outputs": [
    {
     "data": {
      "text/html": [
       "<div>\n",
       "<style scoped>\n",
       "    .dataframe tbody tr th:only-of-type {\n",
       "        vertical-align: middle;\n",
       "    }\n",
       "\n",
       "    .dataframe tbody tr th {\n",
       "        vertical-align: top;\n",
       "    }\n",
       "\n",
       "    .dataframe thead th {\n",
       "        text-align: right;\n",
       "    }\n",
       "</style>\n",
       "<table border=\"1\" class=\"dataframe\">\n",
       "  <thead>\n",
       "    <tr style=\"text-align: right;\">\n",
       "      <th></th>\n",
       "      <th>Pairs of Shoes</th>\n",
       "    </tr>\n",
       "  </thead>\n",
       "  <tbody>\n",
       "    <tr>\n",
       "      <th>count</th>\n",
       "      <td>11.000000</td>\n",
       "    </tr>\n",
       "    <tr>\n",
       "      <th>mean</th>\n",
       "      <td>4.727273</td>\n",
       "    </tr>\n",
       "    <tr>\n",
       "      <th>std</th>\n",
       "      <td>2.493628</td>\n",
       "    </tr>\n",
       "    <tr>\n",
       "      <th>min</th>\n",
       "      <td>1.000000</td>\n",
       "    </tr>\n",
       "    <tr>\n",
       "      <th>25%</th>\n",
       "      <td>3.000000</td>\n",
       "    </tr>\n",
       "    <tr>\n",
       "      <th>50%</th>\n",
       "      <td>4.000000</td>\n",
       "    </tr>\n",
       "    <tr>\n",
       "      <th>75%</th>\n",
       "      <td>7.000000</td>\n",
       "    </tr>\n",
       "    <tr>\n",
       "      <th>max</th>\n",
       "      <td>8.000000</td>\n",
       "    </tr>\n",
       "  </tbody>\n",
       "</table>\n",
       "</div>"
      ],
      "text/plain": [
       "       Pairs of Shoes\n",
       "count       11.000000\n",
       "mean         4.727273\n",
       "std          2.493628\n",
       "min          1.000000\n",
       "25%          3.000000\n",
       "50%          4.000000\n",
       "75%          7.000000\n",
       "max          8.000000"
      ]
     },
     "execution_count": 13,
     "metadata": {},
     "output_type": "execute_result"
    }
   ],
   "source": [
    "data_df.describe()"
   ]
  },
  {
   "cell_type": "markdown",
   "metadata": {
    "hidden": true
   },
   "source": [
    "**Discussion**: If somebody asked you \"How much do people differ in the number of pairs of shoes they have?\", how would you answer (based on these data)?"
   ]
  },
  {
   "cell_type": "markdown",
   "metadata": {
    "heading_collapsed": true
   },
   "source": [
    "# Visual Description"
   ]
  },
  {
   "cell_type": "markdown",
   "metadata": {
    "hidden": true
   },
   "source": [
    "A picture is worth a thousand words - or numbers! Here we will show how to use histograms and box-and-whisker plots to describe your data."
   ]
  },
  {
   "cell_type": "markdown",
   "metadata": {
    "heading_collapsed": true,
    "hidden": true
   },
   "source": [
    "## Histograms"
   ]
  },
  {
   "cell_type": "markdown",
   "metadata": {
    "hidden": true
   },
   "source": [
    "One natural way of starting to understand a dataset is to construct a **histogram**, which is a bar chart showing the counts of the different values in the dataset.\n",
    "\n",
    "There will usually be many distinct values in your dataset, and you will need to decide how many **bins** to use in the histogram. The bins define the ranges of values captured in each bar in your chart. "
   ]
  },
  {
   "cell_type": "code",
   "execution_count": 14,
   "metadata": {
    "hidden": true
   },
   "outputs": [
    {
     "data": {
      "text/plain": [
       "Text(0.5, 1.0, 'Counts, 14 Bins')"
      ]
     },
     "execution_count": 14,
     "metadata": {},
     "output_type": "execute_result"
    },
    {
     "data": {
      "image/png": "[encoded data removed]",
      "text/plain": [
       "<Figure size 640x480 with 1 Axes>"
      ]
     },
     "metadata": {},
     "output_type": "display_data"
    }
   ],
   "source": [
    "fig, ax = plt.subplots()\n",
    "ax.hist(data, bins=14)\n",
    "plt.title('Counts, 14 Bins')"
   ]
  },
  {
   "cell_type": "code",
   "execution_count": 15,
   "metadata": {
    "hidden": true
   },
   "outputs": [
    {
     "data": {
      "text/plain": [
       "Text(0.5, 1.0, 'Counts, 10 Bins')"
      ]
     },
     "execution_count": 15,
     "metadata": {},
     "output_type": "execute_result"
    },
    {
     "data": {
      "image/png": "[encoded data removed]",
      "text/plain": [
       "<Figure size 640x480 with 1 Axes>"
      ]
     },
     "metadata": {},
     "output_type": "display_data"
    }
   ],
   "source": [
    "fig, ax = plt.subplots()\n",
    "ax.hist(data, bins=11)\n",
    "plt.title('Counts, 10 Bins')"
   ]
  },
  {
   "cell_type": "code",
   "execution_count": 16,
   "metadata": {
    "hidden": true
   },
   "outputs": [
    {
     "data": {
      "text/plain": [
       "Text(0.5, 1.0, 'Counts, 5 Bins')"
      ]
     },
     "execution_count": 16,
     "metadata": {},
     "output_type": "execute_result"
    },
    {
     "data": {
      "image/png": "[encoded data removed]",
      "text/plain": [
       "<Figure size 640x480 with 1 Axes>"
      ]
     },
     "metadata": {},
     "output_type": "display_data"
    }
   ],
   "source": [
    "fig, ax = plt.subplots()\n",
    "ax.hist(data, bins=5)\n",
    "plt.title('Counts, 5 Bins')"
   ]
  },
  {
   "cell_type": "code",
   "execution_count": 17,
   "metadata": {
    "hidden": true
   },
   "outputs": [
    {
     "data": {
      "text/plain": [
       "Text(0.5, 1.0, 'Counts, 7 Bins')"
      ]
     },
     "execution_count": 17,
     "metadata": {},
     "output_type": "execute_result"
    },
    {
     "data": {
      "image/png": "[encoded data removed]",
      "text/plain": [
       "<Figure size 640x480 with 1 Axes>"
      ]
     },
     "metadata": {},
     "output_type": "display_data"
    }
   ],
   "source": [
    "fig, ax = plt.subplots()\n",
    "ax.hist(data, bins=7)\n",
    "plt.title('Counts, 7 Bins')"
   ]
  },
  {
   "cell_type": "markdown",
   "metadata": {
    "heading_collapsed": true,
    "hidden": true
   },
   "source": [
    "## Box and Whisker Plot"
   ]
  },
  {
   "cell_type": "markdown",
   "metadata": {
    "hidden": true
   },
   "source": [
    "A box-and-whisker plot can also be useful for visually summarizing your data by showing the min, IQR, and max."
   ]
  },
  {
   "cell_type": "code",
   "execution_count": 18,
   "metadata": {
    "hidden": true
   },
   "outputs": [
    {
     "data": {
      "text/plain": [
       "Text(0.5, 1.0, 'Counts of Pairs of Shoes')"
      ]
     },
     "execution_count": 18,
     "metadata": {},
     "output_type": "execute_result"
    },
    {
     "data": {
      "image/png": "[encoded data removed]",
      "text/plain": [
       "<Figure size 640x480 with 1 Axes>"
      ]
     },
     "metadata": {},
     "output_type": "display_data"
    }
   ],
   "source": [
    "fig, ax = plt.subplots()\n",
    "ax.boxplot(data)\n",
    "plt.title('Counts of Pairs of Shoes')"
   ]
  },
  {
   "cell_type": "markdown",
   "metadata": {
    "heading_collapsed": true
   },
   "source": [
    "# Addressing Business Questions"
   ]
  },
  {
   "cell_type": "markdown",
   "metadata": {
    "heading_collapsed": true,
    "hidden": true
   },
   "source": [
    "## Fast Food Data"
   ]
  },
  {
   "cell_type": "code",
   "execution_count": 19,
   "metadata": {
    "hidden": true
   },
   "outputs": [],
   "source": [
    "ffood = pd.read_csv('data/Datafiniti_Fast_Food.csv')"
   ]
  },
  {
   "cell_type": "code",
   "execution_count": 20,
   "metadata": {
    "hidden": true,
    "scrolled": true
   },
   "outputs": [
    {
     "data": {
      "text/html": [
       "<div>\n",
       "<style scoped>\n",
       "    .dataframe tbody tr th:only-of-type {\n",
       "        vertical-align: middle;\n",
       "    }\n",
       "\n",
       "    .dataframe tbody tr th {\n",
       "        vertical-align: top;\n",
       "    }\n",
       "\n",
       "    .dataframe thead th {\n",
       "        text-align: right;\n",
       "    }\n",
       "</style>\n",
       "<table border=\"1\" class=\"dataframe\">\n",
       "  <thead>\n",
       "    <tr style=\"text-align: right;\">\n",
       "      <th></th>\n",
       "      <th>id</th>\n",
       "      <th>dateAdded</th>\n",
       "      <th>dateUpdated</th>\n",
       "      <th>address</th>\n",
       "      <th>categories</th>\n",
       "      <th>city</th>\n",
       "      <th>country</th>\n",
       "      <th>keys</th>\n",
       "      <th>latitude</th>\n",
       "      <th>longitude</th>\n",
       "      <th>name</th>\n",
       "      <th>postalCode</th>\n",
       "      <th>province</th>\n",
       "      <th>sourceURLs</th>\n",
       "      <th>websites</th>\n",
       "    </tr>\n",
       "  </thead>\n",
       "  <tbody>\n",
       "    <tr>\n",
       "      <th>0</th>\n",
       "      <td>AVwcmSyZIN2L1WUfmxyw</td>\n",
       "      <td>2015-10-19T23:47:58Z</td>\n",
       "      <td>2018-06-26T03:00:14Z</td>\n",
       "      <td>800 N Canal Blvd</td>\n",
       "      <td>American Restaurant and Fast Food Restaurant</td>\n",
       "      <td>Thibodaux</td>\n",
       "      <td>US</td>\n",
       "      <td>us/la/thibodaux/800ncanalblvd/1780593795</td>\n",
       "      <td>29.814697</td>\n",
       "      <td>-90.814742</td>\n",
       "      <td>SONIC Drive In</td>\n",
       "      <td>70301</td>\n",
       "      <td>LA</td>\n",
       "      <td>https://foursquare.com/v/sonic-drive-in/4b7361...</td>\n",
       "      <td>https://locations.sonicdrivein.com/la/thibodau...</td>\n",
       "    </tr>\n",
       "    <tr>\n",
       "      <th>1</th>\n",
       "      <td>AVwcmSyZIN2L1WUfmxyw</td>\n",
       "      <td>2015-10-19T23:47:58Z</td>\n",
       "      <td>2018-06-26T03:00:14Z</td>\n",
       "      <td>800 N Canal Blvd</td>\n",
       "      <td>Fast Food Restaurants</td>\n",
       "      <td>Thibodaux</td>\n",
       "      <td>US</td>\n",
       "      <td>us/la/thibodaux/800ncanalblvd/1780593795</td>\n",
       "      <td>29.814697</td>\n",
       "      <td>-90.814742</td>\n",
       "      <td>SONIC Drive In</td>\n",
       "      <td>70301</td>\n",
       "      <td>LA</td>\n",
       "      <td>https://foursquare.com/v/sonic-drive-in/4b7361...</td>\n",
       "      <td>https://locations.sonicdrivein.com/la/thibodau...</td>\n",
       "    </tr>\n",
       "    <tr>\n",
       "      <th>2</th>\n",
       "      <td>AVwcopQoByjofQCxgfVa</td>\n",
       "      <td>2016-03-29T05:06:36Z</td>\n",
       "      <td>2018-06-26T02:59:52Z</td>\n",
       "      <td>206 Wears Valley Rd</td>\n",
       "      <td>Fast Food Restaurant</td>\n",
       "      <td>Pigeon Forge</td>\n",
       "      <td>US</td>\n",
       "      <td>us/tn/pigeonforge/206wearsvalleyrd/-864103396</td>\n",
       "      <td>35.803788</td>\n",
       "      <td>-83.580553</td>\n",
       "      <td>Taco Bell</td>\n",
       "      <td>37863</td>\n",
       "      <td>TN</td>\n",
       "      <td>https://www.yellowpages.com/pigeon-forge-tn/mi...</td>\n",
       "      <td>http://www.tacobell.com,https://locations.taco...</td>\n",
       "    </tr>\n",
       "    <tr>\n",
       "      <th>3</th>\n",
       "      <td>AVweXN5RByjofQCxxilK</td>\n",
       "      <td>2017-01-03T07:46:11Z</td>\n",
       "      <td>2018-06-26T02:59:51Z</td>\n",
       "      <td>3652 Parkway</td>\n",
       "      <td>Fast Food</td>\n",
       "      <td>Pigeon Forge</td>\n",
       "      <td>US</td>\n",
       "      <td>us/tn/pigeonforge/3652parkway/93075755</td>\n",
       "      <td>35.782339</td>\n",
       "      <td>-83.551408</td>\n",
       "      <td>Arby's</td>\n",
       "      <td>37863</td>\n",
       "      <td>TN</td>\n",
       "      <td>http://www.yellowbook.com/profile/arbys_163389...</td>\n",
       "      <td>http://www.arbys.com,https://locations.arbys.c...</td>\n",
       "    </tr>\n",
       "    <tr>\n",
       "      <th>4</th>\n",
       "      <td>AWQ6MUvo3-Khe5l_j3SG</td>\n",
       "      <td>2018-06-26T02:59:43Z</td>\n",
       "      <td>2018-06-26T02:59:43Z</td>\n",
       "      <td>2118 Mt Zion Parkway</td>\n",
       "      <td>Fast Food Restaurant</td>\n",
       "      <td>Morrow</td>\n",
       "      <td>US</td>\n",
       "      <td>us/ga/morrow/2118mtzionparkway/1305117222</td>\n",
       "      <td>33.562738</td>\n",
       "      <td>-84.321143</td>\n",
       "      <td>Steak 'n Shake</td>\n",
       "      <td>30260</td>\n",
       "      <td>GA</td>\n",
       "      <td>https://foursquare.com/v/steak-n-shake/4bcf77a...</td>\n",
       "      <td>http://www.steaknshake.com/locations/23851-ste...</td>\n",
       "    </tr>\n",
       "  </tbody>\n",
       "</table>\n",
       "</div>"
      ],
      "text/plain": [
       "                     id             dateAdded           dateUpdated  \\\n",
       "0  AVwcmSyZIN2L1WUfmxyw  2015-10-19T23:47:58Z  2018-06-26T03:00:14Z   \n",
       "1  AVwcmSyZIN2L1WUfmxyw  2015-10-19T23:47:58Z  2018-06-26T03:00:14Z   \n",
       "2  AVwcopQoByjofQCxgfVa  2016-03-29T05:06:36Z  2018-06-26T02:59:52Z   \n",
       "3  AVweXN5RByjofQCxxilK  2017-01-03T07:46:11Z  2018-06-26T02:59:51Z   \n",
       "4  AWQ6MUvo3-Khe5l_j3SG  2018-06-26T02:59:43Z  2018-06-26T02:59:43Z   \n",
       "\n",
       "                address                                    categories  \\\n",
       "0      800 N Canal Blvd  American Restaurant and Fast Food Restaurant   \n",
       "1      800 N Canal Blvd                         Fast Food Restaurants   \n",
       "2   206 Wears Valley Rd                          Fast Food Restaurant   \n",
       "3          3652 Parkway                                     Fast Food   \n",
       "4  2118 Mt Zion Parkway                          Fast Food Restaurant   \n",
       "\n",
       "           city country                                           keys  \\\n",
       "0     Thibodaux      US       us/la/thibodaux/800ncanalblvd/1780593795   \n",
       "1     Thibodaux      US       us/la/thibodaux/800ncanalblvd/1780593795   \n",
       "2  Pigeon Forge      US  us/tn/pigeonforge/206wearsvalleyrd/-864103396   \n",
       "3  Pigeon Forge      US         us/tn/pigeonforge/3652parkway/93075755   \n",
       "4        Morrow      US      us/ga/morrow/2118mtzionparkway/1305117222   \n",
       "\n",
       "    latitude  longitude            name postalCode province  \\\n",
       "0  29.814697 -90.814742  SONIC Drive In      70301       LA   \n",
       "1  29.814697 -90.814742  SONIC Drive In      70301       LA   \n",
       "2  35.803788 -83.580553       Taco Bell      37863       TN   \n",
       "3  35.782339 -83.551408          Arby's      37863       TN   \n",
       "4  33.562738 -84.321143  Steak 'n Shake      30260       GA   \n",
       "\n",
       "                                          sourceURLs  \\\n",
       "0  https://foursquare.com/v/sonic-drive-in/4b7361...   \n",
       "1  https://foursquare.com/v/sonic-drive-in/4b7361...   \n",
       "2  https://www.yellowpages.com/pigeon-forge-tn/mi...   \n",
       "3  http://www.yellowbook.com/profile/arbys_163389...   \n",
       "4  https://foursquare.com/v/steak-n-shake/4bcf77a...   \n",
       "\n",
       "                                            websites  \n",
       "0  https://locations.sonicdrivein.com/la/thibodau...  \n",
       "1  https://locations.sonicdrivein.com/la/thibodau...  \n",
       "2  http://www.tacobell.com,https://locations.taco...  \n",
       "3  http://www.arbys.com,https://locations.arbys.c...  \n",
       "4  http://www.steaknshake.com/locations/23851-ste...  "
      ]
     },
     "execution_count": 20,
     "metadata": {},
     "output_type": "execute_result"
    }
   ],
   "source": [
    "ffood.head()"
   ]
  },
  {
   "cell_type": "code",
   "execution_count": 21,
   "metadata": {
    "hidden": true
   },
   "outputs": [
    {
     "name": "stdout",
     "output_type": "stream",
     "text": [
      "<class 'pandas.core.frame.DataFrame'>\n",
      "RangeIndex: 10000 entries, 0 to 9999\n",
      "Data columns (total 15 columns):\n",
      " #   Column       Non-Null Count  Dtype  \n",
      "---  ------       --------------  -----  \n",
      " 0   id           10000 non-null  object \n",
      " 1   dateAdded    10000 non-null  object \n",
      " 2   dateUpdated  10000 non-null  object \n",
      " 3   address      10000 non-null  object \n",
      " 4   categories   10000 non-null  object \n",
      " 5   city         10000 non-null  object \n",
      " 6   country      10000 non-null  object \n",
      " 7   keys         10000 non-null  object \n",
      " 8   latitude     10000 non-null  float64\n",
      " 9   longitude    10000 non-null  float64\n",
      " 10  name         10000 non-null  object \n",
      " 11  postalCode   10000 non-null  object \n",
      " 12  province     10000 non-null  object \n",
      " 13  sourceURLs   10000 non-null  object \n",
      " 14  websites     10000 non-null  object \n",
      "dtypes: float64(2), object(13)\n",
      "memory usage: 1.1+ MB\n"
     ]
    }
   ],
   "source": [
    "ffood.info()"
   ]
  },
  {
   "cell_type": "markdown",
   "metadata": {
    "heading_collapsed": true,
    "hidden": true
   },
   "source": [
    "### Question 1:"
   ]
  },
  {
   "cell_type": "markdown",
   "metadata": {
    "hidden": true
   },
   "source": [
    "How many different restaurant chains are represented in the data? Visualize the numbers for the restaurants with 50 or more instances."
   ]
  },
  {
   "cell_type": "code",
   "execution_count": 22,
   "metadata": {
    "hidden": true
   },
   "outputs": [
    {
     "data": {
      "text/plain": [
       "name\n",
       "McDonald's                        1898\n",
       "Taco Bell                         1032\n",
       "Burger King                        833\n",
       "Subway                             776\n",
       "Arby's                             663\n",
       "                                  ... \n",
       "D & M Subs                           1\n",
       "Tony Wang's Chinese Restaurant       1\n",
       "Arthur Treacher's Fish & Chips       1\n",
       "Bistro To Go                         1\n",
       "Stoko's                              1\n",
       "Name: count, Length: 571, dtype: int64"
      ]
     },
     "execution_count": 22,
     "metadata": {},
     "output_type": "execute_result"
    }
   ],
   "source": [
    "ffood['name'].value_counts()"
   ]
  },
  {
   "cell_type": "code",
   "execution_count": 23,
   "metadata": {
    "hidden": true
   },
   "outputs": [
    {
     "data": {
      "text/plain": [
       "name\n",
       "McDonald's         1898\n",
       "Taco Bell          1032\n",
       "Burger King         833\n",
       "Subway              776\n",
       "Arby's              663\n",
       "Wendy's             628\n",
       "Jack in the Box     330\n",
       "Pizza Hut           230\n",
       "Dairy Queen         218\n",
       "Domino's Pizza      215\n",
       "Chick-fil-A         206\n",
       "KFC                 162\n",
       "SONIC Drive In      125\n",
       "Jimmy John's        119\n",
       "Carl's Jr.          112\n",
       "Hardee's             99\n",
       "Krystal              82\n",
       "Panera Bread         76\n",
       "Culver's             71\n",
       "Dunkin' Donuts       71\n",
       "Del Taco             66\n",
       "Panda Express        61\n",
       "SUBWAY               57\n",
       "In-N-Out Burger      54\n",
       "Steak 'n Shake       54\n",
       "Taco John's          53\n",
       "Sonic Drive-In       50\n",
       "Name: count, dtype: int64"
      ]
     },
     "execution_count": 23,
     "metadata": {},
     "output_type": "execute_result"
    }
   ],
   "source": [
    "counts = ffood['name'].value_counts()\n",
    "high_counts = counts[counts >= 50]\n",
    "high_counts"
   ]
  },
  {
   "cell_type": "code",
   "execution_count": 24,
   "metadata": {
    "hidden": true
   },
   "outputs": [
    {
     "name": "stderr",
     "output_type": "stream",
     "text": [
      "/var/folders/1m/71syl3xd3910y8gqrq29f4w40000gn/T/ipykernel_16211/3664696334.py:4: UserWarning: set_ticklabels() should only be used with a fixed number of ticks, i.e. after set_ticks() or using a FixedLocator.\n",
      "  ax.set_xticklabels(labels=high_counts.index, rotation=80);\n"
     ]
    },
    {
     "data": {
      "image/png": "[encoded data removed]",
      "text/plain": [
       "<Figure size 1500x600 with 1 Axes>"
      ]
     },
     "metadata": {},
     "output_type": "display_data"
    }
   ],
   "source": [
    "fig, ax = plt.subplots(figsize=(15, 6))\n",
    "\n",
    "ax.bar(x=high_counts.index, height=high_counts)\n",
    "ax.set_xticklabels(labels=high_counts.index, rotation=80);"
   ]
  },
  {
   "cell_type": "markdown",
   "metadata": {
    "heading_collapsed": true,
    "hidden": true
   },
   "source": [
    "### Question 2"
   ]
  },
  {
   "cell_type": "markdown",
   "metadata": {
    "hidden": true
   },
   "source": [
    "Visualize the locations of restaurants in Buffalo, NY."
   ]
  },
  {
   "cell_type": "code",
   "execution_count": 25,
   "metadata": {
    "hidden": true
   },
   "outputs": [
    {
     "data": {
      "image/png": "[encoded data removed]",
      "text/plain": [
       "<Figure size 800x800 with 1 Axes>"
      ]
     },
     "metadata": {},
     "output_type": "display_data"
    }
   ],
   "source": [
    "buffalo = ffood[ffood['city'] == 'Buffalo']\n",
    "\n",
    "fig, ax = plt.subplots(figsize=(8, 8))\n",
    "\n",
    "sns.scatterplot(data=buffalo,\n",
    "                x=buffalo['longitude'],\n",
    "                y=buffalo['latitude'],\n",
    "                hue=buffalo['name'],\n",
    "                ax=ax);"
   ]
  },
  {
   "cell_type": "markdown",
   "metadata": {
    "heading_collapsed": true,
    "hidden": true
   },
   "source": [
    "### Question 3 (Exercise!):"
   ]
  },
  {
   "cell_type": "markdown",
   "metadata": {
    "hidden": true
   },
   "source": [
    "In this dataset, how many Taco Bell restaurants are there in Alaska, and in which cities are they?"
   ]
  },
  {
   "cell_type": "code",
   "execution_count": 26,
   "metadata": {
    "hidden": true
   },
   "outputs": [
    {
     "name": "stdout",
     "output_type": "stream",
     "text": [
      "Number of Taco Bell in ALASKA : 3\n",
      "\n",
      "List of cities where have Taco Bell in ALaska : \n",
      "Haleyville\n",
      "Greenville\n",
      "Birmingham\n"
     ]
    }
   ],
   "source": [
    "TacoAlaska = ffood[(ffood['province'] == 'AL') & (ffood['name'] == 'Taco Bell')]\n",
    "\n",
    "HowMany = TacoAlaska.id.count()\n",
    "Cities = '\\n'.join(TacoAlaska['city'].unique())\n",
    "print(f\"Number of Taco Bell in ALASKA : {HowMany}\\n\")\n",
    "print(f\"List of cities where have Taco Bell in ALaska : \\n{Cities}\")\n"
   ]
  },
  {
   "cell_type": "markdown",
   "metadata": {
    "hidden": true
   },
   "source": [
    "<details>\n",
    "    <summary>One answer here</summary>\n",
    "\n",
    "```python\n",
    "ak = ffood[ffood['province'] == 'AK']\n",
    "ak[ak['name'] == 'Taco Bell']\n",
    "```\n",
    "</details>    "
   ]
  },
  {
   "cell_type": "markdown",
   "metadata": {
    "heading_collapsed": true,
    "hidden": true
   },
   "source": [
    "### Question 4 (Exercise!):"
   ]
  },
  {
   "cell_type": "markdown",
   "metadata": {
    "hidden": true
   },
   "source": [
    "Convert the ZIP Codes to (five-digit) integers."
   ]
  },
  {
   "cell_type": "code",
   "execution_count": 27,
   "metadata": {
    "hidden": true
   },
   "outputs": [
    {
     "data": {
      "text/plain": [
       "0       70301\n",
       "1       70301\n",
       "2       37863\n",
       "3       37863\n",
       "4       30260\n",
       "        ...  \n",
       "9995    27106\n",
       "9996    27107\n",
       "9997    27284\n",
       "9998    27893\n",
       "9999    28337\n",
       "Name: postalCode, Length: 10000, dtype: object"
      ]
     },
     "execution_count": 27,
     "metadata": {},
     "output_type": "execute_result"
    }
   ],
   "source": [
    "ffood.postalCode"
   ]
  },
  {
   "cell_type": "code",
   "execution_count": 28,
   "metadata": {},
   "outputs": [],
   "source": [
    "# Ensure the postalCode column is a string, then slice to ensure it is 5 characters long, and finally convert to integer.\n",
    "# This step assumes all postal codes are at least 5 characters long and primarily numeric.\n",
    "ffood['postalCode'] = ffood['postalCode'].astype(str).str.slice(0, 5).astype(int)\n",
    "\n",
    "# Now, ffood.postalCode contains five-digit integers."
   ]
  },
  {
   "cell_type": "code",
   "execution_count": 29,
   "metadata": {},
   "outputs": [
    {
     "data": {
      "text/plain": [
       "0       70301\n",
       "1       70301\n",
       "2       37863\n",
       "3       37863\n",
       "4       30260\n",
       "        ...  \n",
       "9995    27106\n",
       "9996    27107\n",
       "9997    27284\n",
       "9998    27893\n",
       "9999    28337\n",
       "Name: postalCode, Length: 10000, dtype: int64"
      ]
     },
     "execution_count": 29,
     "metadata": {},
     "output_type": "execute_result"
    }
   ],
   "source": [
    "ffood.postalCode"
   ]
  },
  {
   "cell_type": "markdown",
   "metadata": {
    "hidden": true
   },
   "source": [
    "<details>\n",
    "    <summary>One answer here</summary>\n",
    "\n",
    "```python\n",
    "ffood['postalCodeNew'] = ffood['postalCode'].map(lambda x: int(x[:5]))\n",
    "```\n",
    "</details>"
   ]
  },
  {
   "cell_type": "markdown",
   "metadata": {
    "heading_collapsed": true,
    "hidden": true
   },
   "source": [
    "### Question 5 (Exercise!)"
   ]
  },
  {
   "cell_type": "markdown",
   "metadata": {
    "hidden": true
   },
   "source": [
    "Which restaurant chain has the greatest representation in San Francisco, CA? (This city covers the ZIP Codes 94100-94188.)"
   ]
  },
  {
   "cell_type": "code",
   "execution_count": 30,
   "metadata": {
    "hidden": true
   },
   "outputs": [
    {
     "name": "stdout",
     "output_type": "stream",
     "text": [
      "The restaurant chain with the greatest representation in San Francisco is: Subway with 5 locations.\n"
     ]
    }
   ],
   "source": [
    "sf_ffood = ffood[(ffood['postalCode'] >= 94100) & (ffood['postalCode'] <= 94188)]\n",
    "\n",
    "# Step 2: Count the occurrences of each restaurant chain.\n",
    "chain_counts = sf_ffood['name'].value_counts()\n",
    "\n",
    "# Step 3: Identify the restaurant chain with the greatest representation.\n",
    "top_chain = chain_counts.idxmax()\n",
    "\n",
    "# Print the result\n",
    "print(f\"The restaurant chain with the greatest representation in San Francisco is: {top_chain} with {chain_counts[top_chain]} locations.\")"
   ]
  },
  {
   "cell_type": "markdown",
   "metadata": {
    "hidden": true
   },
   "source": [
    "<details>\n",
    "    <summary>Two answers here</summary>\n",
    "\n",
    "```python\n",
    "sf = ffood[ffood['city'] == 'San Francisco']\n",
    "sf['name'].value_counts()\n",
    "```\n",
    "OR\n",
    "    \n",
    "```python\n",
    "sf = ffood[(ffood['postalCodeNew'] >= 94100) & (ffood['postalCodeNew'] <= 94188)]\n",
    "sf['name'].value_counts()\n",
    "```\n",
    "</details>"
   ]
  },
  {
   "cell_type": "markdown",
   "metadata": {
    "heading_collapsed": true,
    "hidden": true
   },
   "source": [
    "## Credit Card Data"
   ]
  },
  {
   "cell_type": "code",
   "execution_count": 31,
   "metadata": {
    "hidden": true
   },
   "outputs": [],
   "source": [
    "credit = pd.read_csv('data/BankChurners.csv').iloc[:, :-2]"
   ]
  },
  {
   "cell_type": "code",
   "execution_count": 32,
   "metadata": {
    "hidden": true
   },
   "outputs": [
    {
     "data": {
      "text/html": [
       "<div>\n",
       "<style scoped>\n",
       "    .dataframe tbody tr th:only-of-type {\n",
       "        vertical-align: middle;\n",
       "    }\n",
       "\n",
       "    .dataframe tbody tr th {\n",
       "        vertical-align: top;\n",
       "    }\n",
       "\n",
       "    .dataframe thead th {\n",
       "        text-align: right;\n",
       "    }\n",
       "</style>\n",
       "<table border=\"1\" class=\"dataframe\">\n",
       "  <thead>\n",
       "    <tr style=\"text-align: right;\">\n",
       "      <th></th>\n",
       "      <th>CLIENTNUM</th>\n",
       "      <th>Attrition_Flag</th>\n",
       "      <th>Customer_Age</th>\n",
       "      <th>Gender</th>\n",
       "      <th>Dependent_count</th>\n",
       "      <th>Education_Level</th>\n",
       "      <th>Marital_Status</th>\n",
       "      <th>Income_Category</th>\n",
       "      <th>Card_Category</th>\n",
       "      <th>Months_on_book</th>\n",
       "      <th>...</th>\n",
       "      <th>Months_Inactive_12_mon</th>\n",
       "      <th>Contacts_Count_12_mon</th>\n",
       "      <th>Credit_Limit</th>\n",
       "      <th>Total_Revolving_Bal</th>\n",
       "      <th>Avg_Open_To_Buy</th>\n",
       "      <th>Total_Amt_Chng_Q4_Q1</th>\n",
       "      <th>Total_Trans_Amt</th>\n",
       "      <th>Total_Trans_Ct</th>\n",
       "      <th>Total_Ct_Chng_Q4_Q1</th>\n",
       "      <th>Avg_Utilization_Ratio</th>\n",
       "    </tr>\n",
       "  </thead>\n",
       "  <tbody>\n",
       "    <tr>\n",
       "      <th>0</th>\n",
       "      <td>768805383</td>\n",
       "      <td>Existing Customer</td>\n",
       "      <td>45</td>\n",
       "      <td>M</td>\n",
       "      <td>3</td>\n",
       "      <td>High School</td>\n",
       "      <td>Married</td>\n",
       "      <td>$60K - $80K</td>\n",
       "      <td>Blue</td>\n",
       "      <td>39</td>\n",
       "      <td>...</td>\n",
       "      <td>1</td>\n",
       "      <td>3</td>\n",
       "      <td>12691.0</td>\n",
       "      <td>777</td>\n",
       "      <td>11914.0</td>\n",
       "      <td>1.335</td>\n",
       "      <td>1144</td>\n",
       "      <td>42</td>\n",
       "      <td>1.625</td>\n",
       "      <td>0.061</td>\n",
       "    </tr>\n",
       "    <tr>\n",
       "      <th>1</th>\n",
       "      <td>818770008</td>\n",
       "      <td>Existing Customer</td>\n",
       "      <td>49</td>\n",
       "      <td>F</td>\n",
       "      <td>5</td>\n",
       "      <td>Graduate</td>\n",
       "      <td>Single</td>\n",
       "      <td>Less than $40K</td>\n",
       "      <td>Blue</td>\n",
       "      <td>44</td>\n",
       "      <td>...</td>\n",
       "      <td>1</td>\n",
       "      <td>2</td>\n",
       "      <td>8256.0</td>\n",
       "      <td>864</td>\n",
       "      <td>7392.0</td>\n",
       "      <td>1.541</td>\n",
       "      <td>1291</td>\n",
       "      <td>33</td>\n",
       "      <td>3.714</td>\n",
       "      <td>0.105</td>\n",
       "    </tr>\n",
       "    <tr>\n",
       "      <th>2</th>\n",
       "      <td>713982108</td>\n",
       "      <td>Existing Customer</td>\n",
       "      <td>51</td>\n",
       "      <td>M</td>\n",
       "      <td>3</td>\n",
       "      <td>Graduate</td>\n",
       "      <td>Married</td>\n",
       "      <td>$80K - $120K</td>\n",
       "      <td>Blue</td>\n",
       "      <td>36</td>\n",
       "      <td>...</td>\n",
       "      <td>1</td>\n",
       "      <td>0</td>\n",
       "      <td>3418.0</td>\n",
       "      <td>0</td>\n",
       "      <td>3418.0</td>\n",
       "      <td>2.594</td>\n",
       "      <td>1887</td>\n",
       "      <td>20</td>\n",
       "      <td>2.333</td>\n",
       "      <td>0.000</td>\n",
       "    </tr>\n",
       "    <tr>\n",
       "      <th>3</th>\n",
       "      <td>769911858</td>\n",
       "      <td>Existing Customer</td>\n",
       "      <td>40</td>\n",
       "      <td>F</td>\n",
       "      <td>4</td>\n",
       "      <td>High School</td>\n",
       "      <td>Unknown</td>\n",
       "      <td>Less than $40K</td>\n",
       "      <td>Blue</td>\n",
       "      <td>34</td>\n",
       "      <td>...</td>\n",
       "      <td>4</td>\n",
       "      <td>1</td>\n",
       "      <td>3313.0</td>\n",
       "      <td>2517</td>\n",
       "      <td>796.0</td>\n",
       "      <td>1.405</td>\n",
       "      <td>1171</td>\n",
       "      <td>20</td>\n",
       "      <td>2.333</td>\n",
       "      <td>0.760</td>\n",
       "    </tr>\n",
       "    <tr>\n",
       "      <th>4</th>\n",
       "      <td>709106358</td>\n",
       "      <td>Existing Customer</td>\n",
       "      <td>40</td>\n",
       "      <td>M</td>\n",
       "      <td>3</td>\n",
       "      <td>Uneducated</td>\n",
       "      <td>Married</td>\n",
       "      <td>$60K - $80K</td>\n",
       "      <td>Blue</td>\n",
       "      <td>21</td>\n",
       "      <td>...</td>\n",
       "      <td>1</td>\n",
       "      <td>0</td>\n",
       "      <td>4716.0</td>\n",
       "      <td>0</td>\n",
       "      <td>4716.0</td>\n",
       "      <td>2.175</td>\n",
       "      <td>816</td>\n",
       "      <td>28</td>\n",
       "      <td>2.500</td>\n",
       "      <td>0.000</td>\n",
       "    </tr>\n",
       "  </tbody>\n",
       "</table>\n",
       "<p>5 rows × 21 columns</p>\n",
       "</div>"
      ],
      "text/plain": [
       "   CLIENTNUM     Attrition_Flag  Customer_Age Gender  Dependent_count  \\\n",
       "0  768805383  Existing Customer            45      M                3   \n",
       "1  818770008  Existing Customer            49      F                5   \n",
       "2  713982108  Existing Customer            51      M                3   \n",
       "3  769911858  Existing Customer            40      F                4   \n",
       "4  709106358  Existing Customer            40      M                3   \n",
       "\n",
       "  Education_Level Marital_Status Income_Category Card_Category  \\\n",
       "0     High School        Married     $60K - $80K          Blue   \n",
       "1        Graduate         Single  Less than $40K          Blue   \n",
       "2        Graduate        Married    $80K - $120K          Blue   \n",
       "3     High School        Unknown  Less than $40K          Blue   \n",
       "4      Uneducated        Married     $60K - $80K          Blue   \n",
       "\n",
       "   Months_on_book  ...  Months_Inactive_12_mon  Contacts_Count_12_mon  \\\n",
       "0              39  ...                       1                      3   \n",
       "1              44  ...                       1                      2   \n",
       "2              36  ...                       1                      0   \n",
       "3              34  ...                       4                      1   \n",
       "4              21  ...                       1                      0   \n",
       "\n",
       "   Credit_Limit  Total_Revolving_Bal  Avg_Open_To_Buy  Total_Amt_Chng_Q4_Q1  \\\n",
       "0       12691.0                  777          11914.0                 1.335   \n",
       "1        8256.0                  864           7392.0                 1.541   \n",
       "2        3418.0                    0           3418.0                 2.594   \n",
       "3        3313.0                 2517            796.0                 1.405   \n",
       "4        4716.0                    0           4716.0                 2.175   \n",
       "\n",
       "   Total_Trans_Amt  Total_Trans_Ct  Total_Ct_Chng_Q4_Q1  Avg_Utilization_Ratio  \n",
       "0             1144              42                1.625                  0.061  \n",
       "1             1291              33                3.714                  0.105  \n",
       "2             1887              20                2.333                  0.000  \n",
       "3             1171              20                2.333                  0.760  \n",
       "4              816              28                2.500                  0.000  \n",
       "\n",
       "[5 rows x 21 columns]"
      ]
     },
     "execution_count": 32,
     "metadata": {},
     "output_type": "execute_result"
    }
   ],
   "source": [
    "credit.head()"
   ]
  },
  {
   "cell_type": "code",
   "execution_count": 33,
   "metadata": {
    "hidden": true
   },
   "outputs": [
    {
     "data": {
      "text/html": [
       "<div>\n",
       "<style scoped>\n",
       "    .dataframe tbody tr th:only-of-type {\n",
       "        vertical-align: middle;\n",
       "    }\n",
       "\n",
       "    .dataframe tbody tr th {\n",
       "        vertical-align: top;\n",
       "    }\n",
       "\n",
       "    .dataframe thead th {\n",
       "        text-align: right;\n",
       "    }\n",
       "</style>\n",
       "<table border=\"1\" class=\"dataframe\">\n",
       "  <thead>\n",
       "    <tr style=\"text-align: right;\">\n",
       "      <th></th>\n",
       "      <th>CLIENTNUM</th>\n",
       "      <th>Customer_Age</th>\n",
       "      <th>Dependent_count</th>\n",
       "      <th>Months_on_book</th>\n",
       "      <th>Total_Relationship_Count</th>\n",
       "      <th>Months_Inactive_12_mon</th>\n",
       "      <th>Contacts_Count_12_mon</th>\n",
       "      <th>Credit_Limit</th>\n",
       "      <th>Total_Revolving_Bal</th>\n",
       "      <th>Avg_Open_To_Buy</th>\n",
       "      <th>Total_Amt_Chng_Q4_Q1</th>\n",
       "      <th>Total_Trans_Amt</th>\n",
       "      <th>Total_Trans_Ct</th>\n",
       "      <th>Total_Ct_Chng_Q4_Q1</th>\n",
       "      <th>Avg_Utilization_Ratio</th>\n",
       "    </tr>\n",
       "  </thead>\n",
       "  <tbody>\n",
       "    <tr>\n",
       "      <th>count</th>\n",
       "      <td>1.012700e+04</td>\n",
       "      <td>10127.000000</td>\n",
       "      <td>10127.000000</td>\n",
       "      <td>10127.000000</td>\n",
       "      <td>10127.000000</td>\n",
       "      <td>10127.000000</td>\n",
       "      <td>10127.000000</td>\n",
       "      <td>10127.000000</td>\n",
       "      <td>10127.000000</td>\n",
       "      <td>10127.000000</td>\n",
       "      <td>10127.000000</td>\n",
       "      <td>10127.000000</td>\n",
       "      <td>10127.000000</td>\n",
       "      <td>10127.000000</td>\n",
       "      <td>10127.000000</td>\n",
       "    </tr>\n",
       "    <tr>\n",
       "      <th>mean</th>\n",
       "      <td>7.391776e+08</td>\n",
       "      <td>46.325960</td>\n",
       "      <td>2.346203</td>\n",
       "      <td>35.928409</td>\n",
       "      <td>3.812580</td>\n",
       "      <td>2.341167</td>\n",
       "      <td>2.455317</td>\n",
       "      <td>8631.953698</td>\n",
       "      <td>1162.814061</td>\n",
       "      <td>7469.139637</td>\n",
       "      <td>0.759941</td>\n",
       "      <td>4404.086304</td>\n",
       "      <td>64.858695</td>\n",
       "      <td>0.712222</td>\n",
       "      <td>0.274894</td>\n",
       "    </tr>\n",
       "    <tr>\n",
       "      <th>std</th>\n",
       "      <td>3.690378e+07</td>\n",
       "      <td>8.016814</td>\n",
       "      <td>1.298908</td>\n",
       "      <td>7.986416</td>\n",
       "      <td>1.554408</td>\n",
       "      <td>1.010622</td>\n",
       "      <td>1.106225</td>\n",
       "      <td>9088.776650</td>\n",
       "      <td>814.987335</td>\n",
       "      <td>9090.685324</td>\n",
       "      <td>0.219207</td>\n",
       "      <td>3397.129254</td>\n",
       "      <td>23.472570</td>\n",
       "      <td>0.238086</td>\n",
       "      <td>0.275691</td>\n",
       "    </tr>\n",
       "    <tr>\n",
       "      <th>min</th>\n",
       "      <td>7.080821e+08</td>\n",
       "      <td>26.000000</td>\n",
       "      <td>0.000000</td>\n",
       "      <td>13.000000</td>\n",
       "      <td>1.000000</td>\n",
       "      <td>0.000000</td>\n",
       "      <td>0.000000</td>\n",
       "      <td>1438.300000</td>\n",
       "      <td>0.000000</td>\n",
       "      <td>3.000000</td>\n",
       "      <td>0.000000</td>\n",
       "      <td>510.000000</td>\n",
       "      <td>10.000000</td>\n",
       "      <td>0.000000</td>\n",
       "      <td>0.000000</td>\n",
       "    </tr>\n",
       "    <tr>\n",
       "      <th>25%</th>\n",
       "      <td>7.130368e+08</td>\n",
       "      <td>41.000000</td>\n",
       "      <td>1.000000</td>\n",
       "      <td>31.000000</td>\n",
       "      <td>3.000000</td>\n",
       "      <td>2.000000</td>\n",
       "      <td>2.000000</td>\n",
       "      <td>2555.000000</td>\n",
       "      <td>359.000000</td>\n",
       "      <td>1324.500000</td>\n",
       "      <td>0.631000</td>\n",
       "      <td>2155.500000</td>\n",
       "      <td>45.000000</td>\n",
       "      <td>0.582000</td>\n",
       "      <td>0.023000</td>\n",
       "    </tr>\n",
       "    <tr>\n",
       "      <th>50%</th>\n",
       "      <td>7.179264e+08</td>\n",
       "      <td>46.000000</td>\n",
       "      <td>2.000000</td>\n",
       "      <td>36.000000</td>\n",
       "      <td>4.000000</td>\n",
       "      <td>2.000000</td>\n",
       "      <td>2.000000</td>\n",
       "      <td>4549.000000</td>\n",
       "      <td>1276.000000</td>\n",
       "      <td>3474.000000</td>\n",
       "      <td>0.736000</td>\n",
       "      <td>3899.000000</td>\n",
       "      <td>67.000000</td>\n",
       "      <td>0.702000</td>\n",
       "      <td>0.176000</td>\n",
       "    </tr>\n",
       "    <tr>\n",
       "      <th>75%</th>\n",
       "      <td>7.731435e+08</td>\n",
       "      <td>52.000000</td>\n",
       "      <td>3.000000</td>\n",
       "      <td>40.000000</td>\n",
       "      <td>5.000000</td>\n",
       "      <td>3.000000</td>\n",
       "      <td>3.000000</td>\n",
       "      <td>11067.500000</td>\n",
       "      <td>1784.000000</td>\n",
       "      <td>9859.000000</td>\n",
       "      <td>0.859000</td>\n",
       "      <td>4741.000000</td>\n",
       "      <td>81.000000</td>\n",
       "      <td>0.818000</td>\n",
       "      <td>0.503000</td>\n",
       "    </tr>\n",
       "    <tr>\n",
       "      <th>max</th>\n",
       "      <td>8.283431e+08</td>\n",
       "      <td>73.000000</td>\n",
       "      <td>5.000000</td>\n",
       "      <td>56.000000</td>\n",
       "      <td>6.000000</td>\n",
       "      <td>6.000000</td>\n",
       "      <td>6.000000</td>\n",
       "      <td>34516.000000</td>\n",
       "      <td>2517.000000</td>\n",
       "      <td>34516.000000</td>\n",
       "      <td>3.397000</td>\n",
       "      <td>18484.000000</td>\n",
       "      <td>139.000000</td>\n",
       "      <td>3.714000</td>\n",
       "      <td>0.999000</td>\n",
       "    </tr>\n",
       "  </tbody>\n",
       "</table>\n",
       "</div>"
      ],
      "text/plain": [
       "          CLIENTNUM  Customer_Age  Dependent_count  Months_on_book  \\\n",
       "count  1.012700e+04  10127.000000     10127.000000    10127.000000   \n",
       "mean   7.391776e+08     46.325960         2.346203       35.928409   \n",
       "std    3.690378e+07      8.016814         1.298908        7.986416   \n",
       "min    7.080821e+08     26.000000         0.000000       13.000000   \n",
       "25%    7.130368e+08     41.000000         1.000000       31.000000   \n",
       "50%    7.179264e+08     46.000000         2.000000       36.000000   \n",
       "75%    7.731435e+08     52.000000         3.000000       40.000000   \n",
       "max    8.283431e+08     73.000000         5.000000       56.000000   \n",
       "\n",
       "       Total_Relationship_Count  Months_Inactive_12_mon  \\\n",
       "count              10127.000000            10127.000000   \n",
       "mean                   3.812580                2.341167   \n",
       "std                    1.554408                1.010622   \n",
       "min                    1.000000                0.000000   \n",
       "25%                    3.000000                2.000000   \n",
       "50%                    4.000000                2.000000   \n",
       "75%                    5.000000                3.000000   \n",
       "max                    6.000000                6.000000   \n",
       "\n",
       "       Contacts_Count_12_mon  Credit_Limit  Total_Revolving_Bal  \\\n",
       "count           10127.000000  10127.000000         10127.000000   \n",
       "mean                2.455317   8631.953698          1162.814061   \n",
       "std                 1.106225   9088.776650           814.987335   \n",
       "min                 0.000000   1438.300000             0.000000   \n",
       "25%                 2.000000   2555.000000           359.000000   \n",
       "50%                 2.000000   4549.000000          1276.000000   \n",
       "75%                 3.000000  11067.500000          1784.000000   \n",
       "max                 6.000000  34516.000000          2517.000000   \n",
       "\n",
       "       Avg_Open_To_Buy  Total_Amt_Chng_Q4_Q1  Total_Trans_Amt  Total_Trans_Ct  \\\n",
       "count     10127.000000          10127.000000     10127.000000    10127.000000   \n",
       "mean       7469.139637              0.759941      4404.086304       64.858695   \n",
       "std        9090.685324              0.219207      3397.129254       23.472570   \n",
       "min           3.000000              0.000000       510.000000       10.000000   \n",
       "25%        1324.500000              0.631000      2155.500000       45.000000   \n",
       "50%        3474.000000              0.736000      3899.000000       67.000000   \n",
       "75%        9859.000000              0.859000      4741.000000       81.000000   \n",
       "max       34516.000000              3.397000     18484.000000      139.000000   \n",
       "\n",
       "       Total_Ct_Chng_Q4_Q1  Avg_Utilization_Ratio  \n",
       "count         10127.000000           10127.000000  \n",
       "mean              0.712222               0.274894  \n",
       "std               0.238086               0.275691  \n",
       "min               0.000000               0.000000  \n",
       "25%               0.582000               0.023000  \n",
       "50%               0.702000               0.176000  \n",
       "75%               0.818000               0.503000  \n",
       "max               3.714000               0.999000  "
      ]
     },
     "execution_count": 33,
     "metadata": {},
     "output_type": "execute_result"
    }
   ],
   "source": [
    "credit.describe()"
   ]
  },
  {
   "cell_type": "code",
   "execution_count": 34,
   "metadata": {
    "hidden": true
   },
   "outputs": [
    {
     "data": {
      "text/plain": [
       "Attrition_Flag\n",
       "Existing Customer    8500\n",
       "Attrited Customer    1627\n",
       "Name: count, dtype: int64"
      ]
     },
     "execution_count": 34,
     "metadata": {},
     "output_type": "execute_result"
    }
   ],
   "source": [
    "credit['Attrition_Flag'].value_counts()"
   ]
  },
  {
   "cell_type": "markdown",
   "metadata": {
    "hidden": true
   },
   "source": [
    "We work for a credit card company and are worried about customers churning (becoming attrited)."
   ]
  },
  {
   "cell_type": "markdown",
   "metadata": {
    "heading_collapsed": true,
    "hidden": true
   },
   "source": [
    "### Question 1 (Exercise!)"
   ]
  },
  {
   "cell_type": "markdown",
   "metadata": {
    "hidden": true
   },
   "source": [
    "Get the means of the numerical columns for the existing and the attrited customers separately."
   ]
  },
  {
   "cell_type": "code",
   "execution_count": 58,
   "metadata": {},
   "outputs": [
    {
     "data": {
      "text/plain": [
       "CLIENTNUM                   7.391776e+08\n",
       "Customer_Age                4.632596e+01\n",
       "Dependent_count             2.346203e+00\n",
       "Months_on_book              3.592841e+01\n",
       "Total_Relationship_Count    3.812580e+00\n",
       "Months_Inactive_12_mon      2.341167e+00\n",
       "Contacts_Count_12_mon       2.455317e+00\n",
       "Credit_Limit                8.631954e+03\n",
       "Total_Revolving_Bal         1.162814e+03\n",
       "Avg_Open_To_Buy             7.469140e+03\n",
       "Total_Amt_Chng_Q4_Q1        7.599407e-01\n",
       "Total_Trans_Amt             4.404086e+03\n",
       "Total_Trans_Ct              6.485869e+01\n",
       "Total_Ct_Chng_Q4_Q1         7.122224e-01\n",
       "Avg_Utilization_Ratio       2.748936e-01\n",
       "dtype: float64"
      ]
     },
     "execution_count": 58,
     "metadata": {},
     "output_type": "execute_result"
    }
   ],
   "source": [
    "credit.select_dtypes(include=['number']).mean()"
   ]
  },
  {
   "cell_type": "code",
   "execution_count": 35,
   "metadata": {
    "hidden": true
   },
   "outputs": [
    {
     "data": {
      "text/html": [
       "<div>\n",
       "<style scoped>\n",
       "    .dataframe tbody tr th:only-of-type {\n",
       "        vertical-align: middle;\n",
       "    }\n",
       "\n",
       "    .dataframe tbody tr th {\n",
       "        vertical-align: top;\n",
       "    }\n",
       "\n",
       "    .dataframe thead th {\n",
       "        text-align: right;\n",
       "    }\n",
       "</style>\n",
       "<table border=\"1\" class=\"dataframe\">\n",
       "  <thead>\n",
       "    <tr style=\"text-align: right;\">\n",
       "      <th></th>\n",
       "      <th>CLIENTNUM</th>\n",
       "      <th>Attrition_Flag</th>\n",
       "      <th>Customer_Age</th>\n",
       "      <th>Gender</th>\n",
       "      <th>Dependent_count</th>\n",
       "      <th>Education_Level</th>\n",
       "      <th>Marital_Status</th>\n",
       "      <th>Income_Category</th>\n",
       "      <th>Card_Category</th>\n",
       "      <th>Months_on_book</th>\n",
       "      <th>...</th>\n",
       "      <th>Months_Inactive_12_mon</th>\n",
       "      <th>Contacts_Count_12_mon</th>\n",
       "      <th>Credit_Limit</th>\n",
       "      <th>Total_Revolving_Bal</th>\n",
       "      <th>Avg_Open_To_Buy</th>\n",
       "      <th>Total_Amt_Chng_Q4_Q1</th>\n",
       "      <th>Total_Trans_Amt</th>\n",
       "      <th>Total_Trans_Ct</th>\n",
       "      <th>Total_Ct_Chng_Q4_Q1</th>\n",
       "      <th>Avg_Utilization_Ratio</th>\n",
       "    </tr>\n",
       "  </thead>\n",
       "  <tbody>\n",
       "    <tr>\n",
       "      <th>0</th>\n",
       "      <td>768805383</td>\n",
       "      <td>Existing Customer</td>\n",
       "      <td>45</td>\n",
       "      <td>M</td>\n",
       "      <td>3</td>\n",
       "      <td>High School</td>\n",
       "      <td>Married</td>\n",
       "      <td>$60K - $80K</td>\n",
       "      <td>Blue</td>\n",
       "      <td>39</td>\n",
       "      <td>...</td>\n",
       "      <td>1</td>\n",
       "      <td>3</td>\n",
       "      <td>12691.0</td>\n",
       "      <td>777</td>\n",
       "      <td>11914.0</td>\n",
       "      <td>1.335</td>\n",
       "      <td>1144</td>\n",
       "      <td>42</td>\n",
       "      <td>1.625</td>\n",
       "      <td>0.061</td>\n",
       "    </tr>\n",
       "    <tr>\n",
       "      <th>1</th>\n",
       "      <td>818770008</td>\n",
       "      <td>Existing Customer</td>\n",
       "      <td>49</td>\n",
       "      <td>F</td>\n",
       "      <td>5</td>\n",
       "      <td>Graduate</td>\n",
       "      <td>Single</td>\n",
       "      <td>Less than $40K</td>\n",
       "      <td>Blue</td>\n",
       "      <td>44</td>\n",
       "      <td>...</td>\n",
       "      <td>1</td>\n",
       "      <td>2</td>\n",
       "      <td>8256.0</td>\n",
       "      <td>864</td>\n",
       "      <td>7392.0</td>\n",
       "      <td>1.541</td>\n",
       "      <td>1291</td>\n",
       "      <td>33</td>\n",
       "      <td>3.714</td>\n",
       "      <td>0.105</td>\n",
       "    </tr>\n",
       "    <tr>\n",
       "      <th>2</th>\n",
       "      <td>713982108</td>\n",
       "      <td>Existing Customer</td>\n",
       "      <td>51</td>\n",
       "      <td>M</td>\n",
       "      <td>3</td>\n",
       "      <td>Graduate</td>\n",
       "      <td>Married</td>\n",
       "      <td>$80K - $120K</td>\n",
       "      <td>Blue</td>\n",
       "      <td>36</td>\n",
       "      <td>...</td>\n",
       "      <td>1</td>\n",
       "      <td>0</td>\n",
       "      <td>3418.0</td>\n",
       "      <td>0</td>\n",
       "      <td>3418.0</td>\n",
       "      <td>2.594</td>\n",
       "      <td>1887</td>\n",
       "      <td>20</td>\n",
       "      <td>2.333</td>\n",
       "      <td>0.000</td>\n",
       "    </tr>\n",
       "    <tr>\n",
       "      <th>3</th>\n",
       "      <td>769911858</td>\n",
       "      <td>Existing Customer</td>\n",
       "      <td>40</td>\n",
       "      <td>F</td>\n",
       "      <td>4</td>\n",
       "      <td>High School</td>\n",
       "      <td>Unknown</td>\n",
       "      <td>Less than $40K</td>\n",
       "      <td>Blue</td>\n",
       "      <td>34</td>\n",
       "      <td>...</td>\n",
       "      <td>4</td>\n",
       "      <td>1</td>\n",
       "      <td>3313.0</td>\n",
       "      <td>2517</td>\n",
       "      <td>796.0</td>\n",
       "      <td>1.405</td>\n",
       "      <td>1171</td>\n",
       "      <td>20</td>\n",
       "      <td>2.333</td>\n",
       "      <td>0.760</td>\n",
       "    </tr>\n",
       "    <tr>\n",
       "      <th>4</th>\n",
       "      <td>709106358</td>\n",
       "      <td>Existing Customer</td>\n",
       "      <td>40</td>\n",
       "      <td>M</td>\n",
       "      <td>3</td>\n",
       "      <td>Uneducated</td>\n",
       "      <td>Married</td>\n",
       "      <td>$60K - $80K</td>\n",
       "      <td>Blue</td>\n",
       "      <td>21</td>\n",
       "      <td>...</td>\n",
       "      <td>1</td>\n",
       "      <td>0</td>\n",
       "      <td>4716.0</td>\n",
       "      <td>0</td>\n",
       "      <td>4716.0</td>\n",
       "      <td>2.175</td>\n",
       "      <td>816</td>\n",
       "      <td>28</td>\n",
       "      <td>2.500</td>\n",
       "      <td>0.000</td>\n",
       "    </tr>\n",
       "    <tr>\n",
       "      <th>...</th>\n",
       "      <td>...</td>\n",
       "      <td>...</td>\n",
       "      <td>...</td>\n",
       "      <td>...</td>\n",
       "      <td>...</td>\n",
       "      <td>...</td>\n",
       "      <td>...</td>\n",
       "      <td>...</td>\n",
       "      <td>...</td>\n",
       "      <td>...</td>\n",
       "      <td>...</td>\n",
       "      <td>...</td>\n",
       "      <td>...</td>\n",
       "      <td>...</td>\n",
       "      <td>...</td>\n",
       "      <td>...</td>\n",
       "      <td>...</td>\n",
       "      <td>...</td>\n",
       "      <td>...</td>\n",
       "      <td>...</td>\n",
       "      <td>...</td>\n",
       "    </tr>\n",
       "    <tr>\n",
       "      <th>10116</th>\n",
       "      <td>714109308</td>\n",
       "      <td>Existing Customer</td>\n",
       "      <td>46</td>\n",
       "      <td>M</td>\n",
       "      <td>5</td>\n",
       "      <td>College</td>\n",
       "      <td>Single</td>\n",
       "      <td>$80K - $120K</td>\n",
       "      <td>Blue</td>\n",
       "      <td>36</td>\n",
       "      <td>...</td>\n",
       "      <td>2</td>\n",
       "      <td>3</td>\n",
       "      <td>13187.0</td>\n",
       "      <td>2241</td>\n",
       "      <td>10946.0</td>\n",
       "      <td>0.689</td>\n",
       "      <td>15354</td>\n",
       "      <td>112</td>\n",
       "      <td>0.931</td>\n",
       "      <td>0.170</td>\n",
       "    </tr>\n",
       "    <tr>\n",
       "      <th>10117</th>\n",
       "      <td>712503408</td>\n",
       "      <td>Existing Customer</td>\n",
       "      <td>57</td>\n",
       "      <td>M</td>\n",
       "      <td>2</td>\n",
       "      <td>Graduate</td>\n",
       "      <td>Married</td>\n",
       "      <td>$80K - $120K</td>\n",
       "      <td>Blue</td>\n",
       "      <td>40</td>\n",
       "      <td>...</td>\n",
       "      <td>3</td>\n",
       "      <td>4</td>\n",
       "      <td>17925.0</td>\n",
       "      <td>1909</td>\n",
       "      <td>16016.0</td>\n",
       "      <td>0.712</td>\n",
       "      <td>17498</td>\n",
       "      <td>111</td>\n",
       "      <td>0.820</td>\n",
       "      <td>0.106</td>\n",
       "    </tr>\n",
       "    <tr>\n",
       "      <th>10120</th>\n",
       "      <td>710841183</td>\n",
       "      <td>Existing Customer</td>\n",
       "      <td>54</td>\n",
       "      <td>M</td>\n",
       "      <td>1</td>\n",
       "      <td>High School</td>\n",
       "      <td>Single</td>\n",
       "      <td>$60K - $80K</td>\n",
       "      <td>Blue</td>\n",
       "      <td>34</td>\n",
       "      <td>...</td>\n",
       "      <td>2</td>\n",
       "      <td>0</td>\n",
       "      <td>13940.0</td>\n",
       "      <td>2109</td>\n",
       "      <td>11831.0</td>\n",
       "      <td>0.660</td>\n",
       "      <td>15577</td>\n",
       "      <td>114</td>\n",
       "      <td>0.754</td>\n",
       "      <td>0.151</td>\n",
       "    </tr>\n",
       "    <tr>\n",
       "      <th>10121</th>\n",
       "      <td>713899383</td>\n",
       "      <td>Existing Customer</td>\n",
       "      <td>56</td>\n",
       "      <td>F</td>\n",
       "      <td>1</td>\n",
       "      <td>Graduate</td>\n",
       "      <td>Single</td>\n",
       "      <td>Less than $40K</td>\n",
       "      <td>Blue</td>\n",
       "      <td>50</td>\n",
       "      <td>...</td>\n",
       "      <td>1</td>\n",
       "      <td>4</td>\n",
       "      <td>3688.0</td>\n",
       "      <td>606</td>\n",
       "      <td>3082.0</td>\n",
       "      <td>0.570</td>\n",
       "      <td>14596</td>\n",
       "      <td>120</td>\n",
       "      <td>0.791</td>\n",
       "      <td>0.164</td>\n",
       "    </tr>\n",
       "    <tr>\n",
       "      <th>10122</th>\n",
       "      <td>772366833</td>\n",
       "      <td>Existing Customer</td>\n",
       "      <td>50</td>\n",
       "      <td>M</td>\n",
       "      <td>2</td>\n",
       "      <td>Graduate</td>\n",
       "      <td>Single</td>\n",
       "      <td>$40K - $60K</td>\n",
       "      <td>Blue</td>\n",
       "      <td>40</td>\n",
       "      <td>...</td>\n",
       "      <td>2</td>\n",
       "      <td>3</td>\n",
       "      <td>4003.0</td>\n",
       "      <td>1851</td>\n",
       "      <td>2152.0</td>\n",
       "      <td>0.703</td>\n",
       "      <td>15476</td>\n",
       "      <td>117</td>\n",
       "      <td>0.857</td>\n",
       "      <td>0.462</td>\n",
       "    </tr>\n",
       "  </tbody>\n",
       "</table>\n",
       "<p>8500 rows × 21 columns</p>\n",
       "</div>"
      ],
      "text/plain": [
       "       CLIENTNUM     Attrition_Flag  Customer_Age Gender  Dependent_count  \\\n",
       "0      768805383  Existing Customer            45      M                3   \n",
       "1      818770008  Existing Customer            49      F                5   \n",
       "2      713982108  Existing Customer            51      M                3   \n",
       "3      769911858  Existing Customer            40      F                4   \n",
       "4      709106358  Existing Customer            40      M                3   \n",
       "...          ...                ...           ...    ...              ...   \n",
       "10116  714109308  Existing Customer            46      M                5   \n",
       "10117  712503408  Existing Customer            57      M                2   \n",
       "10120  710841183  Existing Customer            54      M                1   \n",
       "10121  713899383  Existing Customer            56      F                1   \n",
       "10122  772366833  Existing Customer            50      M                2   \n",
       "\n",
       "      Education_Level Marital_Status Income_Category Card_Category  \\\n",
       "0         High School        Married     $60K - $80K          Blue   \n",
       "1            Graduate         Single  Less than $40K          Blue   \n",
       "2            Graduate        Married    $80K - $120K          Blue   \n",
       "3         High School        Unknown  Less than $40K          Blue   \n",
       "4          Uneducated        Married     $60K - $80K          Blue   \n",
       "...               ...            ...             ...           ...   \n",
       "10116         College         Single    $80K - $120K          Blue   \n",
       "10117        Graduate        Married    $80K - $120K          Blue   \n",
       "10120     High School         Single     $60K - $80K          Blue   \n",
       "10121        Graduate         Single  Less than $40K          Blue   \n",
       "10122        Graduate         Single     $40K - $60K          Blue   \n",
       "\n",
       "       Months_on_book  ...  Months_Inactive_12_mon  Contacts_Count_12_mon  \\\n",
       "0                  39  ...                       1                      3   \n",
       "1                  44  ...                       1                      2   \n",
       "2                  36  ...                       1                      0   \n",
       "3                  34  ...                       4                      1   \n",
       "4                  21  ...                       1                      0   \n",
       "...               ...  ...                     ...                    ...   \n",
       "10116              36  ...                       2                      3   \n",
       "10117              40  ...                       3                      4   \n",
       "10120              34  ...                       2                      0   \n",
       "10121              50  ...                       1                      4   \n",
       "10122              40  ...                       2                      3   \n",
       "\n",
       "       Credit_Limit  Total_Revolving_Bal  Avg_Open_To_Buy  \\\n",
       "0           12691.0                  777          11914.0   \n",
       "1            8256.0                  864           7392.0   \n",
       "2            3418.0                    0           3418.0   \n",
       "3            3313.0                 2517            796.0   \n",
       "4            4716.0                    0           4716.0   \n",
       "...             ...                  ...              ...   \n",
       "10116       13187.0                 2241          10946.0   \n",
       "10117       17925.0                 1909          16016.0   \n",
       "10120       13940.0                 2109          11831.0   \n",
       "10121        3688.0                  606           3082.0   \n",
       "10122        4003.0                 1851           2152.0   \n",
       "\n",
       "       Total_Amt_Chng_Q4_Q1  Total_Trans_Amt  Total_Trans_Ct  \\\n",
       "0                     1.335             1144              42   \n",
       "1                     1.541             1291              33   \n",
       "2                     2.594             1887              20   \n",
       "3                     1.405             1171              20   \n",
       "4                     2.175              816              28   \n",
       "...                     ...              ...             ...   \n",
       "10116                 0.689            15354             112   \n",
       "10117                 0.712            17498             111   \n",
       "10120                 0.660            15577             114   \n",
       "10121                 0.570            14596             120   \n",
       "10122                 0.703            15476             117   \n",
       "\n",
       "       Total_Ct_Chng_Q4_Q1  Avg_Utilization_Ratio  \n",
       "0                    1.625                  0.061  \n",
       "1                    3.714                  0.105  \n",
       "2                    2.333                  0.000  \n",
       "3                    2.333                  0.760  \n",
       "4                    2.500                  0.000  \n",
       "...                    ...                    ...  \n",
       "10116                0.931                  0.170  \n",
       "10117                0.820                  0.106  \n",
       "10120                0.754                  0.151  \n",
       "10121                0.791                  0.164  \n",
       "10122                0.857                  0.462  \n",
       "\n",
       "[8500 rows x 21 columns]"
      ]
     },
     "execution_count": 35,
     "metadata": {},
     "output_type": "execute_result"
    }
   ],
   "source": [
    "Existing = credit[(credit.Attrition_Flag == 'Existing Customer')]\n",
    "Existing"
   ]
  },
  {
   "cell_type": "code",
   "execution_count": 54,
   "metadata": {},
   "outputs": [
    {
     "data": {
      "text/html": [
       "<div>\n",
       "<style scoped>\n",
       "    .dataframe tbody tr th:only-of-type {\n",
       "        vertical-align: middle;\n",
       "    }\n",
       "\n",
       "    .dataframe tbody tr th {\n",
       "        vertical-align: top;\n",
       "    }\n",
       "\n",
       "    .dataframe thead th {\n",
       "        text-align: right;\n",
       "    }\n",
       "</style>\n",
       "<table border=\"1\" class=\"dataframe\">\n",
       "  <thead>\n",
       "    <tr style=\"text-align: right;\">\n",
       "      <th></th>\n",
       "      <th>CLIENTNUM</th>\n",
       "      <th>Customer_Age</th>\n",
       "      <th>Dependent_count</th>\n",
       "      <th>Months_on_book</th>\n",
       "      <th>Total_Relationship_Count</th>\n",
       "      <th>Months_Inactive_12_mon</th>\n",
       "      <th>Contacts_Count_12_mon</th>\n",
       "      <th>Credit_Limit</th>\n",
       "      <th>Total_Revolving_Bal</th>\n",
       "      <th>Avg_Open_To_Buy</th>\n",
       "      <th>Total_Amt_Chng_Q4_Q1</th>\n",
       "      <th>Total_Trans_Amt</th>\n",
       "      <th>Total_Trans_Ct</th>\n",
       "      <th>Total_Ct_Chng_Q4_Q1</th>\n",
       "      <th>Avg_Utilization_Ratio</th>\n",
       "    </tr>\n",
       "  </thead>\n",
       "  <tbody>\n",
       "    <tr>\n",
       "      <th>count</th>\n",
       "      <td>8.500000e+03</td>\n",
       "      <td>8500.000000</td>\n",
       "      <td>8500.000000</td>\n",
       "      <td>8500.000000</td>\n",
       "      <td>8500.000000</td>\n",
       "      <td>8500.000000</td>\n",
       "      <td>8500.000000</td>\n",
       "      <td>8500.000000</td>\n",
       "      <td>8500.000000</td>\n",
       "      <td>8500.000000</td>\n",
       "      <td>8500.000000</td>\n",
       "      <td>8500.000000</td>\n",
       "      <td>8500.000000</td>\n",
       "      <td>8500.000000</td>\n",
       "      <td>8500.000000</td>\n",
       "    </tr>\n",
       "    <tr>\n",
       "      <th>mean</th>\n",
       "      <td>7.399272e+08</td>\n",
       "      <td>46.262118</td>\n",
       "      <td>2.335412</td>\n",
       "      <td>35.880588</td>\n",
       "      <td>3.914588</td>\n",
       "      <td>2.273765</td>\n",
       "      <td>2.356353</td>\n",
       "      <td>8726.877518</td>\n",
       "      <td>1256.604118</td>\n",
       "      <td>7470.273400</td>\n",
       "      <td>0.772510</td>\n",
       "      <td>4654.655882</td>\n",
       "      <td>68.672588</td>\n",
       "      <td>0.742434</td>\n",
       "      <td>0.296412</td>\n",
       "    </tr>\n",
       "    <tr>\n",
       "      <th>std</th>\n",
       "      <td>3.710723e+07</td>\n",
       "      <td>8.081157</td>\n",
       "      <td>1.303229</td>\n",
       "      <td>8.021810</td>\n",
       "      <td>1.528949</td>\n",
       "      <td>1.016741</td>\n",
       "      <td>1.081436</td>\n",
       "      <td>9084.969807</td>\n",
       "      <td>757.745354</td>\n",
       "      <td>9087.671862</td>\n",
       "      <td>0.217783</td>\n",
       "      <td>3512.772635</td>\n",
       "      <td>22.919011</td>\n",
       "      <td>0.228054</td>\n",
       "      <td>0.272568</td>\n",
       "    </tr>\n",
       "    <tr>\n",
       "      <th>min</th>\n",
       "      <td>7.080821e+08</td>\n",
       "      <td>26.000000</td>\n",
       "      <td>0.000000</td>\n",
       "      <td>13.000000</td>\n",
       "      <td>1.000000</td>\n",
       "      <td>0.000000</td>\n",
       "      <td>0.000000</td>\n",
       "      <td>1438.300000</td>\n",
       "      <td>0.000000</td>\n",
       "      <td>15.000000</td>\n",
       "      <td>0.256000</td>\n",
       "      <td>816.000000</td>\n",
       "      <td>11.000000</td>\n",
       "      <td>0.028000</td>\n",
       "      <td>0.000000</td>\n",
       "    </tr>\n",
       "    <tr>\n",
       "      <th>25%</th>\n",
       "      <td>7.132197e+08</td>\n",
       "      <td>41.000000</td>\n",
       "      <td>1.000000</td>\n",
       "      <td>31.000000</td>\n",
       "      <td>3.000000</td>\n",
       "      <td>1.000000</td>\n",
       "      <td>2.000000</td>\n",
       "      <td>2602.000000</td>\n",
       "      <td>800.000000</td>\n",
       "      <td>1184.500000</td>\n",
       "      <td>0.643000</td>\n",
       "      <td>2384.750000</td>\n",
       "      <td>54.000000</td>\n",
       "      <td>0.617000</td>\n",
       "      <td>0.055000</td>\n",
       "    </tr>\n",
       "    <tr>\n",
       "      <th>50%</th>\n",
       "      <td>7.181643e+08</td>\n",
       "      <td>46.000000</td>\n",
       "      <td>2.000000</td>\n",
       "      <td>36.000000</td>\n",
       "      <td>4.000000</td>\n",
       "      <td>2.000000</td>\n",
       "      <td>2.000000</td>\n",
       "      <td>4643.500000</td>\n",
       "      <td>1364.000000</td>\n",
       "      <td>3469.500000</td>\n",
       "      <td>0.743000</td>\n",
       "      <td>4100.000000</td>\n",
       "      <td>71.000000</td>\n",
       "      <td>0.721000</td>\n",
       "      <td>0.211000</td>\n",
       "    </tr>\n",
       "    <tr>\n",
       "      <th>75%</th>\n",
       "      <td>7.783415e+08</td>\n",
       "      <td>52.000000</td>\n",
       "      <td>3.000000</td>\n",
       "      <td>40.000000</td>\n",
       "      <td>5.000000</td>\n",
       "      <td>3.000000</td>\n",
       "      <td>3.000000</td>\n",
       "      <td>11252.750000</td>\n",
       "      <td>1807.000000</td>\n",
       "      <td>9978.250000</td>\n",
       "      <td>0.860000</td>\n",
       "      <td>4781.250000</td>\n",
       "      <td>82.000000</td>\n",
       "      <td>0.833000</td>\n",
       "      <td>0.529250</td>\n",
       "    </tr>\n",
       "    <tr>\n",
       "      <th>max</th>\n",
       "      <td>8.283431e+08</td>\n",
       "      <td>73.000000</td>\n",
       "      <td>5.000000</td>\n",
       "      <td>56.000000</td>\n",
       "      <td>6.000000</td>\n",
       "      <td>6.000000</td>\n",
       "      <td>5.000000</td>\n",
       "      <td>34516.000000</td>\n",
       "      <td>2517.000000</td>\n",
       "      <td>34516.000000</td>\n",
       "      <td>3.397000</td>\n",
       "      <td>18484.000000</td>\n",
       "      <td>139.000000</td>\n",
       "      <td>3.714000</td>\n",
       "      <td>0.994000</td>\n",
       "    </tr>\n",
       "  </tbody>\n",
       "</table>\n",
       "</div>"
      ],
      "text/plain": [
       "          CLIENTNUM  Customer_Age  Dependent_count  Months_on_book  \\\n",
       "count  8.500000e+03   8500.000000      8500.000000     8500.000000   \n",
       "mean   7.399272e+08     46.262118         2.335412       35.880588   \n",
       "std    3.710723e+07      8.081157         1.303229        8.021810   \n",
       "min    7.080821e+08     26.000000         0.000000       13.000000   \n",
       "25%    7.132197e+08     41.000000         1.000000       31.000000   \n",
       "50%    7.181643e+08     46.000000         2.000000       36.000000   \n",
       "75%    7.783415e+08     52.000000         3.000000       40.000000   \n",
       "max    8.283431e+08     73.000000         5.000000       56.000000   \n",
       "\n",
       "       Total_Relationship_Count  Months_Inactive_12_mon  \\\n",
       "count               8500.000000             8500.000000   \n",
       "mean                   3.914588                2.273765   \n",
       "std                    1.528949                1.016741   \n",
       "min                    1.000000                0.000000   \n",
       "25%                    3.000000                1.000000   \n",
       "50%                    4.000000                2.000000   \n",
       "75%                    5.000000                3.000000   \n",
       "max                    6.000000                6.000000   \n",
       "\n",
       "       Contacts_Count_12_mon  Credit_Limit  Total_Revolving_Bal  \\\n",
       "count            8500.000000   8500.000000          8500.000000   \n",
       "mean                2.356353   8726.877518          1256.604118   \n",
       "std                 1.081436   9084.969807           757.745354   \n",
       "min                 0.000000   1438.300000             0.000000   \n",
       "25%                 2.000000   2602.000000           800.000000   \n",
       "50%                 2.000000   4643.500000          1364.000000   \n",
       "75%                 3.000000  11252.750000          1807.000000   \n",
       "max                 5.000000  34516.000000          2517.000000   \n",
       "\n",
       "       Avg_Open_To_Buy  Total_Amt_Chng_Q4_Q1  Total_Trans_Amt  Total_Trans_Ct  \\\n",
       "count      8500.000000           8500.000000      8500.000000     8500.000000   \n",
       "mean       7470.273400              0.772510      4654.655882       68.672588   \n",
       "std        9087.671862              0.217783      3512.772635       22.919011   \n",
       "min          15.000000              0.256000       816.000000       11.000000   \n",
       "25%        1184.500000              0.643000      2384.750000       54.000000   \n",
       "50%        3469.500000              0.743000      4100.000000       71.000000   \n",
       "75%        9978.250000              0.860000      4781.250000       82.000000   \n",
       "max       34516.000000              3.397000     18484.000000      139.000000   \n",
       "\n",
       "       Total_Ct_Chng_Q4_Q1  Avg_Utilization_Ratio  \n",
       "count          8500.000000            8500.000000  \n",
       "mean              0.742434               0.296412  \n",
       "std               0.228054               0.272568  \n",
       "min               0.028000               0.000000  \n",
       "25%               0.617000               0.055000  \n",
       "50%               0.721000               0.211000  \n",
       "75%               0.833000               0.529250  \n",
       "max               3.714000               0.994000  "
      ]
     },
     "execution_count": 54,
     "metadata": {},
     "output_type": "execute_result"
    }
   ],
   "source": [
    "# This will select only the numeric columns from your DataFrame\n",
    "Existing_numbers = Existing.select_dtypes(include=['number'])\n",
    "Existing_numbers.describe()"
   ]
  },
  {
   "cell_type": "code",
   "execution_count": 37,
   "metadata": {},
   "outputs": [
    {
     "data": {
      "text/html": [
       "<div>\n",
       "<style scoped>\n",
       "    .dataframe tbody tr th:only-of-type {\n",
       "        vertical-align: middle;\n",
       "    }\n",
       "\n",
       "    .dataframe tbody tr th {\n",
       "        vertical-align: top;\n",
       "    }\n",
       "\n",
       "    .dataframe thead th {\n",
       "        text-align: right;\n",
       "    }\n",
       "</style>\n",
       "<table border=\"1\" class=\"dataframe\">\n",
       "  <thead>\n",
       "    <tr style=\"text-align: right;\">\n",
       "      <th></th>\n",
       "      <th>CLIENTNUM</th>\n",
       "      <th>Attrition_Flag</th>\n",
       "      <th>Customer_Age</th>\n",
       "      <th>Gender</th>\n",
       "      <th>Dependent_count</th>\n",
       "      <th>Education_Level</th>\n",
       "      <th>Marital_Status</th>\n",
       "      <th>Income_Category</th>\n",
       "      <th>Card_Category</th>\n",
       "      <th>Months_on_book</th>\n",
       "      <th>...</th>\n",
       "      <th>Months_Inactive_12_mon</th>\n",
       "      <th>Contacts_Count_12_mon</th>\n",
       "      <th>Credit_Limit</th>\n",
       "      <th>Total_Revolving_Bal</th>\n",
       "      <th>Avg_Open_To_Buy</th>\n",
       "      <th>Total_Amt_Chng_Q4_Q1</th>\n",
       "      <th>Total_Trans_Amt</th>\n",
       "      <th>Total_Trans_Ct</th>\n",
       "      <th>Total_Ct_Chng_Q4_Q1</th>\n",
       "      <th>Avg_Utilization_Ratio</th>\n",
       "    </tr>\n",
       "  </thead>\n",
       "  <tbody>\n",
       "    <tr>\n",
       "      <th>21</th>\n",
       "      <td>708508758</td>\n",
       "      <td>Attrited Customer</td>\n",
       "      <td>62</td>\n",
       "      <td>F</td>\n",
       "      <td>0</td>\n",
       "      <td>Graduate</td>\n",
       "      <td>Married</td>\n",
       "      <td>Less than $40K</td>\n",
       "      <td>Blue</td>\n",
       "      <td>49</td>\n",
       "      <td>...</td>\n",
       "      <td>3</td>\n",
       "      <td>3</td>\n",
       "      <td>1438.3</td>\n",
       "      <td>0</td>\n",
       "      <td>1438.3</td>\n",
       "      <td>1.047</td>\n",
       "      <td>692</td>\n",
       "      <td>16</td>\n",
       "      <td>0.600</td>\n",
       "      <td>0.000</td>\n",
       "    </tr>\n",
       "    <tr>\n",
       "      <th>39</th>\n",
       "      <td>708300483</td>\n",
       "      <td>Attrited Customer</td>\n",
       "      <td>66</td>\n",
       "      <td>F</td>\n",
       "      <td>0</td>\n",
       "      <td>Doctorate</td>\n",
       "      <td>Married</td>\n",
       "      <td>Unknown</td>\n",
       "      <td>Blue</td>\n",
       "      <td>56</td>\n",
       "      <td>...</td>\n",
       "      <td>4</td>\n",
       "      <td>3</td>\n",
       "      <td>7882.0</td>\n",
       "      <td>605</td>\n",
       "      <td>7277.0</td>\n",
       "      <td>1.052</td>\n",
       "      <td>704</td>\n",
       "      <td>16</td>\n",
       "      <td>0.143</td>\n",
       "      <td>0.077</td>\n",
       "    </tr>\n",
       "    <tr>\n",
       "      <th>51</th>\n",
       "      <td>779471883</td>\n",
       "      <td>Attrited Customer</td>\n",
       "      <td>54</td>\n",
       "      <td>F</td>\n",
       "      <td>1</td>\n",
       "      <td>Graduate</td>\n",
       "      <td>Married</td>\n",
       "      <td>Less than $40K</td>\n",
       "      <td>Blue</td>\n",
       "      <td>40</td>\n",
       "      <td>...</td>\n",
       "      <td>3</td>\n",
       "      <td>1</td>\n",
       "      <td>1438.3</td>\n",
       "      <td>808</td>\n",
       "      <td>630.3</td>\n",
       "      <td>0.997</td>\n",
       "      <td>705</td>\n",
       "      <td>19</td>\n",
       "      <td>0.900</td>\n",
       "      <td>0.562</td>\n",
       "    </tr>\n",
       "    <tr>\n",
       "      <th>54</th>\n",
       "      <td>714374133</td>\n",
       "      <td>Attrited Customer</td>\n",
       "      <td>56</td>\n",
       "      <td>M</td>\n",
       "      <td>2</td>\n",
       "      <td>Graduate</td>\n",
       "      <td>Married</td>\n",
       "      <td>$120K +</td>\n",
       "      <td>Blue</td>\n",
       "      <td>36</td>\n",
       "      <td>...</td>\n",
       "      <td>3</td>\n",
       "      <td>3</td>\n",
       "      <td>15769.0</td>\n",
       "      <td>0</td>\n",
       "      <td>15769.0</td>\n",
       "      <td>1.041</td>\n",
       "      <td>602</td>\n",
       "      <td>15</td>\n",
       "      <td>0.364</td>\n",
       "      <td>0.000</td>\n",
       "    </tr>\n",
       "    <tr>\n",
       "      <th>61</th>\n",
       "      <td>712030833</td>\n",
       "      <td>Attrited Customer</td>\n",
       "      <td>48</td>\n",
       "      <td>M</td>\n",
       "      <td>2</td>\n",
       "      <td>Graduate</td>\n",
       "      <td>Married</td>\n",
       "      <td>$60K - $80K</td>\n",
       "      <td>Silver</td>\n",
       "      <td>35</td>\n",
       "      <td>...</td>\n",
       "      <td>4</td>\n",
       "      <td>4</td>\n",
       "      <td>34516.0</td>\n",
       "      <td>0</td>\n",
       "      <td>34516.0</td>\n",
       "      <td>0.763</td>\n",
       "      <td>691</td>\n",
       "      <td>15</td>\n",
       "      <td>0.500</td>\n",
       "      <td>0.000</td>\n",
       "    </tr>\n",
       "    <tr>\n",
       "      <th>...</th>\n",
       "      <td>...</td>\n",
       "      <td>...</td>\n",
       "      <td>...</td>\n",
       "      <td>...</td>\n",
       "      <td>...</td>\n",
       "      <td>...</td>\n",
       "      <td>...</td>\n",
       "      <td>...</td>\n",
       "      <td>...</td>\n",
       "      <td>...</td>\n",
       "      <td>...</td>\n",
       "      <td>...</td>\n",
       "      <td>...</td>\n",
       "      <td>...</td>\n",
       "      <td>...</td>\n",
       "      <td>...</td>\n",
       "      <td>...</td>\n",
       "      <td>...</td>\n",
       "      <td>...</td>\n",
       "      <td>...</td>\n",
       "      <td>...</td>\n",
       "    </tr>\n",
       "    <tr>\n",
       "      <th>10119</th>\n",
       "      <td>716893683</td>\n",
       "      <td>Attrited Customer</td>\n",
       "      <td>55</td>\n",
       "      <td>F</td>\n",
       "      <td>3</td>\n",
       "      <td>Uneducated</td>\n",
       "      <td>Single</td>\n",
       "      <td>Unknown</td>\n",
       "      <td>Blue</td>\n",
       "      <td>47</td>\n",
       "      <td>...</td>\n",
       "      <td>3</td>\n",
       "      <td>3</td>\n",
       "      <td>14657.0</td>\n",
       "      <td>2517</td>\n",
       "      <td>12140.0</td>\n",
       "      <td>0.166</td>\n",
       "      <td>6009</td>\n",
       "      <td>53</td>\n",
       "      <td>0.514</td>\n",
       "      <td>0.172</td>\n",
       "    </tr>\n",
       "    <tr>\n",
       "      <th>10123</th>\n",
       "      <td>710638233</td>\n",
       "      <td>Attrited Customer</td>\n",
       "      <td>41</td>\n",
       "      <td>M</td>\n",
       "      <td>2</td>\n",
       "      <td>Unknown</td>\n",
       "      <td>Divorced</td>\n",
       "      <td>$40K - $60K</td>\n",
       "      <td>Blue</td>\n",
       "      <td>25</td>\n",
       "      <td>...</td>\n",
       "      <td>2</td>\n",
       "      <td>3</td>\n",
       "      <td>4277.0</td>\n",
       "      <td>2186</td>\n",
       "      <td>2091.0</td>\n",
       "      <td>0.804</td>\n",
       "      <td>8764</td>\n",
       "      <td>69</td>\n",
       "      <td>0.683</td>\n",
       "      <td>0.511</td>\n",
       "    </tr>\n",
       "    <tr>\n",
       "      <th>10124</th>\n",
       "      <td>716506083</td>\n",
       "      <td>Attrited Customer</td>\n",
       "      <td>44</td>\n",
       "      <td>F</td>\n",
       "      <td>1</td>\n",
       "      <td>High School</td>\n",
       "      <td>Married</td>\n",
       "      <td>Less than $40K</td>\n",
       "      <td>Blue</td>\n",
       "      <td>36</td>\n",
       "      <td>...</td>\n",
       "      <td>3</td>\n",
       "      <td>4</td>\n",
       "      <td>5409.0</td>\n",
       "      <td>0</td>\n",
       "      <td>5409.0</td>\n",
       "      <td>0.819</td>\n",
       "      <td>10291</td>\n",
       "      <td>60</td>\n",
       "      <td>0.818</td>\n",
       "      <td>0.000</td>\n",
       "    </tr>\n",
       "    <tr>\n",
       "      <th>10125</th>\n",
       "      <td>717406983</td>\n",
       "      <td>Attrited Customer</td>\n",
       "      <td>30</td>\n",
       "      <td>M</td>\n",
       "      <td>2</td>\n",
       "      <td>Graduate</td>\n",
       "      <td>Unknown</td>\n",
       "      <td>$40K - $60K</td>\n",
       "      <td>Blue</td>\n",
       "      <td>36</td>\n",
       "      <td>...</td>\n",
       "      <td>3</td>\n",
       "      <td>3</td>\n",
       "      <td>5281.0</td>\n",
       "      <td>0</td>\n",
       "      <td>5281.0</td>\n",
       "      <td>0.535</td>\n",
       "      <td>8395</td>\n",
       "      <td>62</td>\n",
       "      <td>0.722</td>\n",
       "      <td>0.000</td>\n",
       "    </tr>\n",
       "    <tr>\n",
       "      <th>10126</th>\n",
       "      <td>714337233</td>\n",
       "      <td>Attrited Customer</td>\n",
       "      <td>43</td>\n",
       "      <td>F</td>\n",
       "      <td>2</td>\n",
       "      <td>Graduate</td>\n",
       "      <td>Married</td>\n",
       "      <td>Less than $40K</td>\n",
       "      <td>Silver</td>\n",
       "      <td>25</td>\n",
       "      <td>...</td>\n",
       "      <td>2</td>\n",
       "      <td>4</td>\n",
       "      <td>10388.0</td>\n",
       "      <td>1961</td>\n",
       "      <td>8427.0</td>\n",
       "      <td>0.703</td>\n",
       "      <td>10294</td>\n",
       "      <td>61</td>\n",
       "      <td>0.649</td>\n",
       "      <td>0.189</td>\n",
       "    </tr>\n",
       "  </tbody>\n",
       "</table>\n",
       "<p>1627 rows × 21 columns</p>\n",
       "</div>"
      ],
      "text/plain": [
       "       CLIENTNUM     Attrition_Flag  Customer_Age Gender  Dependent_count  \\\n",
       "21     708508758  Attrited Customer            62      F                0   \n",
       "39     708300483  Attrited Customer            66      F                0   \n",
       "51     779471883  Attrited Customer            54      F                1   \n",
       "54     714374133  Attrited Customer            56      M                2   \n",
       "61     712030833  Attrited Customer            48      M                2   \n",
       "...          ...                ...           ...    ...              ...   \n",
       "10119  716893683  Attrited Customer            55      F                3   \n",
       "10123  710638233  Attrited Customer            41      M                2   \n",
       "10124  716506083  Attrited Customer            44      F                1   \n",
       "10125  717406983  Attrited Customer            30      M                2   \n",
       "10126  714337233  Attrited Customer            43      F                2   \n",
       "\n",
       "      Education_Level Marital_Status Income_Category Card_Category  \\\n",
       "21           Graduate        Married  Less than $40K          Blue   \n",
       "39          Doctorate        Married         Unknown          Blue   \n",
       "51           Graduate        Married  Less than $40K          Blue   \n",
       "54           Graduate        Married         $120K +          Blue   \n",
       "61           Graduate        Married     $60K - $80K        Silver   \n",
       "...               ...            ...             ...           ...   \n",
       "10119      Uneducated         Single         Unknown          Blue   \n",
       "10123         Unknown       Divorced     $40K - $60K          Blue   \n",
       "10124     High School        Married  Less than $40K          Blue   \n",
       "10125        Graduate        Unknown     $40K - $60K          Blue   \n",
       "10126        Graduate        Married  Less than $40K        Silver   \n",
       "\n",
       "       Months_on_book  ...  Months_Inactive_12_mon  Contacts_Count_12_mon  \\\n",
       "21                 49  ...                       3                      3   \n",
       "39                 56  ...                       4                      3   \n",
       "51                 40  ...                       3                      1   \n",
       "54                 36  ...                       3                      3   \n",
       "61                 35  ...                       4                      4   \n",
       "...               ...  ...                     ...                    ...   \n",
       "10119              47  ...                       3                      3   \n",
       "10123              25  ...                       2                      3   \n",
       "10124              36  ...                       3                      4   \n",
       "10125              36  ...                       3                      3   \n",
       "10126              25  ...                       2                      4   \n",
       "\n",
       "       Credit_Limit  Total_Revolving_Bal  Avg_Open_To_Buy  \\\n",
       "21           1438.3                    0           1438.3   \n",
       "39           7882.0                  605           7277.0   \n",
       "51           1438.3                  808            630.3   \n",
       "54          15769.0                    0          15769.0   \n",
       "61          34516.0                    0          34516.0   \n",
       "...             ...                  ...              ...   \n",
       "10119       14657.0                 2517          12140.0   \n",
       "10123        4277.0                 2186           2091.0   \n",
       "10124        5409.0                    0           5409.0   \n",
       "10125        5281.0                    0           5281.0   \n",
       "10126       10388.0                 1961           8427.0   \n",
       "\n",
       "       Total_Amt_Chng_Q4_Q1  Total_Trans_Amt  Total_Trans_Ct  \\\n",
       "21                    1.047              692              16   \n",
       "39                    1.052              704              16   \n",
       "51                    0.997              705              19   \n",
       "54                    1.041              602              15   \n",
       "61                    0.763              691              15   \n",
       "...                     ...              ...             ...   \n",
       "10119                 0.166             6009              53   \n",
       "10123                 0.804             8764              69   \n",
       "10124                 0.819            10291              60   \n",
       "10125                 0.535             8395              62   \n",
       "10126                 0.703            10294              61   \n",
       "\n",
       "       Total_Ct_Chng_Q4_Q1  Avg_Utilization_Ratio  \n",
       "21                   0.600                  0.000  \n",
       "39                   0.143                  0.077  \n",
       "51                   0.900                  0.562  \n",
       "54                   0.364                  0.000  \n",
       "61                   0.500                  0.000  \n",
       "...                    ...                    ...  \n",
       "10119                0.514                  0.172  \n",
       "10123                0.683                  0.511  \n",
       "10124                0.818                  0.000  \n",
       "10125                0.722                  0.000  \n",
       "10126                0.649                  0.189  \n",
       "\n",
       "[1627 rows x 21 columns]"
      ]
     },
     "execution_count": 37,
     "metadata": {},
     "output_type": "execute_result"
    }
   ],
   "source": [
    "Attriteds = credit[(credit.Attrition_Flag == 'Attrited Customer')]\n",
    "Attriteds"
   ]
  },
  {
   "cell_type": "code",
   "execution_count": 47,
   "metadata": {},
   "outputs": [
    {
     "data": {
      "text/html": [
       "<div>\n",
       "<style scoped>\n",
       "    .dataframe tbody tr th:only-of-type {\n",
       "        vertical-align: middle;\n",
       "    }\n",
       "\n",
       "    .dataframe tbody tr th {\n",
       "        vertical-align: top;\n",
       "    }\n",
       "\n",
       "    .dataframe thead th {\n",
       "        text-align: right;\n",
       "    }\n",
       "</style>\n",
       "<table border=\"1\" class=\"dataframe\">\n",
       "  <thead>\n",
       "    <tr style=\"text-align: right;\">\n",
       "      <th></th>\n",
       "      <th>CLIENTNUM</th>\n",
       "      <th>Customer_Age</th>\n",
       "      <th>Dependent_count</th>\n",
       "      <th>Months_on_book</th>\n",
       "      <th>Total_Relationship_Count</th>\n",
       "      <th>Months_Inactive_12_mon</th>\n",
       "      <th>Contacts_Count_12_mon</th>\n",
       "      <th>Credit_Limit</th>\n",
       "      <th>Total_Revolving_Bal</th>\n",
       "      <th>Avg_Open_To_Buy</th>\n",
       "      <th>Total_Amt_Chng_Q4_Q1</th>\n",
       "      <th>Total_Trans_Amt</th>\n",
       "      <th>Total_Trans_Ct</th>\n",
       "      <th>Total_Ct_Chng_Q4_Q1</th>\n",
       "      <th>Avg_Utilization_Ratio</th>\n",
       "    </tr>\n",
       "  </thead>\n",
       "  <tbody>\n",
       "    <tr>\n",
       "      <th>count</th>\n",
       "      <td>1.627000e+03</td>\n",
       "      <td>1627.000000</td>\n",
       "      <td>1627.000000</td>\n",
       "      <td>1627.000000</td>\n",
       "      <td>1627.000000</td>\n",
       "      <td>1627.000000</td>\n",
       "      <td>1627.000000</td>\n",
       "      <td>1627.000000</td>\n",
       "      <td>1627.000000</td>\n",
       "      <td>1627.000000</td>\n",
       "      <td>1627.000000</td>\n",
       "      <td>1627.000000</td>\n",
       "      <td>1627.000000</td>\n",
       "      <td>1627.000000</td>\n",
       "      <td>1627.000000</td>\n",
       "    </tr>\n",
       "    <tr>\n",
       "      <th>mean</th>\n",
       "      <td>7.352614e+08</td>\n",
       "      <td>46.659496</td>\n",
       "      <td>2.402581</td>\n",
       "      <td>36.178242</td>\n",
       "      <td>3.279656</td>\n",
       "      <td>2.693301</td>\n",
       "      <td>2.972342</td>\n",
       "      <td>8136.039459</td>\n",
       "      <td>672.822987</td>\n",
       "      <td>7463.216472</td>\n",
       "      <td>0.694277</td>\n",
       "      <td>3095.025814</td>\n",
       "      <td>44.933620</td>\n",
       "      <td>0.554386</td>\n",
       "      <td>0.162475</td>\n",
       "    </tr>\n",
       "    <tr>\n",
       "      <th>std</th>\n",
       "      <td>3.557725e+07</td>\n",
       "      <td>7.665652</td>\n",
       "      <td>1.275010</td>\n",
       "      <td>7.796548</td>\n",
       "      <td>1.577782</td>\n",
       "      <td>0.899623</td>\n",
       "      <td>1.090537</td>\n",
       "      <td>9095.334105</td>\n",
       "      <td>921.385582</td>\n",
       "      <td>9109.208129</td>\n",
       "      <td>0.214924</td>\n",
       "      <td>2308.227629</td>\n",
       "      <td>14.568429</td>\n",
       "      <td>0.226854</td>\n",
       "      <td>0.264458</td>\n",
       "    </tr>\n",
       "    <tr>\n",
       "      <th>min</th>\n",
       "      <td>7.080833e+08</td>\n",
       "      <td>26.000000</td>\n",
       "      <td>0.000000</td>\n",
       "      <td>13.000000</td>\n",
       "      <td>1.000000</td>\n",
       "      <td>0.000000</td>\n",
       "      <td>0.000000</td>\n",
       "      <td>1438.300000</td>\n",
       "      <td>0.000000</td>\n",
       "      <td>3.000000</td>\n",
       "      <td>0.000000</td>\n",
       "      <td>510.000000</td>\n",
       "      <td>10.000000</td>\n",
       "      <td>0.000000</td>\n",
       "      <td>0.000000</td>\n",
       "    </tr>\n",
       "    <tr>\n",
       "      <th>25%</th>\n",
       "      <td>7.123713e+08</td>\n",
       "      <td>41.000000</td>\n",
       "      <td>2.000000</td>\n",
       "      <td>32.000000</td>\n",
       "      <td>2.000000</td>\n",
       "      <td>2.000000</td>\n",
       "      <td>2.000000</td>\n",
       "      <td>2114.000000</td>\n",
       "      <td>0.000000</td>\n",
       "      <td>1587.000000</td>\n",
       "      <td>0.544500</td>\n",
       "      <td>1903.500000</td>\n",
       "      <td>37.000000</td>\n",
       "      <td>0.400000</td>\n",
       "      <td>0.000000</td>\n",
       "    </tr>\n",
       "    <tr>\n",
       "      <th>50%</th>\n",
       "      <td>7.165644e+08</td>\n",
       "      <td>47.000000</td>\n",
       "      <td>2.000000</td>\n",
       "      <td>36.000000</td>\n",
       "      <td>3.000000</td>\n",
       "      <td>3.000000</td>\n",
       "      <td>3.000000</td>\n",
       "      <td>4178.000000</td>\n",
       "      <td>0.000000</td>\n",
       "      <td>3488.000000</td>\n",
       "      <td>0.701000</td>\n",
       "      <td>2329.000000</td>\n",
       "      <td>43.000000</td>\n",
       "      <td>0.531000</td>\n",
       "      <td>0.000000</td>\n",
       "    </tr>\n",
       "    <tr>\n",
       "      <th>75%</th>\n",
       "      <td>7.683737e+08</td>\n",
       "      <td>52.000000</td>\n",
       "      <td>3.000000</td>\n",
       "      <td>40.000000</td>\n",
       "      <td>5.000000</td>\n",
       "      <td>3.000000</td>\n",
       "      <td>4.000000</td>\n",
       "      <td>9933.500000</td>\n",
       "      <td>1303.500000</td>\n",
       "      <td>9257.500000</td>\n",
       "      <td>0.856000</td>\n",
       "      <td>2772.000000</td>\n",
       "      <td>51.000000</td>\n",
       "      <td>0.692000</td>\n",
       "      <td>0.231000</td>\n",
       "    </tr>\n",
       "    <tr>\n",
       "      <th>max</th>\n",
       "      <td>8.282949e+08</td>\n",
       "      <td>68.000000</td>\n",
       "      <td>5.000000</td>\n",
       "      <td>56.000000</td>\n",
       "      <td>6.000000</td>\n",
       "      <td>6.000000</td>\n",
       "      <td>6.000000</td>\n",
       "      <td>34516.000000</td>\n",
       "      <td>2517.000000</td>\n",
       "      <td>34516.000000</td>\n",
       "      <td>1.492000</td>\n",
       "      <td>10583.000000</td>\n",
       "      <td>94.000000</td>\n",
       "      <td>2.500000</td>\n",
       "      <td>0.999000</td>\n",
       "    </tr>\n",
       "  </tbody>\n",
       "</table>\n",
       "</div>"
      ],
      "text/plain": [
       "          CLIENTNUM  Customer_Age  Dependent_count  Months_on_book  \\\n",
       "count  1.627000e+03   1627.000000      1627.000000     1627.000000   \n",
       "mean   7.352614e+08     46.659496         2.402581       36.178242   \n",
       "std    3.557725e+07      7.665652         1.275010        7.796548   \n",
       "min    7.080833e+08     26.000000         0.000000       13.000000   \n",
       "25%    7.123713e+08     41.000000         2.000000       32.000000   \n",
       "50%    7.165644e+08     47.000000         2.000000       36.000000   \n",
       "75%    7.683737e+08     52.000000         3.000000       40.000000   \n",
       "max    8.282949e+08     68.000000         5.000000       56.000000   \n",
       "\n",
       "       Total_Relationship_Count  Months_Inactive_12_mon  \\\n",
       "count               1627.000000             1627.000000   \n",
       "mean                   3.279656                2.693301   \n",
       "std                    1.577782                0.899623   \n",
       "min                    1.000000                0.000000   \n",
       "25%                    2.000000                2.000000   \n",
       "50%                    3.000000                3.000000   \n",
       "75%                    5.000000                3.000000   \n",
       "max                    6.000000                6.000000   \n",
       "\n",
       "       Contacts_Count_12_mon  Credit_Limit  Total_Revolving_Bal  \\\n",
       "count            1627.000000   1627.000000          1627.000000   \n",
       "mean                2.972342   8136.039459           672.822987   \n",
       "std                 1.090537   9095.334105           921.385582   \n",
       "min                 0.000000   1438.300000             0.000000   \n",
       "25%                 2.000000   2114.000000             0.000000   \n",
       "50%                 3.000000   4178.000000             0.000000   \n",
       "75%                 4.000000   9933.500000          1303.500000   \n",
       "max                 6.000000  34516.000000          2517.000000   \n",
       "\n",
       "       Avg_Open_To_Buy  Total_Amt_Chng_Q4_Q1  Total_Trans_Amt  Total_Trans_Ct  \\\n",
       "count      1627.000000           1627.000000      1627.000000     1627.000000   \n",
       "mean       7463.216472              0.694277      3095.025814       44.933620   \n",
       "std        9109.208129              0.214924      2308.227629       14.568429   \n",
       "min           3.000000              0.000000       510.000000       10.000000   \n",
       "25%        1587.000000              0.544500      1903.500000       37.000000   \n",
       "50%        3488.000000              0.701000      2329.000000       43.000000   \n",
       "75%        9257.500000              0.856000      2772.000000       51.000000   \n",
       "max       34516.000000              1.492000     10583.000000       94.000000   \n",
       "\n",
       "       Total_Ct_Chng_Q4_Q1  Avg_Utilization_Ratio  \n",
       "count          1627.000000            1627.000000  \n",
       "mean              0.554386               0.162475  \n",
       "std               0.226854               0.264458  \n",
       "min               0.000000               0.000000  \n",
       "25%               0.400000               0.000000  \n",
       "50%               0.531000               0.000000  \n",
       "75%               0.692000               0.231000  \n",
       "max               2.500000               0.999000  "
      ]
     },
     "execution_count": 47,
     "metadata": {},
     "output_type": "execute_result"
    }
   ],
   "source": [
    "# This will select only the numeric columns from your DataFrame\n",
    "Attriteds_numbers = Attriteds.select_dtypes(include=['number'])\n",
    "Attriteds_numbers.describe()"
   ]
  },
  {
   "cell_type": "markdown",
   "metadata": {
    "hidden": true
   },
   "source": [
    "<details>\n",
    "    <summary>One answer here</summary>\n",
    "\n",
    "```python\n",
    "credit.groupby('Attrition_Flag').mean()\n",
    "```\n",
    "</details>"
   ]
  },
  {
   "cell_type": "markdown",
   "metadata": {
    "heading_collapsed": true,
    "hidden": true
   },
   "source": [
    "### Question 2 (Exercise!)"
   ]
  },
  {
   "cell_type": "markdown",
   "metadata": {
    "hidden": true
   },
   "source": [
    "Visualize the distributions of total revolving balances for each group."
   ]
  },
  {
   "cell_type": "code",
   "execution_count": 72,
   "metadata": {
    "hidden": true
   },
   "outputs": [
    {
     "data": {
      "image/png": "[encoded data removed]",
      "text/plain": [
       "<Figure size 640x480 with 1 Axes>"
      ]
     },
     "metadata": {},
     "output_type": "display_data"
    }
   ],
   "source": [
    "#existing = credit[credit['Attrition_Flag'] == 'Existing Customer']\n",
    "#churned = credit[credit['Attrition_Flag'] == 'Attrited Customer']\n",
    "fig, ax = plt.subplots()\n",
    "ax.hist(Existing['Total_Revolving_Bal'], label='Existing')\n",
    "ax.hist(Attriteds['Total_Revolving_Bal'], label='Attriteds')\n",
    "ax.legend();"
   ]
  },
  {
   "cell_type": "markdown",
   "metadata": {
    "hidden": true
   },
   "source": [
    "<details>\n",
    "    <summary>One answer here</summary>\n",
    "\n",
    "```python\n",
    "existing = credit[credit['Attrition_Flag'] == 'Existing Customer']\n",
    "churned = credit[credit['Attrition_Flag'] == 'Attrited Customer']\n",
    "fig, ax = plt.subplots()\n",
    "ax.hist(existing['Total_Revolving_Bal'], label='existing')\n",
    "ax.hist(churned['Total_Revolving_Bal'], label='churned')\n",
    "ax.legend();\n",
    "```\n",
    "</details>"
   ]
  },
  {
   "cell_type": "markdown",
   "metadata": {
    "heading_collapsed": true,
    "hidden": true
   },
   "source": [
    "### Question 3 (Exercise!)"
   ]
  },
  {
   "cell_type": "markdown",
   "metadata": {
    "hidden": true
   },
   "source": [
    "Make two bar charts counting the numbers in each income category for each group separately."
   ]
  },
  {
   "cell_type": "code",
   "execution_count": 73,
   "metadata": {
    "hidden": true
   },
   "outputs": [
    {
     "name": "stderr",
     "output_type": "stream",
     "text": [
      "/var/folders/1m/71syl3xd3910y8gqrq29f4w40000gn/T/ipykernel_16211/998680240.py:8: UserWarning: set_ticklabels() should only be used with a fixed number of ticks, i.e. after set_ticks() or using a FixedLocator.\n",
      "  ax.set_xticklabels(labels=churned_cats.index,\n"
     ]
    },
    {
     "data": {
      "image/png": "[encoded data removed]",
      "text/plain": [
       "<Figure size 640x480 with 1 Axes>"
      ]
     },
     "metadata": {},
     "output_type": "display_data"
    }
   ],
   "source": [
    "fig, ax = plt.subplots()\n",
    "existing_cats = Existing['Income_Category'].value_counts()\n",
    "churned_cats = Attriteds['Income_Category'].value_counts()\n",
    "ax.bar(x=existing_cats.index,\n",
    "       height=existing_cats, label='existing')\n",
    "ax.bar(x=churned_cats.index,\n",
    "       height=churned_cats, label='churned')\n",
    "ax.set_xticklabels(labels=churned_cats.index,\n",
    "                  rotation=80)\n",
    "ax.legend();"
   ]
  },
  {
   "cell_type": "markdown",
   "metadata": {
    "hidden": true
   },
   "source": [
    "<details>\n",
    "    <summary>One answer here</summary>\n",
    "\n",
    "```python\n",
    "fig, ax = plt.subplots()\n",
    "existing_cats = existing['Income_Category'].value_counts()\n",
    "churned_cats = churned['Income_Category'].value_counts()\n",
    "ax.bar(x=existing_cats.index,\n",
    "       height=existing_cats, label='existing')\n",
    "ax.bar(x=churned_cats.index,\n",
    "       height=churned_cats, label='churned')\n",
    "ax.set_xticklabels(labels=churned_cats.index,\n",
    "                  rotation=80)\n",
    "ax.legend();\n",
    "```\n",
    "</details>"
   ]
  },
  {
   "cell_type": "markdown",
   "metadata": {
    "heading_collapsed": true
   },
   "source": [
    "# Level Up: Other Shape Descriptors"
   ]
  },
  {
   "cell_type": "markdown",
   "metadata": {
    "hidden": true
   },
   "source": [
    "Here are a few other ways that people describe the distributions of data."
   ]
  },
  {
   "cell_type": "markdown",
   "metadata": {
    "heading_collapsed": true,
    "hidden": true
   },
   "source": [
    "## Moments"
   ]
  },
  {
   "cell_type": "markdown",
   "metadata": {
    "hidden": true
   },
   "source": [
    "The mean is related to $\\Sigma(x_i - \\bar{x})$ while the standard deviation is related to $\\Sigma(x_i - \\bar{x})^2$. We could consider higher exponents as well, of the form $\\Sigma(x_i - \\bar{x})^n$. For each exponent $n>0$, we can define a related statistical **moment**. For $n=3$, the moment is called the **skewness**, which is a measure of how the mean and median diverge. For $n=4$, the moment is called the **kurtosis**, which is a measure of how many values are relatively far from the mean.\n",
    "\n",
    "There are a few different definitions of skewness and kurtosis that are commonly used, but the basic quantities are:\n",
    "\n",
    "- $\\frac{\\Sigma(x_i - \\bar{x})^3}{n\\sigma^3}$ (for skewness)\n",
    "- $\\frac{\\Sigma(x_i - \\bar{x})^4}{n\\sigma^4}$ (for kurtosis)\n",
    "\n",
    "For more on statistical moments, see [here](https://www.statisticshowto.datasciencecentral.com/what-is-a-moment/) and [here](https://www.spcforexcel.com/knowledge/basic-statistics/are-skewness-and-kurtosis-useful-statistics)."
   ]
  },
  {
   "cell_type": "markdown",
   "metadata": {
    "heading_collapsed": true,
    "hidden": true
   },
   "source": [
    "### Skewness"
   ]
  },
  {
   "cell_type": "markdown",
   "metadata": {
    "hidden": true
   },
   "source": [
    "![skew](images/skew.png)"
   ]
  },
  {
   "cell_type": "code",
   "execution_count": 74,
   "metadata": {
    "hidden": true
   },
   "outputs": [
    {
     "data": {
      "text/plain": [
       "0.16300591617118834"
      ]
     },
     "execution_count": 74,
     "metadata": {},
     "output_type": "execute_result"
    }
   ],
   "source": [
    "stats.skew(data)"
   ]
  },
  {
   "cell_type": "markdown",
   "metadata": {
    "heading_collapsed": true,
    "hidden": true
   },
   "source": [
    "### Kurtosis"
   ]
  },
  {
   "cell_type": "markdown",
   "metadata": {
    "hidden": true
   },
   "source": [
    "![kurt](images/kurtosis.png)"
   ]
  },
  {
   "cell_type": "code",
   "execution_count": 39,
   "metadata": {
    "hidden": true
   },
   "outputs": [
    {
     "data": {
      "text/plain": [
       "-1.2547194008412847"
      ]
     },
     "execution_count": 39,
     "metadata": {},
     "output_type": "execute_result"
    }
   ],
   "source": [
    "stats.kurtosis(data)"
   ]
  },
  {
   "cell_type": "markdown",
   "metadata": {
    "hidden": true
   },
   "source": [
    "What if we want to visualize the three histograms together?"
   ]
  },
  {
   "cell_type": "markdown",
   "metadata": {
    "heading_collapsed": true,
    "hidden": true
   },
   "source": [
    "## Symmetry"
   ]
  },
  {
   "cell_type": "code",
   "execution_count": 77,
   "metadata": {
    "hidden": true
   },
   "outputs": [
    {
     "data": {
      "image/png": "[encoded data removed]",
      "text/plain": [
       "<Figure size 800x700 with 1 Axes>"
      ]
     },
     "metadata": {},
     "output_type": "display_data"
    },
    {
     "data": {
      "image/png": "[encoded data removed]",
      "text/plain": [
       "<Figure size 800x700 with 1 Axes>"
      ]
     },
     "metadata": {},
     "output_type": "display_data"
    }
   ],
   "source": [
    "X = np.linspace(-3, 3, 40)\n",
    "y = stats.norm.pdf(X) + 0.05 * np.random.rand(40)\n",
    "\n",
    "fig, ax = plt.subplots(figsize=(8, 7))\n",
    "ax.plot(X, y, lw=5)\n",
    "ax.vlines(x=0, ymin=0, ymax=0.5, colors = \"black\")\n",
    "plt.title('Symmetric Distribution');\n",
    "\n",
    "X = np.linspace(0, 1, 40)\n",
    "y = stats.expon.pdf(X) + 0.05 * np.random.rand(40)\n",
    "\n",
    "fig, ax = plt.subplots(figsize=(8, 7))\n",
    "ax.plot(X, y, lw=5)\n",
    "plt.title('Asymmetric Distribution');"
   ]
  },
  {
   "cell_type": "markdown",
   "metadata": {
    "heading_collapsed": true,
    "hidden": true
   },
   "source": [
    "## Modality"
   ]
  },
  {
   "cell_type": "code",
   "execution_count": 78,
   "metadata": {
    "hidden": true
   },
   "outputs": [
    {
     "data": {
      "image/png": "[encoded data removed]",
      "text/plain": [
       "<Figure size 800x700 with 1 Axes>"
      ]
     },
     "metadata": {},
     "output_type": "display_data"
    },
    {
     "data": {
      "image/png": "[encoded data removed]",
      "text/plain": [
       "<Figure size 800x700 with 1 Axes>"
      ]
     },
     "metadata": {},
     "output_type": "display_data"
    }
   ],
   "source": [
    "X = np.linspace(0, 1, 40)\n",
    "y = stats.uniform.pdf(X) + 0.05 * np.random.rand(40)\n",
    "\n",
    "fig, ax = plt.subplots(figsize=(8, 7))\n",
    "ax.plot(X, y, lw=5)\n",
    "plt.ylim(0.5, 1.5)\n",
    "plt.title('Flat Distribution');\n",
    "\n",
    "X = np.linspace(-5, 5, 40)\n",
    "y = stats.norm.pdf(X, loc=-2) + stats.norm.pdf(X, loc=2)\\\n",
    "+ 0.05 * np.random.rand(40)\n",
    "\n",
    "fig, ax = plt.subplots(figsize=(8, 7))\n",
    "ax.plot(X, y, lw=5)\n",
    "plt.title('Bimodal Distribution');"
   ]
  }
 ],
 "metadata": {
  "kernelspec": {
   "display_name": "Python 3",
   "language": "python",
   "name": "python3"
  },
  "language_info": {
   "codemirror_mode": {
    "name": "ipython",
    "version": 3
   },
   "file_extension": ".py",
   "mimetype": "text/x-python",
   "name": "python",
   "nbconvert_exporter": "python",
   "pygments_lexer": "ipython3",
   "version": "3.9.16"
  },
  "toc": {
   "base_numbering": 1,
   "nav_menu": {},
   "number_sections": true,
   "sideBar": true,
   "skip_h1_title": false,
   "title_cell": "Table of Contents",
   "title_sidebar": "TOC",
   "toc_cell": true,
   "toc_position": {
    "height": "calc(100% - 180px)",
    "left": "10px",
    "top": "150px",
    "width": "288px"
   },
   "toc_section_display": true,
   "toc_window_display": true
  }
 },
 "nbformat": 4,
 "nbformat_minor": 2
}
