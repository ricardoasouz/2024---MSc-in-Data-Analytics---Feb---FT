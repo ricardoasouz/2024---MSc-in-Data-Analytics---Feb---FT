{
 "cells": [
  {
   "cell_type": "code",
   "execution_count": null,
   "metadata": {},
   "outputs": [],
   "source": [
    "# install jupyterthemes\n",
    "#!pip install jupyterthemes\n",
    "\n",
    "# upgrade to latest version\n",
    "#!pip install --upgrade jupyterthemes"
   ]
  },
  {
   "cell_type": "code",
   "execution_count": null,
   "metadata": {},
   "outputs": [],
   "source": [
    "#!jt -t gruvboxl"
   ]
  },
  {
   "cell_type": "code",
   "execution_count": null,
   "metadata": {},
   "outputs": [],
   "source": [
    "import pandas as pd\n",
    "import numpy as np\n",
    "import matplotlib.pyplot as plt\n",
    "import seaborn as sns\n",
    "%matplotlib inline"
   ]
  },
  {
   "cell_type": "code",
   "execution_count": null,
   "metadata": {},
   "outputs": [],
   "source": [
    "data = 'Datasets/Air and Sea Travel Statistics/ASA01.csv'\n",
    "\n",
    "df = pd.read_csv(data)\n",
    "df"
   ]
  },
  {
   "cell_type": "markdown",
   "metadata": {},
   "source": []
  },
  {
   "cell_type": "code",
   "execution_count": null,
   "metadata": {},
   "outputs": [],
   "source": [
    "# Renaming columns\n",
    "df_renamed = df.replace({\n",
    "    'All modes of transport': 'Total',\n",
    "    'Arrivals Total': 'Arrivals Total',\n",
    "    'Departures Total': 'Departures Total'\n",
    "})\n",
    "\n",
    "# Applying pivot_table function on dataframe to put 'VALUE' into new labeled columns [DIRECTION]+[Mode]'\n",
    "df_pivoted = df_renamed.pivot_table(index='Year', columns=['Direction', 'Mode'], values='VALUE')\n",
    "\n",
    "# Rename columns joining Direction with Mode names and sorting in alphabetical order\n",
    "df_pivoted.columns = [' '.join(col).strip() for col in df_pivoted.columns.values]\n",
    "df_pivoted = df_pivoted.reindex(sorted(df_pivoted.columns), axis=1)\n",
    "\n",
    "# Reset index to make 'Year' a column and not an index label\n",
    "df_pivoted.reset_index(inplace=True)\n",
    "\n",
    "# Show the DataFrame\n",
    "df_pivoted\n"
   ]
  },
  {
   "cell_type": "code",
   "execution_count": null,
   "metadata": {},
   "outputs": [],
   "source": [
    "df_pivoted.info()"
   ]
  },
  {
   "cell_type": "markdown",
   "metadata": {},
   "source": [
    "\n"
   ]
  },
  {
   "cell_type": "code",
   "execution_count": null,
   "metadata": {},
   "outputs": [],
   "source": [
    "#Calculate Max Value for each column\n",
    "max_df = df_pivoted.max().drop(['Year'])\n",
    "\n",
    "print(\"\\nMax value for each column:\")\n",
    "max_df"
   ]
  },
  {
   "cell_type": "code",
   "execution_count": null,
   "metadata": {},
   "outputs": [],
   "source": [
    "#Calculate Min Value for each column\n",
    "min_df = df_pivoted.min().drop(['Year'])\n",
    "\n",
    "print(\"\\nMin value for each column:\")\n",
    "min_df\n",
    "\n",
    "#print('Standard deviation of', iris_df[['sepallength']].std())\n",
    "\n",
    "#print('Summary Statistics of', iris_df[['sepallength']].describe())\n",
    "\n",
    "#print('Summary Statistics: All')\n",
    "#iris_df.describe()"
   ]
  },
  {
   "cell_type": "code",
   "execution_count": null,
   "metadata": {},
   "outputs": [],
   "source": [
    "# calculating the mean of each column excluding Year and round with 2 decimals\n",
    "mean_df = df_pivoted.mean().round(2).drop(['Year'])\n",
    "\n",
    "print(\"\\nMean measurements for each column:\")\n",
    "mean_df"
   ]
  },
  {
   "cell_type": "code",
   "execution_count": null,
   "metadata": {},
   "outputs": [],
   "source": [
    "# Plotting the Mean bar plot\n",
    "mean_df.plot(kind='bar', figsize=(10, 6))\n",
    "plt.title('Mean Measurements')\n",
    "#plt.xlabel('')\n",
    "plt.ylabel('Mean Value')\n",
    "plt.xticks(rotation=45)\n",
    "plt.grid(axis='y', linestyle='--', alpha=0.7)\n",
    "#plt.legend(loc='upper right')\n",
    "plt.tight_layout()\n",
    "plt.show()"
   ]
  },
  {
   "cell_type": "code",
   "execution_count": null,
   "metadata": {},
   "outputs": [],
   "source": [
    "# calculating the median of each column excluding Year, on median() the value come with 2 round decimal's already\n",
    "median_df = df_pivoted.median().drop(['Year'])\n",
    "\n",
    "print(\"\\nMedian measurements for each column:\")\n",
    "median_df"
   ]
  },
  {
   "cell_type": "code",
   "execution_count": null,
   "metadata": {},
   "outputs": [],
   "source": [
    "# Plotting the Median bar plot\n",
    "median_df.plot(kind='bar', figsize=(10, 6))\n",
    "plt.title('Median Measurements')\n",
    "#plt.xlabel('')\n",
    "plt.ylabel('Median Value')\n",
    "plt.xticks(rotation=45)\n",
    "plt.grid(axis='y', linestyle='--', alpha=0.7)\n",
    "#plt.legend(loc='upper right')\n",
    "plt.tight_layout()\n",
    "plt.show()"
   ]
  },
  {
   "cell_type": "code",
   "execution_count": null,
   "metadata": {},
   "outputs": [],
   "source": [
    "#Calculate Mean Value for each column\n",
    "mean_df = df_pivoted.mean().drop(['Year'])\n",
    "\n",
    "print(\"\\nMean value for each column:\")\n",
    "mean_df"
   ]
  },
  {
   "cell_type": "code",
   "execution_count": null,
   "metadata": {},
   "outputs": [],
   "source": [
    "df_described_no_year = df_pivoted.drop(columns=['Year']).describe()\n",
    "df_described_no_year\n",
    "df_pivoted.describe()"
   ]
  },
  {
   "cell_type": "code",
   "execution_count": null,
   "metadata": {},
   "outputs": [],
   "source": [
    "x = df_pivoted['Year']\n",
    "plt.figure(figsize=(10, 6))  \n",
    "\n",
    "# Plotting each column against 'Year'\n",
    "for column in df_pivoted.columns[1:]:  # Excluding 'Year' column for the x-axis\n",
    "    plt.plot(x, df_pivoted[column], label=column)\n",
    "\n",
    "# Trends x Patterns x Anomalies\n",
    "plt.title('Yearly Data Trends')  # Add a title\n",
    "plt.xlabel('Year')  # Label for the x-axis\n",
    "plt.ylabel('Value')  # Label for the y-axis\n",
    "plt.legend()  # Show legend to identify lines\n",
    "plt.xticks(rotation=45)  # Rotate x-axis labels for better readability\n",
    "plt.tight_layout()  # Adjust layout to not cut off elements\n",
    "plt.show()"
   ]
  }
 ],
 "metadata": {
  "kernelspec": {
   "display_name": "Python 3",
   "language": "python",
   "name": "python3"
  },
  "language_info": {
   "codemirror_mode": {
    "name": "ipython",
    "version": 3
   },
   "file_extension": ".py",
   "mimetype": "text/x-python",
   "name": "python",
   "nbconvert_exporter": "python",
   "pygments_lexer": "ipython3",
   "version": "3.9.16"
  }
 },
 "nbformat": 4,
 "nbformat_minor": 2
}
