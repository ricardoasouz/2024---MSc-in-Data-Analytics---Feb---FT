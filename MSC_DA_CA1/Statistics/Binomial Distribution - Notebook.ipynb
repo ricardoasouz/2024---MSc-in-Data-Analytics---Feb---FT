{
 "cells": [
  {
   "cell_type": "markdown",
   "metadata": {},
   "source": [
    "# Binomial Distribution\n",
    "\n",
    "Some example code for the binomial distribution.\n",
    "\n",
    "Taken from: https://www.statology.org/binomial-distribution-python/\n",
    "\n",
    "You should answer the questions in the slides using code.\n",
    "\n",
    "See if you can re-create some of the plots of the Binomial too."
   ]
  },
  {
   "cell_type": "markdown",
   "metadata": {},
   "source": [
    "## 1. Simulating random variables from a Binomial distribution"
   ]
  },
  {
   "cell_type": "code",
   "execution_count": 6,
   "metadata": {},
   "outputs": [
    {
     "data": {
      "text/plain": [
       "array([0, 3, 3, 2, 1, 1, 3, 1, 1, 3])"
      ]
     },
     "execution_count": 6,
     "metadata": {},
     "output_type": "execute_result"
    }
   ],
   "source": [
    "import numpy as np\n",
    "from numpy import random\n",
    "\n",
    "# Generate an array of 10 values that follow a binomial distribution\n",
    "random.binomial(n=10, p=.25, size=10)"
   ]
  },
  {
   "cell_type": "code",
   "execution_count": 7,
   "metadata": {},
   "outputs": [
    {
     "data": {
      "text/plain": [
       "array([5, 0, 2, 4, 3, 3, 2, 4, 3, 3, 1, 2, 3, 2, 2, 3, 2, 3, 3, 4, 2, 4,\n",
       "       2, 1, 2, 1, 4, 0, 3, 3, 4, 1, 4, 2, 3, 2, 4, 2, 1, 2, 1, 4, 1, 2,\n",
       "       5, 6, 2, 4, 2, 3, 4, 3, 3, 0, 2, 1, 2, 2, 3, 0, 2, 2, 3, 2, 0, 4,\n",
       "       3, 4, 2, 3, 2, 3, 2, 2, 0, 2, 1, 3, 3, 2, 2, 1, 5, 2, 2, 5, 2, 2,\n",
       "       2, 3, 4, 1, 2, 4, 3, 3, 0, 2, 3, 2])"
      ]
     },
     "execution_count": 7,
     "metadata": {},
     "output_type": "execute_result"
    }
   ],
   "source": [
    "# If we want a bigger sample?\n",
    "random.binomial(n=10, p=.25, size=int(1e2))"
   ]
  },
  {
   "cell_type": "code",
   "execution_count": 8,
   "metadata": {},
   "outputs": [
    {
     "data": {
      "text/plain": [
       "array([3, 0, 3, 3, 2, 1, 1, 3, 1, 1])"
      ]
     },
     "execution_count": 8,
     "metadata": {},
     "output_type": "execute_result"
    }
   ],
   "source": [
    "# What if I want everyone to have the same sample?\n",
    "random.seed(10)\n",
    "random.binomial(n=10, p=.25, size=10)\n",
    "\n",
    "# Why would we want that?"
   ]
  },
  {
   "cell_type": "markdown",
   "metadata": {},
   "source": [
    "## 2. Calculating single probablities using the Binomial distribution"
   ]
  },
  {
   "cell_type": "code",
   "execution_count": 9,
   "metadata": {},
   "outputs": [
    {
     "data": {
      "text/plain": [
       "0.32413499999999995"
      ]
     },
     "execution_count": 9,
     "metadata": {},
     "output_type": "execute_result"
    }
   ],
   "source": [
    "# Let's use the first example in the slides:\n",
    "from scipy.stats import binom\n",
    "\n",
    "# Calculate binomial probability P(X = 4) when X ~ Binom(n = 6, p = 0.7)\n",
    "binom.pmf(k=4, n=6, p=0.7)"
   ]
  },
  {
   "cell_type": "code",
   "execution_count": 10,
   "metadata": {},
   "outputs": [
    {
     "data": {
      "text/plain": [
       "0.324135"
      ]
     },
     "execution_count": 10,
     "metadata": {},
     "output_type": "execute_result"
    }
   ],
   "source": [
    "# Calculating explicitly takes more effort and is less easy to edit for new problems:\n",
    "from math import factorial\n",
    "n = 6\n",
    "p = 0.7\n",
    "q = 0.3\n",
    "x = 4\n",
    "factorial(n) / (factorial(x) * factorial(n - x)) * pow(p, x) * pow(1 - p, n - x)"
   ]
  },
  {
   "cell_type": "code",
   "execution_count": 11,
   "metadata": {},
   "outputs": [
    {
     "data": {
      "text/plain": [
       "array([0.000729, 0.010206, 0.059535, 0.18522 , 0.324135, 0.302526,\n",
       "       0.117649])"
      ]
     },
     "execution_count": 11,
     "metadata": {},
     "output_type": "execute_result"
    }
   ],
   "source": [
    "# Printing all probabilities:\n",
    "x = np.array([0, 1, 2, 3, 4, 5, 6])\n",
    "out1 = binom.pmf(k=x, n=6, p=0.7)\n",
    "out1"
   ]
  },
  {
   "cell_type": "code",
   "execution_count": 13,
   "metadata": {},
   "outputs": [
    {
     "data": {
      "image/png": "[encoded data removed]",
      "text/plain": [
       "<Figure size 720x360 with 1 Axes>"
      ]
     },
     "metadata": {
      "needs_background": "light"
     },
     "output_type": "display_data"
    }
   ],
   "source": [
    "# Creating a plot:\n",
    "import matplotlib.pyplot as plt\n",
    "fig = plt.figure(figsize = (10, 5))\n",
    "\n",
    "# Creating the bar plot\n",
    "plt.bar(x, out1, color ='maroon', width = 0.4)\n",
    "\n",
    "plt.xlabel(\"Number of successes\")\n",
    "plt.ylabel(\"Probability\")\n",
    "plt.title(\"Plot of Binomial Random Variable: X ~ Binom(n = 6, p = 0.7)\")\n",
    "plt.show()\n"
   ]
  },
  {
   "cell_type": "markdown",
   "metadata": {},
   "source": [
    "## 3. Calculating cumulative probablities using the Binomial distribution"
   ]
  },
  {
   "cell_type": "code",
   "execution_count": 14,
   "metadata": {},
   "outputs": [
    {
     "data": {
      "text/plain": [
       "0.25569000000000003"
      ]
     },
     "execution_count": 14,
     "metadata": {},
     "output_type": "execute_result"
    }
   ],
   "source": [
    "# Calculate binomial probability P(X <= 3) when X ~ Binom(n = 6, p = 0.7)\n",
    "binom.cdf(k=3, n=6, p=0.7)\n"
   ]
  },
  {
   "cell_type": "code",
   "execution_count": 15,
   "metadata": {},
   "outputs": [
    {
     "data": {
      "text/plain": [
       "array([7.29000e-04, 1.09350e-02, 7.04700e-02, 2.55690e-01, 5.79825e-01,\n",
       "       8.82351e-01, 1.00000e+00])"
      ]
     },
     "execution_count": 15,
     "metadata": {},
     "output_type": "execute_result"
    }
   ],
   "source": [
    "# Seeing what this actually does:\n",
    "out2 = binom.cdf(k=x, n=6, p=0.7)\n",
    "out2"
   ]
  },
  {
   "cell_type": "markdown",
   "metadata": {},
   "source": [
    "## 4. Visualising a random sample from the Binomial:"
   ]
  },
  {
   "cell_type": "code",
   "execution_count": 16,
   "metadata": {},
   "outputs": [
    {
     "name": "stdout",
     "output_type": "stream",
     "text": [
      "Counter({4: 306, 5: 302, 3: 194, 6: 133, 2: 56, 1: 9})\n"
     ]
    },
    {
     "data": {
      "image/png": "[encoded data removed]",
      "text/plain": [
       "<Figure size 360x360 with 1 Axes>"
      ]
     },
     "metadata": {
      "needs_background": "light"
     },
     "output_type": "display_data"
    }
   ],
   "source": [
    "import matplotlib.pyplot as plt\n",
    "import seaborn as sns\n",
    "from collections import Counter\n",
    "\n",
    "y = random.binomial(n=6, p=0.7, size=1000)\n",
    "\n",
    "# Find the frequencies:\n",
    "freq = Counter(y)\n",
    "print(freq)\n",
    "\n",
    "sns.displot(y)\n",
    "\n",
    "plt.show()\n",
    "# More on displot: https://seaborn.pydata.org/generated/seaborn.displot.html"
   ]
  },
  {
   "cell_type": "markdown",
   "metadata": {},
   "source": [
    "## Some further reading:\n",
    "\n",
    "Code above adapted from here:\n",
    "https://www.statology.org/binomial-distribution-python/\n",
    "\n",
    "Look at the examples and the plots here:\n",
    "https://docs.scipy.org/doc/scipy/reference/generated/scipy.stats.binom.html\n",
    "\n",
    "See how to make barplots neater here:\n",
    "https://medium.com/python-pandemonium/data-visualization-in-python-bar-graph-in-matplotlib-f1738602e9c4\n",
    "and here:\n",
    "https://www.geeksforgeeks.org/bar-plot-in-matplotlib/\n",
    "and here:\n",
    "https://www.shanelynn.ie/bar-plots-in-python-using-pandas-dataframes/\n",
    "\n",
    "And a nice page on the Binomial here:\n",
    "https://www.geeksforgeeks.org/python-binomial-distribution/"
   ]
  },
  {
   "cell_type": "markdown",
   "metadata": {},
   "source": [
    "## 5. Fitting a Binomial distribution to given data:"
   ]
  },
  {
   "cell_type": "code",
   "execution_count": 18,
   "metadata": {},
   "outputs": [
    {
     "data": {
      "text/plain": [
       "array([4])"
      ]
     },
     "execution_count": 18,
     "metadata": {},
     "output_type": "execute_result"
    }
   ],
   "source": [
    "# First, let's simulate some data:\n",
    "from scipy.stats import binom\n",
    "from numpy import random\n",
    "random.seed(13)\n",
    "out = random.binomial(n=10, p=.25, size=1)\n",
    "out\n",
    "# This could be number of successes or responses out of 10 trials:"
   ]
  },
  {
   "cell_type": "code",
   "execution_count": 22,
   "metadata": {},
   "outputs": [
    {
     "data": {
      "text/plain": [
       "array([0.4])"
      ]
     },
     "execution_count": 22,
     "metadata": {},
     "output_type": "execute_result"
    }
   ],
   "source": [
    "# What is my best guess at the population parameter p if I can only see the data?\n",
    "p_hat = out / 10\n",
    "p_hat\n",
    "# This makes sense - out of 10 trials, I have 4 successes/responses. My best guess at p\n",
    "# is 4/10 = 0.4\n",
    "# I can then use this distribution to make predictions for the number of\n",
    "# successes out of 30 trials, for example, using p_hat = 0.4, and I can use\n",
    "# plots to see how well these fit to my existing data"
   ]
  },
  {
   "cell_type": "markdown",
   "metadata": {},
   "source": [
    "### Task:\n",
    "\n",
    "1. See what is happening here - this is a very important idea called Maximum Likelihood Estimation: https://online.stat.psu.edu/stat504/lesson/1/1.5\n",
    "2. See if you can re-produce the plot at the above link, but in Python code."
   ]
  },
  {
   "cell_type": "code",
   "execution_count": null,
   "metadata": {},
   "outputs": [],
   "source": []
  }
 ],
 "metadata": {
  "kernelspec": {
   "display_name": "Python 3",
   "language": "python",
   "name": "python3"
  },
  "language_info": {
   "codemirror_mode": {
    "name": "ipython",
    "version": 3
   },
   "file_extension": ".py",
   "mimetype": "text/x-python",
   "name": "python",
   "nbconvert_exporter": "python",
   "pygments_lexer": "ipython3",
   "version": "3.7.1"
  }
 },
 "nbformat": 4,
 "nbformat_minor": 2
}
