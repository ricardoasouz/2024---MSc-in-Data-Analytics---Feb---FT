{
 "cells": [
  {
   "cell_type": "markdown",
   "metadata": {},
   "source": [
    "# Normal Distribution\n",
    "\n",
    "Some example code for the normal distribution.\n",
    "\n",
    "You should answer the questions in the slides using code.\n",
    "\n",
    "See if you can create some plots of the Normal distribution too."
   ]
  },
  {
   "cell_type": "markdown",
   "metadata": {},
   "source": [
    "## 1. Simulating random variables from a Normal distribution"
   ]
  },
  {
   "cell_type": "code",
   "execution_count": 16,
   "metadata": {},
   "outputs": [
    {
     "data": {
      "text/plain": [
       "array([ 0.74354525, -0.66258117, -0.30518103,  0.0414474 , -1.06696284,\n",
       "        3.40110572,  0.5253296 , -1.27687785, -1.41415447,  0.12673003])"
      ]
     },
     "execution_count": 16,
     "metadata": {},
     "output_type": "execute_result"
    }
   ],
   "source": [
    "# Generate an array of 10 values that follow a standard Normal distribution, Z ~ N(0, 1)\n",
    "from numpy import random\n",
    "\n",
    "random.normal(size=10)"
   ]
  },
  {
   "cell_type": "code",
   "execution_count": 17,
   "metadata": {},
   "outputs": [
    {
     "data": {
      "text/plain": [
       "array([28.07575475, 22.24521539, 21.39602272, 30.08991069, 27.67279258,\n",
       "       32.00238692, 29.4138025 , 35.50418132, 20.84822988, 33.00967784])"
      ]
     },
     "execution_count": 17,
     "metadata": {},
     "output_type": "execute_result"
    }
   ],
   "source": [
    "# Generate an array of 10 values that follow a N(30, 5) distribution\n",
    "from numpy import random\n",
    "\n",
    "random.normal(loc=30, scale=5, size=10)"
   ]
  },
  {
   "cell_type": "code",
   "execution_count": 18,
   "metadata": {},
   "outputs": [
    {
     "data": {
      "text/plain": [
       "array([25.93233119, 25.32022389, 34.81515689, 20.36061132, 29.55951865,\n",
       "       28.19076018, 35.97512687, 22.69247095, 31.75106567, 32.36737818,\n",
       "       29.90789095, 30.53837322, 29.22100146, 22.68261122, 27.33252749,\n",
       "       20.33821999, 34.6998961 , 34.75303498, 22.94378684, 36.02371865,\n",
       "       29.10846969, 22.38393202, 26.33970807, 32.87575483, 29.48390686,\n",
       "       24.60493652, 33.27930766, 28.87660457, 27.43160398, 23.71373133,\n",
       "       32.51142889, 34.19596768, 24.72170551, 28.45812003, 28.57948097,\n",
       "       30.75016832, 24.52870244, 39.91462591, 31.33804948, 34.39229946,\n",
       "       28.33795264, 40.46084301, 32.20403694, 20.93987723, 34.98104733,\n",
       "       29.75023728, 24.66480098, 29.70369583, 25.47947534, 33.5137669 ,\n",
       "       33.04296155, 23.03237387, 33.29333033, 35.23082248, 17.52123559,\n",
       "       36.5217889 , 33.30451646, 34.11236151, 37.13363225, 29.75651195,\n",
       "       25.66492245, 31.85579629, 29.19363022, 32.24758257, 18.36536894,\n",
       "       27.92094317, 42.96042034, 31.87384057, 34.99761931, 31.69560835,\n",
       "       28.25390431, 34.21921028, 33.70950339, 28.24001589, 29.04752108,\n",
       "       33.36136061, 26.001564  , 25.77653776, 35.86138714, 35.74531594,\n",
       "       29.03097539, 37.83320114, 34.2895259 , 32.04882743, 27.45499551,\n",
       "       33.85943512, 27.3307822 , 29.64424378, 26.90407635, 36.06297411,\n",
       "       30.70306923, 30.09946104, 33.39660194, 42.44853766, 35.26265908,\n",
       "       22.32951715, 30.0758746 , 30.58526244, 27.21157688, 25.21467226])"
      ]
     },
     "execution_count": 18,
     "metadata": {},
     "output_type": "execute_result"
    }
   ],
   "source": [
    "# If we want a bigger sample?\n",
    "random.normal(loc=30, scale=5, size=int(1e2))"
   ]
  },
  {
   "cell_type": "code",
   "execution_count": 19,
   "metadata": {},
   "outputs": [
    {
     "data": {
      "text/plain": [
       "array([26.43804669, 33.76883189, 29.77748461, 32.25906169, 36.72550854,\n",
       "       32.66168944, 36.7509395 , 34.30605687, 37.39342869, 24.77311435])"
      ]
     },
     "execution_count": 19,
     "metadata": {},
     "output_type": "execute_result"
    }
   ],
   "source": [
    "# What if I want everyone to have the same sample?\n",
    "random.seed(13)\n",
    "random.normal(loc=30, scale=5, size=10)\n",
    "\n",
    "# Why would we want that?"
   ]
  },
  {
   "cell_type": "markdown",
   "metadata": {},
   "source": [
    "## 2. Calculating single probablities using the Normal distribution"
   ]
  },
  {
   "cell_type": "code",
   "execution_count": 20,
   "metadata": {},
   "outputs": [
    {
     "data": {
      "text/plain": [
       "0.8413447460685429"
      ]
     },
     "execution_count": 20,
     "metadata": {},
     "output_type": "execute_result"
    }
   ],
   "source": [
    "# Let's use the first example in the slides:\n",
    "from scipy.stats import norm\n",
    "\n",
    "# Calculate P(Z < 1) for Z ~ N(0, 1)\n",
    "norm.cdf(1)"
   ]
  },
  {
   "cell_type": "code",
   "execution_count": 21,
   "metadata": {},
   "outputs": [
    {
     "data": {
      "text/plain": [
       "0.3085375387259869"
      ]
     },
     "execution_count": 21,
     "metadata": {},
     "output_type": "execute_result"
    }
   ],
   "source": [
    "# How to find P(Z > 0.5)?\n",
    "1 - norm.cdf(0.5)"
   ]
  },
  {
   "cell_type": "code",
   "execution_count": 22,
   "metadata": {},
   "outputs": [
    {
     "data": {
      "text/plain": [
       "0.15865525393145707"
      ]
     },
     "execution_count": 22,
     "metadata": {},
     "output_type": "execute_result"
    }
   ],
   "source": [
    "# What about P(X < 60) when X ~ N(mu = 65, sigma = 5)?\n",
    "norm.cdf(60, loc = 65, scale = 5)"
   ]
  },
  {
   "cell_type": "code",
   "execution_count": 23,
   "metadata": {},
   "outputs": [],
   "source": [
    "# How would I find:\n",
    "# P(X > 70)?\n",
    "# P(55 < X < 70)?"
   ]
  },
  {
   "cell_type": "markdown",
   "metadata": {},
   "source": [
    "## 3. Producing pdf and CDF plots"
   ]
  },
  {
   "cell_type": "code",
   "execution_count": 24,
   "metadata": {},
   "outputs": [
    {
     "data": {
      "text/plain": [
       "Text(0, 0.5, 'pdf')"
      ]
     },
     "execution_count": 24,
     "metadata": {},
     "output_type": "execute_result"
    },
    {
     "data": {
      "image/png": "[encoded data removed]",
      "text/plain": [
       "<Figure size 432x288 with 1 Axes>"
      ]
     },
     "metadata": {
      "needs_background": "light"
     },
     "output_type": "display_data"
    }
   ],
   "source": [
    "import matplotlib.pyplot as plt\n",
    "import numpy as np\n",
    "import scipy.stats as ss\n",
    "\n",
    "# Define the x and y values to use for the pdf:\n",
    "x = np.linspace(-4, 4, 1000)\n",
    "y = ss.norm.pdf(x)\n",
    "\n",
    "#plot normal pdf:\n",
    "plt.plot(x, y, color='darkgreen')\n",
    "plt.title('Normal pdf')\n",
    "plt.xlabel('x')\n",
    "plt.ylabel('pdf')"
   ]
  },
  {
   "cell_type": "code",
   "execution_count": 25,
   "metadata": {},
   "outputs": [
    {
     "data": {
      "text/plain": [
       "Text(0, 0.5, 'CDF')"
      ]
     },
     "execution_count": 25,
     "metadata": {},
     "output_type": "execute_result"
    },
    {
     "data": {
      "image/png": "[encoded data removed]",
      "text/plain": [
       "<Figure size 432x288 with 1 Axes>"
      ]
     },
     "metadata": {
      "needs_background": "light"
     },
     "output_type": "display_data"
    }
   ],
   "source": [
    "import matplotlib.pyplot as plt\n",
    "import numpy as np\n",
    "import scipy.stats as ss\n",
    "\n",
    "# Define the x and y values to use for CDF\n",
    "x = np.linspace(-4, 4, 1000)\n",
    "y = ss.norm.cdf(x)\n",
    "\n",
    "# Plot the normal CDF\n",
    "plt.plot(x, y, color='darkgreen')\n",
    "plt.title('Normal CDF')\n",
    "plt.xlabel('x')\n",
    "plt.ylabel('CDF')"
   ]
  },
  {
   "cell_type": "markdown",
   "metadata": {},
   "source": [
    "- Task - adapt the code above to plot the pdf and CDF of X when X ~ N(mu = 65, sigma = 5) "
   ]
  },
  {
   "cell_type": "markdown",
   "metadata": {},
   "source": [
    "## Some further reading:\n",
    "\n",
    "Some plotting code here:\n",
    "https://www.statology.org/normal-cdf-in-python/\n",
    "\n",
    "Some more plotting code here:\n",
    "https://www.statology.org/plot-normal-distribution-python/\n",
    "\n",
    "A little on tests for Normality here, which we will learn more about over the next few weeks:\n",
    "https://www.statology.org/normality-test-python/\n",
    "and:\n",
    "https://www.statology.org/generate-normal-distribution-python/\n"
   ]
  },
  {
   "cell_type": "markdown",
   "metadata": {},
   "source": [
    "## Exercises:\n",
    "\n",
    "Solve all of the questions in the slides using Python"
   ]
  },
  {
   "cell_type": "markdown",
   "metadata": {},
   "source": [
    "## 4. Simulating data from a Normal distribution - and then testing this:"
   ]
  },
  {
   "cell_type": "code",
   "execution_count": 26,
   "metadata": {},
   "outputs": [
    {
     "data": {
      "text/plain": [
       "array([26.43804669, 33.76883189, 29.77748461, 32.25906169, 36.72550854])"
      ]
     },
     "execution_count": 26,
     "metadata": {},
     "output_type": "execute_result"
    }
   ],
   "source": [
    "from numpy.random import seed\n",
    "from numpy.random import normal\n",
    "\n",
    "# Make this example reproducible\n",
    "seed(13)\n",
    "\n",
    "# Generate sample of 200 values that follow a general Normal distribution, X ~ N(30, 5)\n",
    "data = normal(loc=30, scale=5, size=int(2e2))\n",
    "\n",
    "# View the first six values\n",
    "data[0:5]\n"
   ]
  },
  {
   "cell_type": "code",
   "execution_count": 27,
   "metadata": {},
   "outputs": [
    {
     "name": "stdout",
     "output_type": "stream",
     "text": [
      "29.78222945666499\n",
      "4.4037729906459875\n"
     ]
    }
   ],
   "source": [
    "# Find the sample mean and standard deviation - pretend we don't know the origin of the data:\n",
    "import numpy as np\n",
    "\n",
    "# Find the sample mean\n",
    "print(np.mean(data))\n",
    "\n",
    "# Find the sample standard deviation\n",
    "print(np.std(data, ddof=1))"
   ]
  },
  {
   "cell_type": "code",
   "execution_count": 28,
   "metadata": {},
   "outputs": [
    {
     "data": {
      "image/png": "[encoded data removed]",
      "text/plain": [
       "<Figure size 432x288 with 1 Axes>"
      ]
     },
     "metadata": {
      "needs_background": "light"
     },
     "output_type": "display_data"
    }
   ],
   "source": [
    "# Plot the sample data:\n",
    "import matplotlib.pyplot as plt\n",
    "count, bins, ignored = plt.hist(data, 8)\n",
    "plt.show()"
   ]
  },
  {
   "cell_type": "code",
   "execution_count": 29,
   "metadata": {},
   "outputs": [
    {
     "data": {
      "text/plain": [
       "(0.9929823279380798, 0.4579750895500183)"
      ]
     },
     "execution_count": 29,
     "metadata": {},
     "output_type": "execute_result"
    }
   ],
   "source": [
    "# Perform a hypothesis test that the data comes from a Normal distribution:\n",
    "from scipy.stats import shapiro\n",
    "\n",
    "# Perform the Shapiro-Wilk test for Normality of the data:\n",
    "shapiro(data)"
   ]
  },
  {
   "cell_type": "markdown",
   "metadata": {},
   "source": [
    "The second value is the p-value - if this is >0.05 (as it is here), the data is consistent with that from a Normal distribution. This makes sense, as we originally generated the random samples using a function designed to return values from a Normal distribution!\n",
    "\n",
    "More details here:\n",
    "https://docs.scipy.org/doc/scipy/reference/generated/scipy.stats.shapiro.html"
   ]
  }
 ],
 "metadata": {
  "kernelspec": {
   "display_name": "Python 3",
   "language": "python",
   "name": "python3"
  },
  "language_info": {
   "codemirror_mode": {
    "name": "ipython",
    "version": 3
   },
   "file_extension": ".py",
   "mimetype": "text/x-python",
   "name": "python",
   "nbconvert_exporter": "python",
   "pygments_lexer": "ipython3",
   "version": "3.7.1"
  }
 },
 "nbformat": 4,
 "nbformat_minor": 2
}
