{
 "cells": [
  {
   "cell_type": "markdown",
   "metadata": {},
   "source": [
    "# Poisson Distribution\n",
    "\n",
    "Some example code for the Poisson distribution.\n",
    "\n",
    "Taken from some of the links below.\n",
    "\n",
    "You should answer the questions in the slides using code.\n",
    "\n",
    "See if you can re-create some of the plots of the Poisson too."
   ]
  },
  {
   "cell_type": "markdown",
   "metadata": {},
   "source": [
    "## 1. Simulating random variables from a Poisson distribution"
   ]
  },
  {
   "cell_type": "code",
   "execution_count": 44,
   "metadata": {},
   "outputs": [
    {
     "data": {
      "text/plain": [
       "array([4, 2, 2, 4, 8, 1, 4, 3, 6, 4])"
      ]
     },
     "execution_count": 44,
     "metadata": {},
     "output_type": "execute_result"
    }
   ],
   "source": [
    "import numpy as np\n",
    "from numpy import random\n",
    "\n",
    "# Generate an array of 10 values that follow a Poisson distribution, X ~ Pois(lambda = 4.5)\n",
    "random.poisson(lam=4.5, size=10)"
   ]
  },
  {
   "cell_type": "code",
   "execution_count": 45,
   "metadata": {},
   "outputs": [
    {
     "data": {
      "text/plain": [
       "array([ 5,  2,  4,  4,  2,  4,  3,  8,  3,  5,  3,  2,  7,  2,  6,  2,  3,\n",
       "        2,  5,  5,  5,  5,  1,  3,  3,  8,  5,  5,  7,  5,  4,  7,  4,  7,\n",
       "        2,  7,  6,  4,  6,  1,  4,  4,  4,  7,  4,  6,  5,  3,  5,  7,  6,\n",
       "        1,  3,  1,  3,  5,  8,  7,  2, 12,  0,  4,  6,  5,  0,  4,  6,  9,\n",
       "        2,  6,  3,  3,  1,  2,  3,  2,  3,  6,  6,  2,  2,  2,  4,  3,  2,\n",
       "        1,  9,  2,  1,  4,  4,  7,  3,  4,  2,  5,  6,  5,  7,  1])"
      ]
     },
     "execution_count": 45,
     "metadata": {},
     "output_type": "execute_result"
    }
   ],
   "source": [
    "# If we want a bigger sample?\n",
    "random.poisson(lam=4.5, size=int(1e2))"
   ]
  },
  {
   "cell_type": "code",
   "execution_count": 46,
   "metadata": {},
   "outputs": [
    {
     "data": {
      "text/plain": [
       "array([4, 3, 3, 8, 7, 5, 2, 7, 4, 7])"
      ]
     },
     "execution_count": 46,
     "metadata": {},
     "output_type": "execute_result"
    }
   ],
   "source": [
    "# What if I want everyone to have the same sample?\n",
    "random.seed(10)\n",
    "random.poisson(lam=5, size=10)\n",
    "\n",
    "# Why would we want that?"
   ]
  },
  {
   "cell_type": "markdown",
   "metadata": {},
   "source": [
    "## 2. Calculating single probablities using the Poisson distribution"
   ]
  },
  {
   "cell_type": "code",
   "execution_count": 47,
   "metadata": {},
   "outputs": [
    {
     "data": {
      "text/plain": [
       "0.18980762054012446"
      ]
     },
     "execution_count": 47,
     "metadata": {},
     "output_type": "execute_result"
    }
   ],
   "source": [
    "from scipy.stats import poisson\n",
    "\n",
    "# Calculate Poisson probability P(X = 4) when X ~ Pois(lambda = 4.5)\n",
    "poisson.pmf(k=4, mu=4.5)"
   ]
  },
  {
   "cell_type": "code",
   "execution_count": 51,
   "metadata": {},
   "outputs": [
    {
     "data": {
      "text/plain": [
       "0.18980762054012443"
      ]
     },
     "execution_count": 51,
     "metadata": {},
     "output_type": "execute_result"
    }
   ],
   "source": [
    "# Calculating explicitly takes more effort and is less easy to edit for new problems:\n",
    "import math\n",
    "from math import factorial, exp\n",
    "lam = 4.5\n",
    "k = 4\n",
    "exp(-lam) * (lam ** k) / factorial(k)"
   ]
  },
  {
   "cell_type": "code",
   "execution_count": 52,
   "metadata": {},
   "outputs": [
    {
     "data": {
      "text/plain": [
       "array([0.011109  , 0.04999048, 0.11247859, 0.16871788, 0.18980762,\n",
       "       0.17082686, 0.12812014, 0.08236295, 0.04632916, 0.02316458,\n",
       "       0.01042406])"
      ]
     },
     "execution_count": 52,
     "metadata": {},
     "output_type": "execute_result"
    }
   ],
   "source": [
    "# Printing some probabilities:\n",
    "x = np.array([0, 1, 2, 3, 4, 5, 6, 7, 8, 9, 10])\n",
    "out1 = poisson.pmf(k=x, mu=4.5)\n",
    "out1"
   ]
  },
  {
   "cell_type": "code",
   "execution_count": 53,
   "metadata": {},
   "outputs": [
    {
     "data": {
      "image/png": "[encoded data removed]",
      "text/plain": [
       "<Figure size 720x360 with 1 Axes>"
      ]
     },
     "metadata": {
      "needs_background": "light"
     },
     "output_type": "display_data"
    }
   ],
   "source": [
    "# Creating a plot:\n",
    "import matplotlib.pyplot as plt\n",
    "fig = plt.figure(figsize = (10, 5))\n",
    "\n",
    "# Creating the bar plot\n",
    "plt.bar(x, out1, color ='maroon', width = 0.4)\n",
    "\n",
    "plt.xlabel(\"Number of events\")\n",
    "plt.ylabel(\"Probability\")\n",
    "plt.title(\"Plot of Poisson Random Variable: X ~ Pois(lambda = 4.5)\")\n",
    "plt.show()\n"
   ]
  },
  {
   "cell_type": "markdown",
   "metadata": {},
   "source": [
    "## 3. Calculating cumulative probablities using the Poisson distribution"
   ]
  },
  {
   "cell_type": "code",
   "execution_count": 54,
   "metadata": {},
   "outputs": [
    {
     "data": {
      "text/plain": [
       "0.34229595583459105"
      ]
     },
     "execution_count": 54,
     "metadata": {},
     "output_type": "execute_result"
    }
   ],
   "source": [
    "# Calculate Poisson probability P(X <= 3) when X ~ Pois(lambda = 4.5)\n",
    "poisson.cdf(k=3, mu=4.5)\n"
   ]
  },
  {
   "cell_type": "code",
   "execution_count": 55,
   "metadata": {},
   "outputs": [
    {
     "data": {
      "text/plain": [
       "array([0.011109  , 0.06109948, 0.17357807, 0.34229596, 0.53210358,\n",
       "       0.70293043, 0.83105058, 0.91341353, 0.95974269, 0.98290727,\n",
       "       0.99333133])"
      ]
     },
     "execution_count": 55,
     "metadata": {},
     "output_type": "execute_result"
    }
   ],
   "source": [
    "# Seeing what this actually does:\n",
    "out2 = poisson.cdf(k=x, mu=4.5)\n",
    "out2"
   ]
  },
  {
   "cell_type": "markdown",
   "metadata": {},
   "source": [
    "## 4. Visualising a random sample from the Poisson:"
   ]
  },
  {
   "cell_type": "code",
   "execution_count": 56,
   "metadata": {},
   "outputs": [
    {
     "name": "stdout",
     "output_type": "stream",
     "text": [
      "Counter({4: 179, 3: 169, 5: 166, 2: 146, 6: 111, 7: 88, 1: 56, 8: 41, 9: 24, 0: 11, 10: 5, 11: 2, 12: 1, 13: 1})\n"
     ]
    },
    {
     "data": {
      "image/png": "[encoded data removed]",
      "text/plain": [
       "<Figure size 360x360 with 1 Axes>"
      ]
     },
     "metadata": {
      "needs_background": "light"
     },
     "output_type": "display_data"
    }
   ],
   "source": [
    "import matplotlib.pyplot as plt\n",
    "import seaborn as sns\n",
    "from collections import Counter\n",
    "\n",
    "y = random.poisson(lam=4.5, size=1000)\n",
    "\n",
    "# Find the frequencies:\n",
    "freq = Counter(y)\n",
    "print(freq)\n",
    "\n",
    "sns.displot(y)\n",
    "\n",
    "plt.show()\n",
    "# More on displot: https://seaborn.pydata.org/generated/seaborn.displot.html"
   ]
  },
  {
   "cell_type": "markdown",
   "metadata": {},
   "source": [
    "## Some further reading:\n",
    "\n",
    "Some detail about some functions here:\n",
    "https://docs.scipy.org/doc/scipy/reference/generated/scipy.stats.poisson.html\n",
    "and here:\n",
    "https://www.w3schools.com/python/numpy/numpy_random_poisson.asp\n",
    "and here:\n",
    "https://numpy.org/doc/stable/reference/random/generated/numpy.random.poisson.html\n",
    "\n",
    "Excellent code and examples here:\n",
    "https://www.statology.org/poisson-distribution-python/\n",
    "and here:\n",
    "https://vitalflux.com/poisson-distribution-explained-with-python-examples/\n",
    "\n",
    "See how to make barplots neater here:\n",
    "https://medium.com/python-pandemonium/data-visualization-in-python-bar-graph-in-matplotlib-f1738602e9c4\n",
    "and here:\n",
    "https://www.geeksforgeeks.org/bar-plot-in-matplotlib/\n",
    "and here:\n",
    "https://www.shanelynn.ie/bar-plots-in-python-using-pandas-dataframes/\n",
    "\n",
    "Some more code and nice examples here:\n",
    "https://pyshark.com/poisson-distribution-and-poisson-process-in-python/\n",
    "and here:\n",
    "https://radzion.com/blog/probability/poisson\n",
    "and here:\n",
    "https://hadrienj.github.io/posts/Essential-Math-poisson_distribution/"
   ]
  },
  {
   "cell_type": "markdown",
   "metadata": {},
   "source": [
    "## 5. Fitting a Poisson distribution to given data:"
   ]
  },
  {
   "cell_type": "code",
   "execution_count": 74,
   "metadata": {},
   "outputs": [
    {
     "data": {
      "text/plain": [
       "array([10,  3,  3,  5,  3,  5,  1,  4,  4,  5])"
      ]
     },
     "execution_count": 74,
     "metadata": {},
     "output_type": "execute_result"
    }
   ],
   "source": [
    "# First, let's simulate some data:\n",
    "from scipy.stats import poisson\n",
    "from numpy import random\n",
    "random.seed(13)\n",
    "out = random.poisson(lam=4.5, size=10)\n",
    "out\n",
    "# This could be number of events per hour, from 10 hours of data:"
   ]
  },
  {
   "cell_type": "code",
   "execution_count": 80,
   "metadata": {},
   "outputs": [
    {
     "data": {
      "text/plain": [
       "4.3"
      ]
     },
     "execution_count": 80,
     "metadata": {},
     "output_type": "execute_result"
    }
   ],
   "source": [
    "# What is my best guess at the population parameter lambda if I can only see the data?\n",
    "lambda_hat = sum(out) / len(out)\n",
    "lambda_hat\n",
    "# My best guess is 4.3 events per hour, on average\n",
    "# I can then use this distribution to make predictions, and can use\n",
    "# plots to see how well these fit to my data"
   ]
  },
  {
   "cell_type": "markdown",
   "metadata": {},
   "source": [
    "### Task:\n",
    "\n",
    "1. See what is happening here - this is a very important idea called Maximum Likelihood Estimation: https://online.stat.psu.edu/stat504/lesson/1/1.5\n",
    "2. See if you can re-produce the plot at the above link, but in Python code."
   ]
  },
  {
   "cell_type": "code",
   "execution_count": null,
   "metadata": {},
   "outputs": [],
   "source": []
  }
 ],
 "metadata": {
  "kernelspec": {
   "display_name": "Python 3",
   "language": "python",
   "name": "python3"
  },
  "language_info": {
   "codemirror_mode": {
    "name": "ipython",
    "version": 3
   },
   "file_extension": ".py",
   "mimetype": "text/x-python",
   "name": "python",
   "nbconvert_exporter": "python",
   "pygments_lexer": "ipython3",
   "version": "3.7.1"
  }
 },
 "nbformat": 4,
 "nbformat_minor": 2
}
