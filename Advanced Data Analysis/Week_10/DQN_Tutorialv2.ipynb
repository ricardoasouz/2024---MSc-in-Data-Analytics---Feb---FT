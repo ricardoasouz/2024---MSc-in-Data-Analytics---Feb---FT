{
 "cells": [
  {
   "cell_type": "markdown",
   "metadata": {
    "id": "klGNgWREsvQv"
   },
   "source": [
    "## DQN_Tutorial"
   ]
  },
  {
   "cell_type": "markdown",
   "metadata": {
    "id": "lsaQlK8fFQqH"
   },
   "source": [
    "## Introduction\n"
   ]
  },
  {
   "cell_type": "markdown",
   "metadata": {
    "id": "cKOCZlhUgXVK"
   },
   "source": [
    "This example shows how to train a [DQN (Deep Q Networks)](https://storage.googleapis.com/deepmind-media/dqn/DQNNaturePaper.pdf)  agent on the Cartpole environment using the TF-Agents library.\n",
    "\n",
    "![Cartpole environment](https://raw.githubusercontent.com/tensorflow/agents/master/docs/tutorials/images/cartpole.png)\n",
    "\n",
    "It will walk you through all the components in a Reinforcement Learning (RL) pipeline for training, evaluation and data collection."
   ]
  },
  {
   "cell_type": "markdown",
   "metadata": {
    "id": "1u9QVVsShC9X"
   },
   "source": [
    "## Setup"
   ]
  },
  {
   "cell_type": "markdown",
   "metadata": {
    "id": "kNrNXKI7bINP"
   },
   "source": [
    "If you haven't installed the following dependencies, run:\n",
    "(Uncomment below for colab)"
   ]
  },
  {
   "cell_type": "code",
   "execution_count": 41,
   "metadata": {},
   "outputs": [],
   "source": [
    "#!sudo apt-get update\n",
    "#!sudo apt-get install -y xvfb ffmpeg\n",
    "#!pip install 'imageio==2.4.0'\n",
    "#!pip install pyvirtualdisplay\n",
    "#!pip install tf-agents"
   ]
  },
  {
   "cell_type": "code",
   "execution_count": 44,
   "metadata": {},
   "outputs": [],
   "source": [
    "#pip install imageio==2.4.0"
   ]
  },
  {
   "cell_type": "markdown",
   "metadata": {},
   "source": [
    "### If Your using windows you need to install this as well"
   ]
  },
  {
   "cell_type": "code",
   "execution_count": 47,
   "metadata": {},
   "outputs": [],
   "source": [
    "#pip install imageio-ffmpeg"
   ]
  },
  {
   "cell_type": "code",
   "execution_count": 6,
   "metadata": {
    "id": "sMitx5qSgJk1"
   },
   "outputs": [
    {
     "name": "stdout",
     "output_type": "stream",
     "text": [
      "WARNING:tensorflow:From C:\\Users\\david\\AppData\\Roaming\\Python\\Python311\\site-packages\\tensorflow_probability\\python\\internal\\backend\\numpy\\_utils.py:48: The name tf.logging.TaskLevelStatusMessage is deprecated. Please use tf.compat.v1.logging.TaskLevelStatusMessage instead.\n",
      "\n",
      "WARNING:tensorflow:From C:\\Users\\david\\AppData\\Roaming\\Python\\Python311\\site-packages\\tensorflow_probability\\python\\internal\\backend\\numpy\\_utils.py:48: The name tf.control_flow_v2_enabled is deprecated. Please use tf.compat.v1.control_flow_v2_enabled instead.\n",
      "\n",
      "WARNING:tensorflow:From C:\\Users\\david\\AppData\\Roaming\\Python\\Python311\\site-packages\\tf_agents\\typing\\types.py:114: The name tf.train.Optimizer is deprecated. Please use tf.compat.v1.train.Optimizer instead.\n",
      "\n"
     ]
    }
   ],
   "source": [
    "from __future__ import absolute_import, division, print_function\n",
    "\n",
    "import base64\n",
    "import imageio\n",
    "import IPython\n",
    "import matplotlib\n",
    "import matplotlib.pyplot as plt\n",
    "import numpy as np\n",
    "import PIL.Image\n",
    "import pyvirtualdisplay\n",
    "\n",
    "import tensorflow as tf\n",
    "\n",
    "from tf_agents.agents.dqn import dqn_agent\n",
    "from tf_agents.environments import suite_gym\n",
    "from tf_agents.environments import tf_py_environment\n",
    "from tf_agents.eval import metric_utils\n",
    "from tf_agents.metrics import tf_metrics\n",
    "from tf_agents.networks import sequential\n",
    "from tf_agents.policies import random_tf_policy\n",
    "from tf_agents.replay_buffers import tf_uniform_replay_buffer\n",
    "from tf_agents.trajectories import trajectory\n",
    "from tf_agents.specs import tensor_spec\n",
    "from tf_agents.utils import common"
   ]
  },
  {
   "cell_type": "markdown",
   "metadata": {},
   "source": [
    "## Uncomment the following line if you wish to run this on colab!"
   ]
  },
  {
   "cell_type": "code",
   "execution_count": 39,
   "metadata": {
    "id": "J6HsdS5GbSjd"
   },
   "outputs": [],
   "source": [
    "#display = pyvirtualdisplay.Display(visible=0, size=(1400, 900)).start()"
   ]
  },
  {
   "cell_type": "code",
   "execution_count": 7,
   "metadata": {
    "id": "NspmzG4nP3b9"
   },
   "outputs": [
    {
     "data": {
      "text/plain": [
       "'2.15.0'"
      ]
     },
     "execution_count": 7,
     "metadata": {},
     "output_type": "execute_result"
    }
   ],
   "source": [
    "tf.version.VERSION"
   ]
  },
  {
   "cell_type": "markdown",
   "metadata": {
    "id": "LmC0NDhdLIKY"
   },
   "source": [
    "## Hyperparameters"
   ]
  },
  {
   "cell_type": "code",
   "execution_count": 8,
   "metadata": {
    "id": "HC1kNrOsLSIZ"
   },
   "outputs": [],
   "source": [
    "num_iterations = 20000 # @param {type:\"integer\"}\n",
    "\n",
    "initial_collect_steps = 100  # @param {type:\"integer\"} \n",
    "collect_steps_per_iteration = 1  # @param {type:\"integer\"}\n",
    "replay_buffer_max_length = 100000  # @param {type:\"integer\"}\n",
    "\n",
    "batch_size = 64  # @param {type:\"integer\"}\n",
    "learning_rate = 1e-3  # @param {type:\"number\"}\n",
    "log_interval = 200  # @param {type:\"integer\"}\n",
    "\n",
    "num_eval_episodes = 10  # @param {type:\"integer\"}\n",
    "eval_interval = 1000  # @param {type:\"integer\"}"
   ]
  },
  {
   "cell_type": "markdown",
   "metadata": {
    "id": "VMsJC3DEgI0x"
   },
   "source": [
    "## Environment\n",
    "\n",
    "In Reinforcement Learning (RL), an environment represents the task or problem to be solved. Standard environments can be created in TF-Agents using `tf_agents.environments` suites. TF-Agents has suites for loading environments from sources such as the OpenAI Gym, Atari, and DM Control.\n",
    "\n",
    "Load the CartPole environment from the OpenAI Gym suite. "
   ]
  },
  {
   "cell_type": "code",
   "execution_count": 9,
   "metadata": {
    "id": "pYEz-S9gEv2-"
   },
   "outputs": [],
   "source": [
    "env_name = 'CartPole-v0'\n",
    "env = suite_gym.load(env_name)"
   ]
  },
  {
   "cell_type": "markdown",
   "metadata": {
    "id": "IIHYVBkuvPNw"
   },
   "source": [
    "You can render this environment to see how it looks. A free-swinging pole is attached to a cart.  The goal is to move the cart right or left in order to keep the pole pointing up."
   ]
  },
  {
   "cell_type": "code",
   "execution_count": 10,
   "metadata": {
    "id": "RlO7WIQHu_7D"
   },
   "outputs": [
    {
     "data": {
      "image/png": "[encoded data removed]",
      "text/plain": [
       "<PIL.Image.Image image mode=RGB size=600x400>"
      ]
     },
     "execution_count": 10,
     "metadata": {},
     "output_type": "execute_result"
    }
   ],
   "source": [
    "#@test {\"skip\": true}\n",
    "env.reset()\n",
    "PIL.Image.fromarray(env.render())"
   ]
  },
  {
   "cell_type": "markdown",
   "metadata": {
    "id": "B9_lskPOey18"
   },
   "source": [
    "The `environment.step` method takes an `action` in the environment and returns a `TimeStep` tuple containing the next observation of the environment and the reward for the action.\n",
    "\n",
    "The `time_step_spec()` method returns the specification for the `TimeStep` tuple. Its `observation` attribute shows the shape of observations, the data types, and the ranges of allowed values. The `reward` attribute shows the same details for the reward.\n"
   ]
  },
  {
   "cell_type": "code",
   "execution_count": 11,
   "metadata": {
    "id": "exDv57iHfwQV"
   },
   "outputs": [
    {
     "name": "stdout",
     "output_type": "stream",
     "text": [
      "Observation Spec:\n",
      "BoundedArraySpec(shape=(4,), dtype=dtype('float32'), name='observation', minimum=[-4.8000002e+00 -3.4028235e+38 -4.1887903e-01 -3.4028235e+38], maximum=[4.8000002e+00 3.4028235e+38 4.1887903e-01 3.4028235e+38])\n"
     ]
    }
   ],
   "source": [
    "print('Observation Spec:')\n",
    "print(env.time_step_spec().observation)"
   ]
  },
  {
   "cell_type": "code",
   "execution_count": 12,
   "metadata": {
    "id": "UxiSyCbBUQPi"
   },
   "outputs": [
    {
     "name": "stdout",
     "output_type": "stream",
     "text": [
      "Reward Spec:\n",
      "ArraySpec(shape=(), dtype=dtype('float32'), name='reward')\n"
     ]
    }
   ],
   "source": [
    "print('Reward Spec:')\n",
    "print(env.time_step_spec().reward)"
   ]
  },
  {
   "cell_type": "markdown",
   "metadata": {
    "id": "b_lHcIcqUaqB"
   },
   "source": [
    "The `action_spec()` method returns the shape, data types, and allowed values of valid actions."
   ]
  },
  {
   "cell_type": "code",
   "execution_count": 13,
   "metadata": {
    "id": "bttJ4uxZUQBr"
   },
   "outputs": [
    {
     "name": "stdout",
     "output_type": "stream",
     "text": [
      "Action Spec:\n",
      "BoundedArraySpec(shape=(), dtype=dtype('int64'), name='action', minimum=0, maximum=1)\n"
     ]
    }
   ],
   "source": [
    "print('Action Spec:')\n",
    "print(env.action_spec())"
   ]
  },
  {
   "cell_type": "markdown",
   "metadata": {
    "id": "eJCgJnx3g0yY"
   },
   "source": [
    "In the Cartpole environment:\n",
    "\n",
    "-   `observation` is an array of 4 floats: \n",
    "    -   the position and velocity of the cart\n",
    "    -   the angular position and velocity of the pole \n",
    "-   `reward` is a scalar float value\n",
    "-   `action` is a scalar integer with only two possible values:\n",
    "    -   `0` — \"move left\"\n",
    "    -   `1` — \"move right\"\n"
   ]
  },
  {
   "cell_type": "code",
   "execution_count": 14,
   "metadata": {
    "id": "V2UGR5t_iZX-"
   },
   "outputs": [
    {
     "name": "stdout",
     "output_type": "stream",
     "text": [
      "Time step:\n",
      "TimeStep(\n",
      "{'step_type': array(0),\n",
      " 'reward': array(0., dtype=float32),\n",
      " 'discount': array(1., dtype=float32),\n",
      " 'observation': array([-0.0034106 , -0.00817293,  0.03073901,  0.03561617], dtype=float32)})\n",
      "Next time step:\n",
      "TimeStep(\n",
      "{'step_type': array(1),\n",
      " 'reward': array(1., dtype=float32),\n",
      " 'discount': array(1., dtype=float32),\n",
      " 'observation': array([-0.00357406,  0.18649504,  0.03145133, -0.247212  ], dtype=float32)})\n"
     ]
    }
   ],
   "source": [
    "time_step = env.reset()\n",
    "print('Time step:')\n",
    "print(time_step)\n",
    "\n",
    "action = np.array(1, dtype=np.int32)\n",
    "\n",
    "next_time_step = env.step(action)\n",
    "print('Next time step:')\n",
    "print(next_time_step)"
   ]
  },
  {
   "cell_type": "markdown",
   "metadata": {
    "id": "4JSc9GviWUBK"
   },
   "source": [
    "Usually two environments are instantiated: one for training and one for evaluation. "
   ]
  },
  {
   "cell_type": "code",
   "execution_count": 15,
   "metadata": {
    "id": "N7brXNIGWXjC"
   },
   "outputs": [],
   "source": [
    "train_py_env = suite_gym.load(env_name)\n",
    "eval_py_env = suite_gym.load(env_name)"
   ]
  },
  {
   "cell_type": "markdown",
   "metadata": {
    "id": "zuUqXAVmecTU"
   },
   "source": [
    "The Cartpole environment, like most environments, is written in pure Python. This is converted to TensorFlow using the `TFPyEnvironment` wrapper.\n",
    "\n",
    "The original environment's API uses Numpy arrays. The `TFPyEnvironment` converts these to `Tensors` to make it compatible with Tensorflow agents and policies.\n"
   ]
  },
  {
   "cell_type": "code",
   "execution_count": 16,
   "metadata": {
    "id": "Xp-Y4mD6eDhF"
   },
   "outputs": [],
   "source": [
    "train_env = tf_py_environment.TFPyEnvironment(train_py_env)\n",
    "eval_env = tf_py_environment.TFPyEnvironment(eval_py_env)"
   ]
  },
  {
   "cell_type": "markdown",
   "metadata": {
    "id": "E9lW_OZYFR8A"
   },
   "source": [
    "## Agent\n",
    "\n",
    "The algorithm used to solve an RL problem is represented by an `Agent`. TF-Agents provides standard implementations of a variety of `Agents`, including:\n",
    "\n",
    "-   [DQN](https://storage.googleapis.com/deepmind-media/dqn/DQNNaturePaper.pdf) (used in this tutorial)\n",
    "-   [REINFORCE](https://www-anw.cs.umass.edu/~barto/courses/cs687/williams92simple.pdf)\n",
    "-   [DDPG](https://arxiv.org/pdf/1509.02971.pdf)\n",
    "-   [TD3](https://arxiv.org/pdf/1802.09477.pdf)\n",
    "-   [PPO](https://arxiv.org/abs/1707.06347)\n",
    "-   [SAC](https://arxiv.org/abs/1801.01290).\n",
    "\n",
    "The DQN agent can be used in any environment which has a discrete action space.\n",
    "\n",
    "At the heart of a DQN Agent is a `QNetwork`, a neural network model that can learn to predict `QValues` (expected returns) for all actions, given an observation from the environment.\n",
    "\n",
    "We will use `tf_agents.networks.` to create a `QNetwork`. The network will consist of a sequence of `tf.keras.layers.Dense` layers, where the final layer will have 1 output for each possible action."
   ]
  },
  {
   "cell_type": "code",
   "execution_count": 17,
   "metadata": {
    "id": "TgkdEPg_muzV"
   },
   "outputs": [
    {
     "name": "stdout",
     "output_type": "stream",
     "text": [
      "WARNING:tensorflow:From C:\\Users\\david\\AppData\\Roaming\\Python\\Python311\\site-packages\\keras\\src\\backend.py:873: The name tf.get_default_graph is deprecated. Please use tf.compat.v1.get_default_graph instead.\n",
      "\n"
     ]
    }
   ],
   "source": [
    "fc_layer_params = (100, 50)\n",
    "action_tensor_spec = tensor_spec.from_spec(env.action_spec())\n",
    "num_actions = action_tensor_spec.maximum - action_tensor_spec.minimum + 1\n",
    "\n",
    "# Define a helper function to create Dense layers configured with the right\n",
    "# activation and kernel initializer.\n",
    "def dense_layer(num_units):\n",
    "  return tf.keras.layers.Dense(\n",
    "      num_units,\n",
    "      activation=tf.keras.activations.relu,\n",
    "      kernel_initializer=tf.keras.initializers.VarianceScaling(\n",
    "          scale=2.0, mode='fan_in', distribution='truncated_normal'))\n",
    "\n",
    "# QNetwork consists of a sequence of Dense layers followed by a dense layer\n",
    "# with `num_actions` units to generate one q_value per available action as\n",
    "# it's output.\n",
    "dense_layers = [dense_layer(num_units) for num_units in fc_layer_params]\n",
    "q_values_layer = tf.keras.layers.Dense(\n",
    "    num_actions,\n",
    "    activation=None,\n",
    "    kernel_initializer=tf.keras.initializers.RandomUniform(\n",
    "        minval=-0.03, maxval=0.03),\n",
    "    bias_initializer=tf.keras.initializers.Constant(-0.2))\n",
    "q_net = sequential.Sequential(dense_layers + [q_values_layer])"
   ]
  },
  {
   "cell_type": "markdown",
   "metadata": {
    "id": "z62u55hSmviJ"
   },
   "source": [
    "Now use `tf_agents.agents.dqn.dqn_agent` to instantiate a `DqnAgent`. In addition to the `time_step_spec`, `action_spec` and the QNetwork, the agent constructor also requires an optimizer (in this case, `AdamOptimizer`), a loss function, and an integer step counter."
   ]
  },
  {
   "cell_type": "code",
   "execution_count": 18,
   "metadata": {
    "id": "jbY4yrjTEyc9"
   },
   "outputs": [],
   "source": [
    "optimizer = tf.keras.optimizers.Adam(learning_rate=learning_rate)\n",
    "\n",
    "train_step_counter = tf.Variable(0)\n",
    "\n",
    "agent = dqn_agent.DqnAgent(\n",
    "    train_env.time_step_spec(),\n",
    "    train_env.action_spec(),\n",
    "    q_network=q_net,\n",
    "    optimizer=optimizer,\n",
    "    td_errors_loss_fn=common.element_wise_squared_loss,\n",
    "    train_step_counter=train_step_counter)\n",
    "\n",
    "agent.initialize()"
   ]
  },
  {
   "cell_type": "markdown",
   "metadata": {
    "id": "I0KLrEPwkn5x"
   },
   "source": [
    "## Policies\n",
    "\n",
    "A policy defines the way an agent acts in an environment. Typically, the goal of reinforcement learning is to train the underlying model until the policy produces the desired outcome.\n",
    "\n",
    "In this tutorial:\n",
    "\n",
    "-   The desired outcome is keeping the pole balanced upright over the cart.\n",
    "-   The policy returns an action (left or right) for each `time_step` observation.\n",
    "\n",
    "Agents contain two policies: \n",
    "\n",
    "-   `agent.policy` — The main policy that is used for evaluation and deployment.\n",
    "-   `agent.collect_policy` — A second policy that is used for data collection.\n"
   ]
  },
  {
   "cell_type": "code",
   "execution_count": 19,
   "metadata": {
    "id": "BwY7StuMkuV4"
   },
   "outputs": [],
   "source": [
    "eval_policy = agent.policy\n",
    "collect_policy = agent.collect_policy"
   ]
  },
  {
   "cell_type": "markdown",
   "metadata": {
    "id": "2Qs1Fl3dV0ae"
   },
   "source": [
    "Policies can be created independently of agents. For example, use `tf_agents.policies.random_tf_policy` to create a policy which will randomly select an action for each `time_step`."
   ]
  },
  {
   "cell_type": "code",
   "execution_count": 20,
   "metadata": {
    "id": "HE37-UCIrE69"
   },
   "outputs": [],
   "source": [
    "random_policy = random_tf_policy.RandomTFPolicy(train_env.time_step_spec(),\n",
    "                                                train_env.action_spec())"
   ]
  },
  {
   "cell_type": "markdown",
   "metadata": {
    "id": "dOlnlRRsUbxP"
   },
   "source": [
    "To get an action from a policy, call the `policy.action(time_step)` method. The `time_step` contains the observation from the environment. This method returns a `PolicyStep`, which is a named tuple with three components:\n",
    "\n",
    "-   `action` — the action to be taken (in this case, `0` or `1`)\n",
    "-   `state` — used for stateful (that is, RNN-based) policies\n",
    "-   `info` — auxiliary data, such as log probabilities of actions"
   ]
  },
  {
   "cell_type": "code",
   "execution_count": 21,
   "metadata": {
    "id": "5gCcpXswVAxk"
   },
   "outputs": [],
   "source": [
    "example_environment = tf_py_environment.TFPyEnvironment(\n",
    "    suite_gym.load('CartPole-v0'))"
   ]
  },
  {
   "cell_type": "code",
   "execution_count": 22,
   "metadata": {
    "id": "D4DHZtq3Ndis"
   },
   "outputs": [],
   "source": [
    "time_step = example_environment.reset()"
   ]
  },
  {
   "cell_type": "code",
   "execution_count": 23,
   "metadata": {
    "id": "PRFqAUzpNaAW"
   },
   "outputs": [
    {
     "data": {
      "text/plain": [
       "PolicyStep(action=<tf.Tensor: shape=(1,), dtype=int64, numpy=array([1], dtype=int64)>, state=(), info=())"
      ]
     },
     "execution_count": 23,
     "metadata": {},
     "output_type": "execute_result"
    }
   ],
   "source": [
    "random_policy.action(time_step)"
   ]
  },
  {
   "cell_type": "markdown",
   "metadata": {
    "id": "94rCXQtbUbXv"
   },
   "source": [
    "## Metrics and Evaluation\n",
    "\n",
    "The most common metric used to evaluate a policy is the average return. The return is the sum of rewards obtained while running a policy in an environment for an episode. Several episodes are run, creating an average return.\n",
    "\n",
    "The following function computes the average return of a policy, given the policy, environment, and a number of episodes.\n"
   ]
  },
  {
   "cell_type": "code",
   "execution_count": 24,
   "metadata": {
    "id": "bitzHo5_UbXy"
   },
   "outputs": [],
   "source": [
    "#@test {\"skip\": true}\n",
    "def compute_avg_return(environment, policy, num_episodes=10):\n",
    "\n",
    "  total_return = 0.0\n",
    "  for _ in range(num_episodes):\n",
    "\n",
    "    time_step = environment.reset()\n",
    "    episode_return = 0.0\n",
    "\n",
    "    while not time_step.is_last():\n",
    "      action_step = policy.action(time_step)\n",
    "      time_step = environment.step(action_step.action)\n",
    "      episode_return += time_step.reward\n",
    "    total_return += episode_return\n",
    "\n",
    "  avg_return = total_return / num_episodes\n",
    "  return avg_return.numpy()[0]\n",
    "\n",
    "\n",
    "# See also the metrics module for standard implementations of different metrics.\n",
    "# https://github.com/tensorflow/agents/tree/master/tf_agents/metrics"
   ]
  },
  {
   "cell_type": "markdown",
   "metadata": {
    "id": "_snCVvq5Z8lJ"
   },
   "source": [
    "Running this computation on the `random_policy` shows a baseline performance in the environment."
   ]
  },
  {
   "cell_type": "code",
   "execution_count": 25,
   "metadata": {
    "id": "9bgU6Q6BZ8Bp"
   },
   "outputs": [
    {
     "data": {
      "text/plain": [
       "29.5"
      ]
     },
     "execution_count": 25,
     "metadata": {},
     "output_type": "execute_result"
    }
   ],
   "source": [
    "compute_avg_return(eval_env, random_policy, num_eval_episodes)"
   ]
  },
  {
   "cell_type": "markdown",
   "metadata": {
    "id": "NLva6g2jdWgr"
   },
   "source": [
    "## Replay Buffer\n",
    "\n",
    "The replay buffer keeps track of data collected from the environment. This tutorial uses `tf_agents.replay_buffers.tf_uniform_replay_buffer.TFUniformReplayBuffer`, as it is the most common. \n",
    "\n",
    "The constructor requires the specs for the data it will be collecting. This is available from the agent using the `collect_data_spec` method. The batch size and maximum buffer length are also required.\n"
   ]
  },
  {
   "cell_type": "code",
   "execution_count": 26,
   "metadata": {
    "id": "vX2zGUWJGWAl"
   },
   "outputs": [],
   "source": [
    "replay_buffer = tf_uniform_replay_buffer.TFUniformReplayBuffer(\n",
    "    data_spec=agent.collect_data_spec,\n",
    "    batch_size=train_env.batch_size,\n",
    "    max_length=replay_buffer_max_length)"
   ]
  },
  {
   "cell_type": "markdown",
   "metadata": {
    "id": "ZGNTDJpZs4NN"
   },
   "source": [
    "For most agents, `collect_data_spec` is a named tuple called `Trajectory`, containing the specs for observations, actions, rewards, and other items."
   ]
  },
  {
   "cell_type": "code",
   "execution_count": 27,
   "metadata": {
    "id": "_IZ-3HcqgE1z"
   },
   "outputs": [
    {
     "data": {
      "text/plain": [
       "Trajectory(\n",
       "{'step_type': TensorSpec(shape=(), dtype=tf.int32, name='step_type'),\n",
       " 'observation': BoundedTensorSpec(shape=(4,), dtype=tf.float32, name='observation', minimum=array([-4.8000002e+00, -3.4028235e+38, -4.1887903e-01, -3.4028235e+38],\n",
       "      dtype=float32), maximum=array([4.8000002e+00, 3.4028235e+38, 4.1887903e-01, 3.4028235e+38],\n",
       "      dtype=float32)),\n",
       " 'action': BoundedTensorSpec(shape=(), dtype=tf.int64, name='action', minimum=array(0, dtype=int64), maximum=array(1, dtype=int64)),\n",
       " 'policy_info': (),\n",
       " 'next_step_type': TensorSpec(shape=(), dtype=tf.int32, name='step_type'),\n",
       " 'reward': TensorSpec(shape=(), dtype=tf.float32, name='reward'),\n",
       " 'discount': BoundedTensorSpec(shape=(), dtype=tf.float32, name='discount', minimum=array(0., dtype=float32), maximum=array(1., dtype=float32))})"
      ]
     },
     "execution_count": 27,
     "metadata": {},
     "output_type": "execute_result"
    }
   ],
   "source": [
    "agent.collect_data_spec"
   ]
  },
  {
   "cell_type": "code",
   "execution_count": 28,
   "metadata": {
    "id": "sy6g1tGcfRlw"
   },
   "outputs": [
    {
     "data": {
      "text/plain": [
       "('step_type',\n",
       " 'observation',\n",
       " 'action',\n",
       " 'policy_info',\n",
       " 'next_step_type',\n",
       " 'reward',\n",
       " 'discount')"
      ]
     },
     "execution_count": 28,
     "metadata": {},
     "output_type": "execute_result"
    }
   ],
   "source": [
    "agent.collect_data_spec._fields"
   ]
  },
  {
   "cell_type": "markdown",
   "metadata": {
    "id": "rVD5nQ9ZGo8_"
   },
   "source": [
    "## Data Collection\n",
    "\n",
    "Now execute the random policy in the environment for a few steps, recording the data in the replay buffer."
   ]
  },
  {
   "cell_type": "code",
   "execution_count": 29,
   "metadata": {
    "id": "wr1KSAEGG4h9"
   },
   "outputs": [],
   "source": [
    "#@test {\"skip\": true}\n",
    "def collect_step(environment, policy, buffer):\n",
    "  time_step = environment.current_time_step()\n",
    "  action_step = policy.action(time_step)\n",
    "  next_time_step = environment.step(action_step.action)\n",
    "  traj = trajectory.from_transition(time_step, action_step, next_time_step)\n",
    "\n",
    "  # Add trajectory to the replay buffer\n",
    "  buffer.add_batch(traj)\n",
    "\n",
    "def collect_data(env, policy, buffer, steps):\n",
    "  for _ in range(steps):\n",
    "    collect_step(env, policy, buffer)\n",
    "\n",
    "collect_data(train_env, random_policy, replay_buffer, initial_collect_steps)\n",
    "\n",
    "# This loop is so common in RL, that we provide standard implementations. \n",
    "# https://github.com/tensorflow/agents/blob/master/docs/tutorials/4_drivers_tutorial.ipynb \n",
    "# https://www.tensorflow.org/agents/api_docs/python/tf_agents/drivers"
   ]
  },
  {
   "cell_type": "markdown",
   "metadata": {
    "id": "84z5pQJdoKxo"
   },
   "source": [
    "The replay buffer is now a collection of Trajectories."
   ]
  },
  {
   "cell_type": "code",
   "execution_count": 30,
   "metadata": {
    "id": "4wZnLu2ViO4E"
   },
   "outputs": [
    {
     "name": "stdout",
     "output_type": "stream",
     "text": [
      "WARNING:tensorflow:From C:\\Users\\david\\AppData\\Roaming\\Python\\Python311\\site-packages\\tensorflow\\python\\autograph\\impl\\api.py:377: ReplayBuffer.get_next (from tf_agents.replay_buffers.replay_buffer) is deprecated and will be removed in a future version.\n",
      "Instructions for updating:\n",
      "Use `as_dataset(..., single_deterministic_pass=False) instead.\n"
     ]
    },
    {
     "data": {
      "text/plain": [
       "(Trajectory(\n",
       " {'step_type': <tf.Tensor: shape=(), dtype=int32, numpy=1>,\n",
       "  'observation': <tf.Tensor: shape=(4,), dtype=float32, numpy=array([-0.04323805, -0.42095545,  0.0180796 ,  0.5948474 ], dtype=float32)>,\n",
       "  'action': <tf.Tensor: shape=(), dtype=int64, numpy=1>,\n",
       "  'policy_info': (),\n",
       "  'next_step_type': <tf.Tensor: shape=(), dtype=int32, numpy=1>,\n",
       "  'reward': <tf.Tensor: shape=(), dtype=float32, numpy=1.0>,\n",
       "  'discount': <tf.Tensor: shape=(), dtype=float32, numpy=1.0>}),\n",
       " BufferInfo(ids=<tf.Tensor: shape=(), dtype=int64, numpy=66>, probabilities=<tf.Tensor: shape=(), dtype=float32, numpy=0.01>))"
      ]
     },
     "execution_count": 30,
     "metadata": {},
     "output_type": "execute_result"
    }
   ],
   "source": [
    "# For the curious:\n",
    "# Uncomment to peel one of these off and inspect it.\n",
    "iter(replay_buffer.as_dataset()).next()"
   ]
  },
  {
   "cell_type": "markdown",
   "metadata": {
    "id": "TujU-PMUsKjS"
   },
   "source": [
    "The agent needs access to the replay buffer. This is provided by creating an iterable `tf.data.Dataset` pipeline which will feed data to the agent.\n",
    "\n",
    "Each row of the replay buffer only stores a single observation step. But since the DQN Agent needs both the current and next observation to compute the loss, the dataset pipeline will sample two adjacent rows for each item in the batch (`num_steps=2`).\n",
    "\n",
    "This dataset is also optimized by running parallel calls and prefetching data."
   ]
  },
  {
   "cell_type": "code",
   "execution_count": 31,
   "metadata": {
    "id": "ba7bilizt_qW"
   },
   "outputs": [
    {
     "data": {
      "text/plain": [
       "<_PrefetchDataset element_spec=(Trajectory(\n",
       "{'step_type': TensorSpec(shape=(64, 2), dtype=tf.int32, name=None),\n",
       " 'observation': TensorSpec(shape=(64, 2, 4), dtype=tf.float32, name=None),\n",
       " 'action': TensorSpec(shape=(64, 2), dtype=tf.int64, name=None),\n",
       " 'policy_info': (),\n",
       " 'next_step_type': TensorSpec(shape=(64, 2), dtype=tf.int32, name=None),\n",
       " 'reward': TensorSpec(shape=(64, 2), dtype=tf.float32, name=None),\n",
       " 'discount': TensorSpec(shape=(64, 2), dtype=tf.float32, name=None)}), BufferInfo(ids=TensorSpec(shape=(64, 2), dtype=tf.int64, name=None), probabilities=TensorSpec(shape=(64,), dtype=tf.float32, name=None)))>"
      ]
     },
     "execution_count": 31,
     "metadata": {},
     "output_type": "execute_result"
    }
   ],
   "source": [
    "# Dataset generates trajectories with shape [Bx2x...]\n",
    "dataset = replay_buffer.as_dataset(\n",
    "    num_parallel_calls=3, \n",
    "    sample_batch_size=batch_size, \n",
    "    num_steps=2).prefetch(3)\n",
    "\n",
    "\n",
    "dataset"
   ]
  },
  {
   "cell_type": "code",
   "execution_count": 32,
   "metadata": {
    "id": "K13AST-2ppOq"
   },
   "outputs": [
    {
     "name": "stdout",
     "output_type": "stream",
     "text": [
      "<tensorflow.python.data.ops.iterator_ops.OwnedIterator object at 0x000001C16BE7CD10>\n"
     ]
    }
   ],
   "source": [
    "iterator = iter(dataset)\n",
    "print(iterator)"
   ]
  },
  {
   "cell_type": "code",
   "execution_count": 33,
   "metadata": {
    "id": "Th5w5Sff0b16"
   },
   "outputs": [
    {
     "data": {
      "text/plain": [
       "(Trajectory(\n",
       " {'step_type': <tf.Tensor: shape=(64, 2), dtype=int32, numpy=\n",
       " array([[1, 1],\n",
       "        [1, 1],\n",
       "        [1, 1],\n",
       "        [1, 1],\n",
       "        [1, 1],\n",
       "        [1, 1],\n",
       "        [1, 1],\n",
       "        [1, 1],\n",
       "        [1, 1],\n",
       "        [1, 1],\n",
       "        [1, 1],\n",
       "        [1, 1],\n",
       "        [1, 1],\n",
       "        [1, 1],\n",
       "        [2, 0],\n",
       "        [1, 1],\n",
       "        [1, 1],\n",
       "        [1, 1],\n",
       "        [1, 1],\n",
       "        [1, 1],\n",
       "        [1, 1],\n",
       "        [1, 1],\n",
       "        [1, 1],\n",
       "        [1, 1],\n",
       "        [1, 1],\n",
       "        [1, 1],\n",
       "        [0, 1],\n",
       "        [1, 1],\n",
       "        [1, 1],\n",
       "        [1, 1],\n",
       "        [1, 1],\n",
       "        [0, 1],\n",
       "        [1, 1],\n",
       "        [1, 1],\n",
       "        [1, 1],\n",
       "        [1, 1],\n",
       "        [1, 1],\n",
       "        [1, 1],\n",
       "        [1, 1],\n",
       "        [1, 1],\n",
       "        [1, 1],\n",
       "        [1, 1],\n",
       "        [1, 1],\n",
       "        [1, 1],\n",
       "        [1, 1],\n",
       "        [1, 1],\n",
       "        [1, 1],\n",
       "        [1, 1],\n",
       "        [1, 1],\n",
       "        [1, 2],\n",
       "        [1, 1],\n",
       "        [1, 1],\n",
       "        [1, 1],\n",
       "        [1, 1],\n",
       "        [1, 1],\n",
       "        [1, 1],\n",
       "        [1, 1],\n",
       "        [1, 1],\n",
       "        [1, 1],\n",
       "        [1, 1],\n",
       "        [1, 1],\n",
       "        [1, 1],\n",
       "        [1, 1],\n",
       "        [1, 1]])>,\n",
       "  'observation': <tf.Tensor: shape=(64, 2, 4), dtype=float32, numpy=\n",
       " array([[[-8.76809731e-02, -4.27168161e-01,  8.93768966e-02,\n",
       "           7.34323442e-01],\n",
       "         [-9.62243304e-02, -2.33387217e-01,  1.04063362e-01,\n",
       "           4.71054018e-01]],\n",
       " \n",
       "        [[-3.52862664e-02, -9.85504627e-01,  5.35946377e-02,\n",
       "           1.28906202e+00],\n",
       "         [-5.49963601e-02, -1.18126583e+00,  7.93758780e-02,\n",
       "           1.59803140e+00]],\n",
       " \n",
       "        [[ 6.14920855e-02,  5.55465758e-01, -1.04163915e-01,\n",
       "          -9.78820384e-01],\n",
       "         [ 7.26014003e-02,  3.61882836e-01, -1.23740323e-01,\n",
       "          -7.20588684e-01]],\n",
       " \n",
       "        [[ 5.38872704e-02, -1.66649558e-02, -4.60965931e-02,\n",
       "          -2.61523686e-02],\n",
       "         [ 5.35539724e-02, -2.11096570e-01, -4.66196425e-02,\n",
       "           2.51637638e-01]],\n",
       " \n",
       "        [[-1.54505484e-02, -1.67639971e-01,  4.58667018e-02,\n",
       "           2.94879198e-01],\n",
       "         [-1.88033469e-02,  2.67990921e-02,  5.17642871e-02,\n",
       "           1.70074385e-02]],\n",
       " \n",
       "        [[-4.58512604e-02, -4.24652874e-01,  2.23395377e-02,\n",
       "           6.76446736e-01],\n",
       "         [-5.43443151e-02, -6.20077968e-01,  3.58684734e-02,\n",
       "           9.76078510e-01]],\n",
       " \n",
       "        [[-1.06418088e-01, -4.31362800e-02,  1.28524706e-01,\n",
       "           2.85727471e-01],\n",
       "         [-1.07280813e-01, -2.39834592e-01,  1.34239256e-01,\n",
       "           6.16023719e-01]],\n",
       " \n",
       "        [[ 4.75563109e-02,  3.70892525e-01, -3.54018249e-02,\n",
       "          -5.52483916e-01],\n",
       "         [ 5.49741611e-02,  1.76285163e-01, -4.64515015e-02,\n",
       "          -2.71161705e-01]],\n",
       " \n",
       "        [[ 2.38360595e-02, -7.90480196e-01, -2.35250033e-02,\n",
       "           9.98003840e-01],\n",
       "         [ 8.02645460e-03, -9.85279858e-01, -3.56492586e-03,\n",
       "           1.28320682e+00]],\n",
       " \n",
       "        [[-1.01689622e-01, -2.36423343e-01,  1.17742419e-01,\n",
       "           5.39114356e-01],\n",
       "         [-1.06418088e-01, -4.31362800e-02,  1.28524706e-01,\n",
       "           2.85727471e-01]],\n",
       " \n",
       "        [[ 4.75563109e-02,  3.70892525e-01, -3.54018249e-02,\n",
       "          -5.52483916e-01],\n",
       "         [ 5.49741611e-02,  1.76285163e-01, -4.64515015e-02,\n",
       "          -2.71161705e-01]],\n",
       " \n",
       "        [[-1.12077504e-01, -4.68182042e-02,  1.46559730e-01,\n",
       "           3.68451804e-01],\n",
       "         [-1.13013871e-01,  1.45950362e-01,  1.53928772e-01,\n",
       "           1.25333324e-01]],\n",
       " \n",
       "        [[ 4.93716216e-03,  1.60710573e-01,  1.73446257e-03,\n",
       "          -2.89543092e-01],\n",
       "         [ 8.15137383e-03, -3.44360769e-02, -4.05639969e-03,\n",
       "           3.68635030e-03]],\n",
       " \n",
       "        [[-1.82673652e-02, -1.69025540e-01,  5.21044359e-02,\n",
       "           3.25562835e-01],\n",
       "         [-2.16478761e-02, -3.64849150e-01,  5.86156920e-02,\n",
       "           6.34211361e-01]],\n",
       " \n",
       "        [[-1.15630366e-01, -2.56992191e-01,  2.12505013e-01,\n",
       "           1.01015627e+00],\n",
       "         [-1.60127860e-02,  2.81118490e-02,  4.61064391e-02,\n",
       "          -1.19869644e-02]],\n",
       " \n",
       "        [[-1.02080228e-02, -3.45448218e-02,  1.95379406e-02,\n",
       "           6.08600210e-03],\n",
       "         [-1.08989188e-02,  1.60291553e-01,  1.96596608e-02,\n",
       "          -2.80368984e-01]],\n",
       " \n",
       "        [[ 5.43080196e-02,  3.59203190e-01, -9.09852907e-02,\n",
       "          -6.58931434e-01],\n",
       "         [ 6.14920855e-02,  5.55465758e-01, -1.04163915e-01,\n",
       "          -9.78820384e-01]],\n",
       " \n",
       "        [[-1.54505484e-02, -1.67639971e-01,  4.58667018e-02,\n",
       "           2.94879198e-01],\n",
       "         [-1.88033469e-02,  2.67990921e-02,  5.17642871e-02,\n",
       "           1.70074385e-02]],\n",
       " \n",
       "        [[-1.00491583e-01, -5.53572103e-02,  1.58584520e-01,\n",
       "           5.59617877e-01],\n",
       "         [-1.01598732e-01, -2.52307922e-01,  1.69776872e-01,\n",
       "           8.97765517e-01]],\n",
       " \n",
       "        [[-4.05844264e-02, -3.40171009e-02,  1.31094269e-02,\n",
       "           8.23578089e-02],\n",
       "         [-4.12647687e-02, -2.29324490e-01,  1.47565827e-02,\n",
       "           3.79147798e-01]],\n",
       " \n",
       "        [[ 4.90252227e-02,  1.80351824e-01, -4.26944457e-02,\n",
       "          -3.60886335e-01],\n",
       "         [ 5.26322573e-02, -1.41380690e-02, -4.99121733e-02,\n",
       "          -8.19657072e-02]],\n",
       " \n",
       "        [[-1.01598732e-01, -2.52307922e-01,  1.69776872e-01,\n",
       "           8.97765517e-01],\n",
       "         [-1.06644891e-01, -4.49273884e-01,  1.87732190e-01,\n",
       "           1.23864162e+00]],\n",
       " \n",
       "        [[-4.05844264e-02, -3.40171009e-02,  1.31094269e-02,\n",
       "           8.23578089e-02],\n",
       "         [-4.12647687e-02, -2.29324490e-01,  1.47565827e-02,\n",
       "           3.79147798e-01]],\n",
       " \n",
       "        [[ 2.50572190e-02,  5.51894665e-01, -4.21617255e-02,\n",
       "          -8.96155894e-01],\n",
       "         [ 3.60951126e-02,  3.57368916e-01, -6.00848421e-02,\n",
       "          -6.17018461e-01]],\n",
       " \n",
       "        [[ 1.44286267e-02,  1.75317749e-01,  1.26684615e-02,\n",
       "          -2.49590993e-01],\n",
       "         [ 1.79349817e-02,  3.70256513e-01,  7.67664192e-03,\n",
       "          -5.38251221e-01]],\n",
       " \n",
       "        [[ 5.26322573e-02, -1.41380690e-02, -4.99121733e-02,\n",
       "          -8.19657072e-02],\n",
       "         [ 5.23494966e-02, -2.08510324e-01, -5.15514873e-02,\n",
       "           1.94561481e-01]],\n",
       " \n",
       "        [[ 1.09065026e-02, -3.45103033e-02, -4.35676286e-03,\n",
       "           5.32379001e-03],\n",
       "         [ 1.02162967e-02, -2.29569495e-01, -4.25028708e-03,\n",
       "           2.96628922e-01]],\n",
       " \n",
       "        [[-1.06166348e-01, -1.57336473e+00,  1.49623901e-01,\n",
       "           2.23941016e+00],\n",
       "         [-1.37633637e-01, -1.37994182e+00,  1.94412097e-01,\n",
       "           1.99634290e+00]],\n",
       " \n",
       "        [[ 4.93320413e-02, -1.53409829e-02, -4.15868908e-02,\n",
       "          -5.53779118e-02],\n",
       "         [ 4.90252227e-02,  1.80351824e-01, -4.26944457e-02,\n",
       "          -3.60886335e-01]],\n",
       " \n",
       "        [[ 1.21975765e-02,  1.60282850e-01, -1.89309828e-02,\n",
       "          -2.80143261e-01],\n",
       "         [ 1.54032335e-02, -3.45640108e-02, -2.45338492e-02,\n",
       "           6.50928123e-03]],\n",
       " \n",
       "        [[ 3.57541032e-02, -5.95902324e-01, -3.78745794e-02,\n",
       "           7.17478752e-01],\n",
       "         [ 2.38360595e-02, -7.90480196e-01, -2.35250033e-02,\n",
       "           9.98003840e-01]],\n",
       " \n",
       "        [[ 1.16897216e-02, -1.91523433e-02,  1.64810773e-02,\n",
       "           2.87437662e-02],\n",
       "         [ 1.13066742e-02,  1.75729424e-01,  1.70559511e-02,\n",
       "          -2.58693963e-01]],\n",
       " \n",
       "        [[ 4.81792912e-02, -1.26903020e-02, -4.76602577e-02,\n",
       "          -1.13927752e-01],\n",
       "         [ 4.79254834e-02, -2.07098082e-01, -4.99388129e-02,\n",
       "           1.63345978e-01]],\n",
       " \n",
       "        [[ 1.54032335e-02, -3.45640108e-02, -2.45338492e-02,\n",
       "           6.50928123e-03],\n",
       "         [ 1.47119528e-02,  1.60901040e-01, -2.44036634e-02,\n",
       "          -2.93812305e-01]],\n",
       " \n",
       "        [[ 1.28997862e-02, -3.51105258e-02, -1.93023179e-02,\n",
       "           1.85667314e-02],\n",
       "         [ 1.21975765e-02,  1.60282850e-01, -1.89309828e-02,\n",
       "          -2.80143261e-01]],\n",
       " \n",
       "        [[-4.05844264e-02, -3.40171009e-02,  1.31094269e-02,\n",
       "           8.23578089e-02],\n",
       "         [-4.12647687e-02, -2.29324490e-01,  1.47565827e-02,\n",
       "           3.79147798e-01]],\n",
       " \n",
       "        [[-5.41925989e-02,  1.62207797e-01,  3.24623361e-02,\n",
       "          -2.34802961e-01],\n",
       "         [-5.09484448e-02,  3.56851250e-01,  2.77662743e-02,\n",
       "          -5.17072082e-01]],\n",
       " \n",
       "        [[ 2.38360595e-02, -7.90480196e-01, -2.35250033e-02,\n",
       "           9.98003840e-01],\n",
       "         [ 8.02645460e-03, -9.85279858e-01, -3.56492586e-03,\n",
       "           1.28320682e+00]],\n",
       " \n",
       "        [[-8.76809731e-02, -4.27168161e-01,  8.93768966e-02,\n",
       "           7.34323442e-01],\n",
       "         [-9.62243304e-02, -2.33387217e-01,  1.04063362e-01,\n",
       "           4.71054018e-01]],\n",
       " \n",
       "        [[-3.87247950e-02, -2.25662962e-01,  1.21122180e-02,\n",
       "           2.98369229e-01],\n",
       "         [-4.32380550e-02, -4.20955449e-01,  1.80796031e-02,\n",
       "           5.94847381e-01]],\n",
       " \n",
       "        [[ 4.75563109e-02,  3.70892525e-01, -3.54018249e-02,\n",
       "          -5.52483916e-01],\n",
       "         [ 5.49741611e-02,  1.76285163e-01, -4.64515015e-02,\n",
       "          -2.71161705e-01]],\n",
       " \n",
       "        [[ 1.79349817e-02,  3.70256513e-01,  7.67664192e-03,\n",
       "          -5.38251221e-01],\n",
       "         [ 2.53401119e-02,  5.65269709e-01, -3.08838300e-03,\n",
       "          -8.28505516e-01]],\n",
       " \n",
       "        [[ 5.26322573e-02, -1.41380690e-02, -4.99121733e-02,\n",
       "          -8.19657072e-02],\n",
       "         [ 5.23494966e-02, -2.08510324e-01, -5.15514873e-02,\n",
       "           1.94561481e-01]],\n",
       " \n",
       "        [[-4.05844264e-02, -3.40171009e-02,  1.31094269e-02,\n",
       "           8.23578089e-02],\n",
       "         [-4.12647687e-02, -2.29324490e-01,  1.47565827e-02,\n",
       "           3.79147798e-01]],\n",
       " \n",
       "        [[-5.68071641e-02,  1.63176745e-01,  3.66314948e-02,\n",
       "          -2.56233156e-01],\n",
       "         [-5.35436273e-02, -3.24485414e-02,  3.15068327e-02,\n",
       "           4.77751531e-02]],\n",
       " \n",
       "        [[-1.06166348e-01, -1.57336473e+00,  1.49623901e-01,\n",
       "           2.23941016e+00],\n",
       "         [-1.37633637e-01, -1.37994182e+00,  1.94412097e-01,\n",
       "           1.99634290e+00]],\n",
       " \n",
       "        [[ 7.46265193e-03, -2.29499623e-01, -3.98267247e-03,\n",
       "           2.95086682e-01],\n",
       "         [ 2.87265959e-03, -4.24564570e-01,  1.91906106e-03,\n",
       "           5.86510897e-01]],\n",
       " \n",
       "        [[-4.38114181e-02,  1.61349565e-01,  1.74248330e-02,\n",
       "          -2.15770349e-01],\n",
       "         [-4.05844264e-02, -3.40171009e-02,  1.31094269e-02,\n",
       "           8.23578089e-02]],\n",
       " \n",
       "        [[-6.67458773e-02, -4.25454974e-01,  5.53900450e-02,\n",
       "           6.94874883e-01],\n",
       "         [-7.52549767e-02, -6.21299684e-01,  6.92875385e-02,\n",
       "           1.00446773e+00]],\n",
       " \n",
       "        [[-1.06644891e-01, -4.49273884e-01,  1.87732190e-01,\n",
       "           1.23864162e+00],\n",
       "         [-1.15630366e-01, -2.56992191e-01,  2.12505013e-01,\n",
       "           1.01015627e+00]],\n",
       " \n",
       "        [[-1.00491583e-01, -5.53572103e-02,  1.58584520e-01,\n",
       "           5.59617877e-01],\n",
       "         [-1.01598732e-01, -2.52307922e-01,  1.69776872e-01,\n",
       "           8.97765517e-01]],\n",
       " \n",
       "        [[ 6.14920855e-02,  5.55465758e-01, -1.04163915e-01,\n",
       "          -9.78820384e-01],\n",
       "         [ 7.26014003e-02,  3.61882836e-01, -1.23740323e-01,\n",
       "          -7.20588684e-01]],\n",
       " \n",
       "        [[ 5.23494966e-02, -2.08510324e-01, -5.15514873e-02,\n",
       "           1.94561481e-01],\n",
       "         [ 4.81792912e-02, -1.26903020e-02, -4.76602577e-02,\n",
       "          -1.13927752e-01]],\n",
       " \n",
       "        [[ 4.79254834e-02, -2.07098082e-01, -4.99388129e-02,\n",
       "           1.63345978e-01],\n",
       "         [ 4.37835231e-02, -4.01470900e-01, -4.66718934e-02,\n",
       "           4.39865798e-01]],\n",
       " \n",
       "        [[ 3.66455056e-02,  3.70190114e-01, -1.96584929e-02,\n",
       "          -5.36795497e-01],\n",
       "         [ 4.40493077e-02,  1.75350010e-01, -3.03944033e-02,\n",
       "          -2.50371039e-01]],\n",
       " \n",
       "        [[ 1.79349817e-02,  3.70256513e-01,  7.67664192e-03,\n",
       "          -5.38251221e-01],\n",
       "         [ 2.53401119e-02,  5.65269709e-01, -3.08838300e-03,\n",
       "          -8.28505516e-01]],\n",
       " \n",
       "        [[-4.58512604e-02, -4.24652874e-01,  2.23395377e-02,\n",
       "           6.76446736e-01],\n",
       "         [-5.43443151e-02, -6.20077968e-01,  3.58684734e-02,\n",
       "           9.76078510e-01]],\n",
       " \n",
       "        [[-6.67458773e-02, -4.25454974e-01,  5.53900450e-02,\n",
       "           6.94874883e-01],\n",
       "         [-7.52549767e-02, -6.21299684e-01,  6.92875385e-02,\n",
       "           1.00446773e+00]],\n",
       " \n",
       "        [[ 2.87265959e-03, -4.24564570e-01,  1.91906106e-03,\n",
       "           5.86510897e-01],\n",
       "         [-5.61863184e-03, -2.29469538e-01,  1.36492783e-02,\n",
       "           2.94433087e-01]],\n",
       " \n",
       "        [[-7.52549767e-02, -6.21299684e-01,  6.92875385e-02,\n",
       "           1.00446773e+00],\n",
       "         [-8.76809731e-02, -4.27168161e-01,  8.93768966e-02,\n",
       "           7.34323442e-01]],\n",
       " \n",
       "        [[-1.01598732e-01, -2.52307922e-01,  1.69776872e-01,\n",
       "           8.97765517e-01],\n",
       "         [-1.06644891e-01, -4.49273884e-01,  1.87732190e-01,\n",
       "           1.23864162e+00]],\n",
       " \n",
       "        [[-1.54505484e-02, -1.67639971e-01,  4.58667018e-02,\n",
       "           2.94879198e-01],\n",
       "         [-1.88033469e-02,  2.67990921e-02,  5.17642871e-02,\n",
       "           1.70074385e-02]],\n",
       " \n",
       "        [[ 7.46265193e-03, -2.29499623e-01, -3.98267247e-03,\n",
       "           2.95086682e-01],\n",
       "         [ 2.87265959e-03, -4.24564570e-01,  1.91906106e-03,\n",
       "           5.86510897e-01]],\n",
       " \n",
       "        [[-5.43443151e-02, -6.20077968e-01,  3.58684734e-02,\n",
       "           9.76078510e-01],\n",
       "         [-6.67458773e-02, -4.25454974e-01,  5.53900450e-02,\n",
       "           6.94874883e-01]]], dtype=float32)>,\n",
       "  'action': <tf.Tensor: shape=(64, 2), dtype=int64, numpy=\n",
       " array([[1, 1],\n",
       "        [0, 0],\n",
       "        [0, 1],\n",
       "        [0, 1],\n",
       "        [1, 0],\n",
       "        [0, 1],\n",
       "        [0, 1],\n",
       "        [0, 0],\n",
       "        [0, 0],\n",
       "        [1, 0],\n",
       "        [0, 0],\n",
       "        [1, 1],\n",
       "        [0, 0],\n",
       "        [0, 0],\n",
       "        [1, 0],\n",
       "        [1, 1],\n",
       "        [1, 0],\n",
       "        [1, 0],\n",
       "        [0, 0],\n",
       "        [0, 0],\n",
       "        [0, 0],\n",
       "        [0, 1],\n",
       "        [0, 0],\n",
       "        [0, 1],\n",
       "        [1, 1],\n",
       "        [0, 1],\n",
       "        [0, 1],\n",
       "        [1, 1],\n",
       "        [1, 0],\n",
       "        [0, 1],\n",
       "        [0, 0],\n",
       "        [1, 0],\n",
       "        [0, 0],\n",
       "        [1, 1],\n",
       "        [1, 0],\n",
       "        [0, 0],\n",
       "        [1, 0],\n",
       "        [0, 0],\n",
       "        [1, 1],\n",
       "        [0, 1],\n",
       "        [0, 0],\n",
       "        [1, 0],\n",
       "        [0, 1],\n",
       "        [0, 0],\n",
       "        [0, 1],\n",
       "        [1, 1],\n",
       "        [0, 1],\n",
       "        [0, 0],\n",
       "        [0, 1],\n",
       "        [1, 1],\n",
       "        [0, 0],\n",
       "        [0, 1],\n",
       "        [1, 0],\n",
       "        [0, 0],\n",
       "        [0, 1],\n",
       "        [1, 0],\n",
       "        [0, 1],\n",
       "        [0, 1],\n",
       "        [1, 1],\n",
       "        [1, 1],\n",
       "        [0, 1],\n",
       "        [1, 0],\n",
       "        [0, 1],\n",
       "        [1, 0]], dtype=int64)>,\n",
       "  'policy_info': (),\n",
       "  'next_step_type': <tf.Tensor: shape=(64, 2), dtype=int32, numpy=\n",
       " array([[1, 1],\n",
       "        [1, 1],\n",
       "        [1, 1],\n",
       "        [1, 1],\n",
       "        [1, 1],\n",
       "        [1, 1],\n",
       "        [1, 1],\n",
       "        [1, 1],\n",
       "        [1, 1],\n",
       "        [1, 1],\n",
       "        [1, 1],\n",
       "        [1, 1],\n",
       "        [1, 1],\n",
       "        [1, 1],\n",
       "        [0, 1],\n",
       "        [1, 1],\n",
       "        [1, 1],\n",
       "        [1, 1],\n",
       "        [1, 1],\n",
       "        [1, 1],\n",
       "        [1, 1],\n",
       "        [1, 2],\n",
       "        [1, 1],\n",
       "        [1, 1],\n",
       "        [1, 1],\n",
       "        [1, 1],\n",
       "        [1, 1],\n",
       "        [1, 2],\n",
       "        [1, 1],\n",
       "        [1, 1],\n",
       "        [1, 1],\n",
       "        [1, 1],\n",
       "        [1, 1],\n",
       "        [1, 1],\n",
       "        [1, 1],\n",
       "        [1, 1],\n",
       "        [1, 1],\n",
       "        [1, 1],\n",
       "        [1, 1],\n",
       "        [1, 1],\n",
       "        [1, 1],\n",
       "        [1, 1],\n",
       "        [1, 1],\n",
       "        [1, 1],\n",
       "        [1, 1],\n",
       "        [1, 2],\n",
       "        [1, 1],\n",
       "        [1, 1],\n",
       "        [1, 1],\n",
       "        [2, 0],\n",
       "        [1, 1],\n",
       "        [1, 1],\n",
       "        [1, 1],\n",
       "        [1, 1],\n",
       "        [1, 1],\n",
       "        [1, 1],\n",
       "        [1, 1],\n",
       "        [1, 1],\n",
       "        [1, 1],\n",
       "        [1, 1],\n",
       "        [1, 2],\n",
       "        [1, 1],\n",
       "        [1, 1],\n",
       "        [1, 1]])>,\n",
       "  'reward': <tf.Tensor: shape=(64, 2), dtype=float32, numpy=\n",
       " array([[1., 1.],\n",
       "        [1., 1.],\n",
       "        [1., 1.],\n",
       "        [1., 1.],\n",
       "        [1., 1.],\n",
       "        [1., 1.],\n",
       "        [1., 1.],\n",
       "        [1., 1.],\n",
       "        [1., 1.],\n",
       "        [1., 1.],\n",
       "        [1., 1.],\n",
       "        [1., 1.],\n",
       "        [1., 1.],\n",
       "        [1., 1.],\n",
       "        [0., 1.],\n",
       "        [1., 1.],\n",
       "        [1., 1.],\n",
       "        [1., 1.],\n",
       "        [1., 1.],\n",
       "        [1., 1.],\n",
       "        [1., 1.],\n",
       "        [1., 1.],\n",
       "        [1., 1.],\n",
       "        [1., 1.],\n",
       "        [1., 1.],\n",
       "        [1., 1.],\n",
       "        [1., 1.],\n",
       "        [1., 1.],\n",
       "        [1., 1.],\n",
       "        [1., 1.],\n",
       "        [1., 1.],\n",
       "        [1., 1.],\n",
       "        [1., 1.],\n",
       "        [1., 1.],\n",
       "        [1., 1.],\n",
       "        [1., 1.],\n",
       "        [1., 1.],\n",
       "        [1., 1.],\n",
       "        [1., 1.],\n",
       "        [1., 1.],\n",
       "        [1., 1.],\n",
       "        [1., 1.],\n",
       "        [1., 1.],\n",
       "        [1., 1.],\n",
       "        [1., 1.],\n",
       "        [1., 1.],\n",
       "        [1., 1.],\n",
       "        [1., 1.],\n",
       "        [1., 1.],\n",
       "        [1., 0.],\n",
       "        [1., 1.],\n",
       "        [1., 1.],\n",
       "        [1., 1.],\n",
       "        [1., 1.],\n",
       "        [1., 1.],\n",
       "        [1., 1.],\n",
       "        [1., 1.],\n",
       "        [1., 1.],\n",
       "        [1., 1.],\n",
       "        [1., 1.],\n",
       "        [1., 1.],\n",
       "        [1., 1.],\n",
       "        [1., 1.],\n",
       "        [1., 1.]], dtype=float32)>,\n",
       "  'discount': <tf.Tensor: shape=(64, 2), dtype=float32, numpy=\n",
       " array([[1., 1.],\n",
       "        [1., 1.],\n",
       "        [1., 1.],\n",
       "        [1., 1.],\n",
       "        [1., 1.],\n",
       "        [1., 1.],\n",
       "        [1., 1.],\n",
       "        [1., 1.],\n",
       "        [1., 1.],\n",
       "        [1., 1.],\n",
       "        [1., 1.],\n",
       "        [1., 1.],\n",
       "        [1., 1.],\n",
       "        [1., 1.],\n",
       "        [1., 1.],\n",
       "        [1., 1.],\n",
       "        [1., 1.],\n",
       "        [1., 1.],\n",
       "        [1., 1.],\n",
       "        [1., 1.],\n",
       "        [1., 1.],\n",
       "        [1., 0.],\n",
       "        [1., 1.],\n",
       "        [1., 1.],\n",
       "        [1., 1.],\n",
       "        [1., 1.],\n",
       "        [1., 1.],\n",
       "        [1., 0.],\n",
       "        [1., 1.],\n",
       "        [1., 1.],\n",
       "        [1., 1.],\n",
       "        [1., 1.],\n",
       "        [1., 1.],\n",
       "        [1., 1.],\n",
       "        [1., 1.],\n",
       "        [1., 1.],\n",
       "        [1., 1.],\n",
       "        [1., 1.],\n",
       "        [1., 1.],\n",
       "        [1., 1.],\n",
       "        [1., 1.],\n",
       "        [1., 1.],\n",
       "        [1., 1.],\n",
       "        [1., 1.],\n",
       "        [1., 1.],\n",
       "        [1., 0.],\n",
       "        [1., 1.],\n",
       "        [1., 1.],\n",
       "        [1., 1.],\n",
       "        [0., 1.],\n",
       "        [1., 1.],\n",
       "        [1., 1.],\n",
       "        [1., 1.],\n",
       "        [1., 1.],\n",
       "        [1., 1.],\n",
       "        [1., 1.],\n",
       "        [1., 1.],\n",
       "        [1., 1.],\n",
       "        [1., 1.],\n",
       "        [1., 1.],\n",
       "        [1., 0.],\n",
       "        [1., 1.],\n",
       "        [1., 1.],\n",
       "        [1., 1.]], dtype=float32)>}),\n",
       " BufferInfo(ids=<tf.Tensor: shape=(64, 2), dtype=int64, numpy=\n",
       " array([[80, 81],\n",
       "        [25, 26],\n",
       "        [54, 55],\n",
       "        [12, 13],\n",
       "        [95, 96],\n",
       "        [76, 77],\n",
       "        [84, 85],\n",
       "        [ 8,  9],\n",
       "        [22, 23],\n",
       "        [83, 84],\n",
       "        [ 8,  9],\n",
       "        [86, 87],\n",
       "        [34, 35],\n",
       "        [97, 98],\n",
       "        [93, 94],\n",
       "        [39, 40],\n",
       "        [53, 54],\n",
       "        [95, 96],\n",
       "        [90, 91],\n",
       "        [74, 75],\n",
       "        [15, 16],\n",
       "        [91, 92],\n",
       "        [74, 75],\n",
       "        [50, 51],\n",
       "        [ 3,  4],\n",
       "        [16, 17],\n",
       "        [31, 32],\n",
       "        [28, 29],\n",
       "        [14, 15],\n",
       "        [46, 47],\n",
       "        [21, 22],\n",
       "        [ 0,  1],\n",
       "        [18, 19],\n",
       "        [47, 48],\n",
       "        [45, 46],\n",
       "        [74, 75],\n",
       "        [71, 72],\n",
       "        [22, 23],\n",
       "        [80, 81],\n",
       "        [65, 66],\n",
       "        [ 8,  9],\n",
       "        [ 4,  5],\n",
       "        [16, 17],\n",
       "        [74, 75],\n",
       "        [69, 70],\n",
       "        [28, 29],\n",
       "        [36, 37],\n",
       "        [73, 74],\n",
       "        [78, 79],\n",
       "        [92, 93],\n",
       "        [90, 91],\n",
       "        [54, 55],\n",
       "        [17, 18],\n",
       "        [19, 20],\n",
       "        [ 6,  7],\n",
       "        [ 4,  5],\n",
       "        [76, 77],\n",
       "        [78, 79],\n",
       "        [37, 38],\n",
       "        [79, 80],\n",
       "        [91, 92],\n",
       "        [95, 96],\n",
       "        [36, 37],\n",
       "        [77, 78]], dtype=int64)>, probabilities=<tf.Tensor: shape=(64,), dtype=float32, numpy=\n",
       " array([0.01010101, 0.01010101, 0.01010101, 0.01010101, 0.01010101,\n",
       "        0.01010101, 0.01010101, 0.01010101, 0.01010101, 0.01010101,\n",
       "        0.01010101, 0.01010101, 0.01010101, 0.01010101, 0.01010101,\n",
       "        0.01010101, 0.01010101, 0.01010101, 0.01010101, 0.01010101,\n",
       "        0.01010101, 0.01010101, 0.01010101, 0.01010101, 0.01010101,\n",
       "        0.01010101, 0.01010101, 0.01010101, 0.01010101, 0.01010101,\n",
       "        0.01010101, 0.01010101, 0.01010101, 0.01010101, 0.01010101,\n",
       "        0.01010101, 0.01010101, 0.01010101, 0.01010101, 0.01010101,\n",
       "        0.01010101, 0.01010101, 0.01010101, 0.01010101, 0.01010101,\n",
       "        0.01010101, 0.01010101, 0.01010101, 0.01010101, 0.01010101,\n",
       "        0.01010101, 0.01010101, 0.01010101, 0.01010101, 0.01010101,\n",
       "        0.01010101, 0.01010101, 0.01010101, 0.01010101, 0.01010101,\n",
       "        0.01010101, 0.01010101, 0.01010101, 0.01010101], dtype=float32)>))"
      ]
     },
     "execution_count": 33,
     "metadata": {},
     "output_type": "execute_result"
    }
   ],
   "source": [
    "# For the curious:\n",
    "# Uncomment to see what the dataset iterator is feeding to the agent.\n",
    "# Compare this representation of replay data \n",
    "# to the collection of individual trajectories shown earlier.\n",
    "\n",
    "iterator.next()"
   ]
  },
  {
   "cell_type": "markdown",
   "metadata": {
    "id": "hBc9lj9VWWtZ"
   },
   "source": [
    "## Training the agent\n",
    "\n",
    "Two things must happen during the training loop:\n",
    "\n",
    "-   collect data from the environment\n",
    "-   use that data to train the agent's neural network(s)\n",
    "\n",
    "This example also periodicially evaluates the policy and prints the current score.\n",
    "\n",
    "The following will take ~5 minutes to run."
   ]
  },
  {
   "cell_type": "code",
   "execution_count": 34,
   "metadata": {
    "id": "0pTbJ3PeyF-u"
   },
   "outputs": [
    {
     "name": "stdout",
     "output_type": "stream",
     "text": [
      "WARNING:tensorflow:From C:\\Users\\david\\AppData\\Roaming\\Python\\Python311\\site-packages\\tensorflow\\python\\util\\dispatch.py:1260: calling foldr_v2 (from tensorflow.python.ops.functional_ops) with back_prop=False is deprecated and will be removed in a future version.\n",
      "Instructions for updating:\n",
      "back_prop=False is deprecated. Consider using tf.stop_gradient instead.\n",
      "Instead of:\n",
      "results = tf.foldr(fn, elems, back_prop=False)\n",
      "Use:\n",
      "results = tf.nest.map_structure(tf.stop_gradient, tf.foldr(fn, elems))\n",
      "step = 200: loss = 40.503257751464844\n",
      "step = 400: loss = 24.43996810913086\n",
      "step = 600: loss = 17.65135383605957\n",
      "step = 800: loss = 44.43922424316406\n",
      "step = 1000: loss = 214.26593017578125\n",
      "step = 1000: Average Return = 55.20000076293945\n",
      "step = 1200: loss = 547.5374755859375\n",
      "step = 1400: loss = 448.3996276855469\n",
      "step = 1600: loss = 50.91951370239258\n",
      "step = 1800: loss = 272.33203125\n",
      "step = 2000: loss = 456.5448303222656\n",
      "step = 2000: Average Return = 200.0\n",
      "step = 2200: loss = 759.2557983398438\n",
      "step = 2400: loss = 102.7057876586914\n",
      "step = 2600: loss = 2550.477294921875\n",
      "step = 2800: loss = 2737.931884765625\n",
      "step = 3000: loss = 290.1226806640625\n",
      "step = 3000: Average Return = 200.0\n",
      "step = 3200: loss = 733.9505615234375\n",
      "step = 3400: loss = 868.414306640625\n",
      "step = 3600: loss = 20287.482421875\n",
      "step = 3800: loss = 17731.896484375\n",
      "step = 4000: loss = 37165.2890625\n",
      "step = 4000: Average Return = 200.0\n",
      "step = 4200: loss = 1206.4844970703125\n",
      "step = 4400: loss = 6851.90869140625\n",
      "step = 4600: loss = 7879.03857421875\n",
      "step = 4800: loss = 2893.242431640625\n",
      "step = 5000: loss = 969.1639404296875\n",
      "step = 5000: Average Return = 200.0\n",
      "step = 5200: loss = 1948.868408203125\n",
      "step = 5400: loss = 47737.1171875\n",
      "step = 5600: loss = 22175.423828125\n",
      "step = 5800: loss = 790.9979248046875\n",
      "step = 6000: loss = 22044.7265625\n",
      "step = 6000: Average Return = 200.0\n",
      "step = 6200: loss = 3717.2861328125\n",
      "step = 6400: loss = 2255.431396484375\n",
      "step = 6600: loss = 3845.77197265625\n",
      "step = 6800: loss = 2092.52392578125\n",
      "step = 7000: loss = 17779.41796875\n",
      "step = 7000: Average Return = 200.0\n",
      "step = 7200: loss = 16142.7109375\n",
      "step = 7400: loss = 1318.7803955078125\n",
      "step = 7600: loss = 1162.32470703125\n",
      "step = 7800: loss = 4946.564453125\n",
      "step = 8000: loss = 35753.3671875\n",
      "step = 8000: Average Return = 200.0\n",
      "step = 8200: loss = 2470.30615234375\n",
      "step = 8400: loss = 2186.397705078125\n",
      "step = 8600: loss = 2560.226318359375\n",
      "step = 8800: loss = 3765.819580078125\n",
      "step = 9000: loss = 43404.13671875\n",
      "step = 9000: Average Return = 200.0\n",
      "step = 9200: loss = 75618.1640625\n",
      "step = 9400: loss = 14243.59375\n",
      "step = 9600: loss = 10510.826171875\n",
      "step = 9800: loss = 910.571044921875\n",
      "step = 10000: loss = 927.0264282226562\n",
      "step = 10000: Average Return = 200.0\n",
      "step = 10200: loss = 1303.644287109375\n",
      "step = 10400: loss = 848.1824951171875\n",
      "step = 10600: loss = 1270.0517578125\n",
      "step = 10800: loss = 5795.2275390625\n",
      "step = 11000: loss = 855.271240234375\n",
      "step = 11000: Average Return = 196.10000610351562\n",
      "step = 11200: loss = 1086.3585205078125\n",
      "step = 11400: loss = 763.7657470703125\n",
      "step = 11600: loss = 842.426513671875\n",
      "step = 11800: loss = 1809.80517578125\n",
      "step = 12000: loss = 1153.69287109375\n",
      "step = 12000: Average Return = 198.5\n",
      "step = 12200: loss = 4295.5732421875\n",
      "step = 12400: loss = 1401.74072265625\n",
      "step = 12600: loss = 1186.594970703125\n",
      "step = 12800: loss = 741.3839111328125\n",
      "step = 13000: loss = 967.44384765625\n",
      "step = 13000: Average Return = 198.10000610351562\n",
      "step = 13200: loss = 589.1309814453125\n",
      "step = 13400: loss = 1699.00830078125\n",
      "step = 13600: loss = 552.6068115234375\n",
      "step = 13800: loss = 2871.6552734375\n",
      "step = 14000: loss = 4888.32177734375\n",
      "step = 14000: Average Return = 200.0\n",
      "step = 14200: loss = 910.3782958984375\n",
      "step = 14400: loss = 8294.2509765625\n",
      "step = 14600: loss = 859.5418090820312\n",
      "step = 14800: loss = 13293.6572265625\n",
      "step = 15000: loss = 920.9051513671875\n",
      "step = 15000: Average Return = 200.0\n",
      "step = 15200: loss = 73028.765625\n",
      "step = 15400: loss = 2178.199462890625\n",
      "step = 15600: loss = 799.8583984375\n",
      "step = 15800: loss = 307.6943359375\n",
      "step = 16000: loss = 898.509033203125\n",
      "step = 16000: Average Return = 200.0\n",
      "step = 16200: loss = 10418.8115234375\n",
      "step = 16400: loss = 2008.7158203125\n",
      "step = 16600: loss = 785.3203125\n",
      "step = 16800: loss = 271.40496826171875\n",
      "step = 17000: loss = 1297.6929931640625\n",
      "step = 17000: Average Return = 200.0\n",
      "step = 17200: loss = 583.05859375\n",
      "step = 17400: loss = 729.048828125\n",
      "step = 17600: loss = 646.5137939453125\n",
      "step = 17800: loss = 81482.0625\n",
      "step = 18000: loss = 1165.3477783203125\n",
      "step = 18000: Average Return = 200.0\n",
      "step = 18200: loss = 106103.6015625\n",
      "step = 18400: loss = 862.6129760742188\n",
      "step = 18600: loss = 1345.7958984375\n",
      "step = 18800: loss = 793.2788696289062\n",
      "step = 19000: loss = 4546.44921875\n",
      "step = 19000: Average Return = 200.0\n",
      "step = 19200: loss = 1553.7144775390625\n",
      "step = 19400: loss = 519.9541625976562\n",
      "step = 19600: loss = 1026.1083984375\n",
      "step = 19800: loss = 809.1952514648438\n",
      "step = 20000: loss = 877.437744140625\n",
      "step = 20000: Average Return = 200.0\n"
     ]
    }
   ],
   "source": [
    "#@test {\"skip\": true}\n",
    "try:\n",
    "  %%time\n",
    "except:\n",
    "  pass\n",
    "\n",
    "# (Optional) Optimize by wrapping some of the code in a graph using TF function.\n",
    "agent.train = common.function(agent.train)\n",
    "\n",
    "# Reset the train step\n",
    "agent.train_step_counter.assign(0)\n",
    "\n",
    "# Evaluate the agent's policy once before training.\n",
    "avg_return = compute_avg_return(eval_env, agent.policy, num_eval_episodes)\n",
    "returns = [avg_return]\n",
    "\n",
    "for _ in range(num_iterations):\n",
    "\n",
    "  # Collect a few steps using collect_policy and save to the replay buffer.\n",
    "  collect_data(train_env, agent.collect_policy, replay_buffer, collect_steps_per_iteration)\n",
    "\n",
    "  # Sample a batch of data from the buffer and update the agent's network.\n",
    "  experience, unused_info = next(iterator)\n",
    "  train_loss = agent.train(experience).loss\n",
    "\n",
    "  step = agent.train_step_counter.numpy()\n",
    "\n",
    "  if step % log_interval == 0:\n",
    "    print('step = {0}: loss = {1}'.format(step, train_loss))\n",
    "\n",
    "  if step % eval_interval == 0:\n",
    "    avg_return = compute_avg_return(eval_env, agent.policy, num_eval_episodes)\n",
    "    print('step = {0}: Average Return = {1}'.format(step, avg_return))\n",
    "    returns.append(avg_return)"
   ]
  },
  {
   "cell_type": "markdown",
   "metadata": {
    "id": "68jNcA_TiJDq"
   },
   "source": [
    "## Visualization\n"
   ]
  },
  {
   "cell_type": "markdown",
   "metadata": {
    "id": "aO-LWCdbbOIC"
   },
   "source": [
    "### Plots\n",
    "\n",
    "Use `matplotlib.pyplot` to chart how the policy improved during training.\n",
    "\n",
    "One iteration of `Cartpole-v0` consists of 200 time steps. The environment gives a reward of `+1` for each step the pole stays up, so the maximum return for one episode is 200. The charts shows the return increasing towards that maximum each time it is evaluated during training. (It may be a little unstable and not increase monotonically each time.)"
   ]
  },
  {
   "cell_type": "code",
   "execution_count": 35,
   "metadata": {
    "id": "NxtL1mbOYCVO"
   },
   "outputs": [
    {
     "data": {
      "text/plain": [
       "(2.0749999999999993, 250.0)"
      ]
     },
     "execution_count": 35,
     "metadata": {},
     "output_type": "execute_result"
    },
    {
     "data": {
      "image/png": "[encoded data removed]",
      "text/plain": [
       "<Figure size 640x480 with 1 Axes>"
      ]
     },
     "metadata": {},
     "output_type": "display_data"
    }
   ],
   "source": [
    "#@test {\"skip\": true}\n",
    "\n",
    "iterations = range(0, num_iterations + 1, eval_interval)\n",
    "plt.plot(iterations, returns)\n",
    "plt.ylabel('Average Return')\n",
    "plt.xlabel('Iterations')\n",
    "plt.ylim(top=250)"
   ]
  },
  {
   "cell_type": "markdown",
   "metadata": {
    "id": "M7-XpPP99Cy7"
   },
   "source": [
    "### Videos"
   ]
  },
  {
   "cell_type": "markdown",
   "metadata": {
    "id": "9pGfGxSH32gn"
   },
   "source": [
    "Charts are nice. But more exciting is seeing an agent actually performing a task in an environment. \n",
    "\n",
    "First, create a function to embed videos in the notebook."
   ]
  },
  {
   "cell_type": "code",
   "execution_count": 36,
   "metadata": {
    "id": "ULaGr8pvOKbl"
   },
   "outputs": [],
   "source": [
    "def embed_mp4(filename):\n",
    "  \"\"\"Embeds an mp4 file in the notebook.\"\"\"\n",
    "  video = open(filename,'rb').read()\n",
    "  b64 = base64.b64encode(video)\n",
    "  tag = '''\n",
    "  <video width=\"640\" height=\"480\" controls>\n",
    "    <source src=\"data:video/mp4;base64,{0}\" type=\"video/mp4\">\n",
    "  Your browser does not support the video tag.\n",
    "  </video>'''.format(b64.decode())\n",
    "\n",
    "  return IPython.display.HTML(tag)"
   ]
  },
  {
   "cell_type": "markdown",
   "metadata": {
    "id": "9c_PH-pX4Pr5"
   },
   "source": [
    "Now iterate through a few episodes of the Cartpole game with the agent. The underlying Python environment (the one \"inside\" the TensorFlow environment wrapper) provides a `render()` method, which outputs an image of the environment state. These can be collected into a video."
   ]
  },
  {
   "cell_type": "code",
   "execution_count": 48,
   "metadata": {
    "id": "owOVWB158NlF"
   },
   "outputs": [
    {
     "name": "stderr",
     "output_type": "stream",
     "text": [
      "IMAGEIO FFMPEG_WRITER WARNING: input image is not divisible by macro_block_size=16, resizing from (600, 400) to (608, 400) to ensure video compatibility with most codecs and players. To prevent resizing, make your input image divisible by the macro_block_size or set the macro_block_size to 1 (risking incompatibility).\n"
     ]
    },
    {
     "data": {
      "text/html": [
       "\n",
       "  <video width=\"640\" height=\"480\" controls>\n",
       "    <source src=\"data:video/mp4;base64,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\" type=\"video/mp4\">\n",
       "  Your browser does not support the video tag.\n",
       "  </video>"
      ],
      "text/plain": [
       "<IPython.core.display.HTML object>"
      ]
     },
     "execution_count": 48,
     "metadata": {},
     "output_type": "execute_result"
    }
   ],
   "source": [
    "def create_policy_eval_video(policy, filename, num_episodes=5, fps=30):\n",
    "  filename = filename + \".mp4\"\n",
    "  with imageio.get_writer(filename, fps=fps) as video:\n",
    "    for _ in range(num_episodes):\n",
    "      time_step = eval_env.reset()\n",
    "      video.append_data(eval_py_env.render())\n",
    "      while not time_step.is_last():\n",
    "        action_step = policy.action(time_step)\n",
    "        time_step = eval_env.step(action_step.action)\n",
    "        video.append_data(eval_py_env.render())\n",
    "  return embed_mp4(filename)\n",
    "\n",
    "\n",
    "\n",
    "\n",
    "create_policy_eval_video(agent.policy, \"trained-agent\")"
   ]
  },
  {
   "cell_type": "markdown",
   "metadata": {
    "id": "povaAOcZygLw"
   },
   "source": [
    "For fun, compare the trained agent (above) to an agent moving randomly. (It does not do as well.)"
   ]
  },
  {
   "cell_type": "code",
   "execution_count": 49,
   "metadata": {
    "id": "pJZIdC37yNH4"
   },
   "outputs": [
    {
     "name": "stderr",
     "output_type": "stream",
     "text": [
      "IMAGEIO FFMPEG_WRITER WARNING: input image is not divisible by macro_block_size=16, resizing from (600, 400) to (608, 400) to ensure video compatibility with most codecs and players. To prevent resizing, make your input image divisible by the macro_block_size or set the macro_block_size to 1 (risking incompatibility).\n"
     ]
    },
    {
     "data": {
      "text/html": [
       "\n",
       "  <video width=\"640\" height=\"480\" controls>\n",
       "    <source src=\"data:video/mp4;base64,AAAAIGZ0eXBpc29tAAACAGlzb21pc28yYXZjMW1wNDEAAAAIZnJlZQAALW9tZGF0AAACoQYF//+d3EXpvebZSLeWLNgg2SPu73gyNjQgLSBjb3JlIDE1OSAtIEguMjY0L01QRUctNCBBVkMgY29kZWMgLSBDb3B5bGVmdCAyMDAzLTIwMTkgLSBodHRwOi8vd3d3LnZpZGVvbGFuLm9yZy94MjY0Lmh0bWwgLSBvcHRpb25zOiBjYWJhYz0xIHJlZj0zIGRlYmxvY2s9MTowOjAgYW5hbHlzZT0weDM6MHgxMTMgbWU9aGV4IHN1Ym1lPTcgcHN5PTEgcHN5X3JkPTEuMDA6MC4wMCBtaXhlZF9yZWY9MSBtZV9yYW5nZT0xNiBjaHJvbWFfbWU9MSB0cmVsbGlzPTEgOHg4ZGN0PTEgY3FtPTAgZGVhZHpvbmU9MjEsMTEgZmFzdF9wc2tpcD0xIGNocm9tYV9xcF9vZmZzZXQ9LTIgdGhyZWFkcz0xMiBsb29rYWhlYWRfdGhyZWFkcz0yIHNsaWNlZF90aHJlYWRzPTAgbnI9MCBkZWNpbWF0ZT0xIGludGVybGFjZWQ9MCBibHVyYXlfY29tcGF0PTAgY29uc3RyYWluZWRfaW50cmE9MCBiZnJhbWVzPTMgYl9weXJhbWlkPTIgYl9hZGFwdD0xIGJfYmlhcz0wIGRpcmVjdD0xIHdlaWdodGI9MSBvcGVuX2dvcD0wIHdlaWdodHA9MiBrZXlpbnQ9MjUwIGtleWludF9taW49MjUgc2NlbmVjdXQ9NDAgaW50cmFfcmVmcmVzaD0wIHJjX2xvb2thaGVhZD00MCByYz1jcmYgbWJ0cmVlPTEgY3JmPTIzLjAgcWNvbXA9MC42MCBxcG1pbj0wIHFwbWF4PTY5IHFwc3RlcD00IGlwX3JhdGlvPTEuNDAgYXE9MToxLjAwAIAAAAJGZYiEACv//vZzfAprRzOVLgV292aj5dCS5fsQYPrQAJWhQAAAAwAHDTDp1EyExzlAAAAFxAEeCwCPCVC2EhH2OkMnFu5jwAZb2baCyLV+tLdgOWbeexuJ0qF/h4Z6Rqnvpx3ELi+gShecEgXZToDJteJc2+SwRJee7BiEiQh6VF1hCEe7D0yXkpOSeM8MC7uzO5djWU3KqhYFA3PRC9gEqX1H5aYW7ZJme09HMLuziKP+g8OAq46KoMqn6NOLjJabUpQAMMD4cWaMsOksj5eu2dGb6sKzng3pr9rQHSaRH5km6hKFEjX3eGxDpIOm2tSOCBTFIZr1w7kFYWztswKBtG+PHcqo/zNojkYgJxgPELvpdVSJiDIWLfcaDmOmxUlBbCvE0oBFyMgzBTWrd3+IwCtZUO2lmX2C7VJ2Bc2vBr0EoJIbb04HKXugTmZFzqI+7LxAHYHj60BFBPajet+tCdIXhr5Hp+WNDEDuEYnko/spvWjlP88C+LNg4b4l/NPArZfIeZbjYw34qFtDIHowBrz049//BNC8Af/95bLPVmBBRcpFvuLqQ5+fX4cTnUXgQH5ywYz7qQ1Mz8CF/fmsPnAmUKUqkKjPWQ7wnTWM0qNSQFXXjzehdGPMZdljG1TexdxEJu7O15ZqqRYDSJ4fmWHVKMYaFvnpRqsw5NDJtauPy0i36AExOnrFpYwLD5U5b7pzixUYLL7+TZBNdm2NkLIG6NNnX6yvxL5NRlsk0OeT2HlaI3degGfzgDAsAAADAAADABNRAAAAwEGaJGxCv/44QAABDc2F88kAF9lsfqPMtXmGe3UluLiuRRYR39/0FLSEnboRJr/JD/rIvFax1yGkZVTN1T/AKXsPnnIOcqBC5ExQIhrAyrzl1ANT6EvIIg1Npgfk3AupYDbIz98lmcrCJySrynLonYrkV12OkB62kJ8Ho/zagyvjDfE+66kbJhQ5c5a4DFOb+A16Bbtf2bdE998p43BcNMYHOLyovUTZqzk7ENPwnn9z/U2cS6XK2gnLw82MPl30KAAAAEtBnkJ4hX8AAA6EP1mmEkTJFfCvZTBjE73M0wSNXJJLbq7aQapVADXPdaLxAAnVwwSYqrhPnz3Awd8YKSii//eXp5cACTDhNqwWAz8AAAAfAZ5hdEJ/AAAHP2H/qwBbgetSFhnCdIiAHrWqdfh74AAAAEEBnmNqQn8AABLYpS0gVILe3pooTU0zAuda3fFmikRH8hVP3A7P2orHOoDDrC+2q5QJaACZvuNZLy++pcnnoIME2QAAATRBmmhJqEFomUwIV//+OEAAARTxo0xHlzLG/ZS4YeCkU4AvTvYaDcMxnuNwC5XO6buFeyrDM87US22CRfjd9OqPIL+O0s5lWiLXKo0UhGJg4yxcZc0va2/SFKwz80Dj0w7wVL1qZhkSTRo1S3AXwCxU5K+a2wevQJabIdxU5Bny1gJo/Zjd92m6sPoDApS+CrxmmmWDCUDJ5xtc5X20RWzLLbbu8Xm5W2dJ6o/W2zu00g/Y+gsA3xlne1Hf9/98NOh1QxLcMlOWUfe3VvUPa/VQFG+6h2Z1cBZQcNkAJHG8GVzI8VVoyPTqd46cdPz7qXLFakOToiBnR3gn0WGwWpTvuGk24EP16ZBOGatYbOuF7GPKHzKWlbsrjwyYg3NEBBv/0RLXhJRBxpKv4uTs1OKcxL6FgQAAAHFBnoZFESwr/wAADtd7FNlS9npKoyrgoF4HKxurVYUoFXqgPtqoOgbMotUkL6s7foMikK1XwtZ+WGX1b4s812DEb/Kf1q5sEfdAC3BoG9ztmKICQYeZPPlgIxFEtICrMz7Q9DJhwAAAB7KVioHInhAm4QAAAEsBnqV0Qn8AABNfW/zillpigyNLo69kzDZ2elBrZSTqUmHx7rTKS8Lqvxu+T4LeqczuUA1sWnEiwIMo/5Nwj5zbtPVDIQA1FQNbuC0AAAA/AZ6nakJ/AAATXY8p+YiVyoMp2qkP5Nl/928EZ8VCkh+BNs67kPQJ9tZjNX5X23Kx1qwisBSXpy7zmKFSPgN6AAAA0UGarEmoQWyZTAhf//6MsAAASAICBP2CSReH0+Q37l4LKCA5tS63F+PjbM35NmBLV8SwgeWiXj/8xduoN4c+/8NhT4zqZF9PCRnFoK8GX2ew0aQPWcsVZdAmTrZc5MrJVXxAGGUzZa1EuIGtYRQQz71TQGxz+4Fzcjp6TVWTXWv2iu7oY9iO6+1Q+cavRNd5PBnHLbKkwac+RnwWhZb20o4Fdcqa1lUWEErKxoyg0XQSAqpAMGaHBd03Z2eOD3L0QjsNe4hX8BCp+2sPmlhDZmhAAAAAlkGeykUVLCv/AAAO10hjQ+jcH6DtJvIyobCAmn86lU+lkOS8DNBADYfm4izzbs5dcwDfvJCJ+Dr1xgImaji6e+fFGMk4rNn3Cw/m0nat2sE7BKT74YXyjVXyIr6e+G72/m8OA9HH68QAZ/Wg8ril6sT7MiEh7eR02ZdYhQyVUJz9yuyAAFHMkK80H8GMJkbxsjaC4XwKaQAAAFQBnul0Qn8AABNV7CPADnDuN0wNBvE7Po0rjP+OQj3TbdqtldrRp3WE3Ap9Z+naFseuv+8BfV6bjVm6QAko09Fu0OYFMYjO6mfftQuF6OktdL7tm+AAAABCAZ7rakJ/AAATV4EKTygiiZvVnFk7To5KMenjj3XTJdW0jf2DGr6y0df75C7E1cl2Efm7DOJkaKgW1H0xbp1tyvUwAAABQ0Ga8EmoQWyZTAhX//44QAABFvgbxUoXVdwE78+BrMNR5/VRvkXBcOSO9+UhdjvJ7HX8kb0kVO3Me+eSiXr95VYTgidOQBRih3PdahqKkFuAD6WXWNEqwGcl0ksClYBnzdizD7WGudKcNYbV71uELoyFSfc5UvmkVyFbZnSmOvnPHf37BNolFpHseF1nTfUA1E7mHODZEcah/x3cc5AdGicgNdXlcagd4ig5Y1xLpYWHmtPQP43gsmb/WJluVzhCc/axWxBo36v+riN9c4noo5quA4VB0mvRNo7rPXV16p+F2kJVSMhIzwRhcmUMieth3v1xviFgosR343XX4RySfBWlSQWe6Jh3yUaR1Sa9V5HxTIy3kLx749menA4bsIFUAwRheV5BMAuAWovVsHsvz/aXUz2lQAb+DTBEs7Se1Ti8X4UxAAAAckGfDkUVLCv/AAAO2A30ZAtca4ndlCjEvY4ASHkOsAZALUopAlBknmYgqlZh4fBik3CoaV9MEb1gAdmpS5af6n1GS/a/qjC/F3yEeMaNe80xXe9tFAqpXZj96z5brKa3wCrbAAADAAtMvRP1ZSVg2LA+4QAAACABny10Qn8AABNWk7yIOhGJkwS/421z+orlQ/pUodjjQQAAADsBny9qQn8AABLYjD3pmo8QsCEaEX9TWSEa3UlFN5EURcct2Enp+7nMjqmSOo1iFV365gIcm4UZXbHzfAAAAPRBmzRJqEFsmUwIV//+OEAAAQ2hGCWcALVkejCv+z98FO8lMlNhnJpLHsMxz+2SKlmbMLIPE0wmDD37Xijo5ynRsJ3cSs7tson0eDTqtxvJs5AqAjLIBeaItLh42jq0BW6dK8igmChZiu3J3v9ML4+qFHwDKIwCHiiuJcN6q8lHBMnosuQ5/Jh1OE+3/1cXv7YqcVGCTdOIEx1Wzjcv9LhtO2+XX9Q6w3jRpEQMCxYMZ5kwG3+alRjSI3nfSHJpGtvvklhZWktQ/2bSww+x3Fsn9uXha+ko4KMEfbjiK1DnLJUVTc9BSmU7Z5dX7iUlGw/9BG8QAAAAf0GfUkUVLCv/AAAOf3P/Fw0eWbTnjCK9D/oAbaS3ULyxS7yT6Y2qS3T7m/9m6wvucVanLtuuZG6t12zyNnf2jXb5DC9fyIXT8+qWhDKUcPnkCjtyPZ00kkRUKsGwXE86MQWYNtatxjvqasj/1gWUAAADAAADAPcoN4ZPUeHOCzkAAABKAZ9xdEJ/AAAS3lnc0bXPr0YcfJI+MeWW0M2eJt3x4fJvRDRbs+pKVfgP2ve/KXGeEyRfcHPg18IfG8AXmPBiqsZWY4UDFxoSBvgAAABEAZ9zakJ/AAAS3bWjRtI383+O7rnHf4DRcG3bSD0hzNEahutwWj3HeJpC7MylMPYwtYZfV9+gBBSgkEm6vdtzWFLE0aAAAAEcQZt4SahBbJlMCFf//jhAAAEM8IndsQH9/IYc/UzmxL8SMFM+aB5IRZWDnqZjhOvi3NRwYztzeUd85ouRaQ8rlPbyVThGjxFTcyywjGPdLRvKDOLpAVMD7rDWgBtiL6z5eCcpdiWfpXIoDpyQQ5Oqi0+U0U10BLvvvU4q+m8jpFKHeDW257lL1jneKvO684uDbP+kNYy+AbMGjnlacrdIXe40hTkz/j6DrmA4bWMLlhmuEt8SFlyrVKuu6sSjw9L1G/vN8/7d8bOy3Mj00R0tvzFbcGsaPlgOhnIS5O2M24YmH2adTlf7mz3URDfLZuxwBXwO0ymNZOp+T0PHto3LvJmhkS5F1qrbySObvojJ0icgZ1pcmtK3RfY/bHUAAACJQZ+WRRUsK/8AAA5/EAHFXCddak4qIFhLCvxY2v/vCK6EK4kxo1skP8F4xWRkG2kY83xgLEKPFW+mPLp+g47/44AXTQXd54FK9ZEKaGmDi3GRq1EAc5s5dqNh5G7xUuIk7nK+sGMsR3yqtBCOAm4GrFU9/IBQCmJkJ8DgOAAAAwCnayJSZf5IXcAAAABVAZ+1dEJ/AAAS3mVbyNs/FPMBcWt3Hhq6+naL0o5whY89Dwu9P899rSLoQ5v8Zo3Gp1ls2t6QWAZl92YKA7SJ37XYJpnerc/QAE3tqJHXS0qm+EixzwAAAFYBn7dqQn8AABLXWIyI9HMxdh8mqg06lB+8MEG4fmSCt9Mf5Aw7vA9SgeNZt0oF2vWKJNfpVACR9XfDsIKIe1L1MaiYLawR3b177IQgZlPwENrC4QLBoQAAAPtBm7tJqEFsmUwIb//+p4QAABHVoSAGUAEwY+YFRmfAN0QtsI8nk1MEXOxvnG2DX+8TJx/Ljd7Jcp4l7Y/A0eXETSnOxJrZYDNkL53j0ABYajwg74rRqiNDEsYMnTEM0O0Dl2R/C1E60l2KJVqr+vhI+mPF0tEqtZsYAUZzKK3X9sP6NfhG/qSUEJE2Fbufx5TH7REJMeBhG9AdOaizSSCmSlqr3wBaWlJwVxC1yaw58rhZ5+TyGzFAd7TtZTeyx+8wFYLT+xSM6LqHgzll5nMRneJoEnDuSF+lqRWfWtRhWgEWq82jPBaqDjEjkXT5LTa3F6CmkMTr4hMJZQAAAC5Bn9lFFSwr/wAADoAOxbWhw/cjoLJsZBOEoOMJS6OF3Mq0ZR4n8M1Gbcw7clBBAAAAEQGf+mpCfwAAAwAAsVv0zkO0AAAApUGb/0moQWyZTAhv//6nhAAAEdIm3gW7JdGQAe0y+AClnXwnVUkiXPvBqQfeUoE7ZwjXc1G1vCSDFzip+VEYvh2G4WSjTdX6P3ePcy67UjDF2Lk6oo8rZecypb07olEjYtUwY/ipqrujjbBMwEt4ldWNAk1QvrbEVwlty72IDY/rblyfUgS0Cz/rsB7Wg+R7FV890qyzZzvfYaDI+qN4Mbx5457AoQAAAFZBnh1FFSwr/wAADoAOw0tF42PM+gAnELHFqV4XygMyxSP9T0KxqrVxuAB1zRA/JBODEc7NHrjKkfz9oZXHoQ5iKnu5a+brMLdAAAADAAEFNcZJmOoh4QAAACoBnjx0Qn8AABLfZ66dEvK+yLTocG8LZSmw3NcS6Ht0JGn4ze6lOC7d75wAAAA0AZ4+akJ/AAAHFB1iK6XoZZPDXP3D6swodNsxirzABJq23g9HTWh45J6G6zOKf0UEoDSkwAAAAIRBmiNJqEFsmUwIZ//+nhAAAEVVDWaqtxp7gzqiCe4YWYPKNHSgumAx6+Fo1cTT5FGX0rmJbssWIfnypdniXZUt2XGueupnmtFqmPzJxGtasBa8i7EWmo4cQ9sO5uBZfYJUpn8eIDn+bmmLKA3K/jlaozbuXjswIP9C216ZXeJrZYnMmtkAAAAuQZ5BRRUsK/8AAA6DJKt8yPHtchHvhp04Ch054TltjiN6AAADAAkd/CThWoYsoAAAABQBnmB0Qn8AAAbkz+yyWwSFfsN44QAAAE4BnmJqQn8AABLdtaOdH9AAljC9Fh29JUWLaSWEcX2E38kCA7r7pF2/4y81Te92JCqqj5shMwLKfvLzsdCnUGZ/W0TrLqFSWRMi3v9YPakAAAEFQZpnSahBbJlMCF///oywAABGAgVuCrZ9ANSqY6wgFXIF+97/VHiUmU03Zg9hPF6VYEM9bAW5pPC49Kow4nuvO4fGtP5KXrnGR50ScRyIQxNUXtCSntt5O73Uab1/kik6TPncU2mJuoXkKbfft9LEfBhrDkvYkmMF4k4tYqdZdiA1md9Ql3ZA8nSDqYBrF77g3QAoe7AeSk2d+aEDOhv5BLX9fSOhl3FA4FeLIAi2a1hZ+0SUosMwQsPAnaT2lPxGAnA6A2BXNIY0NGxtXnPDD11Yaf15S5590Pyw4m4eZP1gF1EmZNb1oJED8FKWAAADAANO//bjf36u4xN4aYACHo9pVgkfAAAAREGehUUVLCv/AAAOgySrfL3Wzxz7LqbBnkh0ZTTc3oDhdePaqpxpb7kEMIFYOzvlYdBGyk/oAAADAAADALD80syUoMqBAAAAKQGepHRCfwAAAwKzo57kz4zqVMxYv/HySI+3kNPjti0hrpBhfFBoaLuhAAAAOwGepmpCfwAAEt0jKte5vduc4n/leAD6bD3xpjFTdhdOgXkpiTuuRQo3BGxHaJTSpoYF5PV1E5X1YZ+hAAABQEGaq0moQWyZTAhX//44QAABDvgyAcd11TruvXpUDR4iD75MXyltnCcvpGsrQPRVfnHc9QdgPeC94gNPJPxNb2zhPSQxzQORqe2JSo7pmR3nig503ePRB4K9BiXzGj+hwcks9/dwI2ljc570Q8vKF+Oro4qEBXvm3nYRBJF1KcU8WrenIwo4IlKGXmTJzqS4LYlPZMdHlc2MTYoIbnKrsHvJVfPb/BP7Mq+CHAfZw/EnpSdIXf+vc2HhQlnjzc6RLkP70TxRy76IqywxkbqBaZwSGcpk4PelcY0eQ2p/+dXvJfT1sNheB854jCFJfPuZUH0E03G9zb1vtlSXJAyi3iRgdI9C+0iBnZ3X8AQRx9zaojOz1TD+Pu+dGwcKl8lt6fjJqwWiMrhjw4j/3N5PkZNnOALyB5XrW7+X6hXiVWjAAAAAi0GeyUUVLCv/AAAOdiPnoUD7D2WrS2Nw6NxFX32ODp4mixZZW1y7S0nip87kl2A/fMpUP0nFYJJQupccACitIcF9Fa9sbqW6nTk9JvYNgnfpfpCBMtqgRpWmc9K6kNIfbGra7OVOaoeWNq/j5xHZAsWl6nwvEHl5kWcQTBIZ/WgAACH/x25mZjZXEXAAAABgAZ7odEJ/AAAS0zoAzTm5aWT0ZnUg3DGr3ARxVVeACW8UXby0sj++/TCgqCkMAwtvb1OqTxtsL34F3n0xaricCF8b2ALGA79hfWGcoANgmnconlStP/5H4tSzFGeexD89AAAASwGe6mpCfwAAEtRXEBU9uO29z3qnsxpC0Tn0bA9NzSQ7EuV0W0S+zlxhm0Pa5ifmZUV6G1v4aAJq91k36MHTB6hKE1xaiz8Ne+HnwAAAAOtBmu9JqEFsmUwIX//+jLAAAEXzga1pETrABrKI+649+zo2zw49jAQEUMQKEX80RHkQravsYBgbPkn63OsgHP8JezoOepMC6lzir9Aw0/fgsdNVfwtu+H9mNrldyLuPcEwHEMha5UB17/f6xKGCjPsUzhqxDRv+JRx8+k1xr7QW83j04tcVrSyzlNOwRdjWO36ShtinumbscRg/K0fFOrL68uyY+6xRBlQseeKNiIQ8CX7BO6yr+DFYFDKMQgn0jz/IDOR1exPdYuEfXBSG4jXBt7SwdRE6FzwRJwVOYuYikiAWc/6pG7NortSMAAAAjUGfDUUVLCv/AAAOWo4NQaNJ6EicnHg/ACWMWLE9syWJUOhYGYIqMQsvBQwjOb6uc3T0yWOfdVjwVoC76jEfswoTCUvxrKXii8b1dUUKgBJLXR0wjxuilc+fOUC8tkDPhp7XLzVLNMwQMrmidpUc4Q5OJcgNr9wtdGdBe+ZhUgAAAwCw654rwjMyGriLgQAAAFcBnyx0Qn8AABJeaCheHoLdWOl0oecmbAW0KdBc9SggBXpbAL0/Nr0RLGY5mpUBbe452X63qzNjaKYrXkJYUtOO0jevcO2xykAH4KgYqITDsi6jlAvnybkAAAAgAZ8uakJ/AAAS2Iw9FpDiG1cWeH14Vf0cFYted3bBP0EAAADwQZszSahBbJlMCGf//p4QAABFY+hHckADZapxAzS8ywzcYPc7fWEfThYxWPYR29YOVp3t4VcJJqXuEvD2I5NQqSVCdioQtNYybbUiD34tU8Lx6A9Y4yF7IoQ/EHTLwj6d/pTFfmDPk4D1bf/P+3wFO7UXFiJ2OqRogEsbeair/pV7U/1N6CfJdVFh5qFrY4jFXQoNeNOMadjCdX31uw6F/r2ra9iQIzcQ9BUcNKKeSlrSEpo3J9psqMT1igZD3I4JVuH+Kx7gJ671+PIaKbt0YiV/eC2OLd6Qn8ySdWCNUGxxnVR0017ozOiBv9ZTw3zAAAAAYUGfUUUVLCv/AAAOUg8J3R8VMcviWoIkGusa13bTtSfLGqtAAdJpfdp6gRUsxGeXBcW7WS8sZnzlqKyY291Blf2ol7fb1BKXkDt+mA3M9ZkiAAADAAATlbv3zYfxTLYeIuAAAAA+AZ9wdEJ/AAAS1pPJMXeVhjgfGF7bh7iJColuPyC4ze+O1rxpZ0kWjnSQUGnhm8POEcVrzr7ZvfimIU8iZRsAAAA6AZ9yakJ/AAAS3SMq18sHpX7lGI1bQgaSYw1NyWyDkPI1I09rJQUHmPIisXOypfMZHbMFUB6/+/Cp3QAAAFhBm3dJqEFsmUwIV//+OEAAAAMAzvqR7s2/TGPLsYTVo2h/34QB7WovH25qctC5gFaZ6r5u1IxbDYfswaqyWUG0+oXspnP6J6xeMimje2y3/7QsGz6tqmuzAAAATUGflUUVLCv/AAAOf3P+Vqm6bozURQvDym0GCQ7wOe2TasOTQrvCT6rRinzET+W3Hn//kIoQT/q8wLvudaBIgG+0HQAABcoye4lZu3EnAAAANAGftHRCfwAAEt9nrlHuAAF1L33R0+OMq+ogUCPs2YkBNOQpoKrprid04TFbg44sbdTZE4AAAAAoAZ+2akJ/AAAS3bWjZv/GXq7fWcMcix+Wbi2ifOuh0yBYCUF7jZaHgQAAALlBm7tJqEFsmUwIX//+jLAAAEYfsNu0gIa57XhcTdT5TyhGRWdh8rOel2A+w3BfyfYtIq9sjwHHQFIvMe4WfsMik3caWewv3dCRumS+MQLdviKc8WLB3irZ+kTfKI75UwuhzUe7TPXgpDcm4gO8p8IdsG1w5R18ZORovIJ4ZcQM0ZjonsEoO381TWgLAfxpGHXBwyitFDDTEfC0amn4PDnTTBWqdk/V3uH1jWPT7FnFOx8hNHT0TARbLQAAAFdBn9lFFSwr/wAADn9z/laUNhbcng+TP2omhFppN0CNl7MPcUrKQP2f2nh/88Zj2fZ9113p9GSIcnpwzP6AAeqWWVk5hU1bL1E4Oe6sGGouEfqKFJWJDegAAABIAZ/4dEJ/AAAS1pPLueEwtj0lciGQHT3xcvaqaeGpJrgn3kIif4UN4VYzeOOrED5Ya5pYAE0x4BZ68z/TAmhbVl7FdsUV7ctTAAAAOQGf+mpCfwAAEtiMPDtbW2ahTxcXMUStmVZHyIKjfFHtm0XUB+DjRmDWYAa3j7m8mbaD6Xj7y6joeAAAAQ1Bm/9JqEFsmUwIZ//+nhAAAEVkl8+3YAOgaQp4JrZoKG5n6vyCDH92oG3cvcFFpkKK8Pr9j87oCDpSQSGtihnrDta24ZxaIRhpNcAfOWRLkkVQy5C5HAKXHp1JV9Io8TZHSH6vOU2UhT2ZHfJjy24aAIarI6gRT/fgzejXOwPKeFnutEFxrP0YsA6PxF2AhQ5eSTv0C9xHmxSiDSJnZsTfJAbuNMw6z4jFXA9PRy9dAz5ByA9/fM/ptktJCGwexcOaq6T2tobnqEmO2EplwYiI1igSuVBjI0mX4sNhU16lirpsBDJyTvPlCoRE6PH1/X5Rq5Nu+5UxAYIfOAF/J+DfEv4E1TZunKIyurk6kQAAAGBBnh1FFSwr/wAADoMkquHhGdUDZH4ytLYfxYXKEegBuWuhthpEMtdDEw2BDBl0q4vhzAIU25tmokbIHnhIdD5AqRO+AJSS5NBfOllMybxYntLMuNwAAIfMxW7ISLKvB3UAAAAzAZ48dEJ/AAADArHFDkW+n1Nc47QAlpXmjswKY0RgRFLb4cC89dV7goYcJVOScTWOTIeAAAAARgGePmpCfwAAEtECD2MglZJeRdYEMLTwTzuvXFSIC06yyUsyDbzOXggSiHpnloA3V7FSjiTaEB7XkfqO8b7lZgJXFrQJ3zgAAAE4QZojSahBbJlMCFf//jhAAAENkAYecXBIAWsdNCQ4mlO1cuozbHdpzhZ3coFH78EZSN8xYIiXenAwHz8nXZzxp+r2OiY7LRFLXLWcsXzkg9E4UYlsnjPq0gJi18aGu30R5NF9KIdwb+sxPiG4tE2vrK739VeimqASyTY4KfiUqkd1Hcll5WDkFZd8kKBN/b4bo1r6gMTN425AKfrZyfWdRAH9DLkd3A94i1j66bM7bbuCO3lD76i8eRYrCginoYdaLr1l0j4Gg6tms8A6CgnpietWfdTFwVRCpwrfR3j1RixdlHTvzmehJSW3NWUBKycyaNEAJ+nfXJ/4R3j09NjmHYTvfi+MYu8LF5Z51zxW8phpYTtPBRoaSBPhKcbb8/dIdb22GhTgoxpKftUy7eUDNRRLz2nwGjBpAAAAjkGeQUUVLCv/AAAOgr40C3SGTu/da2iPQ0APhoOjHxRPDJoc30ev0axkakUQMXgOPAhkxYBB/nLw3jb6Hz+RL9abUg0jaNZ29W/DJOXajG43SmeE05TVhUOAPiugG9Z4/57+RABsiBGpdSNnYPLX5Wo7W3sP/WojIj6lmYBYxyQ6A1ZtaNMGgpDB9+V5AlYAAABmAZ5gdEJ/AAAS0Vla0nrAfovnybABPA305UEV9rvdHfJresYCxfgSLpLeJ6NJDBIylFy7Z8CDaxgVtFz8Vl403xvwOR4JixpsN3BsblT9NvyliM2I5BEP270agSQ9P1Ik7tEvjAkbAAAAUQGeYmpCfwAAEs7vhQDk+WOQi3IBXF9CYMTjRtQne6q/vksEASo0iAVgxcPqgJdXyZ5GMRF4ojR56EDQ0bw2GhlGEEc9Wko8TNxax7aUnAhYZgAAAPhBmmdJqEFsmUwIV//+OEAAAQy2BDQT85haANaOmQjhnNSqao3hb3kazIaNC4sRLTDhb6pIGHd6JINdZaOrnat5ZwsUCv61ic644k9aDrap1EfEM8LGJK0V/f/P0FpCsMSWOuViuRYsjl8gwfB+cZR8UNv2YbJEZZIBIlVz1ynRgiaAcUV7gKS32xvC4yr5i0bIkRXW+jfPbGrk9iW2myyZJaHYGmhmfeZfeorpnTqb1FxsZh5nXBYf7ix2S31TdBIPrWdsLLXFSa6v7/J+qJSPWNPo7jRcfFyI5SinRQn9vx5EYCuf52yOVfcFfexbMaF4IRYzwwmZ+QAAAG1BnoVFFSwr/wAADoAT2EboJi3AQMsaGoXWX04xXAzFo0PH6rHTh2GTd9sXtYQJhIyEsPGgK9D3RoPSg7hQD9fMF7OFWc0evlIx8Ysvj3mgTcYjlAw2/GIszCcF7LZPTOb6CQYaxMJ8R0xLxAxZAAAATAGepHRCfwAAEt5MY3/YiIt5mkcj+IjOt4EABYz4ktXFcAIxYn73VCrYS8Hqt+52fwI1slqMq+blpVGr/JhIHfjRA/35y6ygl0WMo6sAAAAeAZ6makJ/AAASXcBPTpz4AmivXYzWBgDbaLNFKWFxAAAAl0GaqkmoQWyZTAhf//6MsAAARgL3/mcf4Eb4AEBO+CBI3V2wEVZtswY5dl+1aVE640HIRxvq/pTYQzBSfQvOy3JGOQVRvYgCAZxeQQAO0sefRk1RO4Yno1srEA7bIQfBHA3QKEl9xj49HjqwbnA5VmrRLs4n7dkM/7WjceZ/8JWQOz1X74nVC7eOzYE9/JQqLhhU6j53meAAAAA3QZ7IRRUsK/8AAA6AE9ih05R9xZmwJIbFXsJhFEjyP/9F+093GJ7JE8H6bPn3zBSKr5fadsg9IAAAABwBnulqQn8AABJdvx/OePk6o5ux12mSO3Ew9CmBAAAA5EGa7kmoQWyZTAhX//44QAABDZLltk+VMNtQAjIVi5famDtV5jSG3lHDe3CvSX/cJrfUm4GIFYsDrwpIEodzT4hnAc2YPuCMQR9SI7pZ7Hz4EczQroKin47eicSUqvs3JH0uAWaqOmrjUvrLDnuO11jcej2+MLRcONe7oHY665aCTRXlJAZEitz0y4CztnlcCpkF7g4PS8yJX4nwsX3cPL4SAzDjSPPzC+baRFqONRkZbPm4kgwRhjFvJZq6jeVaF50anfSVIY5q34Fs9rcCpHxKzjY9HHWvvlNthkDRew71c5ml/gAAAExBnwxFFSwr/wAADoLWFVB6+KukWF/MmtKUCB4AIyFYvOgvOLnTcYU4K1H+sZam5nubUdi4SyN31hVujvxjxiTUYK18rLnLI02W8SHgAAAALgGfK3RCfwAAEt910s6dTQl32KbzAErenarzxJtjULm5SV5ML5Z2AvGJR/e+jgUAAAAkAZ8takJ/AAAS3b6ZwXfSwPVZR2U76h0fFlA+EawBEmD+PASpAAABBUGbMkmoQWyZTAhX//44QAABDU7LvlgB0gVL6Jd1YxWHL3EDaBqeVSXaOud2wbmwLfxntb1vVLKT+ml+uQ/vcPNgLwtabn2HA1ZHJi/EdSLtIVX0BQW1Tb/gSflBcFhRl2cpkhZTqNaO5xRcGuVdaooZp7keDNUuo5yvyPTofcRsPtjdL7HrbElbE4Lj5xPC1trRdGU0Hrr1y/4CEOqw8F+7jG7OsiUFbJASiC/Di4nC1BZlC20suoRM9i+2Rk81Bwz+/Fu0qXVOMrAtTL5py18m0KyzQTEePEhiILMXfoWiI5+s237FVxQVsMqs1EPHO5bU2qPuUuaCeoQLoX4j1fXf6ZsBQQAAAGpBn1BFFSwr/wAADnfNbiM8CL9a4NyFJYKLzaHMPyHrLq3DIIhiDcs6CoHPCcgBY0VheG8DUkGnwV9l0tQVKq+EtR/gvbD1pIQf9pZFc4a84XOdhccNuyc6fcNiEBUXnoL31pBCgSEq/ZeAAAAAQwGfb3RCfwAAEtGfhaypdGUpO5jIkk3eTUEGaF4Cs5EnmCUzqcYrcd7fcnubYnhnW/k7KAbElLp5RoYxwjJWmQ8q2YAAAAA5AZ9xakJ/AAAS2Iw9nmov4Wt1R4lpmlY4ewXoJtm2fM6MjuzGQxomvckkW//3T1FA6FLFy7CwSbalAAAAvUGbdkmoQWyZTAhX//44QAABDTeC/o1YdeATQPWHVLVqAnj271sv0oVvh/YVM/9ZkUgY2CqyOoqHkn9Dwwpyppb7KQ1HpNYaHvVXCth5f8RvrshsFYKHCOgwtORqVs7MNpbF7N5vOoNxrNu4TX7siojkDNcu8CrGNBZ1a/ccSvmqgwMXAS4jJb/6i0N6HxmLJU9w7Yp9RYqJp3MiQmJ0itJEXZe6Z6OOOR3kqSlWyc+bGvMuNsfa5T2Wa41UgAAAAGFBn5RFFSwr/wAADleso1vwz97H71i+Z3OJEJ4UGrTYfhLTLtq3ZUzRvuw5Yej/wl3rqwCmjh6s6eNEyg5ulqSXSfoFQZbR8Dx4wuKg3/x7Eg3YIMkM9xw/dhY1b0FqgkfAAAAAQAGfs3RCfwAAEpzyjqOg5pkp3ZoWj9vMbs6IeHW12kkWiq2s6z4JMF95E2l6gQ6dF5uXk9k8jHUWyYDamkEI73EAAABDAZ+1akJ/AAAS1z/0viJXys7hJ1iAbT6gABo7/96o5NfLkE0B91dmdzKXTlUPGJji+j1m1AAdfkbWw4o/aVfAQr4akAAAAGZBm7lJqEFsmUwIT//98QAAAwKe6cd5Yy4fpEc61fUWUJ92pACL/B7n5t0b/0/YTaw5ID+7eyweGuQcxOvrbC/i0+YcrrMm83xSkFJqhYOlWp3jJM7H//E6AVB29gS4SYahJhBCIEkAAABJQZ/XRRUsJ/8AABLdOVP0eNVDNmP+GaN/tJg92AqvBCsEvXj/u2V4jbvPLjPnf+1RRFHthbaACdHyXjYvgX7uKQ/SUAa7GjMPSQAAAC8Bn/hqQn8AABLhLiyetqgrpnZNW9rXoJzcWS461TpP73FGc4SQjebKjI3WbzArwAAABzJtb292AAAAbG12aGQAAAAAAAAAAAAAAAAAAAPoAAALuAABAAABAAAAAAAAAAAAAAAAAQAAAAAAAAAAAAAAAAAAAAEAAAAAAAAAAAAAAAAAAEAAAAAAAAAAAAAAAAAAAAAAAAAAAAAAAAAAAAAAAAACAAAGXHRyYWsAAABcdGtoZAAAAAMAAAAAAAAAAAAAAAEAAAAAAAALuAAAAAAAAAAAAAAAAAAAAAAAAQAAAAAAAAAAAAAAAAAAAAEAAAAAAAAAAAAAAAAAAEAAAAACYAAAAZAAAAAAACRlZHRzAAAAHGVsc3QAAAAAAAAAAQAAC7gAAAQAAAEAAAAABdRtZGlhAAAAIG1kaGQAAAAAAAAAAAAAAAAAADwAAAC0AFXEAAAAAAAtaGRscgAAAAAAAAAAdmlkZQAAAAAAAAAAAAAAAFZpZGVvSGFuZGxlcgAAAAV/bWluZgAAABR2bWhkAAAAAQAAAAAAAAAAAAAAJGRpbmYAAAAcZHJlZgAAAAAAAAABAAAADHVybCAAAAABAAAFP3N0YmwAAACXc3RzZAAAAAAAAAABAAAAh2F2YzEAAAAAAAAAAQAAAAAAAAAAAAAAAAAAAAACYAGQAEgAAABIAAAAAAAAAAEAAAAAAAAAAAAAAAAAAAAAAAAAAAAAAAAAAAAAAAAAAAAY//8AAAAxYXZjQwFkAB7/4QAYZ2QAHqzZQJgzoQAAAwABAAADADwPFi2WAQAGaOvjyyLAAAAAGHN0dHMAAAAAAAAAAQAAAFoAAAIAAAAAFHN0c3MAAAAAAAAAAQAAAAEAAALIY3R0cwAAAAAAAABXAAAAAQAABAAAAAABAAAKAAAAAAEAAAQAAAAAAQAAAAAAAAABAAACAAAAAAEAAAoAAAAAAQAABAAAAAABAAAAAAAAAAEAAAIAAAAAAQAACgAAAAABAAAEAAAAAAEAAAAAAAAAAQAAAgAAAAABAAAKAAAAAAEAAAQAAAAAAQAAAAAAAAABAAACAAAAAAEAAAoAAAAAAQAABAAAAAABAAAAAAAAAAEAAAIAAAAAAQAACgAAAAABAAAEAAAAAAEAAAAAAAAAAQAAAgAAAAABAAAIAAAAAAIAAAIAAAAAAQAACgAAAAABAAAEAAAAAAEAAAAAAAAAAQAAAgAAAAABAAAKAAAAAAEAAAQAAAAAAQAAAAAAAAABAAACAAAAAAEAAAoAAAAAAQAABAAAAAABAAAAAAAAAAEAAAIAAAAAAQAACgAAAAABAAAEAAAAAAEAAAAAAAAAAQAAAgAAAAABAAAKAAAAAAEAAAQAAAAAAQAAAAAAAAABAAACAAAAAAEAAAoAAAAAAQAABAAAAAABAAAAAAAAAAEAAAIAAAAAAQAACgAAAAABAAAEAAAAAAEAAAAAAAAAAQAAAgAAAAABAAAKAAAAAAEAAAQAAAAAAQAAAAAAAAABAAACAAAAAAEAAAoAAAAAAQAABAAAAAABAAAAAAAAAAEAAAIAAAAAAQAACgAAAAABAAAEAAAAAAEAAAAAAAAAAQAAAgAAAAABAAAKAAAAAAEAAAQAAAAAAQAAAAAAAAABAAACAAAAAAEAAAgAAAAAAgAAAgAAAAABAAAKAAAAAAEAAAQAAAAAAQAAAAAAAAABAAACAAAAAAEAAAoAAAAAAQAABAAAAAABAAAAAAAAAAEAAAIAAAAAAQAACgAAAAABAAAEAAAAAAEAAAAAAAAAAQAAAgAAAAABAAAIAAAAAAIAAAIAAAAAHHN0c2MAAAAAAAAAAQAAAAEAAABaAAAAAQAAAXxzdHN6AAAAAAAAAAAAAABaAAAE7wAAAMQAAABPAAAAIwAAAEUAAAE4AAAAdQAAAE8AAABDAAAA1QAAAJoAAABYAAAARgAAAUcAAAB2AAAAJAAAAD8AAAD4AAAAgwAAAE4AAABIAAABIAAAAI0AAABZAAAAWgAAAP8AAAAyAAAAFQAAAKkAAABaAAAALgAAADgAAACIAAAAMgAAABgAAABSAAABCQAAAEgAAAAtAAAAPwAAAUQAAACPAAAAZAAAAE8AAADvAAAAkQAAAFsAAAAkAAAA9AAAAGUAAABCAAAAPgAAAFwAAABRAAAAOAAAACwAAAC9AAAAWwAAAEwAAAA9AAABEQAAAGQAAAA3AAAASgAAATwAAACSAAAAagAAAFUAAAD8AAAAcQAAAFAAAAAiAAAAmwAAADsAAAAgAAAA6AAAAFAAAAAyAAAAKAAAAQkAAABuAAAARwAAAD0AAADBAAAAZQAAAEQAAABHAAAAagAAAE0AAAAzAAAAFHN0Y28AAAAAAAAAAQAAADAAAABidWR0YQAAAFptZXRhAAAAAAAAACFoZGxyAAAAAAAAAABtZGlyYXBwbAAAAAAAAAAAAAAAAC1pbHN0AAAAJal0b28AAAAdZGF0YQAAAAEAAAAATGF2ZjU4LjI5LjEwMA==\" type=\"video/mp4\">\n",
       "  Your browser does not support the video tag.\n",
       "  </video>"
      ],
      "text/plain": [
       "<IPython.core.display.HTML object>"
      ]
     },
     "execution_count": 49,
     "metadata": {},
     "output_type": "execute_result"
    }
   ],
   "source": [
    "create_policy_eval_video(random_policy, \"random-agent\")"
   ]
  },
  {
   "cell_type": "code",
   "execution_count": null,
   "metadata": {},
   "outputs": [],
   "source": []
  }
 ],
 "metadata": {
  "colab": {
   "collapsed_sections": [],
   "name": "DQN Tutorial.ipynb",
   "private_outputs": true,
   "provenance": [],
   "toc_visible": true
  },
  "kernelspec": {
   "display_name": "Python 3 (ipykernel)",
   "language": "python",
   "name": "python3"
  },
  "language_info": {
   "codemirror_mode": {
    "name": "ipython",
    "version": 3
   },
   "file_extension": ".py",
   "mimetype": "text/x-python",
   "name": "python",
   "nbconvert_exporter": "python",
   "pygments_lexer": "ipython3",
   "version": "3.11.5"
  },
  "pycharm": {
   "stem_cell": {
    "cell_type": "raw",
    "metadata": {
     "collapsed": false
    },
    "source": []
   }
  }
 },
 "nbformat": 4,
 "nbformat_minor": 1
}
